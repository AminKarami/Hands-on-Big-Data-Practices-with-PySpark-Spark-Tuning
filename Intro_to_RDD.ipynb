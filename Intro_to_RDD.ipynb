{
  "nbformat": 4,
  "nbformat_minor": 0,
  "metadata": {
    "colab": {
      "provenance": [],
      "authorship_tag": "ABX9TyM1ZP/vu02w1uT+SQ6NmV9q",
      "include_colab_link": true
    },
    "kernelspec": {
      "name": "python3",
      "display_name": "Python 3"
    },
    "language_info": {
      "name": "python"
    }
  },
  "cells": [
    {
      "cell_type": "markdown",
      "metadata": {
        "id": "view-in-github",
        "colab_type": "text"
      },
      "source": [
        "<a href=\"https://colab.research.google.com/github/pankajsingh09/Hands-on-Big-Data-Practices-with-PySpark-Spark-Tuning/blob/main/Intro_to_RDD.ipynb\" target=\"_parent\"><img src=\"https://colab.research.google.com/assets/colab-badge.svg\" alt=\"Open In Colab\"/></a>"
      ]
    },
    {
      "cell_type": "code",
      "source": [
        "!pip3 install pyspark\n",
        "from pyspark import SparkContext, SparkConf\n",
        "#initializing Spark\n",
        "conf = SparkConf().setAppName(\"testApp1\").setMaster(\"local[*]\") "
      ],
      "metadata": {
        "colab": {
          "base_uri": "https://localhost:8080/"
        },
        "id": "fUu-3ZpPvkCs",
        "outputId": "6ec36810-b7b9-40d1-baec-542666c01978"
      },
      "execution_count": null,
      "outputs": [
        {
          "output_type": "stream",
          "name": "stdout",
          "text": [
            "Looking in indexes: https://pypi.org/simple, https://us-python.pkg.dev/colab-wheels/public/simple/\n",
            "Collecting pyspark\n",
            "  Downloading pyspark-3.3.1.tar.gz (281.4 MB)\n",
            "\u001b[K     |████████████████████████████████| 281.4 MB 55 kB/s \n",
            "\u001b[?25hCollecting py4j==0.10.9.5\n",
            "  Downloading py4j-0.10.9.5-py2.py3-none-any.whl (199 kB)\n",
            "\u001b[K     |████████████████████████████████| 199 kB 61.7 MB/s \n",
            "\u001b[?25hBuilding wheels for collected packages: pyspark\n",
            "  Building wheel for pyspark (setup.py) ... \u001b[?25l\u001b[?25hdone\n",
            "  Created wheel for pyspark: filename=pyspark-3.3.1-py2.py3-none-any.whl size=281845512 sha256=6e4686efc1d7f17cd1816f2c8cdafa365aebba3178741127f3f2e8e143694d5a\n",
            "  Stored in directory: /root/.cache/pip/wheels/42/59/f5/79a5bf931714dcd201b26025347785f087370a10a3329a899c\n",
            "Successfully built pyspark\n",
            "Installing collected packages: py4j, pyspark\n",
            "Successfully installed py4j-0.10.9.5 pyspark-3.3.1\n"
          ]
        }
      ]
    },
    {
      "cell_type": "code",
      "source": [
        "sc = SparkContext(conf=conf)"
      ],
      "metadata": {
        "id": "572vu2PsvjnH"
      },
      "execution_count": null,
      "outputs": []
    },
    {
      "cell_type": "code",
      "source": [
        "#Generate Random Number\n",
        "import random\n",
        "randomlist = random.sample(range(1,40),10)\n",
        "print(randomlist)"
      ],
      "metadata": {
        "id": "_yPGnZGqZG0F",
        "colab": {
          "base_uri": "https://localhost:8080/"
        },
        "outputId": "f2b71887-0a5c-4390-ad03-3edb00717732"
      },
      "execution_count": null,
      "outputs": [
        {
          "output_type": "stream",
          "name": "stdout",
          "text": [
            "[28, 34, 33, 12, 17, 3, 13, 6, 37, 29]\n"
          ]
        }
      ]
    },
    {
      "cell_type": "code",
      "source": [
        "#create RDD\n",
        "rdd1 = sc.parallelize(randomlist,4)\n",
        "rdd1.collect()"
      ],
      "metadata": {
        "colab": {
          "base_uri": "https://localhost:8080/"
        },
        "id": "f-FeVs-lTcfv",
        "outputId": "3dc61189-4c67-4d70-cc6b-1a547e0ad97e"
      },
      "execution_count": null,
      "outputs": [
        {
          "output_type": "execute_result",
          "data": {
            "text/plain": [
              "[28, 34, 33, 12, 17, 3, 13, 6, 37, 29]"
            ]
          },
          "metadata": {},
          "execution_count": 6
        }
      ]
    },
    {
      "cell_type": "code",
      "source": [
        "#Data Distribution in Partition\n",
        "print(rdd1.getNumPartitions())\n",
        "print(rdd1.glom().collect())\n",
        "print(\"The first 2 partitions are :\",rdd1.glom().take(2))"
      ],
      "metadata": {
        "colab": {
          "base_uri": "https://localhost:8080/"
        },
        "id": "HlZbvTbCTs3U",
        "outputId": "cdcc1abd-2e69-4445-fcdb-dbda46eee74e"
      },
      "execution_count": null,
      "outputs": [
        {
          "output_type": "stream",
          "name": "stdout",
          "text": [
            "4\n",
            "[[28, 34], [33, 12], [17, 3], [13, 6, 37, 29]]\n",
            "The first 2 partitions are : [[28, 34], [33, 12]]\n"
          ]
        }
      ]
    },
    {
      "cell_type": "code",
      "source": [
        "#print Last Partition\n",
        "print(rdd1.glom().collect()[3])"
      ],
      "metadata": {
        "colab": {
          "base_uri": "https://localhost:8080/"
        },
        "id": "xahHvv6uUKTw",
        "outputId": "298cd8b2-6de4-41d6-b030-43972a170299"
      },
      "execution_count": null,
      "outputs": [
        {
          "output_type": "stream",
          "name": "stdout",
          "text": [
            "[13, 6, 37, 29]\n"
          ]
        }
      ]
    },
    {
      "cell_type": "code",
      "source": [
        "#count\n",
        "rdd1.count()"
      ],
      "metadata": {
        "id": "MowAeiKmU4es",
        "colab": {
          "base_uri": "https://localhost:8080/"
        },
        "outputId": "6231b99d-6776-4fd8-a2cd-114959aa41a6"
      },
      "execution_count": null,
      "outputs": [
        {
          "output_type": "execute_result",
          "data": {
            "text/plain": [
              "10"
            ]
          },
          "metadata": {},
          "execution_count": 9
        }
      ]
    },
    {
      "cell_type": "code",
      "source": [
        "#First\n",
        "rdd1.first()"
      ],
      "metadata": {
        "colab": {
          "base_uri": "https://localhost:8080/"
        },
        "id": "9KHVXwWGN5zI",
        "outputId": "69218eef-6eae-4e3b-cb93-ed6c4d0b6f79"
      },
      "execution_count": null,
      "outputs": [
        {
          "output_type": "execute_result",
          "data": {
            "text/plain": [
              "28"
            ]
          },
          "metadata": {},
          "execution_count": 10
        }
      ]
    },
    {
      "cell_type": "code",
      "source": [
        "#Top\n",
        "rdd1.top(2)"
      ],
      "metadata": {
        "colab": {
          "base_uri": "https://localhost:8080/"
        },
        "id": "i-I-pjR9Vogs",
        "outputId": "293dd271-75a1-4bd1-92ea-0771c41b8e34"
      },
      "execution_count": null,
      "outputs": [
        {
          "output_type": "execute_result",
          "data": {
            "text/plain": [
              "[37, 34]"
            ]
          },
          "metadata": {},
          "execution_count": 11
        }
      ]
    },
    {
      "cell_type": "code",
      "source": [
        "#distinct\n",
        "rdd1.distinct().collect()"
      ],
      "metadata": {
        "colab": {
          "base_uri": "https://localhost:8080/"
        },
        "id": "45Ojx6GTVuLk",
        "outputId": "95fda5c1-bf0a-4427-d542-f3c0be8ad9f7"
      },
      "execution_count": null,
      "outputs": [
        {
          "output_type": "execute_result",
          "data": {
            "text/plain": [
              "[28, 12, 33, 17, 13, 37, 29, 34, 6, 3]"
            ]
          },
          "metadata": {},
          "execution_count": 12
        }
      ]
    },
    {
      "cell_type": "code",
      "source": [
        "# Map\n",
        "def myFunc(item):\n",
        "  return (item + 1)*3\n",
        "\n",
        "rdd_map = rdd1.map(myFunc)\n",
        "\n",
        "rdd_map.glom().collect()"
      ],
      "metadata": {
        "colab": {
          "base_uri": "https://localhost:8080/"
        },
        "id": "A-JmK-ugVx5G",
        "outputId": "438c781c-6d76-449a-b421-dfad779373a1"
      },
      "execution_count": null,
      "outputs": [
        {
          "output_type": "execute_result",
          "data": {
            "text/plain": [
              "[[87, 105], [102, 39], [54, 12], [42, 21, 114, 90]]"
            ]
          },
          "metadata": {},
          "execution_count": 13
        }
      ]
    },
    {
      "cell_type": "code",
      "source": [
        "# Map with Lambda Function\n",
        "\n",
        "rdd_map = rdd1.map(lambda x : (x + 1 ) * 3)\n",
        "rdd_map.glom().collect()"
      ],
      "metadata": {
        "colab": {
          "base_uri": "https://localhost:8080/"
        },
        "id": "N3kotGy_XbEt",
        "outputId": "821c4460-e81b-4d2b-a39d-e4094212456d"
      },
      "execution_count": null,
      "outputs": [
        {
          "output_type": "execute_result",
          "data": {
            "text/plain": [
              "[[87, 105], [102, 39], [54, 12], [42, 21, 114, 90]]"
            ]
          },
          "metadata": {},
          "execution_count": 14
        }
      ]
    },
    {
      "cell_type": "code",
      "source": [
        "# Filter\n",
        "rdd_filter = rdd1.filter(lambda x : x%3==0)\n",
        "print(rdd1.glom().collect())\n",
        "rdd_filter.glom().collect()\n"
      ],
      "metadata": {
        "colab": {
          "base_uri": "https://localhost:8080/"
        },
        "id": "D2-5jnFbYBb6",
        "outputId": "5be78974-d82b-4823-91a1-5965cd9f4f71"
      },
      "execution_count": null,
      "outputs": [
        {
          "output_type": "stream",
          "name": "stdout",
          "text": [
            "[[28, 34], [33, 12], [17, 3], [13, 6, 37, 29]]\n"
          ]
        },
        {
          "output_type": "execute_result",
          "data": {
            "text/plain": [
              "[[], [33, 12], [3], [6]]"
            ]
          },
          "metadata": {},
          "execution_count": 15
        }
      ]
    },
    {
      "cell_type": "code",
      "source": [
        "# FlatMap\n",
        "\n",
        "rdd_flatMap = rdd1.flatMap(lambda x : [x+2, x+5])\n",
        "rdd_flatMap.collect()\n",
        "\n",
        "# Reduce \n",
        "# Reduce do aggregation (add,sub,mul,etc)\n",
        "rdd_flatMap.reduce(lambda x,y : x+y)\n"
      ],
      "metadata": {
        "colab": {
          "base_uri": "https://localhost:8080/"
        },
        "id": "g2OFHAcZY6he",
        "outputId": "b8b40da9-0792-4e49-b217-f01617fa2d58"
      },
      "execution_count": null,
      "outputs": [
        {
          "output_type": "execute_result",
          "data": {
            "text/plain": [
              "494"
            ]
          },
          "metadata": {},
          "execution_count": 16
        }
      ]
    },
    {
      "cell_type": "code",
      "source": [
        "# Descriptive Statistics\n",
        "print([rdd1.max(), rdd1.min(), rdd1.mean(), round(rdd1.stdev(),2), rdd1.sum()])"
      ],
      "metadata": {
        "colab": {
          "base_uri": "https://localhost:8080/"
        },
        "id": "PbuxC-LQbFkw",
        "outputId": "b940ab9a-afca-4877-aa7a-dbf008e177ed"
      },
      "execution_count": null,
      "outputs": [
        {
          "output_type": "stream",
          "name": "stdout",
          "text": [
            "[37, 3, 21.2, 11.8, 212]\n"
          ]
        }
      ]
    },
    {
      "cell_type": "code",
      "source": [
        "# mapPartition\n",
        "\n",
        "def myfunct(x):\n",
        "  sum = 0\n",
        "  for item in x:\n",
        "    sum = sum + item\n",
        "  \n",
        "  yield sum\n",
        "# yield is similar to sum  but insted of returing a single value it return a list\n",
        "\n",
        "rdd1.mapPartitions(myfunct).collect()"
      ],
      "metadata": {
        "colab": {
          "base_uri": "https://localhost:8080/"
        },
        "id": "s13QR6sxcHjd",
        "outputId": "9f53d34a-9ea3-4dce-dfb8-a0274b9d3f00"
      },
      "execution_count": null,
      "outputs": [
        {
          "output_type": "execute_result",
          "data": {
            "text/plain": [
              "[62, 45, 20, 85]"
            ]
          },
          "metadata": {},
          "execution_count": 18
        }
      ]
    },
    {
      "cell_type": "code",
      "source": [],
      "metadata": {
        "id": "daQy0YLfd0W5"
      },
      "execution_count": null,
      "outputs": []
    }
  ]
}