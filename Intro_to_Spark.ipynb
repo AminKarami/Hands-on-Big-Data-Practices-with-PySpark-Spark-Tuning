{
  "nbformat": 4,
  "nbformat_minor": 0,
  "metadata": {
    "colab": {
      "provenance": [],
      "authorship_tag": "ABX9TyNqoDROLNIp7c3VtdDdGz8u",
      "include_colab_link": true
    },
    "kernelspec": {
      "name": "python3",
      "display_name": "Python 3"
    },
    "language_info": {
      "name": "python"
    }
  },
  "cells": [
    {
      "cell_type": "markdown",
      "metadata": {
        "id": "view-in-github",
        "colab_type": "text"
      },
      "source": [
        "<a href=\"https://colab.research.google.com/github/pankajsingh09/Hands-on-Big-Data-Practices-with-PySpark-Spark-Tuning/blob/main/Intro_to_Spark.ipynb\" target=\"_parent\"><img src=\"https://colab.research.google.com/assets/colab-badge.svg\" alt=\"Open In Colab\"/></a>"
      ]
    },
    {
      "cell_type": "code",
      "execution_count": 2,
      "metadata": {
        "colab": {
          "base_uri": "https://localhost:8080/"
        },
        "id": "fJEgSaQHVduw",
        "outputId": "b035b266-72ec-4ce6-f11e-5c7273428fdb"
      },
      "outputs": [
        {
          "output_type": "stream",
          "name": "stdout",
          "text": [
            "Looking in indexes: https://pypi.org/simple, https://us-python.pkg.dev/colab-wheels/public/simple/\n",
            "Collecting pyspark\n",
            "  Downloading pyspark-3.3.1.tar.gz (281.4 MB)\n",
            "\u001b[K     |████████████████████████████████| 281.4 MB 50 kB/s \n",
            "\u001b[?25hCollecting py4j==0.10.9.5\n",
            "  Downloading py4j-0.10.9.5-py2.py3-none-any.whl (199 kB)\n",
            "\u001b[K     |████████████████████████████████| 199 kB 78.5 MB/s \n",
            "\u001b[?25hBuilding wheels for collected packages: pyspark\n",
            "  Building wheel for pyspark (setup.py) ... \u001b[?25l\u001b[?25hdone\n",
            "  Created wheel for pyspark: filename=pyspark-3.3.1-py2.py3-none-any.whl size=281845512 sha256=722b55db6e70aacb25a309bac196e87d25a67e14d6a2824af4f6d9ca40759074\n",
            "  Stored in directory: /root/.cache/pip/wheels/42/59/f5/79a5bf931714dcd201b26025347785f087370a10a3329a899c\n",
            "Successfully built pyspark\n",
            "Installing collected packages: py4j, pyspark\n",
            "Successfully installed py4j-0.10.9.5 pyspark-3.3.1\n"
          ]
        }
      ],
      "source": [
        "!pip3 install pyspark\n"
      ]
    },
    {
      "cell_type": "code",
      "source": [
        "from pyspark import SparkContext, SparkConf"
      ],
      "metadata": {
        "id": "-gCNZT4LVsha"
      },
      "execution_count": 3,
      "outputs": []
    },
    {
      "cell_type": "code",
      "source": [
        "#initializing Spark\n",
        "conf = SparkConf().setAppName(\"testApp1\").setMaster(\"local[*]\") "
      ],
      "metadata": {
        "id": "vIdTeo7zYStf"
      },
      "execution_count": 4,
      "outputs": []
    },
    {
      "cell_type": "code",
      "source": [
        "sc = SparkContext(conf=conf)"
      ],
      "metadata": {
        "id": "s2JP1I_6YnEd"
      },
      "execution_count": 5,
      "outputs": []
    },
    {
      "cell_type": "code",
      "source": [
        "print(sc)"
      ],
      "metadata": {
        "colab": {
          "base_uri": "https://localhost:8080/"
        },
        "id": "KbBnFLj7Y6lI",
        "outputId": "ab8e4c19-2ca4-4a83-d5d6-324654bfddee"
      },
      "execution_count": 6,
      "outputs": [
        {
          "output_type": "stream",
          "name": "stdout",
          "text": [
            "<SparkContext master=local[*] appName=testApp1>\n"
          ]
        }
      ]
    },
    {
      "cell_type": "code",
      "source": [
        "sc.defaultParallelism"
      ],
      "metadata": {
        "id": "aIEae5q0ZEZs",
        "outputId": "35740686-1279-4446-f15b-3630d67a620e",
        "colab": {
          "base_uri": "https://localhost:8080/"
        }
      },
      "execution_count": 7,
      "outputs": [
        {
          "output_type": "execute_result",
          "data": {
            "text/plain": [
              "2"
            ]
          },
          "metadata": {},
          "execution_count": 7
        }
      ]
    },
    {
      "cell_type": "code",
      "source": [
        "#Generate Random Number\n",
        "import random\n",
        "randomlist = random.sample(range(1,40),10)\n",
        "print(randomlist)"
      ],
      "metadata": {
        "id": "_yPGnZGqZG0F",
        "colab": {
          "base_uri": "https://localhost:8080/"
        },
        "outputId": "06a9d9d4-a277-46ce-8f8e-22a1fd394327"
      },
      "execution_count": 8,
      "outputs": [
        {
          "output_type": "stream",
          "name": "stdout",
          "text": [
            "[20, 4, 14, 9, 26, 37, 8, 31, 18, 11]\n"
          ]
        }
      ]
    },
    {
      "cell_type": "code",
      "source": [
        "#create RDD\n",
        "rdd1 = sc.parallelize(randomlist,4)\n",
        "rdd1.collect()"
      ],
      "metadata": {
        "colab": {
          "base_uri": "https://localhost:8080/"
        },
        "id": "f-FeVs-lTcfv",
        "outputId": "10b1f053-3eed-46d2-a28b-121b9f38a203"
      },
      "execution_count": 9,
      "outputs": [
        {
          "output_type": "execute_result",
          "data": {
            "text/plain": [
              "[20, 4, 14, 9, 26, 37, 8, 31, 18, 11]"
            ]
          },
          "metadata": {},
          "execution_count": 9
        }
      ]
    },
    {
      "cell_type": "code",
      "source": [
        "#Data Distribution in Partition\n",
        "print(rdd1.getNumPartitions())\n",
        "print(rdd1.glom().collect())\n",
        "print(\"The first 2 partitions are :\",rdd1.glom().take(2))"
      ],
      "metadata": {
        "colab": {
          "base_uri": "https://localhost:8080/"
        },
        "id": "HlZbvTbCTs3U",
        "outputId": "9ed24f5e-8fad-430a-cc9a-9ae1710607e4"
      },
      "execution_count": 10,
      "outputs": [
        {
          "output_type": "stream",
          "name": "stdout",
          "text": [
            "4\n",
            "[[20, 4], [14, 9], [26, 37], [8, 31, 18, 11]]\n",
            "The first 2 partitions are : [[20, 4], [14, 9]]\n"
          ]
        }
      ]
    },
    {
      "cell_type": "code",
      "source": [
        "#print Last Partition\n",
        "print(rdd1.glom().collect()[3])"
      ],
      "metadata": {
        "colab": {
          "base_uri": "https://localhost:8080/"
        },
        "id": "xahHvv6uUKTw",
        "outputId": "56ff2cec-e540-4808-cd76-5c04f39f04e2"
      },
      "execution_count": 11,
      "outputs": [
        {
          "output_type": "stream",
          "name": "stdout",
          "text": [
            "[8, 31, 18, 11]\n"
          ]
        }
      ]
    },
    {
      "cell_type": "code",
      "source": [
        "#count\n",
        "rdd1.count()"
      ],
      "metadata": {
        "id": "MowAeiKmU4es",
        "colab": {
          "base_uri": "https://localhost:8080/"
        },
        "outputId": "79755da6-cd53-4b33-be80-a9553164dba8"
      },
      "execution_count": 12,
      "outputs": [
        {
          "output_type": "execute_result",
          "data": {
            "text/plain": [
              "10"
            ]
          },
          "metadata": {},
          "execution_count": 12
        }
      ]
    },
    {
      "cell_type": "code",
      "source": [
        "#First\n",
        "rdd1.first()"
      ],
      "metadata": {
        "colab": {
          "base_uri": "https://localhost:8080/"
        },
        "id": "9KHVXwWGN5zI",
        "outputId": "a716eaf6-476f-403b-8518-5ee839d49fdb"
      },
      "execution_count": 13,
      "outputs": [
        {
          "output_type": "execute_result",
          "data": {
            "text/plain": [
              "20"
            ]
          },
          "metadata": {},
          "execution_count": 13
        }
      ]
    },
    {
      "cell_type": "code",
      "source": [
        "#Top\n",
        "rdd1.top(2)"
      ],
      "metadata": {
        "colab": {
          "base_uri": "https://localhost:8080/"
        },
        "id": "i-I-pjR9Vogs",
        "outputId": "a0b8ef22-f084-442c-f857-52bbb354138c"
      },
      "execution_count": 14,
      "outputs": [
        {
          "output_type": "execute_result",
          "data": {
            "text/plain": [
              "[37, 31]"
            ]
          },
          "metadata": {},
          "execution_count": 14
        }
      ]
    },
    {
      "cell_type": "code",
      "source": [
        "#distinct\n",
        "rdd1.distinct().collect()"
      ],
      "metadata": {
        "colab": {
          "base_uri": "https://localhost:8080/"
        },
        "id": "45Ojx6GTVuLk",
        "outputId": "b69e55f2-09fa-4a45-fd35-1eca23e57462"
      },
      "execution_count": 15,
      "outputs": [
        {
          "output_type": "execute_result",
          "data": {
            "text/plain": [
              "[20, 4, 8, 9, 37, 14, 26, 18, 31, 11]"
            ]
          },
          "metadata": {},
          "execution_count": 15
        }
      ]
    },
    {
      "cell_type": "code",
      "source": [
        "# Map\n",
        "def myFunc(item):\n",
        "  return (item + 1)*3\n",
        "\n",
        "rdd_map = rdd1.map(myFunc)\n",
        "\n",
        "rdd_map.glom().collect()"
      ],
      "metadata": {
        "colab": {
          "base_uri": "https://localhost:8080/"
        },
        "id": "A-JmK-ugVx5G",
        "outputId": "ae1413e7-d11f-4764-9466-71767d6a7789"
      },
      "execution_count": 16,
      "outputs": [
        {
          "output_type": "execute_result",
          "data": {
            "text/plain": [
              "[[63, 15], [45, 30], [81, 114], [27, 96, 57, 36]]"
            ]
          },
          "metadata": {},
          "execution_count": 16
        }
      ]
    },
    {
      "cell_type": "code",
      "source": [
        "# Map with Lambda Function\n",
        "\n",
        "rdd_map = rdd1.map(lambda x : (x + 1 ) * 3)\n",
        "rdd_map.glom().collect()"
      ],
      "metadata": {
        "colab": {
          "base_uri": "https://localhost:8080/"
        },
        "id": "N3kotGy_XbEt",
        "outputId": "57d3e9d8-01cb-4abe-9afb-17885cb46f79"
      },
      "execution_count": 17,
      "outputs": [
        {
          "output_type": "execute_result",
          "data": {
            "text/plain": [
              "[[63, 15], [45, 30], [81, 114], [27, 96, 57, 36]]"
            ]
          },
          "metadata": {},
          "execution_count": 17
        }
      ]
    },
    {
      "cell_type": "code",
      "source": [
        "# Filter\n",
        "rdd_filter = rdd1.filter(lambda x : x%3==0)\n",
        "print(rdd1.glom().collect())\n",
        "rdd_filter.glom().collect()\n"
      ],
      "metadata": {
        "colab": {
          "base_uri": "https://localhost:8080/"
        },
        "id": "D2-5jnFbYBb6",
        "outputId": "f1d5e74d-d6c6-4865-84ae-3d2f5bce2eb6"
      },
      "execution_count": 18,
      "outputs": [
        {
          "output_type": "stream",
          "name": "stdout",
          "text": [
            "[[20, 4], [14, 9], [26, 37], [8, 31, 18, 11]]\n"
          ]
        },
        {
          "output_type": "execute_result",
          "data": {
            "text/plain": [
              "[[], [9], [], [18]]"
            ]
          },
          "metadata": {},
          "execution_count": 18
        }
      ]
    },
    {
      "cell_type": "code",
      "source": [
        "# FlatMap\n",
        "\n",
        "rdd_flatMap = rdd1.flatMap(lambda x : [x+2, x+5])\n",
        "print(rdd_flatMap.collect())\n",
        "\n",
        "# Reduce \n",
        "# Reduce do aggregation (add,sub,mul,etc)\n",
        "rdd_flatMap.reduce(lambda x,y : x+y)\n",
        "print(rdd_flatMap.collect())\n"
      ],
      "metadata": {
        "colab": {
          "base_uri": "https://localhost:8080/"
        },
        "id": "g2OFHAcZY6he",
        "outputId": "47d059a2-8671-4a07-d407-12cd8c863f78"
      },
      "execution_count": 19,
      "outputs": [
        {
          "output_type": "stream",
          "name": "stdout",
          "text": [
            "[22, 25, 6, 9, 16, 19, 11, 14, 28, 31, 39, 42, 10, 13, 33, 36, 20, 23, 13, 16]\n"
          ]
        },
        {
          "output_type": "execute_result",
          "data": {
            "text/plain": [
              "426"
            ]
          },
          "metadata": {},
          "execution_count": 19
        }
      ]
    },
    {
      "cell_type": "code",
      "source": [
        "# Descriptive Statistics\n",
        "print([rdd1.max(), rdd1.min(), rdd1.mean(), round(rdd1.stdev(),2), rdd1.sum()])"
      ],
      "metadata": {
        "colab": {
          "base_uri": "https://localhost:8080/"
        },
        "id": "PbuxC-LQbFkw",
        "outputId": "b954be94-27e9-4ca5-be06-c62380a6b4f3"
      },
      "execution_count": 20,
      "outputs": [
        {
          "output_type": "stream",
          "name": "stdout",
          "text": [
            "[37, 4, 17.8, 10.2, 178]\n"
          ]
        }
      ]
    },
    {
      "cell_type": "code",
      "source": [
        "# mapPartition\n",
        "\n",
        "def myfunct(x):\n",
        "  sum = 0\n",
        "  for item in x:\n",
        "    sum = sum + item\n",
        "  \n",
        "  yield sum\n",
        "# yield is similar to sum  but insted of returing a single value it return a list\n",
        "\n",
        "rdd1.mapPartitions(myfunct).collect()"
      ],
      "metadata": {
        "colab": {
          "base_uri": "https://localhost:8080/"
        },
        "id": "s13QR6sxcHjd",
        "outputId": "fa161539-6201-4a90-f3c8-6596cac3016c"
      },
      "execution_count": 21,
      "outputs": [
        {
          "output_type": "execute_result",
          "data": {
            "text/plain": [
              "[24, 23, 63, 68]"
            ]
          },
          "metadata": {},
          "execution_count": 21
        }
      ]
    },
    {
      "cell_type": "code",
      "source": [],
      "metadata": {
        "id": "daQy0YLfd0W5"
      },
      "execution_count": 21,
      "outputs": []
    }
  ]
}