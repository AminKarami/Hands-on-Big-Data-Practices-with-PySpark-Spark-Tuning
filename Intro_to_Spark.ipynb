{
  "nbformat": 4,
  "nbformat_minor": 0,
  "metadata": {
    "colab": {
      "provenance": [],
      "authorship_tag": "ABX9TyNb2arZ4dQo2+ulRkAIJc/2",
      "include_colab_link": true
    },
    "kernelspec": {
      "name": "python3",
      "display_name": "Python 3"
    },
    "language_info": {
      "name": "python"
    }
  },
  "cells": [
    {
      "cell_type": "markdown",
      "metadata": {
        "id": "view-in-github",
        "colab_type": "text"
      },
      "source": [
        "<a href=\"https://colab.research.google.com/github/pankajsingh09/Hands-on-Big-Data-Practices-with-PySpark-Spark-Tuning/blob/main/Intro_to_Spark.ipynb\" target=\"_parent\"><img src=\"https://colab.research.google.com/assets/colab-badge.svg\" alt=\"Open In Colab\"/></a>"
      ]
    },
    {
      "cell_type": "code",
      "execution_count": null,
      "metadata": {
        "colab": {
          "base_uri": "https://localhost:8080/"
        },
        "id": "fJEgSaQHVduw",
        "outputId": "1fd496a2-9239-48c2-e869-45f70d6fc194"
      },
      "outputs": [
        {
          "output_type": "stream",
          "name": "stdout",
          "text": [
            "Looking in indexes: https://pypi.org/simple, https://us-python.pkg.dev/colab-wheels/public/simple/\n",
            "Collecting pyspark\n",
            "  Downloading pyspark-3.3.1.tar.gz (281.4 MB)\n",
            "\u001b[K     |████████████████████████████████| 281.4 MB 44 kB/s \n",
            "\u001b[?25hCollecting py4j==0.10.9.5\n",
            "  Downloading py4j-0.10.9.5-py2.py3-none-any.whl (199 kB)\n",
            "\u001b[K     |████████████████████████████████| 199 kB 63.2 MB/s \n",
            "\u001b[?25hBuilding wheels for collected packages: pyspark\n",
            "  Building wheel for pyspark (setup.py) ... \u001b[?25l\u001b[?25hdone\n",
            "  Created wheel for pyspark: filename=pyspark-3.3.1-py2.py3-none-any.whl size=281845512 sha256=ba2ac93c6776ff287134bd4bc08f351511bae00e5fc91df3673fab224486d72d\n",
            "  Stored in directory: /root/.cache/pip/wheels/42/59/f5/79a5bf931714dcd201b26025347785f087370a10a3329a899c\n",
            "Successfully built pyspark\n",
            "Installing collected packages: py4j, pyspark\n",
            "Successfully installed py4j-0.10.9.5 pyspark-3.3.1\n"
          ]
        }
      ],
      "source": [
        "!pip3 install pyspark\n"
      ]
    },
    {
      "cell_type": "code",
      "source": [
        "from pyspark import SparkContext, SparkConf"
      ],
      "metadata": {
        "id": "-gCNZT4LVsha"
      },
      "execution_count": null,
      "outputs": []
    },
    {
      "cell_type": "code",
      "source": [
        "#initializing Spark\n",
        "conf = SparkConf().setAppName(\"testApp1\").setMaster(\"local[*]\") "
      ],
      "metadata": {
        "id": "vIdTeo7zYStf"
      },
      "execution_count": null,
      "outputs": []
    },
    {
      "cell_type": "code",
      "source": [
        "sc = SparkContext(conf=conf)"
      ],
      "metadata": {
        "id": "s2JP1I_6YnEd"
      },
      "execution_count": null,
      "outputs": []
    },
    {
      "cell_type": "code",
      "source": [
        "print(sc)"
      ],
      "metadata": {
        "colab": {
          "base_uri": "https://localhost:8080/"
        },
        "id": "KbBnFLj7Y6lI",
        "outputId": "1d124056-c148-4612-9794-6fd3e6eaf0db"
      },
      "execution_count": null,
      "outputs": [
        {
          "output_type": "stream",
          "name": "stdout",
          "text": [
            "<SparkContext master=local[*] appName=testApp1>\n"
          ]
        }
      ]
    },
    {
      "cell_type": "code",
      "source": [
        "sc.defaultParallelism"
      ],
      "metadata": {
        "id": "aIEae5q0ZEZs",
        "outputId": "326f6a06-9e98-4134-f0bc-56ba837dc2a1",
        "colab": {
          "base_uri": "https://localhost:8080/"
        }
      },
      "execution_count": null,
      "outputs": [
        {
          "output_type": "execute_result",
          "data": {
            "text/plain": [
              "2"
            ]
          },
          "metadata": {},
          "execution_count": 7
        }
      ]
    },
    {
      "cell_type": "code",
      "source": [
        "#Generate Random Number\n",
        "import random\n",
        "randomlist = random.sample(range(1,40),10)\n",
        "print(randomlist)"
      ],
      "metadata": {
        "id": "_yPGnZGqZG0F",
        "colab": {
          "base_uri": "https://localhost:8080/"
        },
        "outputId": "d44ca9c2-420f-4d89-86ec-8a4d1ec68fc7"
      },
      "execution_count": null,
      "outputs": [
        {
          "output_type": "stream",
          "name": "stdout",
          "text": [
            "[6, 35, 16, 37, 18, 31, 24, 39, 5, 38]\n"
          ]
        }
      ]
    },
    {
      "cell_type": "code",
      "source": [
        "#create RDD\n",
        "rdd1 = sc.parallelize(randomlist,4)\n",
        "rdd1.collect()"
      ],
      "metadata": {
        "colab": {
          "base_uri": "https://localhost:8080/"
        },
        "id": "f-FeVs-lTcfv",
        "outputId": "876d8cd4-04bf-446d-af0e-7cbf1e27fff3"
      },
      "execution_count": null,
      "outputs": [
        {
          "output_type": "execute_result",
          "data": {
            "text/plain": [
              "[6, 35, 16, 37, 18, 31, 24, 39, 5, 38]"
            ]
          },
          "metadata": {},
          "execution_count": 9
        }
      ]
    },
    {
      "cell_type": "code",
      "source": [
        "#Data Distribution in Partition\n",
        "print(rdd1.getNumPartitions())\n",
        "print(rdd1.glom().collect())\n",
        "print(\"The first 2 partitions are :\",rdd1.glom().take(2))"
      ],
      "metadata": {
        "colab": {
          "base_uri": "https://localhost:8080/"
        },
        "id": "HlZbvTbCTs3U",
        "outputId": "dd127307-71f6-4d07-9587-34cec6952267"
      },
      "execution_count": null,
      "outputs": [
        {
          "output_type": "stream",
          "name": "stdout",
          "text": [
            "4\n",
            "[[6, 35], [16, 37], [18, 31], [24, 39, 5, 38]]\n",
            "The first 2 partitions are : [[6, 35], [16, 37]]\n"
          ]
        }
      ]
    },
    {
      "cell_type": "code",
      "source": [
        "#print Last Partition\n",
        "print(rdd1.glom().collect()[3])"
      ],
      "metadata": {
        "colab": {
          "base_uri": "https://localhost:8080/"
        },
        "id": "xahHvv6uUKTw",
        "outputId": "ae6939b6-1359-4bde-ca61-c75a38385328"
      },
      "execution_count": null,
      "outputs": [
        {
          "output_type": "stream",
          "name": "stdout",
          "text": [
            "[24, 39, 5, 38]\n"
          ]
        }
      ]
    },
    {
      "cell_type": "code",
      "source": [
        "#count\n",
        "rdd1.count()"
      ],
      "metadata": {
        "id": "MowAeiKmU4es",
        "colab": {
          "base_uri": "https://localhost:8080/"
        },
        "outputId": "0c4e07de-d41a-45a9-ae6d-a0911a6c11de"
      },
      "execution_count": null,
      "outputs": [
        {
          "output_type": "execute_result",
          "data": {
            "text/plain": [
              "10"
            ]
          },
          "metadata": {},
          "execution_count": 12
        }
      ]
    },
    {
      "cell_type": "code",
      "source": [
        "#First\n",
        "rdd1.first()"
      ],
      "metadata": {
        "colab": {
          "base_uri": "https://localhost:8080/"
        },
        "id": "9KHVXwWGN5zI",
        "outputId": "47c3d1ac-3f09-4977-92aa-8beb36eab3e3"
      },
      "execution_count": null,
      "outputs": [
        {
          "output_type": "execute_result",
          "data": {
            "text/plain": [
              "6"
            ]
          },
          "metadata": {},
          "execution_count": 13
        }
      ]
    },
    {
      "cell_type": "code",
      "source": [
        "#Top\n",
        "rdd1.top(2)"
      ],
      "metadata": {
        "colab": {
          "base_uri": "https://localhost:8080/"
        },
        "id": "i-I-pjR9Vogs",
        "outputId": "77db1465-f260-4ddb-bd39-903425568aba"
      },
      "execution_count": null,
      "outputs": [
        {
          "output_type": "execute_result",
          "data": {
            "text/plain": [
              "[39, 38]"
            ]
          },
          "metadata": {},
          "execution_count": 15
        }
      ]
    },
    {
      "cell_type": "code",
      "source": [
        "#distinct\n",
        "rdd1.distinct().collect()"
      ],
      "metadata": {
        "colab": {
          "base_uri": "https://localhost:8080/"
        },
        "id": "45Ojx6GTVuLk",
        "outputId": "7892c411-1c7e-4274-8fee-7cc4bd0214d2"
      },
      "execution_count": null,
      "outputs": [
        {
          "output_type": "execute_result",
          "data": {
            "text/plain": [
              "[16, 24, 37, 5, 6, 18, 38, 35, 31, 39]"
            ]
          },
          "metadata": {},
          "execution_count": 21
        }
      ]
    },
    {
      "cell_type": "code",
      "source": [
        "# Map\n",
        "def myFunc(item):\n",
        "  return (item + 1)*3\n",
        "\n",
        "rdd_map = rdd1.map(myFunc)\n",
        "\n",
        "rdd_map.glom().collect()"
      ],
      "metadata": {
        "colab": {
          "base_uri": "https://localhost:8080/"
        },
        "id": "A-JmK-ugVx5G",
        "outputId": "a53e2934-ba26-44be-db21-77e8ef487fab"
      },
      "execution_count": null,
      "outputs": [
        {
          "output_type": "execute_result",
          "data": {
            "text/plain": [
              "[[21, 108], [51, 114], [57, 96], [75, 120, 18, 117]]"
            ]
          },
          "metadata": {},
          "execution_count": 18
        }
      ]
    },
    {
      "cell_type": "code",
      "source": [
        "# Map with Lambda Function\n",
        "\n",
        "rdd_map = rdd1.map(lambda x : (x + 1 ) * 3)\n",
        "rdd_map.glom().collect()"
      ],
      "metadata": {
        "colab": {
          "base_uri": "https://localhost:8080/"
        },
        "id": "N3kotGy_XbEt",
        "outputId": "14f40a00-33c6-456a-f751-b7d79269fdf7"
      },
      "execution_count": null,
      "outputs": [
        {
          "output_type": "execute_result",
          "data": {
            "text/plain": [
              "[[21, 108], [51, 114], [57, 96], [75, 120, 18, 117]]"
            ]
          },
          "metadata": {},
          "execution_count": 22
        }
      ]
    },
    {
      "cell_type": "code",
      "source": [
        "# Filter\n",
        "rdd_filter = rdd1.filter(lambda x : x%3==0)\n",
        "print(rdd1.glom().collect())\n",
        "rdd_filter.glom().collect()\n"
      ],
      "metadata": {
        "colab": {
          "base_uri": "https://localhost:8080/"
        },
        "id": "D2-5jnFbYBb6",
        "outputId": "74cd9c4e-1947-4ad6-eb3b-3a374021868b"
      },
      "execution_count": null,
      "outputs": [
        {
          "output_type": "stream",
          "name": "stdout",
          "text": [
            "[[6, 35], [16, 37], [18, 31], [24, 39, 5, 38]]\n"
          ]
        },
        {
          "output_type": "execute_result",
          "data": {
            "text/plain": [
              "[[6], [], [18], [24, 39]]"
            ]
          },
          "metadata": {},
          "execution_count": 25
        }
      ]
    },
    {
      "cell_type": "code",
      "source": [
        "# FlatMap\n",
        "\n",
        "rdd_flatMap = rdd1.flatMap(lambda x : [x+2, x+5])\n",
        "rdd_flatMap.collect()\n",
        "\n",
        "# Reduce \n",
        "# Reduce do aggregation (add,sub,mul,etc)\n",
        "rdd_flatMap.reduce(lambda x,y : x+y)\n"
      ],
      "metadata": {
        "colab": {
          "base_uri": "https://localhost:8080/"
        },
        "id": "g2OFHAcZY6he",
        "outputId": "eef859d3-2d36-4c28-f6e3-406acf657b8e"
      },
      "execution_count": null,
      "outputs": [
        {
          "output_type": "execute_result",
          "data": {
            "text/plain": [
              "568"
            ]
          },
          "metadata": {},
          "execution_count": 30
        }
      ]
    },
    {
      "cell_type": "code",
      "source": [
        "# Descriptive Statistics\n",
        "print([rdd1.max(), rdd1.min(), rdd1.mean(), round(rdd1.stdev(),2), rdd1.sum()])"
      ],
      "metadata": {
        "colab": {
          "base_uri": "https://localhost:8080/"
        },
        "id": "PbuxC-LQbFkw",
        "outputId": "0b2f79d4-1632-4287-f61a-fb911057031b"
      },
      "execution_count": null,
      "outputs": [
        {
          "output_type": "stream",
          "name": "stdout",
          "text": [
            "[39, 5, 24.9, 12.4, 249]\n"
          ]
        }
      ]
    },
    {
      "cell_type": "code",
      "source": [
        "# mapPartition\n",
        "\n",
        "def myfunct(x):\n",
        "  sum = 0\n",
        "  for item in x:\n",
        "    sum = sum + item\n",
        "  \n",
        "  yield sum\n",
        "# yield is similar to sum  but insted of returing a single value it return a list\n",
        "\n",
        "rdd1.mapPartitions(myfunct).collect()"
      ],
      "metadata": {
        "colab": {
          "base_uri": "https://localhost:8080/"
        },
        "id": "s13QR6sxcHjd",
        "outputId": "5503fcca-f2ca-46d8-fac2-be266b7d2868"
      },
      "execution_count": null,
      "outputs": [
        {
          "output_type": "execute_result",
          "data": {
            "text/plain": [
              "[41, 53, 49, 106]"
            ]
          },
          "metadata": {},
          "execution_count": 37
        }
      ]
    },
    {
      "cell_type": "code",
      "source": [],
      "metadata": {
        "id": "daQy0YLfd0W5"
      },
      "execution_count": null,
      "outputs": []
    }
  ]
}