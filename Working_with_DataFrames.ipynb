{
  "nbformat": 4,
  "nbformat_minor": 0,
  "metadata": {
    "kernelspec": {
      "display_name": "Python 3",
      "language": "python",
      "name": "python3"
    },
    "language_info": {
      "codemirror_mode": {
        "name": "ipython",
        "version": 3
      },
      "file_extension": ".py",
      "mimetype": "text/x-python",
      "name": "python",
      "nbconvert_exporter": "python",
      "pygments_lexer": "ipython3",
      "version": "3.8.3"
    },
    "colab": {
      "provenance": [],
      "include_colab_link": true
    }
  },
  "cells": [
    {
      "cell_type": "markdown",
      "metadata": {
        "id": "view-in-github",
        "colab_type": "text"
      },
      "source": [
        "<a href=\"https://colab.research.google.com/github/pankajsingh09/Hands-on-Big-Data-Practices-with-PySpark-Spark-Tuning/blob/main/Working_with_DataFrames.ipynb\" target=\"_parent\"><img src=\"https://colab.research.google.com/assets/colab-badge.svg\" alt=\"Open In Colab\"/></a>"
      ]
    },
    {
      "cell_type": "markdown",
      "metadata": {
        "id": "gjuAVgrxmIo3"
      },
      "source": [
        "# **Working with DF (DataFrame)**\n",
        "\n",
        "**`Udemy Course: Best Hands-on Big Data Practices and Use Cases using PySpark`**\n",
        "\n",
        "**`Author: Amin Karami (PhD, FHEA)`**\n",
        "\n",
        "---\n",
        "\n",
        "**DataFrame (DF)**: Schema (named columns) + declarative language. A DataFrame is a Dataset organized into named columns. It is conceptually equivalent to a table in a relational database. DataFrames can be constructed from a wide array of sources such as: structured data files, tables in Hive, external databases, or existing RDDs. It is very efficient for strucutred data.\n",
        "\n",
        "source: https://spark.apache.org/docs/latest/sql-programming-guide.html\n",
        "\n",
        "source: https://spark.apache.org/docs/latest/api/python/reference/"
      ]
    },
    {
      "cell_type": "code",
      "metadata": {
        "id": "0LWTJaC8mHL5",
        "colab": {
          "base_uri": "https://localhost:8080/"
        },
        "outputId": "ff5f6fcd-f467-4a45-cb35-afa7faf7ea45"
      },
      "source": [
        "########## ONLY in Colab ##########\n",
        "!pip3 install pyspark\n",
        "########## ONLY in Colab ##########"
      ],
      "execution_count": 1,
      "outputs": [
        {
          "output_type": "stream",
          "name": "stdout",
          "text": [
            "Looking in indexes: https://pypi.org/simple, https://us-python.pkg.dev/colab-wheels/public/simple/\n",
            "Collecting pyspark\n",
            "  Downloading pyspark-3.3.1.tar.gz (281.4 MB)\n",
            "\u001b[K     |████████████████████████████████| 281.4 MB 36 kB/s \n",
            "\u001b[?25hCollecting py4j==0.10.9.5\n",
            "  Downloading py4j-0.10.9.5-py2.py3-none-any.whl (199 kB)\n",
            "\u001b[K     |████████████████████████████████| 199 kB 53.9 MB/s \n",
            "\u001b[?25hBuilding wheels for collected packages: pyspark\n",
            "  Building wheel for pyspark (setup.py) ... \u001b[?25l\u001b[?25hdone\n",
            "  Created wheel for pyspark: filename=pyspark-3.3.1-py2.py3-none-any.whl size=281845512 sha256=281ac354ec96d9d8041771721f280a1353390794378346c54c63cc6cc7f4bc2a\n",
            "  Stored in directory: /root/.cache/pip/wheels/42/59/f5/79a5bf931714dcd201b26025347785f087370a10a3329a899c\n",
            "Successfully built pyspark\n",
            "Installing collected packages: py4j, pyspark\n",
            "Successfully installed py4j-0.10.9.5 pyspark-3.3.1\n"
          ]
        }
      ]
    },
    {
      "cell_type": "code",
      "source": [
        "########## ONLY in Ubuntu Machine ##########\n",
        "# Load Spark engine\n",
        "!pip3 install -q findspark\n",
        "import findspark\n",
        "findspark.init()\n",
        "########## ONLY in Ubuntu Machine ##########"
      ],
      "metadata": {
        "id": "K-riUQ6WTHDl"
      },
      "execution_count": 2,
      "outputs": []
    },
    {
      "cell_type": "code",
      "source": [
        "# Linking with Spark (https://spark.apache.org/docs/latest/api/python/reference/pyspark.sql.html)\n",
        "import pyspark\n",
        "from pyspark.sql import SparkSession\n",
        "\n",
        "spark = SparkSession.builder.master(\"local[*]\").getOrCreate()\n",
        "spark"
      ],
      "metadata": {
        "id": "e3pTfRiwTMeY",
        "colab": {
          "base_uri": "https://localhost:8080/",
          "height": 221
        },
        "outputId": "0fbdc103-1086-4d6f-bc70-c641feea682b"
      },
      "execution_count": 3,
      "outputs": [
        {
          "output_type": "execute_result",
          "data": {
            "text/plain": [
              "<pyspark.sql.session.SparkSession at 0x7f32229cf150>"
            ],
            "text/html": [
              "\n",
              "            <div>\n",
              "                <p><b>SparkSession - in-memory</b></p>\n",
              "                \n",
              "        <div>\n",
              "            <p><b>SparkContext</b></p>\n",
              "\n",
              "            <p><a href=\"http://a05553ee0d22:4040\">Spark UI</a></p>\n",
              "\n",
              "            <dl>\n",
              "              <dt>Version</dt>\n",
              "                <dd><code>v3.3.1</code></dd>\n",
              "              <dt>Master</dt>\n",
              "                <dd><code>local[*]</code></dd>\n",
              "              <dt>AppName</dt>\n",
              "                <dd><code>pyspark-shell</code></dd>\n",
              "            </dl>\n",
              "        </div>\n",
              "        \n",
              "            </div>\n",
              "        "
            ]
          },
          "metadata": {},
          "execution_count": 3
        }
      ]
    },
    {
      "cell_type": "markdown",
      "source": [
        "# **Part 1: Create DF and Basic Operations**"
      ],
      "metadata": {
        "id": "quQ_GBpgWLRK"
      }
    },
    {
      "cell_type": "code",
      "source": [
        "# Create/Load DF: (Spark automatically scans through the files and infers the schema of the dataset)\n",
        "# data source: https://www.kaggle.com/thec03u5/fifa-18-demo-player-dataset\n",
        "data = spark.read.format('csv').load(\"CompleteDataset.csv\", inferSchema = True, header = True)"
      ],
      "metadata": {
        "id": "1n39Bv24XHjt"
      },
      "execution_count": 5,
      "outputs": []
    },
    {
      "cell_type": "code",
      "source": [
        "# Show data:\n",
        "data.show()"
      ],
      "metadata": {
        "id": "b8aOYoMLX7Er",
        "colab": {
          "base_uri": "https://localhost:8080/"
        },
        "outputId": "8a7037d8-8c32-415f-92a9-c375817ff058"
      },
      "execution_count": 6,
      "outputs": [
        {
          "output_type": "stream",
          "name": "stdout",
          "text": [
            "+---+-----------------+---+--------------------+-----------+--------------------+-------+---------+-------------------+--------------------+------+-----+-------+------------+----------+-------+-------+------------+---------+--------+-----+---------+---------+------------------+---------+-----------+----------+--------------+-----------+----------------+-------------+-------+------------+----------+-------+---------+-----------+---------+-------------+----------+--------------+------------+-------+---------------+--------+------+-------+----+----+----+----+----+------+----+----+----+----+----+----+----+----+----+----+-------------------+----+----+----+----+----+----+----+----+----+----+----+\n",
            "|_c0|             Name|Age|               Photo|Nationality|                Flag|Overall|Potential|               Club|           Club Logo| Value| Wage|Special|Acceleration|Aggression|Agility|Balance|Ball control|Composure|Crossing|Curve|Dribbling|Finishing|Free kick accuracy|GK diving|GK handling|GK kicking|GK positioning|GK reflexes|Heading accuracy|Interceptions|Jumping|Long passing|Long shots|Marking|Penalties|Positioning|Reactions|Short passing|Shot power|Sliding tackle|Sprint speed|Stamina|Standing tackle|Strength|Vision|Volleys| CAM|  CB| CDM|  CF|  CM|    ID| LAM|  LB| LCB| LCM| LDM|  LF|  LM|  LS|  LW| LWB|Preferred Positions| RAM|  RB| RCB| RCM| RDM|  RF|  RM|  RS|  RW| RWB|  ST|\n",
            "+---+-----------------+---+--------------------+-----------+--------------------+-------+---------+-------------------+--------------------+------+-----+-------+------------+----------+-------+-------+------------+---------+--------+-----+---------+---------+------------------+---------+-----------+----------+--------------+-----------+----------------+-------------+-------+------------+----------+-------+---------+-----------+---------+-------------+----------+--------------+------------+-------+---------------+--------+------+-------+----+----+----+----+----+------+----+----+----+----+----+----+----+----+----+----+-------------------+----+----+----+----+----+----+----+----+----+----+----+\n",
            "|  0|Cristiano Ronaldo| 32|https://cdn.sofif...|   Portugal|https://cdn.sofif...|     94|       94|     Real Madrid CF|https://cdn.sofif...|€95.5M|€565K|   2228|          89|        63|     89|     63|          93|       95|      85|   81|       91|       94|                76|        7|         11|        15|            14|         11|              88|           29|     95|          77|        92|     22|       85|         95|       96|           83|        94|            23|          91|     92|             31|      80|    85|     88|89.0|53.0|62.0|91.0|82.0| 20801|89.0|61.0|53.0|82.0|62.0|91.0|89.0|92.0|91.0|66.0|             ST LW |89.0|61.0|53.0|82.0|62.0|91.0|89.0|92.0|91.0|66.0|92.0|\n",
            "|  1|         L. Messi| 30|https://cdn.sofif...|  Argentina|https://cdn.sofif...|     93|       93|       FC Barcelona|https://cdn.sofif...| €105M|€565K|   2154|          92|        48|     90|     95|          95|       96|      77|   89|       97|       95|                90|        6|         11|        15|            14|          8|              71|           22|     68|          87|        88|     13|       74|         93|       95|           88|        85|            26|          87|     73|             28|      59|    90|     85|92.0|45.0|59.0|92.0|84.0|158023|92.0|57.0|45.0|84.0|59.0|92.0|90.0|88.0|91.0|62.0|                RW |92.0|57.0|45.0|84.0|59.0|92.0|90.0|88.0|91.0|62.0|88.0|\n",
            "|  2|           Neymar| 25|https://cdn.sofif...|     Brazil|https://cdn.sofif...|     92|       94|Paris Saint-Germain|https://cdn.sofif...| €123M|€280K|   2100|          94|        56|     96|     82|          95|       92|      75|   81|       96|       89|                84|        9|          9|        15|            15|         11|              62|           36|     61|          75|        77|     21|       81|         90|       88|           81|        80|            33|          90|     78|             24|      53|    80|     83|88.0|46.0|59.0|88.0|79.0|190871|88.0|59.0|46.0|79.0|59.0|88.0|87.0|84.0|89.0|64.0|                LW |88.0|59.0|46.0|79.0|59.0|88.0|87.0|84.0|89.0|64.0|84.0|\n",
            "|  3|        L. Suárez| 30|https://cdn.sofif...|    Uruguay|https://cdn.sofif...|     92|       92|       FC Barcelona|https://cdn.sofif...|  €97M|€510K|   2291|          88|        78|     86|     60|          91|       83|      77|   86|       86|       94|                84|       27|         25|        31|            33|         37|              77|           41|     69|          64|        86|     30|       85|         92|       93|           83|        87|            38|          77|     89|             45|      80|    84|     88|87.0|58.0|65.0|88.0|80.0|176580|87.0|64.0|58.0|80.0|65.0|88.0|85.0|88.0|87.0|68.0|                ST |87.0|64.0|58.0|80.0|65.0|88.0|85.0|88.0|87.0|68.0|88.0|\n",
            "|  4|         M. Neuer| 31|https://cdn.sofif...|    Germany|https://cdn.sofif...|     92|       92|   FC Bayern Munich|https://cdn.sofif...|  €61M|€230K|   1493|          58|        29|     52|     35|          48|       70|      15|   14|       30|       13|                11|       91|         90|        95|            91|         89|              25|           30|     78|          59|        16|     10|       47|         12|       85|           55|        25|            11|          61|     44|             10|      83|    70|     11|null|null|null|null|null|167495|null|null|null|null|null|null|null|null|null|null|                GK |null|null|null|null|null|null|null|null|null|null|null|\n",
            "|  5|   R. Lewandowski| 28|https://cdn.sofif...|     Poland|https://cdn.sofif...|     91|       91|   FC Bayern Munich|https://cdn.sofif...|  €92M|€355K|   2143|          79|        80|     78|     80|          89|       87|      62|   77|       85|       91|                84|       15|          6|        12|             8|         10|              85|           39|     84|          65|        83|     25|       81|         91|       91|           83|        88|            19|          83|     79|             42|      84|    78|     87|84.0|57.0|62.0|87.0|78.0|188545|84.0|58.0|57.0|78.0|62.0|87.0|82.0|88.0|84.0|61.0|                ST |84.0|58.0|57.0|78.0|62.0|87.0|82.0|88.0|84.0|61.0|88.0|\n",
            "|  6|           De Gea| 26|https://cdn.sofif...|      Spain|https://cdn.sofif...|     90|       92|  Manchester United|https://cdn.sofif...|€64.5M|€215K|   1458|          57|        38|     60|     43|          42|       64|      17|   21|       18|       13|                19|       90|         85|        87|            86|         90|              21|           30|     67|          51|        12|     13|       40|         12|       88|           50|        31|            13|          58|     40|             21|      64|    68|     13|null|null|null|null|null|193080|null|null|null|null|null|null|null|null|null|null|                GK |null|null|null|null|null|null|null|null|null|null|null|\n",
            "|  7|        E. Hazard| 26|https://cdn.sofif...|    Belgium|https://cdn.sofif...|     90|       91|            Chelsea|https://cdn.sofif...|€90.5M|€295K|   2096|          93|        54|     93|     91|          92|       87|      80|   82|       93|       83|                79|       11|         12|         6|             8|          8|              57|           41|     59|          81|        82|     25|       86|         85|       85|           86|        79|            22|          87|     79|             27|      65|    86|     79|88.0|47.0|61.0|87.0|81.0|183277|88.0|59.0|47.0|81.0|61.0|87.0|87.0|82.0|88.0|64.0|                LW |88.0|59.0|47.0|81.0|61.0|87.0|87.0|82.0|88.0|64.0|82.0|\n",
            "|  8|         T. Kroos| 27|https://cdn.sofif...|    Germany|https://cdn.sofif...|     90|       90|     Real Madrid CF|https://cdn.sofif...|  €79M|€340K|   2165|          60|        60|     71|     69|          89|       85|      85|   85|       79|       76|                84|       10|         11|        13|             7|         10|              54|           85|     32|          93|        90|     63|       73|         79|       86|           90|        87|            69|          52|     77|             82|      74|    88|     82|83.0|72.0|82.0|81.0|87.0|182521|83.0|76.0|72.0|87.0|82.0|81.0|81.0|77.0|80.0|78.0|            CDM CM |83.0|76.0|72.0|87.0|82.0|81.0|81.0|77.0|80.0|78.0|77.0|\n",
            "|  9|       G. Higuaín| 29|https://cdn.sofif...|  Argentina|https://cdn.sofif...|     90|       90|           Juventus|https://cdn.sofif...|  €77M|€275K|   1961|          78|        50|     75|     69|          85|       86|      68|   74|       84|       91|                62|        5|         12|         7|             5|         10|              86|           20|     79|          59|        82|     12|       70|         92|       88|           75|        88|            18|          80|     72|             22|      85|    70|     88|81.0|46.0|52.0|84.0|71.0|167664|81.0|51.0|46.0|71.0|52.0|84.0|79.0|87.0|82.0|55.0|                ST |81.0|51.0|46.0|71.0|52.0|84.0|79.0|87.0|82.0|55.0|87.0|\n",
            "| 10|     Sergio Ramos| 31|https://cdn.sofif...|      Spain|https://cdn.sofif...|     90|       90|     Real Madrid CF|https://cdn.sofif...|  €52M|€310K|   2153|          75|        84|     79|     60|          84|       80|      66|   73|       61|       60|                67|       11|          8|         9|             7|         11|              91|           88|     93|          72|        55|     86|       68|         52|       85|           78|        79|            91|          77|     84|             89|      81|    63|     66|70.0|87.0|83.0|70.0|74.0|155862|70.0|84.0|87.0|74.0|83.0|70.0|71.0|72.0|69.0|81.0|                CB |70.0|84.0|87.0|74.0|83.0|70.0|71.0|72.0|69.0|81.0|72.0|\n",
            "| 11|     K. De Bruyne| 26|https://cdn.sofif...|    Belgium|https://cdn.sofif...|     89|       92|    Manchester City|https://cdn.sofif...|  €83M|€285K|   2162|          76|        68|     80|     75|          87|       84|      90|   83|       85|       83|                83|       15|         13|         5|            10|         13|              53|           56|     65|          84|        86|     30|       77|         84|       88|           90|        85|            40|          75|     87|             51|      73|    90|     82|86.0|57.0|70.0|85.0|84.0|192985|86.0|66.0|57.0|84.0|70.0|85.0|85.0|81.0|85.0|71.0|         RM CM CAM |86.0|66.0|57.0|84.0|70.0|85.0|85.0|81.0|85.0|71.0|81.0|\n",
            "| 12|      T. Courtois| 25|https://cdn.sofif...|    Belgium|https://cdn.sofif...|     89|       92|            Chelsea|https://cdn.sofif...|  €59M|€190K|   1282|          46|        23|     61|     45|          23|       52|      14|   19|       13|       14|                11|       85|         91|        69|            86|         88|              13|           15|     68|          31|        17|     11|       27|         13|       81|           32|        36|            16|          52|     38|             18|      70|    44|     12|null|null|null|null|null|192119|null|null|null|null|null|null|null|null|null|null|                GK |null|null|null|null|null|null|null|null|null|null|null|\n",
            "| 13|       A. Sánchez| 28|https://cdn.sofif...|      Chile|https://cdn.sofif...|     89|       89|            Arsenal|https://cdn.sofif...|€67.5M|€265K|   2181|          88|        80|     90|     87|          87|       86|      80|   78|       90|       85|                78|       10|         10|        15|            12|         13|              70|           42|     85|          73|        82|     30|       77|         86|       87|           81|        84|            35|          84|     85|             39|      72|    83|     83|85.0|56.0|64.0|85.0|79.0|184941|85.0|62.0|56.0|79.0|64.0|85.0|85.0|83.0|86.0|66.0|       RM LW ST LM |85.0|62.0|56.0|79.0|64.0|85.0|85.0|83.0|86.0|66.0|83.0|\n",
            "| 14|        L. Modrić| 31|https://cdn.sofif...|    Croatia|https://cdn.sofif...|     89|       89|     Real Madrid CF|https://cdn.sofif...|  €57M|€340K|   2228|          75|        62|     93|     94|          92|       84|      78|   79|       86|       71|                77|       13|          9|         7|            14|          9|              55|           76|     67|          83|        82|     66|       80|         79|       88|           92|        73|            73|          71|     82|             80|      58|    90|     74|86.0|72.0|80.0|83.0|86.0|177003|86.0|78.0|72.0|86.0|80.0|83.0|84.0|76.0|83.0|80.0|            CDM CM |86.0|78.0|72.0|86.0|80.0|83.0|84.0|76.0|83.0|80.0|76.0|\n",
            "| 15|          G. Bale| 27|https://cdn.sofif...|      Wales|https://cdn.sofif...|     89|       89|     Real Madrid CF|https://cdn.sofif...|€69.5M|€370K|   2263|          93|        65|     77|     65|          87|       85|      87|   86|       89|       87|                85|       15|         15|        11|             5|          6|              86|           59|     85|          80|        90|     51|       76|         86|       87|           86|        91|            52|          95|     76|             55|      80|    79|     76|86.0|67.0|71.0|87.0|81.0|173731|86.0|72.0|67.0|81.0|71.0|87.0|87.0|87.0|87.0|74.0|                RW |86.0|72.0|67.0|81.0|71.0|87.0|87.0|87.0|87.0|74.0|87.0|\n",
            "| 16|        S. Agüero| 29|https://cdn.sofif...|  Argentina|https://cdn.sofif...|     89|       89|    Manchester City|https://cdn.sofif...|€66.5M|€325K|   2074|          90|        63|     86|     91|          89|       90|      70|   82|       89|       90|                72|       13|         15|         6|            11|         14|              68|           24|     80|          63|        83|     13|       83|         91|       89|           79|        88|            12|          84|     74|             20|      74|    83|     85|85.0|44.0|54.0|87.0|75.0|153079|85.0|52.0|44.0|75.0|54.0|87.0|84.0|86.0|86.0|57.0|                ST |85.0|52.0|44.0|75.0|54.0|87.0|84.0|86.0|86.0|57.0|86.0|\n",
            "| 17|     G. Chiellini| 32|https://cdn.sofif...|      Italy|https://cdn.sofif...|     89|       89|           Juventus|https://cdn.sofif...|  €38M|€225K|   1867|          68|        92|     59|     64|          57|       82|      58|   60|       58|       33|                31|        3|          3|         2|             4|          3|              84|           88|     89|          59|        49|     92|       50|         28|       82|           59|        78|            90|          78|     68|             92|      91|    50|     45|55.0|86.0|76.0|55.0|60.0|138956|55.0|78.0|86.0|60.0|76.0|55.0|58.0|59.0|56.0|75.0|                CB |55.0|78.0|86.0|60.0|76.0|55.0|58.0|59.0|56.0|75.0|59.0|\n",
            "| 18|        G. Buffon| 39|https://cdn.sofif...|      Italy|https://cdn.sofif...|     89|       89|           Juventus|https://cdn.sofif...| €4.5M|€110K|   1335|          49|        38|     55|     49|          28|       70|      13|   20|       26|       15|                13|       89|         88|        74|            90|         84|              13|           28|     75|          35|        13|     10|       22|         12|       80|           37|        39|            11|          43|     39|             11|      69|    50|     17|null|null|null|null|null|  1179|null|null|null|null|null|null|null|null|null|null|                GK |null|null|null|null|null|null|null|null|null|null|null|\n",
            "| 19|        P. Dybala| 23|https://cdn.sofif...|  Argentina|https://cdn.sofif...|     88|       93|           Juventus|https://cdn.sofif...|  €79M|€215K|   2063|          88|        48|     91|     85|          93|       84|      80|   88|       92|       85|                84|        5|          4|         4|             5|          8|              68|           24|     75|          71|        88|     14|       86|         84|       84|           83|        82|            20|          84|     83|             20|      65|    84|     88|86.0|43.0|55.0|86.0|78.0|211110|86.0|55.0|43.0|78.0|55.0|86.0|86.0|83.0|87.0|60.0|            ST CAM |86.0|55.0|43.0|78.0|55.0|86.0|86.0|83.0|87.0|60.0|83.0|\n",
            "+---+-----------------+---+--------------------+-----------+--------------------+-------+---------+-------------------+--------------------+------+-----+-------+------------+----------+-------+-------+------------+---------+--------+-----+---------+---------+------------------+---------+-----------+----------+--------------+-----------+----------------+-------------+-------+------------+----------+-------+---------+-----------+---------+-------------+----------+--------------+------------+-------+---------------+--------+------+-------+----+----+----+----+----+------+----+----+----+----+----+----+----+----+----+----+-------------------+----+----+----+----+----+----+----+----+----+----+----+\n",
            "only showing top 20 rows\n",
            "\n"
          ]
        }
      ]
    },
    {
      "cell_type": "code",
      "source": [
        "# How many partitions in DF?\n",
        "data.rdd.getNumPartitions()"
      ],
      "metadata": {
        "id": "9EffFOyTYC18",
        "colab": {
          "base_uri": "https://localhost:8080/"
        },
        "outputId": "6c88eaa1-b42d-405e-92d2-6e0796d7a397"
      },
      "execution_count": 7,
      "outputs": [
        {
          "output_type": "execute_result",
          "data": {
            "text/plain": [
              "2"
            ]
          },
          "metadata": {},
          "execution_count": 7
        }
      ]
    },
    {
      "cell_type": "code",
      "source": [
        "# Increase/Desrease the partitions in DF\n",
        "data2= data.repartition(4)\n",
        "data2.rdd.getNumPartitions()"
      ],
      "metadata": {
        "id": "YBP0nzanB1Cd",
        "colab": {
          "base_uri": "https://localhost:8080/"
        },
        "outputId": "9a67a363-a495-468b-ba3f-7243feac8cbf"
      },
      "execution_count": 8,
      "outputs": [
        {
          "output_type": "execute_result",
          "data": {
            "text/plain": [
              "4"
            ]
          },
          "metadata": {},
          "execution_count": 8
        }
      ]
    },
    {
      "cell_type": "code",
      "source": [
        "# Show DF\n",
        "data2.show()"
      ],
      "metadata": {
        "id": "N0sR-ffdCKuc",
        "colab": {
          "base_uri": "https://localhost:8080/"
        },
        "outputId": "cc0e9630-b0e0-4177-ceb9-7b5eacd1d305"
      },
      "execution_count": 9,
      "outputs": [
        {
          "output_type": "stream",
          "name": "stdout",
          "text": [
            "+-----+-------------+---+--------------------+-------------+--------------------+-------+---------+--------------------+--------------------+------+-----+-------+------------+----------+-------+-------+------------+---------+--------+-----+---------+---------+------------------+---------+-----------+----------+--------------+-----------+----------------+-------------+-------+------------+----------+-------+---------+-----------+---------+-------------+----------+--------------+------------+-------+---------------+--------+------+-------+----+----+----+----+----+------+----+----+----+----+----+----+----+----+----+----+-------------------+----+----+----+----+----+----+----+----+----+----+----+\n",
            "|  _c0|         Name|Age|               Photo|  Nationality|                Flag|Overall|Potential|                Club|           Club Logo| Value| Wage|Special|Acceleration|Aggression|Agility|Balance|Ball control|Composure|Crossing|Curve|Dribbling|Finishing|Free kick accuracy|GK diving|GK handling|GK kicking|GK positioning|GK reflexes|Heading accuracy|Interceptions|Jumping|Long passing|Long shots|Marking|Penalties|Positioning|Reactions|Short passing|Shot power|Sliding tackle|Sprint speed|Stamina|Standing tackle|Strength|Vision|Volleys| CAM|  CB| CDM|  CF|  CM|    ID| LAM|  LB| LCB| LCM| LDM|  LF|  LM|  LS|  LW| LWB|Preferred Positions| RAM|  RB| RCB| RCM| RDM|  RF|  RM|  RS|  RW| RWB|  ST|\n",
            "+-----+-------------+---+--------------------+-------------+--------------------+-------+---------+--------------------+--------------------+------+-----+-------+------------+----------+-------+-------+------------+---------+--------+-----+---------+---------+------------------+---------+-----------+----------+--------------+-----------+----------------+-------------+-------+------------+----------+-------+---------+-----------+---------+-------------+----------+--------------+------------+-------+---------------+--------+------+-------+----+----+----+----+----+------+----+----+----+----+----+----+----+----+----+----+-------------------+----+----+----+----+----+----+----+----+----+----+----+\n",
            "| 4566| H. Salazores| 29|https://cdn.sofif...|        Chile|https://cdn.sofif...|     71|       71|  Santiago Wanderers|https://cdn.sofif...| €1.8M|  €4K|   1915|          78|        64|     81|     77|          69|       69|      71|   58|       66|       48|                60|       14|         11|        11|            11|         11|              50|           73|     69|          51|        68|     66|       55|         63|       71|           67|        75|            72|          74|     76|             68|      64|    59|     64|65.0|67.0|67.0|65.0|65.0|160172|65.0|70.0|67.0|65.0|67.0|65.0|67.0|63.0|67.0|71.0|                LB |65.0|70.0|67.0|65.0|67.0|65.0|67.0|63.0|67.0|71.0|63.0|\n",
            "|10703|  J. Karlsson| 28|https://cdn.sofif...|       Sweden|https://cdn.sofif...|     65|       65| Jönköpings Södra IF|https://cdn.sofif...| €450K|  €1K|   1520|          53|        87|     58|     55|          50|       59|      55|   47|       43|       31|                30|       13|          7|         9|             9|         11|              52|           61|     58|          45|        28|     72|       42|         36|       59|           54|        47|            62|          55|     61|             65|      74|    57|     34|48.0|64.0|60.0|46.0|51.0| 20689|48.0|59.0|64.0|51.0|60.0|46.0|50.0|46.0|47.0|58.0|                CB |48.0|59.0|64.0|51.0|60.0|46.0|50.0|46.0|47.0|58.0|46.0|\n",
            "| 7502|    J. Michel| 25|https://cdn.sofif...|       France|https://cdn.sofif...|     68|       71|    Sporting Lokeren|https://cdn.sofif...| €1.1M|  €9K|   1805|          47|        58|     71|     70|          70|       73|      71|   73|       65|       51|                71|       13|          9|        14|            14|         12|              56|           66|     48|          73|        71|     46|       66|         57|       65|           71|        69|            54|          42|     67|             56|      56|    67|     66|65.0|57.0|63.0|62.0|67.0|212169|65.0|60.0|57.0|67.0|63.0|62.0|63.0|60.0|63.0|62.0|     LM CAM CDM CM |65.0|60.0|57.0|67.0|63.0|62.0|63.0|60.0|63.0|62.0|60.0|\n",
            "| 8437|       O. Şam| 31|https://cdn.sofif...|       Turkey|https://cdn.sofif...|     67|       67|   Gençlerbirliği SK|https://cdn.sofif...| €500K| €10K|   1660|          65|        68|     73|     66|          63|       62|      61|   61|       62|       34|                41|       14|          7|        13|             9|         11|              68|           64|     65|          60|        41|     67|       35|         36|       67|           63|        49|            67|          69|     65|             69|      67|    38|     22|55.0|67.0|64.0|53.0|57.0|125103|55.0|66.0|67.0|57.0|64.0|53.0|58.0|53.0|56.0|65.0|                RB |55.0|66.0|67.0|57.0|64.0|53.0|58.0|53.0|56.0|65.0|53.0|\n",
            "| 4167|    J. Campos| 29|https://cdn.sofif...|      Bolivia|https://cdn.sofif...|     71|       71|                null|https://cdn.sofif...|    €0|   €0|   1758|          66|        39|     71|     79|          78|       64|      64|   78|       72|       58|                75|        9|         16|        15|            10|          7|              45|           29|     57|          64|        74|     24|       81|         61|       63|           72|        68|            23|          64|     78|             21|      62|    72|     63|70.0|39.0|51.0|68.0|66.0|196913|70.0|48.0|39.0|66.0|51.0|68.0|69.0|64.0|68.0|53.0|         CM LM CAM |70.0|48.0|39.0|66.0|51.0|68.0|69.0|64.0|68.0|53.0|64.0|\n",
            "| 1278|     M. Noble| 30|https://cdn.sofif...|      England|https://cdn.sofif...|     76|       76|     West Ham United|https://cdn.sofif...| €5.5M| €83K|   2016|          45|        81|     65|     74|          76|       77|      71|   71|       74|       60|                67|        7|          6|        14|            16|         11|              62|           73|     59|          77|        68|     65|       88|         64|       73|           79|        74|            75|          47|     83|             74|      72|    77|     68|71.0|71.0|75.0|69.0|75.0|152879|71.0|70.0|71.0|75.0|75.0|69.0|70.0|66.0|68.0|72.0|            CM CDM |71.0|70.0|71.0|75.0|75.0|69.0|70.0|66.0|68.0|72.0|66.0|\n",
            "| 6193| M. Mitrishev| 24|https://cdn.sofif...|       Russia|https://cdn.sofif...|     69|       74|        Terek Grozny|https://cdn.sofif...| €1.4M| €19K|   1528|          71|        59|     91|     78|          68|       54|      49|   37|       67|       70|                43|        6|         10|         6|            15|          7|              67|           25|     28|          39|        70|     11|       59|         73|       70|           62|        68|            13|          81|     34|             17|      34|    34|     66|63.0|35.0|39.0|67.0|53.0|199035|63.0|41.0|35.0|53.0|39.0|67.0|61.0|68.0|66.0|43.0|          LM RM ST |63.0|41.0|35.0|53.0|39.0|67.0|61.0|68.0|66.0|43.0|68.0|\n",
            "| 6191|    M. Martin| 28|https://cdn.sofif...|       France|https://cdn.sofif...|     69|       69| Heart of Midlothian|https://cdn.sofif...|   €1M|  €6K|   1878|          54|        68|     67|     72|          66|       61|      69|   57|       56|       60|                70|        7|          9|        13|            10|          9|              64|           68|     74|          72|        70|     54|       74|         59|       67|           74|        66|            67|          46|     76|             68|      74|    67|     51|65.0|66.0|68.0|62.0|68.0|177017|65.0|65.0|66.0|68.0|68.0|62.0|64.0|62.0|62.0|66.0|        CDM CAM CM |65.0|65.0|66.0|68.0|68.0|62.0|64.0|62.0|62.0|66.0|62.0|\n",
            "|12357|J. Welzmüller| 27|https://cdn.sofif...|      Germany|https://cdn.sofif...|     63|       64|  SpVgg Unterhaching|https://cdn.sofif...| €350K|  €1K|   1376|          62|        55|     59|     54|          54|       60|      24|   24|       27|       19|                26|        7|          9|         9|             9|         15|              62|           57|     71|          39|        31|     59|       33|         27|       64|           49|        35|            65|          59|     70|             67|      76|    29|     30|41.0|62.0|56.0|40.0|45.0|238964|41.0|58.0|62.0|45.0|56.0|40.0|42.0|42.0|40.0|55.0|                CB |41.0|58.0|62.0|45.0|56.0|40.0|42.0|42.0|40.0|55.0|42.0|\n",
            "| 9785|   D. Londoño| 22|https://cdn.sofif...|     Colombia|https://cdn.sofif...|     66|       76|         Envigado FC|https://cdn.sofif...| €900K|  €1K|   1609|          69|        64|     67|     57|          65|       50|      64|   28|       55|       35|                35|       13|         11|        15|            15|          7|              62|           53|     59|          51|        49|     67|       40|         46|       62|           62|        28|            71|          71|     68|             68|      72|    56|     24|57.0|65.0|62.0|55.0|58.0|223721|57.0|65.0|65.0|58.0|62.0|55.0|59.0|52.0|58.0|64.0|                LB |57.0|65.0|65.0|58.0|62.0|55.0|59.0|52.0|58.0|64.0|52.0|\n",
            "|   74|     K. Navas| 30|https://cdn.sofif...|   Costa Rica|https://cdn.sofif...|     85|       85|      Real Madrid CF|https://cdn.sofif...|€24.5M|€165K|   1301|          54|        32|     60|     61|          19|       49|      11|   11|       16|       15|                15|       87|         82|        72|            80|         85|              11|           20|     74|          37|        13|     12|       25|         16|       82|           30|        21|            14|          53|     39|             14|      75|    54|     11|null|null|null|null|null|193041|null|null|null|null|null|null|null|null|null|null|                GK |null|null|null|null|null|null|null|null|null|null|null|\n",
            "| 3627|    Y. Andreu| 28|https://cdn.sofif...|       France|https://cdn.sofif...|     72|       72|          Angers SCO|https://cdn.sofif...| €2.5M| €16K|   1693|          66|        68|     67|     74|          72|       66|      73|   45|       68|       22|                31|       13|         12|         7|            11|         10|              63|           69|     66|          64|        29|     73|       28|         55|       68|           69|        36|            73|          65|     75|             74|      66|    53|     28|60.0|70.0|69.0|57.0|64.0|190579|60.0|71.0|70.0|64.0|69.0|57.0|64.0|52.0|61.0|71.0|             RB LB |60.0|71.0|70.0|64.0|69.0|57.0|64.0|52.0|61.0|71.0|52.0|\n",
            "| 2357|    V. Bessat| 31|https://cdn.sofif...|       France|https://cdn.sofif...|     74|       74|             SM Caen|https://cdn.sofif...| €4.9M| €23K|   1956|          75|        62|     76|     74|          75|       71|      79|   54|       75|       58|                57|        6|         16|        10|            12|          9|              53|           46|     73|          75|        71|     71|       58|         70|       76|           75|        67|            69|          72|     64|             72|      70|    74|     62|73.0|66.0|68.0|71.0|72.0|184706|73.0|69.0|66.0|72.0|68.0|71.0|73.0|68.0|73.0|70.0|             LB LM |73.0|69.0|66.0|72.0|68.0|71.0|73.0|68.0|73.0|70.0|68.0|\n",
            "|  874|      Rochina| 26|https://cdn.sofif...|        Spain|https://cdn.sofif...|     78|       80|         Rubin Kazan|https://cdn.sofif...|€12.5M| €48K|   1981|          75|        71|     67|     68|          80|       72|      75|   76|       79|       70|                68|        7|         16|        11|            13|         13|              54|           54|     71|          76|        81|     20|       67|         75|       79|           78|        82|            40|          72|     71|             54|      73|    77|     68|77.0|55.0|64.0|77.0|75.0|188103|77.0|60.0|55.0|75.0|64.0|77.0|76.0|74.0|76.0|64.0|         RM LM CAM |77.0|60.0|55.0|75.0|64.0|77.0|76.0|74.0|76.0|64.0|74.0|\n",
            "|10459|  T. Yonemoto| 26|https://cdn.sofif...|        Japan|https://cdn.sofif...|     65|       66|          F.C. Tokyo|https://cdn.sofif...| €625K|  €4K|   1765|          68|        63|     70|     64|          66|       60|      64|   41|       65|       54|                52|        7|         14|         9|             7|         11|              58|           65|     58|          65|        60|     65|       56|         55|       66|           65|        58|            64|          67|     78|             62|      61|    61|     46|63.0|63.0|65.0|62.0|64.0|232852|63.0|66.0|63.0|64.0|65.0|62.0|64.0|60.0|63.0|66.0|                CM |63.0|66.0|63.0|64.0|65.0|62.0|64.0|60.0|63.0|66.0|60.0|\n",
            "|  245|  J. Cuadrado| 29|https://cdn.sofif...|     Colombia|https://cdn.sofif...|     82|       82|            Juventus|https://cdn.sofif...|€21.5M|€130K|   2111|          90|        70|     91|     83|          83|       76|      78|   76|       90|       67|                69|        5|          5|        13|             6|          9|              58|           62|     75|          69|        80|     60|       65|         78|       76|           77|        84|            68|          92|     75|             60|      57|    72|     68|79.0|65.0|69.0|80.0|75.0|193082|79.0|72.0|65.0|75.0|69.0|80.0|80.0|76.0|81.0|74.0|                RM |79.0|72.0|65.0|75.0|69.0|80.0|80.0|76.0|81.0|74.0|76.0|\n",
            "| 5713|    Kike Sola| 31|https://cdn.sofif...|        Spain|https://cdn.sofif...|     70|       70|Athletic Club de ...|https://cdn.sofif...| €1.6M| €17K|   1717|          56|        72|     65|     68|          73|       63|      59|   59|       71|       68|                59|        6|          9|        10|             4|          2|              78|           43|     59|          55|        65|     40|       63|         71|       61|           71|        69|            42|          47|     30|             45|      76|    56|     65|66.0|56.0|55.0|67.0|61.0|185073|66.0|51.0|56.0|61.0|55.0|67.0|63.0|69.0|65.0|52.0|                ST |66.0|51.0|56.0|61.0|55.0|67.0|63.0|69.0|65.0|52.0|69.0|\n",
            "|  846|   I. Afellay| 31|https://cdn.sofif...|  Netherlands|https://cdn.sofif...|     78|       78|          Stoke City|https://cdn.sofif...|   €9M| €68K|   2027|          76|        59|     76|     77|          82|       78|      78|   79|       80|       71|                75|       14|          7|        10|            12|          8|              46|           62|     75|          74|        76|     36|       70|         73|       75|           81|        75|            58|          74|     70|             67|      64|    75|     72|77.0|60.0|68.0|76.0|76.0|158372|77.0|67.0|60.0|76.0|68.0|76.0|77.0|72.0|77.0|69.0|     CDM LM CM CAM |77.0|67.0|60.0|76.0|68.0|76.0|77.0|72.0|77.0|69.0|72.0|\n",
            "| 5238| P. Gallagher| 32|https://cdn.sofif...|     Scotland|https://cdn.sofif...|     70|       70|   Preston North End|https://cdn.sofif...| €1.3M| €11K|   1826|          59|        53|     68|     60|          73|       66|      78|   78|       65|       62|                75|        8|          8|         7|             9|          6|              52|           49|     60|          76|        74|     23|       65|         65|       63|           72|        79|            45|          61|     71|             60|      67|    75|     60|69.0|53.0|60.0|67.0|69.0|162926|69.0|58.0|53.0|69.0|60.0|67.0|69.0|65.0|68.0|60.0|                CM |69.0|58.0|53.0|69.0|60.0|67.0|69.0|65.0|68.0|60.0|65.0|\n",
            "| 9800|    C. Davies| 31|https://cdn.sofif...|United States|https://cdn.sofif...|     66|       66|  Philadelphia Union|https://cdn.sofif...| €575K|  €3K|   1676|          69|        64|     69|     72|          65|       66|      57|   69|       67|       64|                49|        7|         13|         8|            12|         13|              63|           35|     69|          38|        60|     26|       66|         65|       61|           60|        69|            24|          66|     65|             28|      63|    52|     68|61.0|44.0|46.0|64.0|55.0|179692|61.0|47.0|44.0|55.0|46.0|64.0|62.0|65.0|63.0|50.0|                ST |61.0|47.0|44.0|55.0|46.0|64.0|62.0|65.0|63.0|50.0|65.0|\n",
            "+-----+-------------+---+--------------------+-------------+--------------------+-------+---------+--------------------+--------------------+------+-----+-------+------------+----------+-------+-------+------------+---------+--------+-----+---------+---------+------------------+---------+-----------+----------+--------------+-----------+----------------+-------------+-------+------------+----------+-------+---------+-----------+---------+-------------+----------+--------------+------------+-------+---------------+--------+------+-------+----+----+----+----+----+------+----+----+----+----+----+----+----+----+----+----+-------------------+----+----+----+----+----+----+----+----+----+----+----+\n",
            "only showing top 20 rows\n",
            "\n"
          ]
        }
      ]
    },
    {
      "cell_type": "code",
      "source": [
        "# Rename Columns and Amend NULLs:\n",
        "data2 = data2.withColumnRenamed(\"_c0\",\"ID\") \\\n",
        ".withColumnRenamed(\"Ball control\", \"Ball_Control\") \\\n",
        ".withColumnRenamed(\"Sliding tackle\", \"Sliding_Tackle\")\n",
        "\n",
        "data2.na.fill({\"RAM\":10, \"RB\":1}).show()"
      ],
      "metadata": {
        "id": "Yp9QWyKcDQZy",
        "colab": {
          "base_uri": "https://localhost:8080/"
        },
        "outputId": "d30cf6fe-9f89-4797-8d1a-7d1fd4ebfeb4"
      },
      "execution_count": 10,
      "outputs": [
        {
          "output_type": "stream",
          "name": "stdout",
          "text": [
            "+-----+-------------+---+--------------------+-------------+--------------------+-------+---------+--------------------+--------------------+------+-----+-------+------------+----------+-------+-------+------------+---------+--------+-----+---------+---------+------------------+---------+-----------+----------+--------------+-----------+----------------+-------------+-------+------------+----------+-------+---------+-----------+---------+-------------+----------+--------------+------------+-------+---------------+--------+------+-------+----+----+----+----+----+------+----+----+----+----+----+----+----+----+----+----+-------------------+----+----+----+----+----+----+----+----+----+----+----+\n",
            "|   ID|         Name|Age|               Photo|  Nationality|                Flag|Overall|Potential|                Club|           Club Logo| Value| Wage|Special|Acceleration|Aggression|Agility|Balance|Ball_Control|Composure|Crossing|Curve|Dribbling|Finishing|Free kick accuracy|GK diving|GK handling|GK kicking|GK positioning|GK reflexes|Heading accuracy|Interceptions|Jumping|Long passing|Long shots|Marking|Penalties|Positioning|Reactions|Short passing|Shot power|Sliding_Tackle|Sprint speed|Stamina|Standing tackle|Strength|Vision|Volleys| CAM|  CB| CDM|  CF|  CM|    ID| LAM|  LB| LCB| LCM| LDM|  LF|  LM|  LS|  LW| LWB|Preferred Positions| RAM|  RB| RCB| RCM| RDM|  RF|  RM|  RS|  RW| RWB|  ST|\n",
            "+-----+-------------+---+--------------------+-------------+--------------------+-------+---------+--------------------+--------------------+------+-----+-------+------------+----------+-------+-------+------------+---------+--------+-----+---------+---------+------------------+---------+-----------+----------+--------------+-----------+----------------+-------------+-------+------------+----------+-------+---------+-----------+---------+-------------+----------+--------------+------------+-------+---------------+--------+------+-------+----+----+----+----+----+------+----+----+----+----+----+----+----+----+----+----+-------------------+----+----+----+----+----+----+----+----+----+----+----+\n",
            "| 4566| H. Salazores| 29|https://cdn.sofif...|        Chile|https://cdn.sofif...|     71|       71|  Santiago Wanderers|https://cdn.sofif...| €1.8M|  €4K|   1915|          78|        64|     81|     77|          69|       69|      71|   58|       66|       48|                60|       14|         11|        11|            11|         11|              50|           73|     69|          51|        68|     66|       55|         63|       71|           67|        75|            72|          74|     76|             68|      64|    59|     64|65.0|67.0|67.0|65.0|65.0|160172|65.0|70.0|67.0|65.0|67.0|65.0|67.0|63.0|67.0|71.0|                LB |65.0|70.0|67.0|65.0|67.0|65.0|67.0|63.0|67.0|71.0|63.0|\n",
            "|10703|  J. Karlsson| 28|https://cdn.sofif...|       Sweden|https://cdn.sofif...|     65|       65| Jönköpings Södra IF|https://cdn.sofif...| €450K|  €1K|   1520|          53|        87|     58|     55|          50|       59|      55|   47|       43|       31|                30|       13|          7|         9|             9|         11|              52|           61|     58|          45|        28|     72|       42|         36|       59|           54|        47|            62|          55|     61|             65|      74|    57|     34|48.0|64.0|60.0|46.0|51.0| 20689|48.0|59.0|64.0|51.0|60.0|46.0|50.0|46.0|47.0|58.0|                CB |48.0|59.0|64.0|51.0|60.0|46.0|50.0|46.0|47.0|58.0|46.0|\n",
            "| 7502|    J. Michel| 25|https://cdn.sofif...|       France|https://cdn.sofif...|     68|       71|    Sporting Lokeren|https://cdn.sofif...| €1.1M|  €9K|   1805|          47|        58|     71|     70|          70|       73|      71|   73|       65|       51|                71|       13|          9|        14|            14|         12|              56|           66|     48|          73|        71|     46|       66|         57|       65|           71|        69|            54|          42|     67|             56|      56|    67|     66|65.0|57.0|63.0|62.0|67.0|212169|65.0|60.0|57.0|67.0|63.0|62.0|63.0|60.0|63.0|62.0|     LM CAM CDM CM |65.0|60.0|57.0|67.0|63.0|62.0|63.0|60.0|63.0|62.0|60.0|\n",
            "| 8437|       O. Şam| 31|https://cdn.sofif...|       Turkey|https://cdn.sofif...|     67|       67|   Gençlerbirliği SK|https://cdn.sofif...| €500K| €10K|   1660|          65|        68|     73|     66|          63|       62|      61|   61|       62|       34|                41|       14|          7|        13|             9|         11|              68|           64|     65|          60|        41|     67|       35|         36|       67|           63|        49|            67|          69|     65|             69|      67|    38|     22|55.0|67.0|64.0|53.0|57.0|125103|55.0|66.0|67.0|57.0|64.0|53.0|58.0|53.0|56.0|65.0|                RB |55.0|66.0|67.0|57.0|64.0|53.0|58.0|53.0|56.0|65.0|53.0|\n",
            "| 4167|    J. Campos| 29|https://cdn.sofif...|      Bolivia|https://cdn.sofif...|     71|       71|                null|https://cdn.sofif...|    €0|   €0|   1758|          66|        39|     71|     79|          78|       64|      64|   78|       72|       58|                75|        9|         16|        15|            10|          7|              45|           29|     57|          64|        74|     24|       81|         61|       63|           72|        68|            23|          64|     78|             21|      62|    72|     63|70.0|39.0|51.0|68.0|66.0|196913|70.0|48.0|39.0|66.0|51.0|68.0|69.0|64.0|68.0|53.0|         CM LM CAM |70.0|48.0|39.0|66.0|51.0|68.0|69.0|64.0|68.0|53.0|64.0|\n",
            "| 1278|     M. Noble| 30|https://cdn.sofif...|      England|https://cdn.sofif...|     76|       76|     West Ham United|https://cdn.sofif...| €5.5M| €83K|   2016|          45|        81|     65|     74|          76|       77|      71|   71|       74|       60|                67|        7|          6|        14|            16|         11|              62|           73|     59|          77|        68|     65|       88|         64|       73|           79|        74|            75|          47|     83|             74|      72|    77|     68|71.0|71.0|75.0|69.0|75.0|152879|71.0|70.0|71.0|75.0|75.0|69.0|70.0|66.0|68.0|72.0|            CM CDM |71.0|70.0|71.0|75.0|75.0|69.0|70.0|66.0|68.0|72.0|66.0|\n",
            "| 6193| M. Mitrishev| 24|https://cdn.sofif...|       Russia|https://cdn.sofif...|     69|       74|        Terek Grozny|https://cdn.sofif...| €1.4M| €19K|   1528|          71|        59|     91|     78|          68|       54|      49|   37|       67|       70|                43|        6|         10|         6|            15|          7|              67|           25|     28|          39|        70|     11|       59|         73|       70|           62|        68|            13|          81|     34|             17|      34|    34|     66|63.0|35.0|39.0|67.0|53.0|199035|63.0|41.0|35.0|53.0|39.0|67.0|61.0|68.0|66.0|43.0|          LM RM ST |63.0|41.0|35.0|53.0|39.0|67.0|61.0|68.0|66.0|43.0|68.0|\n",
            "| 6191|    M. Martin| 28|https://cdn.sofif...|       France|https://cdn.sofif...|     69|       69| Heart of Midlothian|https://cdn.sofif...|   €1M|  €6K|   1878|          54|        68|     67|     72|          66|       61|      69|   57|       56|       60|                70|        7|          9|        13|            10|          9|              64|           68|     74|          72|        70|     54|       74|         59|       67|           74|        66|            67|          46|     76|             68|      74|    67|     51|65.0|66.0|68.0|62.0|68.0|177017|65.0|65.0|66.0|68.0|68.0|62.0|64.0|62.0|62.0|66.0|        CDM CAM CM |65.0|65.0|66.0|68.0|68.0|62.0|64.0|62.0|62.0|66.0|62.0|\n",
            "|12357|J. Welzmüller| 27|https://cdn.sofif...|      Germany|https://cdn.sofif...|     63|       64|  SpVgg Unterhaching|https://cdn.sofif...| €350K|  €1K|   1376|          62|        55|     59|     54|          54|       60|      24|   24|       27|       19|                26|        7|          9|         9|             9|         15|              62|           57|     71|          39|        31|     59|       33|         27|       64|           49|        35|            65|          59|     70|             67|      76|    29|     30|41.0|62.0|56.0|40.0|45.0|238964|41.0|58.0|62.0|45.0|56.0|40.0|42.0|42.0|40.0|55.0|                CB |41.0|58.0|62.0|45.0|56.0|40.0|42.0|42.0|40.0|55.0|42.0|\n",
            "| 9785|   D. Londoño| 22|https://cdn.sofif...|     Colombia|https://cdn.sofif...|     66|       76|         Envigado FC|https://cdn.sofif...| €900K|  €1K|   1609|          69|        64|     67|     57|          65|       50|      64|   28|       55|       35|                35|       13|         11|        15|            15|          7|              62|           53|     59|          51|        49|     67|       40|         46|       62|           62|        28|            71|          71|     68|             68|      72|    56|     24|57.0|65.0|62.0|55.0|58.0|223721|57.0|65.0|65.0|58.0|62.0|55.0|59.0|52.0|58.0|64.0|                LB |57.0|65.0|65.0|58.0|62.0|55.0|59.0|52.0|58.0|64.0|52.0|\n",
            "|   74|     K. Navas| 30|https://cdn.sofif...|   Costa Rica|https://cdn.sofif...|     85|       85|      Real Madrid CF|https://cdn.sofif...|€24.5M|€165K|   1301|          54|        32|     60|     61|          19|       49|      11|   11|       16|       15|                15|       87|         82|        72|            80|         85|              11|           20|     74|          37|        13|     12|       25|         16|       82|           30|        21|            14|          53|     39|             14|      75|    54|     11|null|null|null|null|null|193041|null|null|null|null|null|null|null|null|null|null|                GK |10.0| 1.0|null|null|null|null|null|null|null|null|null|\n",
            "| 3627|    Y. Andreu| 28|https://cdn.sofif...|       France|https://cdn.sofif...|     72|       72|          Angers SCO|https://cdn.sofif...| €2.5M| €16K|   1693|          66|        68|     67|     74|          72|       66|      73|   45|       68|       22|                31|       13|         12|         7|            11|         10|              63|           69|     66|          64|        29|     73|       28|         55|       68|           69|        36|            73|          65|     75|             74|      66|    53|     28|60.0|70.0|69.0|57.0|64.0|190579|60.0|71.0|70.0|64.0|69.0|57.0|64.0|52.0|61.0|71.0|             RB LB |60.0|71.0|70.0|64.0|69.0|57.0|64.0|52.0|61.0|71.0|52.0|\n",
            "| 2357|    V. Bessat| 31|https://cdn.sofif...|       France|https://cdn.sofif...|     74|       74|             SM Caen|https://cdn.sofif...| €4.9M| €23K|   1956|          75|        62|     76|     74|          75|       71|      79|   54|       75|       58|                57|        6|         16|        10|            12|          9|              53|           46|     73|          75|        71|     71|       58|         70|       76|           75|        67|            69|          72|     64|             72|      70|    74|     62|73.0|66.0|68.0|71.0|72.0|184706|73.0|69.0|66.0|72.0|68.0|71.0|73.0|68.0|73.0|70.0|             LB LM |73.0|69.0|66.0|72.0|68.0|71.0|73.0|68.0|73.0|70.0|68.0|\n",
            "|  874|      Rochina| 26|https://cdn.sofif...|        Spain|https://cdn.sofif...|     78|       80|         Rubin Kazan|https://cdn.sofif...|€12.5M| €48K|   1981|          75|        71|     67|     68|          80|       72|      75|   76|       79|       70|                68|        7|         16|        11|            13|         13|              54|           54|     71|          76|        81|     20|       67|         75|       79|           78|        82|            40|          72|     71|             54|      73|    77|     68|77.0|55.0|64.0|77.0|75.0|188103|77.0|60.0|55.0|75.0|64.0|77.0|76.0|74.0|76.0|64.0|         RM LM CAM |77.0|60.0|55.0|75.0|64.0|77.0|76.0|74.0|76.0|64.0|74.0|\n",
            "|10459|  T. Yonemoto| 26|https://cdn.sofif...|        Japan|https://cdn.sofif...|     65|       66|          F.C. Tokyo|https://cdn.sofif...| €625K|  €4K|   1765|          68|        63|     70|     64|          66|       60|      64|   41|       65|       54|                52|        7|         14|         9|             7|         11|              58|           65|     58|          65|        60|     65|       56|         55|       66|           65|        58|            64|          67|     78|             62|      61|    61|     46|63.0|63.0|65.0|62.0|64.0|232852|63.0|66.0|63.0|64.0|65.0|62.0|64.0|60.0|63.0|66.0|                CM |63.0|66.0|63.0|64.0|65.0|62.0|64.0|60.0|63.0|66.0|60.0|\n",
            "|  245|  J. Cuadrado| 29|https://cdn.sofif...|     Colombia|https://cdn.sofif...|     82|       82|            Juventus|https://cdn.sofif...|€21.5M|€130K|   2111|          90|        70|     91|     83|          83|       76|      78|   76|       90|       67|                69|        5|          5|        13|             6|          9|              58|           62|     75|          69|        80|     60|       65|         78|       76|           77|        84|            68|          92|     75|             60|      57|    72|     68|79.0|65.0|69.0|80.0|75.0|193082|79.0|72.0|65.0|75.0|69.0|80.0|80.0|76.0|81.0|74.0|                RM |79.0|72.0|65.0|75.0|69.0|80.0|80.0|76.0|81.0|74.0|76.0|\n",
            "| 5713|    Kike Sola| 31|https://cdn.sofif...|        Spain|https://cdn.sofif...|     70|       70|Athletic Club de ...|https://cdn.sofif...| €1.6M| €17K|   1717|          56|        72|     65|     68|          73|       63|      59|   59|       71|       68|                59|        6|          9|        10|             4|          2|              78|           43|     59|          55|        65|     40|       63|         71|       61|           71|        69|            42|          47|     30|             45|      76|    56|     65|66.0|56.0|55.0|67.0|61.0|185073|66.0|51.0|56.0|61.0|55.0|67.0|63.0|69.0|65.0|52.0|                ST |66.0|51.0|56.0|61.0|55.0|67.0|63.0|69.0|65.0|52.0|69.0|\n",
            "|  846|   I. Afellay| 31|https://cdn.sofif...|  Netherlands|https://cdn.sofif...|     78|       78|          Stoke City|https://cdn.sofif...|   €9M| €68K|   2027|          76|        59|     76|     77|          82|       78|      78|   79|       80|       71|                75|       14|          7|        10|            12|          8|              46|           62|     75|          74|        76|     36|       70|         73|       75|           81|        75|            58|          74|     70|             67|      64|    75|     72|77.0|60.0|68.0|76.0|76.0|158372|77.0|67.0|60.0|76.0|68.0|76.0|77.0|72.0|77.0|69.0|     CDM LM CM CAM |77.0|67.0|60.0|76.0|68.0|76.0|77.0|72.0|77.0|69.0|72.0|\n",
            "| 5238| P. Gallagher| 32|https://cdn.sofif...|     Scotland|https://cdn.sofif...|     70|       70|   Preston North End|https://cdn.sofif...| €1.3M| €11K|   1826|          59|        53|     68|     60|          73|       66|      78|   78|       65|       62|                75|        8|          8|         7|             9|          6|              52|           49|     60|          76|        74|     23|       65|         65|       63|           72|        79|            45|          61|     71|             60|      67|    75|     60|69.0|53.0|60.0|67.0|69.0|162926|69.0|58.0|53.0|69.0|60.0|67.0|69.0|65.0|68.0|60.0|                CM |69.0|58.0|53.0|69.0|60.0|67.0|69.0|65.0|68.0|60.0|65.0|\n",
            "| 9800|    C. Davies| 31|https://cdn.sofif...|United States|https://cdn.sofif...|     66|       66|  Philadelphia Union|https://cdn.sofif...| €575K|  €3K|   1676|          69|        64|     69|     72|          65|       66|      57|   69|       67|       64|                49|        7|         13|         8|            12|         13|              63|           35|     69|          38|        60|     26|       66|         65|       61|           60|        69|            24|          66|     65|             28|      63|    52|     68|61.0|44.0|46.0|64.0|55.0|179692|61.0|47.0|44.0|55.0|46.0|64.0|62.0|65.0|63.0|50.0|                ST |61.0|47.0|44.0|55.0|46.0|64.0|62.0|65.0|63.0|50.0|65.0|\n",
            "+-----+-------------+---+--------------------+-------------+--------------------+-------+---------+--------------------+--------------------+------+-----+-------+------------+----------+-------+-------+------------+---------+--------+-----+---------+---------+------------------+---------+-----------+----------+--------------+-----------+----------------+-------------+-------+------------+----------+-------+---------+-----------+---------+-------------+----------+--------------+------------+-------+---------------+--------+------+-------+----+----+----+----+----+------+----+----+----+----+----+----+----+----+----+----+-------------------+----+----+----+----+----+----+----+----+----+----+----+\n",
            "only showing top 20 rows\n",
            "\n"
          ]
        }
      ]
    },
    {
      "cell_type": "code",
      "source": [
        "# Transformation (SELECT):\n",
        "data2.select(\"Name\",\"Overall\").distinct().show()"
      ],
      "metadata": {
        "id": "Vf9eiG93HbKK",
        "colab": {
          "base_uri": "https://localhost:8080/"
        },
        "outputId": "2134541e-e262-4207-caaa-b2399610f241"
      },
      "execution_count": 12,
      "outputs": [
        {
          "output_type": "stream",
          "name": "stdout",
          "text": [
            "+------------------+-------+\n",
            "|              Name|Overall|\n",
            "+------------------+-------+\n",
            "|        E. Horvath|     71|\n",
            "|        M. Randall|     62|\n",
            "|      A. Granqvist|     80|\n",
            "|       A. Thompson|     65|\n",
            "|    R. Cornthwaite|     66|\n",
            "|         G. Zajkov|     62|\n",
            "|       J. Cuadrado|     82|\n",
            "|           M. Dube|     63|\n",
            "|      A. Al Asmari|     62|\n",
            "|           T. Aoki|     64|\n",
            "|        M. Edwards|     58|\n",
            "|           L. Amos|     60|\n",
            "|       S. Kawamata|     56|\n",
            "|A. Taylor-Sinclair|     60|\n",
            "|       A. Bouchard|     60|\n",
            "|        J. Cortizo|     58|\n",
            "|     Fran Villalba|     70|\n",
            "|         V. Lazaro|     71|\n",
            "|         Guillermo|     70|\n",
            "|         T. Ayasse|     68|\n",
            "+------------------+-------+\n",
            "only showing top 20 rows\n",
            "\n"
          ]
        }
      ]
    },
    {
      "cell_type": "code",
      "source": [
        "# Transformation (FILTER):\n",
        "data2.filter(data2[\"Overall\"] > 80).show()"
      ],
      "metadata": {
        "id": "QlLKM3krHyWD",
        "colab": {
          "base_uri": "https://localhost:8080/"
        },
        "outputId": "ea818e4e-43a2-40fd-e8b0-119dfeb6ef92"
      },
      "execution_count": 14,
      "outputs": [
        {
          "output_type": "stream",
          "name": "stdout",
          "text": [
            "+---+-------------+---+--------------------+-----------+--------------------+-------+---------+--------------------+--------------------+------+-----+-------+------------+----------+-------+-------+------------+---------+--------+-----+---------+---------+------------------+---------+-----------+----------+--------------+-----------+----------------+-------------+-------+------------+----------+-------+---------+-----------+---------+-------------+----------+--------------+------------+-------+---------------+--------+------+-------+----+----+----+----+----+------+----+----+----+----+----+----+----+----+----+----+-------------------+----+----+----+----+----+----+----+----+----+----+----+\n",
            "| ID|         Name|Age|               Photo|Nationality|                Flag|Overall|Potential|                Club|           Club Logo| Value| Wage|Special|Acceleration|Aggression|Agility|Balance|Ball_Control|Composure|Crossing|Curve|Dribbling|Finishing|Free kick accuracy|GK diving|GK handling|GK kicking|GK positioning|GK reflexes|Heading accuracy|Interceptions|Jumping|Long passing|Long shots|Marking|Penalties|Positioning|Reactions|Short passing|Shot power|Sliding_Tackle|Sprint speed|Stamina|Standing tackle|Strength|Vision|Volleys| CAM|  CB| CDM|  CF|  CM|    ID| LAM|  LB| LCB| LCM| LDM|  LF|  LM|  LS|  LW| LWB|Preferred Positions| RAM|  RB| RCB| RCM| RDM|  RF|  RM|  RS|  RW| RWB|  ST|\n",
            "+---+-------------+---+--------------------+-----------+--------------------+-------+---------+--------------------+--------------------+------+-----+-------+------------+----------+-------+-------+------------+---------+--------+-----+---------+---------+------------------+---------+-----------+----------+--------------+-----------+----------------+-------------+-------+------------+----------+-------+---------+-----------+---------+-------------+----------+--------------+------------+-------+---------------+--------+------+-------+----+----+----+----+----+------+----+----+----+----+----+----+----+----+----+----+-------------------+----+----+----+----+----+----+----+----+----+----+----+\n",
            "|245|  J. Cuadrado| 29|https://cdn.sofif...|   Colombia|https://cdn.sofif...|     82|       82|            Juventus|https://cdn.sofif...|€21.5M|€130K|   2111|          90|        70|     91|     83|          83|       76|      78|   76|       90|       67|                69|        5|          5|        13|             6|          9|              58|           62|     75|          69|        80|     60|       65|         78|       76|           77|        84|            68|          92|     75|             60|      57|    72|     68|79.0|65.0|69.0|80.0|75.0|193082|79.0|72.0|65.0|75.0|69.0|80.0|80.0|76.0|81.0|74.0|                RM |79.0|72.0|65.0|75.0|69.0|80.0|80.0|76.0|81.0|74.0|76.0|\n",
            "|127|    K. Mbappé| 18|https://cdn.sofif...|     France|https://cdn.sofif...|     83|       94| Paris Saint-Germain|https://cdn.sofif...|€41.5M| €31K|   2050|          89|        62|     78|     76|          87|       80|      70|   75|       86|       87|                58|       13|          5|         7|            11|          6|              76|           49|     71|          68|        68|     41|       70|         79|       79|           78|        79|            40|          90|     83|             44|      74|    77|     74|81.0|58.0|64.0|82.0|75.0|231747|81.0|64.0|58.0|75.0|64.0|82.0|81.0|82.0|82.0|67.0|                ST |81.0|64.0|58.0|75.0|64.0|82.0|81.0|82.0|82.0|67.0|82.0|\n",
            "| 48|         Isco| 25|https://cdn.sofif...|      Spain|https://cdn.sofif...|     86|       90|      Real Madrid CF|https://cdn.sofif...|€56.5M|€250K|   2105|          74|        58|     83|     85|          91|       86|      72|   86|       90|       88|                74|       10|          8|        12|            15|          6|              55|           70|     64|          85|        87|     25|       76|         83|       79|           86|        72|            51|          69|     71|             73|      59|    84|     64|85.0|61.0|71.0|84.0|84.0|197781|85.0|67.0|61.0|84.0|71.0|84.0|82.0|79.0|83.0|70.0|      LM RM CAM CM |85.0|67.0|61.0|84.0|71.0|84.0|82.0|79.0|83.0|70.0|79.0|\n",
            "| 86|J. Vertonghen| 30|https://cdn.sofif...|    Belgium|https://cdn.sofif...|     85|       85|   Tottenham Hotspur|https://cdn.sofif...|€28.5M|€130K|   2079|          68|        83|     62|     55|          74|       81|      68|   58|       69|       56|                73|        6|         10|         9|            12|          7|              81|           86|     83|          74|        68|     84|       68|         60|       82|           79|        86|            86|          66|     79|             86|      81|    68|     52|70.0|83.0|81.0|70.0|74.0|172871|70.0|80.0|83.0|74.0|81.0|70.0|70.0|70.0|69.0|78.0|                CB |70.0|80.0|83.0|74.0|81.0|70.0|70.0|70.0|69.0|78.0|70.0|\n",
            "|367|   S. Jovetić| 27|https://cdn.sofif...| Montenegro|https://cdn.sofif...|     81|       82|           AS Monaco|https://cdn.sofif...|  €21M| €48K|   1977|          75|        50|     80|     69|          88|       80|      72|   85|       85|       80|                72|        9|          7|         5|             9|         10|              74|           30|     70|          64|        82|     26|       80|         80|       76|           80|        82|            30|          78|     68|             32|      72|    78|     79|80.0|49.0|56.0|81.0|73.0|181820|80.0|55.0|49.0|73.0|56.0|81.0|79.0|80.0|80.0|59.0|            CAM ST |80.0|55.0|49.0|73.0|56.0|81.0|79.0|80.0|80.0|59.0|80.0|\n",
            "|313|    M. Sanson| 22|https://cdn.sofif...|     France|https://cdn.sofif...|     81|       87|Olympique de Mars...|https://cdn.sofif...|  €24M| €34K|   2183|          77|        76|     83|     69|          80|       77|      79|   75|       81|       75|                70|        6|         16|        16|             9|          9|              69|           80|     75|          82|        72|     73|       68|         74|       79|           83|        79|            76|          75|     79|           72-5|      76|    80|     70|79.0|75.0|78.0|78.0|80.0|210896|79.0|77.0|75.0|80.0|78.0|78.0|79.0|76.0|78.0|78.0|            CDM CM |79.0|77.0|75.0|80.0|78.0|78.0|79.0|76.0|78.0|78.0|76.0|\n",
            "|341|  Y. Belhanda| 27|https://cdn.sofif...|    Morocco|https://cdn.sofif...|     81|       81|      Galatasaray SK|https://cdn.sofif...|€18.5M| €71K|   2133|          77|        75|     87|     77|          83|       72|      79|   78|       86|       75|                78|       15|         16|        11|             6|         16|              67|           66|     74|          79|        81|     49|       80|         73|       79|           79|        78|            52|          73|     79|             54|      63|    79|     69|80.0|63.0|70.0|79.0|78.0|193738|80.0|68.0|63.0|78.0|70.0|79.0|79.0|76.0|80.0|71.0|            LW CAM |80.0|68.0|63.0|78.0|70.0|79.0|79.0|76.0|80.0|71.0|76.0|\n",
            "|340|A. Yarmolenko| 27|https://cdn.sofif...|    Ukraine|https://cdn.sofif...|     81|       81|   Borussia Dortmund|https://cdn.sofif...|€18.5M| €72K|   2024|          81|        67|     76|     69|          84|       71|      82|   80|       86|       78|                75|        9|          5|         6|             5|         14|              69|           54|     68|          76|        82|     36|       69|         78|       78|           83|        77|            23|          81|     82|             21|      77|    79|     74|81.0|52.0|62.0|81.0|76.0|194794|81.0|59.0|52.0|76.0|62.0|81.0|81.0|79.0|81.0|64.0|             RM RW |81.0|59.0|52.0|76.0|62.0|81.0|81.0|79.0|81.0|64.0|79.0|\n",
            "| 26|     D. Godín| 31|https://cdn.sofif...|    Uruguay|https://cdn.sofif...|     88|       88|     Atlético Madrid|https://cdn.sofif...|  €40M|€125K|   1930|          62|        86|     63|     58|          76|       82|      55|   49|       53|       42|                51|        6|          8|        15|             5|         15|              92|           88|     89|          70|        43|     87|       50|         48|       85|           79|        67|            89|          67|     67|             86|      80|    52|     47|63.0|86.0|80.0|62.0|69.0|182493|63.0|79.0|86.0|69.0|80.0|62.0|63.0|64.0|61.0|76.0|                CB |63.0|79.0|86.0|69.0|80.0|62.0|63.0|64.0|61.0|76.0|64.0|\n",
            "| 95|   A. Laporte| 23|https://cdn.sofif...|     France|https://cdn.sofif...|     84|       89|Athletic Club de ...|https://cdn.sofif...|€35.5M| €36K|   1919|          68|        72|     49|     55|          71|       74|      58|   62|       55|       45|                77|       10|         11|         5|            14|          5|              85|           85|     77|          78|        47|     86|       35|         54|       82|           73|        70|            85|          70|     71|             88|      84|    52|     40|62.0|83.0|79.0|62.0|69.0|212218|62.0|78.0|83.0|69.0|79.0|62.0|64.0|64.0|61.0|75.0|                CB |62.0|78.0|83.0|69.0|79.0|62.0|64.0|64.0|61.0|75.0|64.0|\n",
            "| 11| K. De Bruyne| 26|https://cdn.sofif...|    Belgium|https://cdn.sofif...|     89|       92|     Manchester City|https://cdn.sofif...|  €83M|€285K|   2162|          76|        68|     80|     75|          87|       84|      90|   83|       85|       83|                83|       15|         13|         5|            10|         13|              53|           56|     65|          84|        86|     30|       77|         84|       88|           90|        85|            40|          75|     87|             51|      73|    90|     82|86.0|57.0|70.0|85.0|84.0|192985|86.0|66.0|57.0|84.0|70.0|85.0|85.0|81.0|85.0|71.0|         RM CM CAM |86.0|66.0|57.0|84.0|70.0|85.0|85.0|81.0|85.0|71.0|81.0|\n",
            "|227|  D. Klaassen| 24|https://cdn.sofif...|Netherlands|https://cdn.sofif...|     82|       85|             Everton|https://cdn.sofif...|€27.5M|€110K|   2108|          73|        76|     67|     64|          81|       80|      63|   62|       72|       82|                44|       12|          6|        13|            16|         10|              74|           68|     74|          75|        78|     59|       75|         84|       84|           83|        78|            62|          73|     92|             74|      74|    78|     82|79.0|71.0|75.0|79.0|80.0|203483|79.0|73.0|71.0|80.0|75.0|79.0|78.0|79.0|77.0|73.0|            CAM CM |79.0|73.0|71.0|80.0|75.0|79.0|78.0|79.0|77.0|73.0|79.0|\n",
            "|195|     Quaresma| 33|https://cdn.sofif...|   Portugal|https://cdn.sofif...|     83|       83|         Beşiktaş JK|https://cdn.sofif...|€15.5M| €67K|   1962|          85|        62|     91|     84|          87|       79|      88|   92|       89|       70|                78|       12|         14|        10|             5|         15|              41|           24|     63|          75|        83|     10|       74|         75|       78|           79|        83|            13|          82|     69|             17|      54|    80|     80|81.0|37.0|52.0|80.0|74.0| 20775|81.0|50.0|37.0|74.0|52.0|80.0|81.0|74.0|82.0|57.0|             LM RM |81.0|50.0|37.0|74.0|52.0|80.0|81.0|74.0|82.0|57.0|74.0|\n",
            "|375|  Raúl García| 30|https://cdn.sofif...|      Spain|https://cdn.sofif...|     81|       81|Athletic Club de ...|https://cdn.sofif...|  €17M| €32K|   2124|          54|        84|     65|     63|          84|       83|      77|   72|       74|       73|                68|       14|         16|        14|            16|         15|              88|           65|     73|          85|        80|     54|       76|         85|       86|           87|        84|            63|          60|     59|             71|      82|    82|     55|80.0|73.0|75.0|79.0|80.0|171579|80.0|70.0|73.0|80.0|75.0|79.0|77.0|79.0|77.0|70.0|            RW CAM |80.0|70.0|73.0|80.0|75.0|79.0|77.0|79.0|77.0|70.0|79.0|\n",
            "|358|     Paulinho| 28|https://cdn.sofif...|     Brazil|https://cdn.sofif...|     81|       81|        FC Barcelona|https://cdn.sofif...|€17.5M|€165K|   2168|          76|        69|     70|     64|          81|       79|      64|   66|       77|       72|                72|       16|         16|        11|             6|          8|              80|           78|     88|          76|        76|     77|       71|         75|       81|           81|        79|            73|          76|     92|             78|      69|    75|     75|77.0|77.0|78.0|77.0|79.0|187961|77.0|78.0|77.0|79.0|78.0|77.0|77.0|77.0|76.0|78.0|            CDM CM |77.0|78.0|77.0|79.0|78.0|77.0|77.0|77.0|76.0|78.0|77.0|\n",
            "|261| J. Henderson| 27|https://cdn.sofif...|    England|https://cdn.sofif...|     82|       84|           Liverpool|https://cdn.sofif...|€21.5M|€115K|   2183|          73|        80|     73|     71|          80|       78|      81|   80|       74|       67|                74|        7|         13|         7|             9|         13|              65|           79|     81|          83|        71|     73|       64|         76|       79|           85|        75|            76|          71|     93|             80|      76|    82|     72|78.0|77.0|81.0|76.0|81.0|183711|78.0|79.0|77.0|81.0|81.0|76.0|78.0|74.0|76.0|80.0|            CM CDM |78.0|79.0|77.0|81.0|81.0|76.0|78.0|74.0|76.0|80.0|74.0|\n",
            "| 21| A. Griezmann| 26|https://cdn.sofif...|     France|https://cdn.sofif...|     88|       91|     Atlético Madrid|https://cdn.sofif...|  €75M|€150K|   2104|          87|        69|     90|     80|          86|       86|      82|   84|       87|       88|                75|       14|          8|        14|            13|         14|              80|           35|     87|          75|        82|     23|       71|         91|       90|           79|        81|            11|          86|     76|             22|      61|    76|     87|84.0|48.0|57.0|85.0|76.0|194765|84.0|56.0|48.0|76.0|57.0|85.0|84.0|85.0|86.0|60.0|          LW RW ST |84.0|56.0|48.0|76.0|57.0|85.0|84.0|85.0|86.0|60.0|85.0|\n",
            "|278| D. Sturridge| 27|https://cdn.sofif...|    England|https://cdn.sofif...|     82|       82|           Liverpool|https://cdn.sofif...|€23.5M|€140K|   1882|          74|        60|     75|     64|          81|       81|      62|   62|       80|       83|                68|        7|         15|         9|             5|         13|              73|           22|     72|          62|        80|     15|       75|         84|       82|           74|        83|            12|          78|     68|             24|      71|    74|     75|78.0|44.0|51.0|80.0|70.0|171833|78.0|49.0|44.0|70.0|51.0|80.0|76.0|80.0|78.0|52.0|                ST |78.0|49.0|44.0|70.0|51.0|80.0|76.0|80.0|78.0|52.0|80.0|\n",
            "|288|João Moutinho| 30|https://cdn.sofif...|   Portugal|https://cdn.sofif...|     82|       82|           AS Monaco|https://cdn.sofif...|€20.5M| €48K|   2192|          73|        74|     79|     84|          82|       86|      77|   82|       81|       74|                79|       13|         15|        15|            13|         13|              70|           72|     79|          82|        80|     68|       70|         73|       75|           84|        76|            68|          65|     84|             72|      64|    80|     76|79.0|71.0|76.0|77.0|80.0|162347|79.0|74.0|71.0|80.0|76.0|77.0|78.0|75.0|78.0|75.0|        CAM CDM CM |79.0|74.0|71.0|80.0|76.0|77.0|78.0|75.0|78.0|75.0|75.0|\n",
            "|157|       Parejo| 28|https://cdn.sofif...|      Spain|https://cdn.sofif...|     83|       83|         Valencia CF|https://cdn.sofif...|€25.5M| €45K|   2089|          55|     58-10|     69|     72|          83|       74|      84|   87|     78+3|       75|                90|        5|          9|        12|            14|          8|              63|           68|     55|          87|        80|     59|       83|         79|       79|           90|        80|            51|          50|     76|             61|      72|    85|     72|80.0|65.0|74.0|78.0|82.0|189513|80.0|68.0|65.0|82.0|74.0|78.0|78.0|75.0|77.0|71.0|        CDM CAM CM |80.0|68.0|65.0|82.0|74.0|78.0|78.0|75.0|77.0|71.0|75.0|\n",
            "+---+-------------+---+--------------------+-----------+--------------------+-------+---------+--------------------+--------------------+------+-----+-------+------------+----------+-------+-------+------------+---------+--------+-----+---------+---------+------------------+---------+-----------+----------+--------------+-----------+----------------+-------------+-------+------------+----------+-------+---------+-----------+---------+-------------+----------+--------------+------------+-------+---------------+--------+------+-------+----+----+----+----+----+------+----+----+----+----+----+----+----+----+----+----+-------------------+----+----+----+----+----+----+----+----+----+----+----+\n",
            "only showing top 20 rows\n",
            "\n"
          ]
        }
      ]
    },
    {
      "cell_type": "code",
      "source": [
        "# Transformation (FILTER):\n",
        "data2.select(\"Name\",\"Age\",\"Overall\").filter(data[\"Overall\"]>80).show()"
      ],
      "metadata": {
        "id": "7b94hjJuIDj5",
        "colab": {
          "base_uri": "https://localhost:8080/"
        },
        "outputId": "182c9a9b-ba4e-45b4-bcb8-9cbb8e845816"
      },
      "execution_count": 15,
      "outputs": [
        {
          "output_type": "stream",
          "name": "stdout",
          "text": [
            "+---------------+---+-------+\n",
            "|           Name|Age|Overall|\n",
            "+---------------+---+-------+\n",
            "|      M. Škrtel| 32|     81|\n",
            "|    L. Goretzka| 22|     82|\n",
            "|      De Marcos| 28|     81|\n",
            "|   Rui Patrício| 29|     83|\n",
            "|       Giuliano| 27|     81|\n",
            "|       R. Bürki| 26|     84|\n",
            "|           Saúl| 22|     82|\n",
            "|   C. Marchisio| 31|     85|\n",
            "|    David Villa| 35|     82|\n",
            "|       M. Perin| 24|     83|\n",
            "|  W. Ben Yedder| 26|     81|\n",
            "|   J. Henderson| 27|     82|\n",
            "|      O. Toprak| 27|     83|\n",
            "|     S. N'Zonzi| 28|     83|\n",
            "|    R. Fährmann| 28|     84|\n",
            "|        M. Rojo| 27|     82|\n",
            "|  João Moutinho| 30|     82|\n",
            "|         Iborra| 29|     82|\n",
            "|  Gabriel Jesus| 20|     81|\n",
            "|Mário Fernandes| 26|     81|\n",
            "+---------------+---+-------+\n",
            "only showing top 20 rows\n",
            "\n"
          ]
        }
      ]
    },
    {
      "cell_type": "code",
      "source": [
        " # Transformation (FILTER):\n",
        "data2.where(data2[\"Overall\"]>80).groupBy(\"Age\").count().sort(\"Age\").show()"
      ],
      "metadata": {
        "id": "vvnmUbd1IgKL",
        "colab": {
          "base_uri": "https://localhost:8080/"
        },
        "outputId": "41253452-58bc-40e4-9486-9810d63731b0"
      },
      "execution_count": 19,
      "outputs": [
        {
          "output_type": "stream",
          "name": "stdout",
          "text": [
            "+---+-----+\n",
            "|Age|count|\n",
            "+---+-----+\n",
            "| 18|    2|\n",
            "| 20|    3|\n",
            "| 21|   11|\n",
            "| 22|   16|\n",
            "| 23|   23|\n",
            "| 24|   27|\n",
            "| 25|   34|\n",
            "| 26|   39|\n",
            "| 27|   39|\n",
            "| 28|   43|\n",
            "| 29|   35|\n",
            "| 30|   39|\n",
            "| 31|   26|\n",
            "| 32|   21|\n",
            "| 33|   15|\n",
            "| 34|    8|\n",
            "| 35|    6|\n",
            "| 36|    4|\n",
            "| 39|    1|\n",
            "+---+-----+\n",
            "\n"
          ]
        }
      ]
    },
    {
      "cell_type": "code",
      "source": [
        "# Visualize the results:\n",
        "data2_result = data2.where(data2[\"Overall\"]>80).groupBy(\"Age\").count().sort(\"Age\")\n",
        "pandas_df = data2_result.toPandas()\n",
        "\n",
        "pandas_df.plot(x= \"Age\", y=\"count\",kind =\"bar\")"
      ],
      "metadata": {
        "id": "qyoxZNRDJYJL",
        "colab": {
          "base_uri": "https://localhost:8080/",
          "height": 300
        },
        "outputId": "fbee1520-46cf-4348-ecf6-7d90fc4aa7dc"
      },
      "execution_count": 21,
      "outputs": [
        {
          "output_type": "execute_result",
          "data": {
            "text/plain": [
              "<matplotlib.axes._subplots.AxesSubplot at 0x7f32174b8e10>"
            ]
          },
          "metadata": {},
          "execution_count": 21
        },
        {
          "output_type": "display_data",
          "data": {
            "text/plain": [
              "<Figure size 432x288 with 1 Axes>"
            ],
            "image/png": "[encoded data removed]"
          },
          "metadata": {
            "needs_background": "light"
          }
        }
      ]
    },
    {
      "cell_type": "code",
      "source": [
        "pandas_df.sort_values(by = \"count\", ascending=False).plot(x= \"Age\", y=\"count\",kind =\"bar\")"
      ],
      "metadata": {
        "colab": {
          "base_uri": "https://localhost:8080/",
          "height": 300
        },
        "id": "pd6Wc25THJUj",
        "outputId": "03d7eb87-c6f7-4cb3-f891-3226de6c5c27"
      },
      "execution_count": 22,
      "outputs": [
        {
          "output_type": "execute_result",
          "data": {
            "text/plain": [
              "<matplotlib.axes._subplots.AxesSubplot at 0x7f3216eced10>"
            ]
          },
          "metadata": {},
          "execution_count": 22
        },
        {
          "output_type": "display_data",
          "data": {
            "text/plain": [
              "<Figure size 432x288 with 1 Axes>"
            ],
            "image/png": "[encoded data removed]"
          },
          "metadata": {
            "needs_background": "light"
          }
        }
      ]
    },
    {
      "cell_type": "markdown",
      "source": [
        "# **Part 2: Advanced DF Operations: Spark SQL and UDF**"
      ],
      "metadata": {
        "id": "EGi2zdncaoHo"
      }
    },
    {
      "cell_type": "code",
      "source": [
        "# Spark SQL (Register the DF using a local temporary view):\n",
        "data2.createOrReplaceTempView(\"football\")\n",
        "\n"
      ],
      "metadata": {
        "id": "YhJzLq8XaoCL"
      },
      "execution_count": 23,
      "outputs": []
    },
    {
      "cell_type": "code",
      "source": [
        "# SQL Query:\n",
        "\n",
        "sql_query = \"\"\"SELECT Age, count(*) as Count\n",
        "                FROM football \n",
        "                WHERE Overall > 80\n",
        "                GROUP BY Age\n",
        "                ORDER BY Age\"\"\"\n",
        "\n",
        "result = spark.sql(sql_query)\n",
        "result.show()"
      ],
      "metadata": {
        "id": "bIKu4KMrdt1k",
        "colab": {
          "base_uri": "https://localhost:8080/"
        },
        "outputId": "5896e0ae-66e5-4bd6-f777-3d5c99bb44d0"
      },
      "execution_count": 24,
      "outputs": [
        {
          "output_type": "stream",
          "name": "stdout",
          "text": [
            "+---+-----+\n",
            "|Age|Count|\n",
            "+---+-----+\n",
            "| 18|    2|\n",
            "| 20|    3|\n",
            "| 21|   11|\n",
            "| 22|   16|\n",
            "| 23|   23|\n",
            "| 24|   27|\n",
            "| 25|   34|\n",
            "| 26|   39|\n",
            "| 27|   39|\n",
            "| 28|   43|\n",
            "| 29|   35|\n",
            "| 30|   39|\n",
            "| 31|   26|\n",
            "| 32|   21|\n",
            "| 33|   15|\n",
            "| 34|    8|\n",
            "| 35|    6|\n",
            "| 36|    4|\n",
            "| 39|    1|\n",
            "+---+-----+\n",
            "\n"
          ]
        }
      ]
    },
    {
      "cell_type": "code",
      "source": [
        "# UDF (User Defined Functions):\n",
        "\n",
        "def Upper(record):\n",
        "  if record is not None:\n",
        "    if len(record)>10:\n",
        "      return record.upper()\n",
        "    else:\n",
        "      return record.lower()\n",
        "\n",
        "# register the DF\n",
        "data2.createOrReplaceTempView(\"football\")\n",
        "\n",
        "# register the function\n",
        "spark.udf.register(\"UPPER\", Upper)\n",
        "\n",
        "# Use the UDF in SQL\n",
        "\n",
        "query = \"SELECT Age, UPPER(Name) as Name , UPPER(Club) as Club from football \"\n",
        "result = spark.sql(query)\n",
        "result.show()\n",
        "\n"
      ],
      "metadata": {
        "id": "OgP3auupaaTp",
        "colab": {
          "base_uri": "https://localhost:8080/"
        },
        "outputId": "ec0df8f5-3c55-4cca-f1ad-f4cc341f41b8"
      },
      "execution_count": 27,
      "outputs": [
        {
          "output_type": "stream",
          "name": "stdout",
          "text": [
            "+---+-----------------+--------------------+\n",
            "|Age|             Name|                Club|\n",
            "+---+-----------------+--------------------+\n",
            "| 26|         v. moren|    WAASLAND-BEVEREN|\n",
            "| 33|        c. agoste|UNIVERSIDAD CATÓLICA|\n",
            "| 19|    STEVEN PRIETO|         REAL OVIEDO|\n",
            "| 21|        c. alemán|ESTUDIANTES DE LA...|\n",
            "| 27|       p. wiegers|   SG DYNAMO DRESDEN|\n",
            "| 26|     H. YAMAGUCHI|        CEREZO OSAKA|\n",
            "| 29|    D. MCGOLDRICK|        IPSWICH TOWN|\n",
            "| 24|       r. teibert|VANCOUVER WHITECA...|\n",
            "| 20|          i. radu|            avellino|\n",
            "| 28|   P. ABRAHAMSSON|           bk häcken|\n",
            "| 21|       c. burgess|   SCUNTHORPE UNITED|\n",
            "| 31|            galán|      RAYO VALLECANO|\n",
            "| 25|       r. andrero|      AUDAX ITALIANO|\n",
            "| 31|         m. topal|       FENERBAHÇE SK|\n",
            "| 23|        l. moneta|      LEGIA WARSZAWA|\n",
            "| 21|        t. szántó|       SK RAPID WIEN|\n",
            "| 23|          y. njie|         BOAVISTA FC|\n",
            "| 20|     AARÓN MARTÍN|        RCD ESPANYOL|\n",
            "| 23|K. FRIESENBICHLER|     FK AUSTRIA WIEN|\n",
            "| 20|       a. mayorga|         GUADALAJARA|\n",
            "+---+-----------------+--------------------+\n",
            "only showing top 20 rows\n",
            "\n"
          ]
        }
      ]
    },
    {
      "cell_type": "code",
      "source": [],
      "metadata": {
        "id": "oNLOO7GKK4jM"
      },
      "execution_count": null,
      "outputs": []
    }
  ]
}