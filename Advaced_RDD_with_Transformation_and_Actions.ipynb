{
  "nbformat": 4,
  "nbformat_minor": 0,
  "metadata": {
    "colab": {
      "provenance": [],
      "authorship_tag": "ABX9TyN/WGMBlQT3P4L/tSZZf6m6",
      "include_colab_link": true
    },
    "kernelspec": {
      "name": "python3",
      "display_name": "Python 3"
    },
    "language_info": {
      "name": "python"
    }
  },
  "cells": [
    {
      "cell_type": "markdown",
      "metadata": {
        "id": "view-in-github",
        "colab_type": "text"
      },
      "source": [
        "<a href=\"https://colab.research.google.com/github/pankajsingh09/Hands-on-Big-Data-Practices-with-PySpark-Spark-Tuning/blob/main/Advaced_RDD_with_Transformation_and_Actions.ipynb\" target=\"_parent\"><img src=\"https://colab.research.google.com/assets/colab-badge.svg\" alt=\"Open In Colab\"/></a>"
      ]
    },
    {
      "cell_type": "markdown",
      "source": [
        "Advaced RDD with Transformation and Actions."
      ],
      "metadata": {
        "id": "sYNbIYQUgrP_"
      }
    },
    {
      "cell_type": "code",
      "execution_count": null,
      "metadata": {
        "colab": {
          "base_uri": "https://localhost:8080/"
        },
        "id": "F0Gw5VGAgVfP",
        "outputId": "3b591a62-ffab-4d18-b896-9a21c62430fc"
      },
      "outputs": [
        {
          "output_type": "stream",
          "name": "stdout",
          "text": [
            "Looking in indexes: https://pypi.org/simple, https://us-python.pkg.dev/colab-wheels/public/simple/\n",
            "Collecting pyspark\n",
            "  Downloading pyspark-3.3.1.tar.gz (281.4 MB)\n",
            "\u001b[K     |████████████████████████████████| 281.4 MB 34 kB/s \n",
            "\u001b[?25hCollecting py4j==0.10.9.5\n",
            "  Downloading py4j-0.10.9.5-py2.py3-none-any.whl (199 kB)\n",
            "\u001b[K     |████████████████████████████████| 199 kB 60.5 MB/s \n",
            "\u001b[?25hBuilding wheels for collected packages: pyspark\n",
            "  Building wheel for pyspark (setup.py) ... \u001b[?25l\u001b[?25hdone\n",
            "  Created wheel for pyspark: filename=pyspark-3.3.1-py2.py3-none-any.whl size=281845512 sha256=6cdb93f3bbd6bc89e7b25e5a9b72f3c206fdfe71e8f6e4eb9e386645e314f4b1\n",
            "  Stored in directory: /root/.cache/pip/wheels/42/59/f5/79a5bf931714dcd201b26025347785f087370a10a3329a899c\n",
            "Successfully built pyspark\n",
            "Installing collected packages: py4j, pyspark\n",
            "Successfully installed py4j-0.10.9.5 pyspark-3.3.1\n"
          ]
        }
      ],
      "source": [
        "!pip install pyspark\n",
        "from pyspark import SparkContext, SparkConf\n",
        "conf = SparkConf().setAppName(\"Advance RDD\").setMaster(\"local[*]\")"
      ]
    },
    {
      "cell_type": "code",
      "source": [
        "sc = SparkContext(conf = conf)"
      ],
      "metadata": {
        "id": "xNBuzIcMhE23"
      },
      "execution_count": null,
      "outputs": []
    },
    {
      "cell_type": "code",
      "source": [
        "import random\n",
        "list1 = random.sample(range(1,50),10)\n",
        "list2 = random.sample(range(1,50),10)\n",
        "print(list1)\n",
        "print(list2)"
      ],
      "metadata": {
        "colab": {
          "base_uri": "https://localhost:8080/"
        },
        "id": "GZvUbxMKhLWk",
        "outputId": "a346d2d1-cba8-48da-925f-a837a82ff611"
      },
      "execution_count": null,
      "outputs": [
        {
          "output_type": "stream",
          "name": "stdout",
          "text": [
            "[20, 26, 21, 11, 27, 38, 23, 18, 15, 22]\n",
            "[40, 14, 26, 16, 3, 35, 11, 29, 30, 34]\n"
          ]
        }
      ]
    },
    {
      "cell_type": "code",
      "source": [
        "rdd1 = sc.parallelize(list1,4)\n",
        "rdd2 = sc.parallelize(list2,4)\n",
        "print(rdd1.glom().collect())\n",
        "print(rdd2.glom().collect())"
      ],
      "metadata": {
        "colab": {
          "base_uri": "https://localhost:8080/"
        },
        "id": "WP94w8EdhY_F",
        "outputId": "02f449ab-ecff-48b0-8b10-2d3fe56a9077"
      },
      "execution_count": null,
      "outputs": [
        {
          "output_type": "stream",
          "name": "stdout",
          "text": [
            "[[20, 26], [21, 11], [27, 38], [23, 18, 15, 22]]\n",
            "[[40, 14], [26, 16], [3, 35], [11, 29, 30, 34]]\n"
          ]
        }
      ]
    },
    {
      "cell_type": "code",
      "source": [
        "rdd_union = rdd1.union(rdd2)\n",
        "print(rdd_union.collect())"
      ],
      "metadata": {
        "colab": {
          "base_uri": "https://localhost:8080/"
        },
        "id": "lY7eNugjhez3",
        "outputId": "6717072e-59f9-4058-c649-226bd7c33bb8"
      },
      "execution_count": null,
      "outputs": [
        {
          "output_type": "stream",
          "name": "stdout",
          "text": [
            "[20, 26, 21, 11, 27, 38, 23, 18, 15, 22, 40, 14, 26, 16, 3, 35, 11, 29, 30, 34]\n"
          ]
        }
      ]
    },
    {
      "cell_type": "code",
      "source": [
        "# Intersection\n",
        "rdd_intersection = rdd1.intersection(rdd2)\n",
        "print(rdd_intersection.collect())\n",
        "print(rdd_intersection.glom().collect())\n",
        "print(rdd_intersection.getNumPartitions())"
      ],
      "metadata": {
        "id": "vozG6j8QiOzm",
        "colab": {
          "base_uri": "https://localhost:8080/"
        },
        "outputId": "e1114bcf-a7b2-4fae-a366-29f7d777052f"
      },
      "execution_count": null,
      "outputs": [
        {
          "output_type": "stream",
          "name": "stdout",
          "text": [
            "[26, 11]\n",
            "[[], [], [26], [11], [], [], [], []]\n",
            "8\n"
          ]
        }
      ]
    },
    {
      "cell_type": "code",
      "source": [
        "# Find Empty Partition\n",
        "\n",
        "count = 0\n",
        "for item in rdd_intersection.glom().collect():\n",
        "  if len(item) == 0:\n",
        "    count = count + 1\n",
        "\n",
        "count"
      ],
      "metadata": {
        "colab": {
          "base_uri": "https://localhost:8080/"
        },
        "id": "dAxlk7lRfcuB",
        "outputId": "776bf035-d3a8-437a-99cb-2651b8e50269"
      },
      "execution_count": null,
      "outputs": [
        {
          "output_type": "execute_result",
          "data": {
            "text/plain": [
              "6"
            ]
          },
          "metadata": {},
          "execution_count": 7
        }
      ]
    },
    {
      "cell_type": "code",
      "source": [
        "# Coalesce(numPartition)\n",
        "rdd_intersection.coalesce(1).glom().collect()"
      ],
      "metadata": {
        "colab": {
          "base_uri": "https://localhost:8080/"
        },
        "id": "ihsNGBcEgSbP",
        "outputId": "8968cb5d-01b0-46bc-b25d-4eaaf47c17a6"
      },
      "execution_count": null,
      "outputs": [
        {
          "output_type": "execute_result",
          "data": {
            "text/plain": [
              "[[26, 11]]"
            ]
          },
          "metadata": {},
          "execution_count": 8
        }
      ]
    },
    {
      "cell_type": "code",
      "source": [
        "# takeSample(withReplacement, num, [seed])\n",
        "rdd1.takeSample(False ,5)"
      ],
      "metadata": {
        "id": "AFm-pXlKhAJs",
        "colab": {
          "base_uri": "https://localhost:8080/"
        },
        "outputId": "8aa88e01-0201-4f8d-dda4-3d36f08d566d"
      },
      "execution_count": null,
      "outputs": [
        {
          "output_type": "execute_result",
          "data": {
            "text/plain": [
              "[22, 15, 20, 38, 18]"
            ]
          },
          "metadata": {},
          "execution_count": 9
        }
      ]
    },
    {
      "cell_type": "code",
      "source": [
        "# takeOrder(n, [ordering])\n",
        "print(rdd1.takeOrdered(5))\n",
        "print(rdd1.takeOrdered(5, key = lambda x: -x))"
      ],
      "metadata": {
        "colab": {
          "base_uri": "https://localhost:8080/"
        },
        "id": "Sw-s1nkUeNdv",
        "outputId": "10497d8a-f93f-4bb5-db51-758618a3093c"
      },
      "execution_count": null,
      "outputs": [
        {
          "output_type": "stream",
          "name": "stdout",
          "text": [
            "[11, 15, 18, 20, 21]\n",
            "[38, 27, 26, 23, 22]\n"
          ]
        }
      ]
    },
    {
      "cell_type": "code",
      "source": [
        "# reduce\n",
        "rdd1.reduce(lambda x,y :x*y)"
      ],
      "metadata": {
        "colab": {
          "base_uri": "https://localhost:8080/"
        },
        "id": "FOZJgK36fJqC",
        "outputId": "31539a69-391f-43f1-e897-b28fdce5ca09"
      },
      "execution_count": null,
      "outputs": [
        {
          "output_type": "execute_result",
          "data": {
            "text/plain": [
              "16837475054400"
            ]
          },
          "metadata": {},
          "execution_count": 11
        }
      ]
    },
    {
      "cell_type": "code",
      "source": [
        "# reduceByKey\n",
        "rdd_rbk = sc.parallelize([(1,4),(7,10),(5,7),(1,12),(7,12),(7,1),(9,1),(7,4)], 2)\n",
        "print(rdd_rbk.glom().collect())\n",
        "print(rdd_rbk.reduceByKey(lambda x,y :x+y).collect())\n",
        "\n",
        "# user Friendly visualisation\n",
        "import pandas as pd\n",
        "counter = pd.DataFrame({'key': rdd_rbk.keys().collect(),\n",
        "                        'values':rdd_rbk.values().collect()})\n",
        "print(counter)"
      ],
      "metadata": {
        "colab": {
          "base_uri": "https://localhost:8080/"
        },
        "id": "PycPal0cjaRl",
        "outputId": "4c870eaa-3440-45a9-b069-92c455468c03"
      },
      "execution_count": null,
      "outputs": [
        {
          "output_type": "stream",
          "name": "stdout",
          "text": [
            "[[(1, 4), (7, 10), (5, 7), (1, 12)], [(7, 12), (7, 1), (9, 1), (7, 4)]]\n",
            "[(1, 16), (7, 27), (5, 7), (9, 1)]\n",
            "   key  values\n",
            "0    1       4\n",
            "1    7      10\n",
            "2    5       7\n",
            "3    1      12\n",
            "4    7      12\n",
            "5    7       1\n",
            "6    9       1\n",
            "7    7       4\n"
          ]
        }
      ]
    },
    {
      "cell_type": "code",
      "source": [
        "# sort By Key\n",
        "print(rdd_rbk.reduceByKey(lambda x,y :x+y).sortByKey().collect())\n",
        "#print in reverse order\n",
        "print(rdd_rbk.reduceByKey(lambda x,y :x+y).sortByKey(False).collect())\n"
      ],
      "metadata": {
        "colab": {
          "base_uri": "https://localhost:8080/"
        },
        "id": "_yL8AoAGlLO4",
        "outputId": "3fb529a2-1734-453c-b2a3-a74651f6e4bb"
      },
      "execution_count": null,
      "outputs": [
        {
          "output_type": "stream",
          "name": "stdout",
          "text": [
            "[(1, 16), (5, 7), (7, 27), (9, 1)]\n",
            "[(9, 1), (7, 27), (5, 7), (1, 16)]\n"
          ]
        }
      ]
    },
    {
      "cell_type": "code",
      "source": [
        "# countByKey\n",
        "print(rdd_rbk.countByKey())\n",
        "print(rdd_rbk.countByKey().items())\n",
        "print(sorted(rdd_rbk.countByKey().items()))"
      ],
      "metadata": {
        "colab": {
          "base_uri": "https://localhost:8080/"
        },
        "id": "oRxyR4TgrLYz",
        "outputId": "34a4c5ad-3e54-48ae-c4d0-e2f870b48539"
      },
      "execution_count": null,
      "outputs": [
        {
          "output_type": "stream",
          "name": "stdout",
          "text": [
            "defaultdict(<class 'int'>, {1: 2, 7: 4, 5: 1, 9: 1})\n",
            "dict_items([(1, 2), (7, 4), (5, 1), (9, 1)])\n",
            "[(1, 2), (5, 1), (7, 4), (9, 1)]\n"
          ]
        }
      ]
    },
    {
      "cell_type": "code",
      "source": [
        "# GroupByKey\n",
        "rdd_group = rdd_rbk.groupByKey()\n",
        "print(rdd_group.getNumPartitions())\n",
        "\n",
        "print(rdd_group.collect())\n",
        "\n",
        "for item in rdd_group.collect():\n",
        "  print(item[0], [values for values in item[1] ])"
      ],
      "metadata": {
        "colab": {
          "base_uri": "https://localhost:8080/"
        },
        "id": "DFyiC9XVrtjo",
        "outputId": "d2e9ea73-3895-4c8e-fab6-8414eda4cf64"
      },
      "execution_count": null,
      "outputs": [
        {
          "output_type": "stream",
          "name": "stdout",
          "text": [
            "2\n",
            "[(1, <pyspark.resultiterable.ResultIterable object at 0x7fb55b3cd0d0>), (7, <pyspark.resultiterable.ResultIterable object at 0x7fb55b3cd050>), (5, <pyspark.resultiterable.ResultIterable object at 0x7fb55b3cd190>), (9, <pyspark.resultiterable.ResultIterable object at 0x7fb55b3cd210>)]\n",
            "1 [4, 12]\n",
            "7 [10, 12, 1, 4]\n",
            "5 [7]\n",
            "9 [1]\n"
          ]
        }
      ]
    },
    {
      "cell_type": "code",
      "source": [
        "# lookup(key)\n",
        "rdd_rbk.lookup(7)"
      ],
      "metadata": {
        "colab": {
          "base_uri": "https://localhost:8080/"
        },
        "id": "uexkiAMWuPfB",
        "outputId": "38be377e-8efb-418d-d0dd-751620320639"
      },
      "execution_count": null,
      "outputs": [
        {
          "output_type": "execute_result",
          "data": {
            "text/plain": [
              "[10, 12, 1, 4]"
            ]
          },
          "metadata": {},
          "execution_count": 16
        }
      ]
    },
    {
      "cell_type": "code",
      "source": [
        "# cache:\n",
        "# By default, each transformed RDD may be recomputed each time you run an action on it.\n",
        "# However, you may also persist an RDD in memory using the persist (or cache) method,\n",
        "# in which case Spark will keep the elements around on the cluster for much faster access the next time you query it.\n",
        "\n",
        "rdd_rbk.persist() # OR rdd_Rbk.cache()"
      ],
      "metadata": {
        "colab": {
          "base_uri": "https://localhost:8080/"
        },
        "id": "6yyzvPiwvMEa",
        "outputId": "9fe1672f-56e9-4f54-8425-f375c8a67f32"
      },
      "execution_count": null,
      "outputs": [
        {
          "output_type": "execute_result",
          "data": {
            "text/plain": [
              "ParallelCollectionRDD[22] at readRDDFromFile at PythonRDD.scala:274"
            ]
          },
          "metadata": {},
          "execution_count": 17
        }
      ]
    },
    {
      "cell_type": "code",
      "source": [
        "# Persistence (https://spark.apache.org/docs/latest/rdd-programming-guide.html#rdd-persistence)\n",
        "from pyspark import StorageLevel\n",
        "rdd1.persist(StorageLevel.MEMORY_AND_DISK)"
      ],
      "metadata": {
        "colab": {
          "base_uri": "https://localhost:8080/"
        },
        "id": "_fgwgM5-3uUL",
        "outputId": "cec36fc7-039e-4173-eba3-37dc6308e17d"
      },
      "execution_count": null,
      "outputs": [
        {
          "output_type": "execute_result",
          "data": {
            "text/plain": [
              "ParallelCollectionRDD[0] at readRDDFromFile at PythonRDD.scala:274"
            ]
          },
          "metadata": {},
          "execution_count": 18
        }
      ]
    },
    {
      "cell_type": "code",
      "source": [],
      "metadata": {
        "id": "uHn-yOrr46iz"
      },
      "execution_count": null,
      "outputs": []
    }
  ]
}