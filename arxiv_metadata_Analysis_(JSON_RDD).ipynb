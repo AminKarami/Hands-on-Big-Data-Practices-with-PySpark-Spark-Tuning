{
 "cells": [
  {
   "cell_type": "markdown",
   "metadata": {
    "id": "9nrTNalW81Uo"
   },
   "source": [
    "# **Arxiv metadata Analytics with PySpark RDD: JSON case study**\n",
    "\n",
    "### Udemy Course: Best Hands-on Big Data Practices and Use Cases using PySpark\n",
    "\n",
    "### Author: Amin Karami (PhD, FHEA)\n",
    "#### email: amin.karami@ymail.com"
   ]
  },
  {
   "cell_type": "code",
   "execution_count": 2,
   "metadata": {
    "id": "ghTJybh281Ur"
   },
   "outputs": [
    {
     "name": "stdout",
     "output_type": "stream",
     "text": [
      "Defaulting to user installation because normal site-packages is not writeable\n",
      "Requirement already satisfied: pyspark in /home/pankaj/.local/lib/python3.10/site-packages (3.3.1)\n",
      "Requirement already satisfied: py4j==0.10.9.5 in /home/pankaj/.local/lib/python3.10/site-packages (from pyspark) (0.10.9.5)\n"
     ]
    }
   ],
   "source": [
    "########## ONLY in Colab ##########\n",
    "!pip install pyspark\n",
    "########## ONLY in Colab ##########"
   ]
  },
  {
   "cell_type": "code",
   "execution_count": 3,
   "metadata": {
    "id": "Lv29DcwT81Ut"
   },
   "outputs": [
    {
     "name": "stdout",
     "output_type": "stream",
     "text": [
      "Defaulting to user installation because normal site-packages is not writeable\n",
      "Requirement already satisfied: findspark in /home/pankaj/.local/lib/python3.10/site-packages (2.0.1)\n"
     ]
    }
   ],
   "source": [
    "########## ONLY in Ubuntu Machine ##########\n",
    "# Load Spark engine\n",
    "!pip3 install findspark\n",
    "import findspark\n",
    "findspark.init()\n",
    "########## ONLY in Ubuntu Machine ##########"
   ]
  },
  {
   "cell_type": "code",
   "execution_count": 4,
   "metadata": {
    "id": "06d5GLeN81Ut"
   },
   "outputs": [
    {
     "name": "stderr",
     "output_type": "stream",
     "text": [
      "Setting default log level to \"WARN\".\n",
      "To adjust logging level use sc.setLogLevel(newLevel). For SparkR, use setLogLevel(newLevel).\n"
     ]
    },
    {
     "name": "stdout",
     "output_type": "stream",
     "text": [
      "22/12/02 11:05:24 WARN NativeCodeLoader: Unable to load native-hadoop library for your platform... using builtin-java classes where applicable\n",
      "<SparkContext master=local[*] appName=Archive_RDD>\n"
     ]
    }
   ],
   "source": [
    "# Initializing Spark\n",
    "from pyspark import SparkConf, SparkContext\n",
    "conf = SparkConf().setAppName(\"Archive_RDD\").setMaster(\"local[*]\")\n",
    "spark = SparkContext(conf = conf)\n",
    "print(spark)"
   ]
  },
  {
   "cell_type": "code",
   "execution_count": 5,
   "metadata": {
    "id": "UGorHKN581Uu"
   },
   "outputs": [
    {
     "data": {
      "text/plain": [
       "PythonRDD[2] at RDD at PythonRDD.scala:53"
      ]
     },
     "execution_count": 5,
     "metadata": {},
     "output_type": "execute_result"
    }
   ],
   "source": [
    "# Read and Load Data to Spark\n",
    "# Data source: https://www.kaggle.com/Cornell-University/arxiv/version/62\n",
    "import json\n",
    "\n",
    "rdd_json = spark.textFile(\"archive/arxiv-metadata-oai-snapshot.json\",100)\n",
    "rdd = rdd_json.map(lambda x: json.loads(x))\n",
    "rdd.persist()"
   ]
  },
  {
   "cell_type": "code",
   "execution_count": 6,
   "metadata": {
    "id": "6O_dV30S81Uu"
   },
   "outputs": [
    {
     "name": "stdout",
     "output_type": "stream",
     "text": [
      "4\n",
      "100\n"
     ]
    }
   ],
   "source": [
    "# Check the number of parallelism and partitions:\n",
    "print(spark.defaultParallelism)\n",
    "print(rdd.getNumPartitions())"
   ]
  },
  {
   "cell_type": "markdown",
   "metadata": {
    "id": "uBgW8XMl81Uv"
   },
   "source": [
    "## Question 1: Count elements"
   ]
  },
  {
   "cell_type": "code",
   "execution_count": 7,
   "metadata": {
    "id": "NzJeaegJ81Uw"
   },
   "outputs": [
    {
     "name": "stderr",
     "output_type": "stream",
     "text": [
      "[Stage 0:=============>                                          (24 + 4) / 100]\r"
     ]
    },
    {
     "name": "stdout",
     "output_type": "stream",
     "text": [
      "22/12/02 11:05:41 WARN MemoryStore: Not enough space to cache rdd_2_24 in memory! (computed 10.3 MiB so far)\n",
      "22/12/02 11:05:41 WARN MemoryStore: Not enough space to cache rdd_2_26 in memory! (computed 7.0 MiB so far)\n",
      "22/12/02 11:05:41 WARN MemoryStore: Failed to reserve initial memory threshold of 1024.0 KiB for computing block rdd_2_27 in memory.\n",
      "22/12/02 11:05:41 WARN MemoryStore: Not enough space to cache rdd_2_27 in memory! (computed 0.0 B so far)\n",
      "22/12/02 11:05:41 WARN MemoryStore: Not enough space to cache rdd_2_25 in memory! (computed 10.4 MiB so far)\n",
      "22/12/02 11:05:41 WARN BlockManager: Block rdd_2_24 could not be removed as it was not found on disk or in memory\n",
      "22/12/02 11:05:41 WARN BlockManager: Block rdd_2_25 could not be removed as it was not found on disk or in memory\n",
      "22/12/02 11:05:41 WARN BlockManager: Putting block rdd_2_25 failed\n",
      "22/12/02 11:05:41 WARN BlockManager: Putting block rdd_2_24 failed\n",
      "22/12/02 11:05:41 WARN BlockManager: Block rdd_2_26 could not be removed as it was not found on disk or in memory\n",
      "22/12/02 11:05:41 WARN BlockManager: Putting block rdd_2_26 failed\n",
      "22/12/02 11:05:41 WARN BlockManager: Block rdd_2_27 could not be removed as it was not found on disk or in memory\n",
      "22/12/02 11:05:41 WARN BlockManager: Putting block rdd_2_27 failed\n"
     ]
    },
    {
     "name": "stderr",
     "output_type": "stream",
     "text": [
      "[Stage 0:===============>                                        (27 + 4) / 100]\r"
     ]
    },
    {
     "name": "stdout",
     "output_type": "stream",
     "text": [
      "22/12/02 11:05:43 WARN MemoryStore: Not enough space to cache rdd_2_28 in memory! (computed 10.3 MiB so far)\n",
      "22/12/02 11:05:43 WARN BlockManager: Block rdd_2_28 could not be removed as it was not found on disk or in memory\n",
      "22/12/02 11:05:43 WARN BlockManager: Putting block rdd_2_28 failed\n",
      "22/12/02 11:05:43 WARN MemoryStore: Not enough space to cache rdd_2_30 in memory! (computed 4.2 MiB so far)\n",
      "22/12/02 11:05:43 WARN BlockManager: Block rdd_2_30 could not be removed as it was not found on disk or in memory\n",
      "22/12/02 11:05:43 WARN BlockManager: Putting block rdd_2_30 failed\n",
      "22/12/02 11:05:43 WARN MemoryStore: Not enough space to cache rdd_2_29 in memory! (computed 10.4 MiB so far)\n",
      "22/12/02 11:05:43 WARN BlockManager: Block rdd_2_29 could not be removed as it was not found on disk or in memory\n",
      "22/12/02 11:05:43 WARN BlockManager: Putting block rdd_2_29 failed\n"
     ]
    },
    {
     "name": "stderr",
     "output_type": "stream",
     "text": [
      "[Stage 0:================>                                       (30 + 4) / 100]\r"
     ]
    },
    {
     "name": "stdout",
     "output_type": "stream",
     "text": [
      "22/12/02 11:05:44 WARN MemoryStore: Not enough space to cache rdd_2_31 in memory! (computed 15.9 MiB so far)\n",
      "22/12/02 11:05:44 WARN BlockManager: Block rdd_2_31 could not be removed as it was not found on disk or in memory\n",
      "22/12/02 11:05:44 WARN MemoryStore: Not enough space to cache rdd_2_33 in memory! (computed 4.3 MiB so far)\n",
      "22/12/02 11:05:44 WARN BlockManager: Putting block rdd_2_31 failed\n",
      "22/12/02 11:05:44 WARN BlockManager: Block rdd_2_33 could not be removed as it was not found on disk or in memory\n",
      "22/12/02 11:05:44 WARN BlockManager: Putting block rdd_2_33 failed\n",
      "22/12/02 11:05:44 WARN MemoryStore: Not enough space to cache rdd_2_32 in memory! (computed 7.0 MiB so far)\n",
      "22/12/02 11:05:44 WARN BlockManager: Block rdd_2_32 could not be removed as it was not found on disk or in memory\n",
      "22/12/02 11:05:44 WARN BlockManager: Putting block rdd_2_32 failed\n"
     ]
    },
    {
     "name": "stderr",
     "output_type": "stream",
     "text": [
      "[Stage 0:==================>                                     (33 + 4) / 100]\r"
     ]
    },
    {
     "name": "stdout",
     "output_type": "stream",
     "text": [
      "22/12/02 11:05:45 WARN MemoryStore: Not enough space to cache rdd_2_35 in memory! (computed 7.0 MiB so far)\n",
      "22/12/02 11:05:45 WARN BlockManager: Block rdd_2_35 could not be removed as it was not found on disk or in memory\n",
      "22/12/02 11:05:45 WARN BlockManager: Putting block rdd_2_35 failed\n"
     ]
    },
    {
     "name": "stderr",
     "output_type": "stream",
     "text": [
      "[Stage 0:===================>                                    (34 + 4) / 100]\r"
     ]
    },
    {
     "name": "stdout",
     "output_type": "stream",
     "text": [
      "22/12/02 11:05:46 WARN MemoryStore: Not enough space to cache rdd_2_36 in memory! (computed 4.3 MiB so far)\n",
      "22/12/02 11:05:46 WARN MemoryStore: Not enough space to cache rdd_2_37 in memory! (computed 1666.5 KiB so far)\n",
      "22/12/02 11:05:46 WARN BlockManager: Block rdd_2_36 could not be removed as it was not found on disk or in memory\n",
      "22/12/02 11:05:46 WARN BlockManager: Putting block rdd_2_36 failed\n",
      "22/12/02 11:05:46 WARN BlockManager: Block rdd_2_37 could not be removed as it was not found on disk or in memory\n",
      "22/12/02 11:05:46 WARN BlockManager: Putting block rdd_2_37 failed\n",
      "22/12/02 11:05:46 WARN MemoryStore: Not enough space to cache rdd_2_34 in memory! (computed 16.1 MiB so far)\n",
      "22/12/02 11:05:46 WARN BlockManager: Block rdd_2_34 could not be removed as it was not found on disk or in memory\n",
      "22/12/02 11:05:46 WARN BlockManager: Putting block rdd_2_34 failed\n"
     ]
    },
    {
     "name": "stderr",
     "output_type": "stream",
     "text": [
      "[Stage 0:=====================>                                  (38 + 4) / 100]\r"
     ]
    },
    {
     "name": "stdout",
     "output_type": "stream",
     "text": [
      "22/12/02 11:05:47 WARN MemoryStore: Not enough space to cache rdd_2_39 in memory! (computed 10.7 MiB so far)\n",
      "22/12/02 11:05:47 WARN BlockManager: Block rdd_2_39 could not be removed as it was not found on disk or in memory\n",
      "22/12/02 11:05:47 WARN BlockManager: Putting block rdd_2_39 failed\n",
      "22/12/02 11:05:47 WARN MemoryStore: Not enough space to cache rdd_2_38 in memory! (computed 7.0 MiB so far)\n",
      "22/12/02 11:05:47 WARN BlockManager: Block rdd_2_38 could not be removed as it was not found on disk or in memory\n",
      "22/12/02 11:05:47 WARN BlockManager: Putting block rdd_2_38 failed\n",
      "22/12/02 11:05:47 WARN MemoryStore: Not enough space to cache rdd_2_41 in memory! (computed 2.5 MiB so far)\n",
      "22/12/02 11:05:47 WARN MemoryStore: Not enough space to cache rdd_2_40 in memory! (computed 7.0 MiB so far)\n",
      "22/12/02 11:05:47 WARN BlockManager: Block rdd_2_40 could not be removed as it was not found on disk or in memory\n",
      "22/12/02 11:05:47 WARN BlockManager: Putting block rdd_2_40 failed\n",
      "22/12/02 11:05:47 WARN BlockManager: Block rdd_2_41 could not be removed as it was not found on disk or in memory\n",
      "22/12/02 11:05:47 WARN BlockManager: Putting block rdd_2_41 failed\n"
     ]
    },
    {
     "name": "stderr",
     "output_type": "stream",
     "text": [
      "[Stage 0:=======================>                                (42 + 4) / 100]\r"
     ]
    },
    {
     "name": "stdout",
     "output_type": "stream",
     "text": [
      "22/12/02 11:05:49 WARN MemoryStore: Not enough space to cache rdd_2_42 in memory! (computed 7.1 MiB so far)\n",
      "22/12/02 11:05:49 WARN BlockManager: Block rdd_2_42 could not be removed as it was not found on disk or in memory\n",
      "22/12/02 11:05:49 WARN BlockManager: Putting block rdd_2_42 failed\n",
      "22/12/02 11:05:49 WARN MemoryStore: Not enough space to cache rdd_2_44 in memory! (computed 7.2 MiB so far)\n",
      "22/12/02 11:05:49 WARN BlockManager: Block rdd_2_44 could not be removed as it was not found on disk or in memory\n",
      "22/12/02 11:05:49 WARN BlockManager: Putting block rdd_2_44 failed\n",
      "22/12/02 11:05:49 WARN MemoryStore: Not enough space to cache rdd_2_43 in memory! (computed 10.8 MiB so far)\n",
      "22/12/02 11:05:49 WARN BlockManager: Block rdd_2_43 could not be removed as it was not found on disk or in memory\n",
      "22/12/02 11:05:49 WARN BlockManager: Putting block rdd_2_43 failed\n",
      "22/12/02 11:05:49 WARN MemoryStore: Not enough space to cache rdd_2_45 in memory! (computed 2.6 MiB so far)\n",
      "22/12/02 11:05:49 WARN BlockManager: Block rdd_2_45 could not be removed as it was not found on disk or in memory\n",
      "22/12/02 11:05:49 WARN BlockManager: Putting block rdd_2_45 failed\n"
     ]
    },
    {
     "name": "stderr",
     "output_type": "stream",
     "text": [
      "[Stage 0:=========================>                              (46 + 4) / 100]\r"
     ]
    },
    {
     "name": "stdout",
     "output_type": "stream",
     "text": [
      "22/12/02 11:05:50 WARN MemoryStore: Not enough space to cache rdd_2_46 in memory! (computed 7.1 MiB so far)\n",
      "22/12/02 11:05:50 WARN BlockManager: Block rdd_2_46 could not be removed as it was not found on disk or in memory\n",
      "22/12/02 11:05:50 WARN BlockManager: Putting block rdd_2_46 failed\n",
      "22/12/02 11:05:50 WARN MemoryStore: Not enough space to cache rdd_2_48 in memory! (computed 7.2 MiB so far)\n",
      "22/12/02 11:05:50 WARN BlockManager: Block rdd_2_48 could not be removed as it was not found on disk or in memory\n",
      "22/12/02 11:05:50 WARN BlockManager: Putting block rdd_2_48 failed\n",
      "22/12/02 11:05:50 WARN MemoryStore: Not enough space to cache rdd_2_47 in memory! (computed 7.2 MiB so far)\n",
      "22/12/02 11:05:50 WARN BlockManager: Block rdd_2_47 could not be removed as it was not found on disk or in memory\n",
      "22/12/02 11:05:50 WARN BlockManager: Putting block rdd_2_47 failed\n"
     ]
    },
    {
     "name": "stderr",
     "output_type": "stream",
     "text": [
      "[Stage 0:===========================>                            (49 + 4) / 100]\r"
     ]
    },
    {
     "name": "stdout",
     "output_type": "stream",
     "text": [
      "22/12/02 11:05:51 WARN MemoryStore: Not enough space to cache rdd_2_49 in memory! (computed 16.7 MiB so far)\n",
      "22/12/02 11:05:51 WARN BlockManager: Block rdd_2_49 could not be removed as it was not found on disk or in memory\n",
      "22/12/02 11:05:51 WARN BlockManager: Putting block rdd_2_49 failed\n",
      "22/12/02 11:05:51 WARN MemoryStore: Not enough space to cache rdd_2_50 in memory! (computed 4.4 MiB so far)\n",
      "22/12/02 11:05:51 WARN BlockManager: Block rdd_2_50 could not be removed as it was not found on disk or in memory\n",
      "22/12/02 11:05:51 WARN BlockManager: Putting block rdd_2_50 failed\n",
      "22/12/02 11:05:51 WARN MemoryStore: Not enough space to cache rdd_2_51 in memory! (computed 4.4 MiB so far)\n",
      "22/12/02 11:05:51 WARN BlockManager: Block rdd_2_51 could not be removed as it was not found on disk or in memory\n",
      "22/12/02 11:05:51 WARN BlockManager: Putting block rdd_2_51 failed\n"
     ]
    },
    {
     "name": "stderr",
     "output_type": "stream",
     "text": [
      "[Stage 0:=============================>                          (52 + 4) / 100]\r"
     ]
    },
    {
     "name": "stdout",
     "output_type": "stream",
     "text": [
      "22/12/02 11:05:52 WARN MemoryStore: Not enough space to cache rdd_2_53 in memory! (computed 7.3 MiB so far)\n",
      "22/12/02 11:05:52 WARN BlockManager: Block rdd_2_53 could not be removed as it was not found on disk or in memory\n",
      "22/12/02 11:05:52 WARN BlockManager: Putting block rdd_2_53 failed\n",
      "22/12/02 11:05:52 WARN MemoryStore: Not enough space to cache rdd_2_52 in memory! (computed 16.6 MiB so far)\n",
      "22/12/02 11:05:52 WARN BlockManager: Block rdd_2_52 could not be removed as it was not found on disk or in memory\n",
      "22/12/02 11:05:52 WARN BlockManager: Putting block rdd_2_52 failed\n"
     ]
    },
    {
     "name": "stderr",
     "output_type": "stream",
     "text": [
      "[Stage 0:=============================>                          (53 + 4) / 100]\r"
     ]
    },
    {
     "name": "stdout",
     "output_type": "stream",
     "text": [
      "22/12/02 11:05:53 WARN MemoryStore: Not enough space to cache rdd_2_54 in memory! (computed 11.1 MiB so far)\n",
      "22/12/02 11:05:53 WARN BlockManager: Block rdd_2_54 could not be removed as it was not found on disk or in memory\n",
      "22/12/02 11:05:53 WARN BlockManager: Putting block rdd_2_54 failed\n"
     ]
    },
    {
     "name": "stderr",
     "output_type": "stream",
     "text": [
      "[Stage 0:==============================>                         (54 + 4) / 100]\r"
     ]
    },
    {
     "name": "stdout",
     "output_type": "stream",
     "text": [
      "22/12/02 11:05:54 WARN MemoryStore: Not enough space to cache rdd_2_56 in memory! (computed 4.5 MiB so far)\n",
      "22/12/02 11:05:54 WARN BlockManager: Block rdd_2_56 could not be removed as it was not found on disk or in memory\n",
      "22/12/02 11:05:54 WARN BlockManager: Putting block rdd_2_56 failed\n",
      "22/12/02 11:05:54 WARN MemoryStore: Not enough space to cache rdd_2_57 in memory! (computed 4.5 MiB so far)\n",
      "22/12/02 11:05:54 WARN BlockManager: Block rdd_2_57 could not be removed as it was not found on disk or in memory\n",
      "22/12/02 11:05:54 WARN BlockManager: Putting block rdd_2_57 failed\n"
     ]
    },
    {
     "name": "stderr",
     "output_type": "stream",
     "text": [
      "[Stage 0:===============================>                        (56 + 4) / 100]\r"
     ]
    },
    {
     "name": "stdout",
     "output_type": "stream",
     "text": [
      "22/12/02 11:05:54 WARN MemoryStore: Not enough space to cache rdd_2_58 in memory! (computed 7.4 MiB so far)\n",
      "22/12/02 11:05:54 WARN BlockManager: Block rdd_2_58 could not be removed as it was not found on disk or in memory\n",
      "22/12/02 11:05:54 WARN BlockManager: Putting block rdd_2_58 failed\n",
      "22/12/02 11:05:55 WARN MemoryStore: Not enough space to cache rdd_2_59 in memory! (computed 2.6 MiB so far)\n",
      "22/12/02 11:05:55 WARN BlockManager: Block rdd_2_59 could not be removed as it was not found on disk or in memory\n",
      "22/12/02 11:05:55 WARN BlockManager: Putting block rdd_2_59 failed\n",
      "22/12/02 11:05:55 WARN MemoryStore: Failed to reserve initial memory threshold of 1024.0 KiB for computing block rdd_2_60 in memory.\n"
     ]
    },
    {
     "name": "stderr",
     "output_type": "stream",
     "text": [
      "[Stage 0:================================>                       (58 + 4) / 100]\r"
     ]
    },
    {
     "name": "stdout",
     "output_type": "stream",
     "text": [
      "22/12/02 11:05:55 WARN MemoryStore: Not enough space to cache rdd_2_60 in memory! (computed 0.0 B so far)\n",
      "22/12/02 11:05:55 WARN BlockManager: Block rdd_2_60 could not be removed as it was not found on disk or in memory\n",
      "22/12/02 11:05:55 WARN BlockManager: Putting block rdd_2_60 failed\n"
     ]
    },
    {
     "name": "stderr",
     "output_type": "stream",
     "text": [
      "[Stage 0:=================================>                      (59 + 4) / 100]\r"
     ]
    },
    {
     "name": "stdout",
     "output_type": "stream",
     "text": [
      "22/12/02 11:05:55 WARN MemoryStore: Not enough space to cache rdd_2_62 in memory! (computed 2.6 MiB so far)\n",
      "22/12/02 11:05:56 WARN BlockManager: Block rdd_2_62 could not be removed as it was not found on disk or in memory\n",
      "22/12/02 11:05:56 WARN BlockManager: Putting block rdd_2_62 failed\n",
      "22/12/02 11:05:56 WARN MemoryStore: Failed to reserve initial memory threshold of 1024.0 KiB for computing block rdd_2_63 in memory.\n",
      "22/12/02 11:05:56 WARN MemoryStore: Not enough space to cache rdd_2_63 in memory! (computed 0.0 B so far)\n",
      "22/12/02 11:05:56 WARN BlockManager: Block rdd_2_63 could not be removed as it was not found on disk or in memory\n",
      "22/12/02 11:05:56 WARN BlockManager: Putting block rdd_2_63 failed\n"
     ]
    },
    {
     "name": "stderr",
     "output_type": "stream",
     "text": [
      "[Stage 0:=================================>                      (60 + 4) / 100]\r"
     ]
    },
    {
     "name": "stdout",
     "output_type": "stream",
     "text": [
      "22/12/02 11:05:56 WARN MemoryStore: Not enough space to cache rdd_2_61 in memory! (computed 7.3 MiB so far)\n",
      "22/12/02 11:05:56 WARN BlockManager: Block rdd_2_61 could not be removed as it was not found on disk or in memory\n",
      "22/12/02 11:05:56 WARN BlockManager: Putting block rdd_2_61 failed\n"
     ]
    },
    {
     "name": "stderr",
     "output_type": "stream",
     "text": [
      "[Stage 0:===================================>                    (63 + 4) / 100]\r"
     ]
    },
    {
     "name": "stdout",
     "output_type": "stream",
     "text": [
      "22/12/02 11:05:57 WARN MemoryStore: Not enough space to cache rdd_2_64 in memory! (computed 4.5 MiB so far)\n",
      "22/12/02 11:05:57 WARN BlockManager: Block rdd_2_64 could not be removed as it was not found on disk or in memory\n",
      "22/12/02 11:05:57 WARN BlockManager: Putting block rdd_2_64 failed\n",
      "22/12/02 11:05:57 WARN MemoryStore: Not enough space to cache rdd_2_65 in memory! (computed 4.5 MiB so far)\n",
      "22/12/02 11:05:57 WARN BlockManager: Block rdd_2_65 could not be removed as it was not found on disk or in memory\n",
      "22/12/02 11:05:57 WARN BlockManager: Putting block rdd_2_65 failed\n",
      "22/12/02 11:05:57 WARN MemoryStore: Not enough space to cache rdd_2_66 in memory! (computed 4.6 MiB so far)\n",
      "22/12/02 11:05:57 WARN BlockManager: Block rdd_2_66 could not be removed as it was not found on disk or in memory\n",
      "22/12/02 11:05:57 WARN BlockManager: Putting block rdd_2_66 failed\n"
     ]
    },
    {
     "name": "stderr",
     "output_type": "stream",
     "text": [
      "[Stage 0:====================================>                   (65 + 4) / 100]\r"
     ]
    },
    {
     "name": "stdout",
     "output_type": "stream",
     "text": [
      "22/12/02 11:05:58 WARN MemoryStore: Not enough space to cache rdd_2_68 in memory! (computed 1760.6 KiB so far)\n",
      "22/12/02 11:05:58 WARN BlockManager: Block rdd_2_68 could not be removed as it was not found on disk or in memory\n",
      "22/12/02 11:05:58 WARN BlockManager: Putting block rdd_2_68 failed\n",
      "22/12/02 11:05:58 WARN MemoryStore: Not enough space to cache rdd_2_69 in memory! (computed 1683.8 KiB so far)\n",
      "22/12/02 11:05:58 WARN BlockManager: Block rdd_2_69 could not be removed as it was not found on disk or in memory\n",
      "22/12/02 11:05:58 WARN BlockManager: Putting block rdd_2_69 failed\n",
      "22/12/02 11:05:58 WARN MemoryStore: Failed to reserve initial memory threshold of 1024.0 KiB for computing block rdd_2_70 in memory.\n",
      "22/12/02 11:05:58 WARN MemoryStore: Not enough space to cache rdd_2_67 in memory! (computed 7.5 MiB so far)\n",
      "22/12/02 11:05:58 WARN BlockManager: Block rdd_2_67 could not be removed as it was not found on disk or in memory\n",
      "22/12/02 11:05:58 WARN BlockManager: Putting block rdd_2_67 failed\n"
     ]
    },
    {
     "name": "stderr",
     "output_type": "stream",
     "text": [
      "[Stage 0:=====================================>                  (67 + 4) / 100]\r"
     ]
    },
    {
     "name": "stdout",
     "output_type": "stream",
     "text": [
      "22/12/02 11:05:58 WARN MemoryStore: Not enough space to cache rdd_2_70 in memory! (computed 0.0 B so far)\n",
      "22/12/02 11:05:58 WARN BlockManager: Block rdd_2_70 could not be removed as it was not found on disk or in memory\n",
      "22/12/02 11:05:58 WARN BlockManager: Putting block rdd_2_70 failed\n"
     ]
    },
    {
     "name": "stderr",
     "output_type": "stream",
     "text": [
      "[Stage 0:=======================================>                (70 + 4) / 100]\r"
     ]
    },
    {
     "name": "stdout",
     "output_type": "stream",
     "text": [
      "22/12/02 11:05:59 WARN MemoryStore: Not enough space to cache rdd_2_73 in memory! (computed 1723.8 KiB so far)\n",
      "22/12/02 11:05:59 WARN BlockManager: Block rdd_2_73 could not be removed as it was not found on disk or in memory\n",
      "22/12/02 11:05:59 WARN BlockManager: Putting block rdd_2_73 failed\n",
      "22/12/02 11:05:59 WARN MemoryStore: Not enough space to cache rdd_2_72 in memory! (computed 1752.7 KiB so far)\n",
      "22/12/02 11:05:59 WARN MemoryStore: Not enough space to cache rdd_2_71 in memory! (computed 7.8 MiB so far)\n",
      "22/12/02 11:05:59 WARN BlockManager: Block rdd_2_72 could not be removed as it was not found on disk or in memory\n",
      "22/12/02 11:05:59 WARN BlockManager: Putting block rdd_2_72 failed\n",
      "22/12/02 11:05:59 WARN BlockManager: Block rdd_2_71 could not be removed as it was not found on disk or in memory\n",
      "22/12/02 11:05:59 WARN BlockManager: Putting block rdd_2_71 failed\n"
     ]
    },
    {
     "name": "stderr",
     "output_type": "stream",
     "text": [
      "[Stage 0:=========================================>              (74 + 4) / 100]\r"
     ]
    },
    {
     "name": "stdout",
     "output_type": "stream",
     "text": [
      "22/12/02 11:06:00 WARN MemoryStore: Not enough space to cache rdd_2_75 in memory! (computed 2.7 MiB so far)\n",
      "22/12/02 11:06:00 WARN BlockManager: Block rdd_2_75 could not be removed as it was not found on disk or in memory\n",
      "22/12/02 11:06:00 WARN BlockManager: Putting block rdd_2_75 failed\n",
      "22/12/02 11:06:00 WARN MemoryStore: Failed to reserve initial memory threshold of 1024.0 KiB for computing block rdd_2_76 in memory.\n",
      "22/12/02 11:06:00 WARN MemoryStore: Not enough space to cache rdd_2_76 in memory! (computed 0.0 B so far)\n",
      "22/12/02 11:06:00 WARN BlockManager: Block rdd_2_76 could not be removed as it was not found on disk or in memory\n",
      "22/12/02 11:06:00 WARN BlockManager: Putting block rdd_2_76 failed\n",
      "22/12/02 11:06:00 WARN MemoryStore: Failed to reserve initial memory threshold of 1024.0 KiB for computing block rdd_2_77 in memory.\n",
      "22/12/02 11:06:00 WARN MemoryStore: Not enough space to cache rdd_2_74 in memory! (computed 7.5 MiB so far)\n",
      "22/12/02 11:06:00 WARN BlockManager: Block rdd_2_74 could not be removed as it was not found on disk or in memory\n",
      "22/12/02 11:06:00 WARN BlockManager: Putting block rdd_2_74 failed\n",
      "22/12/02 11:06:01 WARN MemoryStore: Not enough space to cache rdd_2_77 in memory! (computed 0.0 B so far)\n",
      "22/12/02 11:06:01 WARN BlockManager: Block rdd_2_77 could not be removed as it was not found on disk or in memory\n",
      "22/12/02 11:06:01 WARN BlockManager: Putting block rdd_2_77 failed\n"
     ]
    },
    {
     "name": "stderr",
     "output_type": "stream",
     "text": [
      "[Stage 0:===========================================>            (77 + 4) / 100]\r"
     ]
    },
    {
     "name": "stdout",
     "output_type": "stream",
     "text": [
      "22/12/02 11:06:02 WARN MemoryStore: Not enough space to cache rdd_2_80 in memory! (computed 2.6 MiB so far)\n",
      "22/12/02 11:06:02 WARN BlockManager: Block rdd_2_80 could not be removed as it was not found on disk or in memory\n",
      "22/12/02 11:06:02 WARN BlockManager: Putting block rdd_2_80 failed\n",
      "22/12/02 11:06:02 WARN MemoryStore: Failed to reserve initial memory threshold of 1024.0 KiB for computing block rdd_2_81 in memory.\n",
      "22/12/02 11:06:02 WARN MemoryStore: Not enough space to cache rdd_2_81 in memory! (computed 0.0 B so far)\n",
      "22/12/02 11:06:02 WARN BlockManager: Block rdd_2_81 could not be removed as it was not found on disk or in memory\n",
      "22/12/02 11:06:02 WARN BlockManager: Putting block rdd_2_81 failed\n",
      "22/12/02 11:06:02 WARN MemoryStore: Not enough space to cache rdd_2_78 in memory! (computed 2.7 MiB so far)\n",
      "22/12/02 11:06:02 WARN BlockManager: Block rdd_2_78 could not be removed as it was not found on disk or in memory\n",
      "22/12/02 11:06:02 WARN BlockManager: Putting block rdd_2_78 failed\n",
      "22/12/02 11:06:02 WARN MemoryStore: Not enough space to cache rdd_2_79 in memory! (computed 4.6 MiB so far)\n"
     ]
    },
    {
     "name": "stderr",
     "output_type": "stream",
     "text": [
      "[Stage 0:===========================================>            (78 + 4) / 100]\r"
     ]
    },
    {
     "name": "stdout",
     "output_type": "stream",
     "text": [
      "22/12/02 11:06:02 WARN BlockManager: Block rdd_2_79 could not be removed as it was not found on disk or in memory\n",
      "22/12/02 11:06:02 WARN BlockManager: Putting block rdd_2_79 failed\n"
     ]
    },
    {
     "name": "stderr",
     "output_type": "stream",
     "text": [
      "[Stage 0:=============================================>          (81 + 4) / 100]\r"
     ]
    },
    {
     "name": "stdout",
     "output_type": "stream",
     "text": [
      "22/12/02 11:06:03 WARN MemoryStore: Not enough space to cache rdd_2_83 in memory! (computed 2.6 MiB so far)\n",
      "22/12/02 11:06:03 WARN BlockManager: Block rdd_2_83 could not be removed as it was not found on disk or in memory\n",
      "22/12/02 11:06:03 WARN BlockManager: Putting block rdd_2_83 failed\n",
      "22/12/02 11:06:03 WARN MemoryStore: Failed to reserve initial memory threshold of 1024.0 KiB for computing block rdd_2_85 in memory.\n",
      "22/12/02 11:06:03 WARN MemoryStore: Not enough space to cache rdd_2_84 in memory! (computed 4.7 MiB so far)\n",
      "22/12/02 11:06:03 WARN BlockManager: Block rdd_2_84 could not be removed as it was not found on disk or in memory\n",
      "22/12/02 11:06:03 WARN BlockManager: Putting block rdd_2_84 failed\n",
      "22/12/02 11:06:03 WARN MemoryStore: Not enough space to cache rdd_2_85 in memory! (computed 0.0 B so far)\n",
      "22/12/02 11:06:03 WARN BlockManager: Block rdd_2_85 could not be removed as it was not found on disk or in memory\n",
      "22/12/02 11:06:03 WARN BlockManager: Putting block rdd_2_85 failed\n"
     ]
    },
    {
     "name": "stderr",
     "output_type": "stream",
     "text": [
      "[Stage 0:=============================================>          (82 + 4) / 100]\r"
     ]
    },
    {
     "name": "stdout",
     "output_type": "stream",
     "text": [
      "22/12/02 11:06:04 WARN MemoryStore: Not enough space to cache rdd_2_82 in memory! (computed 7.3 MiB so far)\n",
      "22/12/02 11:06:04 WARN BlockManager: Block rdd_2_82 could not be removed as it was not found on disk or in memory\n",
      "22/12/02 11:06:04 WARN BlockManager: Putting block rdd_2_82 failed\n"
     ]
    },
    {
     "name": "stderr",
     "output_type": "stream",
     "text": [
      "[Stage 0:===============================================>        (84 + 4) / 100]\r"
     ]
    },
    {
     "name": "stdout",
     "output_type": "stream",
     "text": [
      "22/12/02 11:06:05 WARN MemoryStore: Failed to reserve initial memory threshold of 1024.0 KiB for computing block rdd_2_89 in memory.\n",
      "22/12/02 11:06:05 WARN MemoryStore: Failed to reserve initial memory threshold of 1024.0 KiB for computing block rdd_2_88 in memory.\n",
      "22/12/02 11:06:05 WARN MemoryStore: Not enough space to cache rdd_2_86 in memory! (computed 7.3 MiB so far)\n",
      "22/12/02 11:06:05 WARN BlockManager: Block rdd_2_86 could not be removed as it was not found on disk or in memory\n",
      "22/12/02 11:06:05 WARN BlockManager: Putting block rdd_2_86 failed\n",
      "22/12/02 11:06:05 WARN MemoryStore: Not enough space to cache rdd_2_89 in memory! (computed 0.0 B so far)\n",
      "22/12/02 11:06:05 WARN BlockManager: Block rdd_2_89 could not be removed as it was not found on disk or in memory\n",
      "22/12/02 11:06:05 WARN BlockManager: Putting block rdd_2_89 failed\n",
      "22/12/02 11:06:05 WARN MemoryStore: Not enough space to cache rdd_2_87 in memory! (computed 3.4 MiB so far)\n",
      "22/12/02 11:06:05 WARN BlockManager: Block rdd_2_87 could not be removed as it was not found on disk or in memory\n",
      "22/12/02 11:06:05 WARN BlockManager: Putting block rdd_2_87 failed\n"
     ]
    },
    {
     "name": "stderr",
     "output_type": "stream",
     "text": [
      "[Stage 0:================================================>       (86 + 4) / 100]\r"
     ]
    },
    {
     "name": "stdout",
     "output_type": "stream",
     "text": [
      "22/12/02 11:06:05 WARN MemoryStore: Not enough space to cache rdd_2_88 in memory! (computed 0.0 B so far)\n",
      "22/12/02 11:06:05 WARN BlockManager: Block rdd_2_88 could not be removed as it was not found on disk or in memory\n",
      "22/12/02 11:06:05 WARN BlockManager: Putting block rdd_2_88 failed\n"
     ]
    },
    {
     "name": "stderr",
     "output_type": "stream",
     "text": [
      "[Stage 0:=================================================>      (88 + 4) / 100]\r"
     ]
    },
    {
     "name": "stdout",
     "output_type": "stream",
     "text": [
      "22/12/02 11:06:06 WARN MemoryStore: Not enough space to cache rdd_2_90 in memory! (computed 5.6 MiB so far)\n",
      "22/12/02 11:06:06 WARN BlockManager: Block rdd_2_90 could not be removed as it was not found on disk or in memory\n",
      "22/12/02 11:06:06 WARN BlockManager: Putting block rdd_2_90 failed\n",
      "22/12/02 11:06:06 WARN MemoryStore: Not enough space to cache rdd_2_91 in memory! (computed 3.2 MiB so far)\n",
      "22/12/02 11:06:06 WARN BlockManager: Block rdd_2_91 could not be removed as it was not found on disk or in memory\n",
      "22/12/02 11:06:06 WARN BlockManager: Putting block rdd_2_91 failed\n",
      "22/12/02 11:06:06 WARN MemoryStore: Not enough space to cache rdd_2_92 in memory! (computed 1231.7 KiB so far)\n",
      "22/12/02 11:06:06 WARN BlockManager: Block rdd_2_92 could not be removed as it was not found on disk or in memory\n",
      "22/12/02 11:06:06 WARN BlockManager: Putting block rdd_2_92 failed\n"
     ]
    },
    {
     "name": "stderr",
     "output_type": "stream",
     "text": [
      "[Stage 0:==================================================>     (90 + 4) / 100]\r"
     ]
    },
    {
     "name": "stdout",
     "output_type": "stream",
     "text": [
      "22/12/02 11:06:06 WARN MemoryStore: Not enough space to cache rdd_2_93 in memory! (computed 1747.1 KiB so far)\n",
      "22/12/02 11:06:06 WARN BlockManager: Block rdd_2_93 could not be removed as it was not found on disk or in memory\n",
      "22/12/02 11:06:06 WARN BlockManager: Putting block rdd_2_93 failed\n"
     ]
    },
    {
     "name": "stderr",
     "output_type": "stream",
     "text": [
      "[Stage 0:====================================================>   (93 + 4) / 100]\r"
     ]
    },
    {
     "name": "stdout",
     "output_type": "stream",
     "text": [
      "22/12/02 11:06:08 WARN MemoryStore: Not enough space to cache rdd_2_95 in memory! (computed 2.9 MiB so far)\n",
      "22/12/02 11:06:08 WARN BlockManager: Block rdd_2_95 could not be removed as it was not found on disk or in memory\n",
      "22/12/02 11:06:08 WARN BlockManager: Putting block rdd_2_95 failed\n",
      "22/12/02 11:06:08 WARN MemoryStore: Not enough space to cache rdd_2_94 in memory! (computed 5.2 MiB so far)\n",
      "22/12/02 11:06:08 WARN BlockManager: Block rdd_2_94 could not be removed as it was not found on disk or in memory\n",
      "22/12/02 11:06:08 WARN BlockManager: Putting block rdd_2_94 failed\n",
      "22/12/02 11:06:08 WARN MemoryStore: Not enough space to cache rdd_2_96 in memory! (computed 2.5 MiB so far)\n",
      "22/12/02 11:06:08 WARN BlockManager: Block rdd_2_96 could not be removed as it was not found on disk or in memory\n",
      "22/12/02 11:06:08 WARN BlockManager: Putting block rdd_2_96 failed\n"
     ]
    },
    {
     "name": "stderr",
     "output_type": "stream",
     "text": [
      "[Stage 0:=====================================================>  (96 + 4) / 100]\r"
     ]
    },
    {
     "name": "stdout",
     "output_type": "stream",
     "text": [
      "22/12/02 11:06:09 WARN MemoryStore: Failed to reserve initial memory threshold of 1024.0 KiB for computing block rdd_2_99 in memory.\n",
      "22/12/02 11:06:09 WARN MemoryStore: Not enough space to cache rdd_2_99 in memory! (computed 0.0 B so far)\n",
      "22/12/02 11:06:09 WARN BlockManager: Block rdd_2_99 could not be removed as it was not found on disk or in memory\n",
      "22/12/02 11:06:09 WARN MemoryStore: Not enough space to cache rdd_2_98 in memory! (computed 1952.2 KiB so far)\n",
      "22/12/02 11:06:09 WARN BlockManager: Putting block rdd_2_99 failed\n",
      "22/12/02 11:06:09 WARN BlockManager: Block rdd_2_98 could not be removed as it was not found on disk or in memory\n",
      "22/12/02 11:06:09 WARN BlockManager: Putting block rdd_2_98 failed\n",
      "22/12/02 11:06:09 WARN MemoryStore: Not enough space to cache rdd_2_97 in memory! (computed 8.8 MiB so far)\n",
      "22/12/02 11:06:09 WARN BlockManager: Block rdd_2_97 could not be removed as it was not found on disk or in memory\n",
      "22/12/02 11:06:09 WARN BlockManager: Putting block rdd_2_97 failed\n"
     ]
    },
    {
     "name": "stderr",
     "output_type": "stream",
     "text": [
      "                                                                                \r"
     ]
    },
    {
     "data": {
      "text/plain": [
       "2011231"
      ]
     },
     "execution_count": 7,
     "metadata": {},
     "output_type": "execute_result"
    }
   ],
   "source": [
    "rdd.count()"
   ]
  },
  {
   "cell_type": "markdown",
   "metadata": {
    "id": "zl7nmy6S81Uw"
   },
   "source": [
    "## Question 2: Get the first two records\n"
   ]
  },
  {
   "cell_type": "code",
   "execution_count": 8,
   "metadata": {
    "id": "HG1ypizS81Ux"
   },
   "outputs": [
    {
     "name": "stdout",
     "output_type": "stream",
     "text": [
      "22/12/02 11:06:10 WARN BlockManager: Task 100 already completed, not releasing lock for rdd_2_0\n"
     ]
    },
    {
     "data": {
      "text/plain": [
       "[{'id': '0704.0001',\n",
       "  'submitter': 'Pavel Nadolsky',\n",
       "  'authors': \"C. Bal\\\\'azs, E. L. Berger, P. M. Nadolsky, C.-P. Yuan\",\n",
       "  'title': 'Calculation of prompt diphoton production cross sections at Tevatron and\\n  LHC energies',\n",
       "  'comments': '37 pages, 15 figures; published version',\n",
       "  'journal-ref': 'Phys.Rev.D76:013009,2007',\n",
       "  'doi': '10.1103/PhysRevD.76.013009',\n",
       "  'report-no': 'ANL-HEP-PR-07-12',\n",
       "  'categories': 'hep-ph',\n",
       "  'license': None,\n",
       "  'abstract': '  A fully differential calculation in perturbative quantum chromodynamics is\\npresented for the production of massive photon pairs at hadron colliders. All\\nnext-to-leading order perturbative contributions from quark-antiquark,\\ngluon-(anti)quark, and gluon-gluon subprocesses are included, as well as\\nall-orders resummation of initial-state gluon radiation valid at\\nnext-to-next-to-leading logarithmic accuracy. The region of phase space is\\nspecified in which the calculation is most reliable. Good agreement is\\ndemonstrated with data from the Fermilab Tevatron, and predictions are made for\\nmore detailed tests with CDF and DO data. Predictions are shown for\\ndistributions of diphoton pairs produced at the energy of the Large Hadron\\nCollider (LHC). Distributions of the diphoton pairs from the decay of a Higgs\\nboson are contrasted with those produced from QCD processes at the LHC, showing\\nthat enhanced sensitivity to the signal can be obtained with judicious\\nselection of events.\\n',\n",
       "  'versions': [{'version': 'v1', 'created': 'Mon, 2 Apr 2007 19:18:42 GMT'},\n",
       "   {'version': 'v2', 'created': 'Tue, 24 Jul 2007 20:10:27 GMT'}],\n",
       "  'update_date': '2008-11-26',\n",
       "  'authors_parsed': [['Balázs', 'C.', ''],\n",
       "   ['Berger', 'E. L.', ''],\n",
       "   ['Nadolsky', 'P. M.', ''],\n",
       "   ['Yuan', 'C. -P.', '']]},\n",
       " {'id': '0704.0002',\n",
       "  'submitter': 'Louis Theran',\n",
       "  'authors': 'Ileana Streinu and Louis Theran',\n",
       "  'title': 'Sparsity-certifying Graph Decompositions',\n",
       "  'comments': 'To appear in Graphs and Combinatorics',\n",
       "  'journal-ref': None,\n",
       "  'doi': None,\n",
       "  'report-no': None,\n",
       "  'categories': 'math.CO cs.CG',\n",
       "  'license': 'http://arxiv.org/licenses/nonexclusive-distrib/1.0/',\n",
       "  'abstract': '  We describe a new algorithm, the $(k,\\\\ell)$-pebble game with colors, and use\\nit obtain a characterization of the family of $(k,\\\\ell)$-sparse graphs and\\nalgorithmic solutions to a family of problems concerning tree decompositions of\\ngraphs. Special instances of sparse graphs appear in rigidity theory and have\\nreceived increased attention in recent years. In particular, our colored\\npebbles generalize and strengthen the previous results of Lee and Streinu and\\ngive a new proof of the Tutte-Nash-Williams characterization of arboricity. We\\nalso present a new decomposition that certifies sparsity based on the\\n$(k,\\\\ell)$-pebble game with colors. Our work also exposes connections between\\npebble game algorithms and previous sparse graph algorithms by Gabow, Gabow and\\nWestermann and Hendrickson.\\n',\n",
       "  'versions': [{'version': 'v1', 'created': 'Sat, 31 Mar 2007 02:26:18 GMT'},\n",
       "   {'version': 'v2', 'created': 'Sat, 13 Dec 2008 17:26:00 GMT'}],\n",
       "  'update_date': '2008-12-13',\n",
       "  'authors_parsed': [['Streinu', 'Ileana', ''], ['Theran', 'Louis', '']]}]"
      ]
     },
     "execution_count": 8,
     "metadata": {},
     "output_type": "execute_result"
    }
   ],
   "source": [
    "rdd.take(2)\n"
   ]
  },
  {
   "cell_type": "markdown",
   "metadata": {
    "id": "GgSYUgiQ81Ux"
   },
   "source": [
    "## Question 3: Get all attributes\n"
   ]
  },
  {
   "cell_type": "code",
   "execution_count": 9,
   "metadata": {
    "id": "4_hnOy9V81Uy"
   },
   "outputs": [
    {
     "name": "stderr",
     "output_type": "stream",
     "text": [
      "[Stage 2:=============>                                          (24 + 4) / 100]\r"
     ]
    },
    {
     "name": "stdout",
     "output_type": "stream",
     "text": [
      "22/12/02 11:06:14 WARN MemoryStore: Not enough space to cache rdd_2_24 in memory! (computed 6.8 MiB so far)\n",
      "22/12/02 11:06:14 WARN MemoryStore: Not enough space to cache rdd_2_25 in memory! (computed 2.4 MiB so far)\n",
      "22/12/02 11:06:14 WARN BlockManager: Block rdd_2_24 could not be removed as it was not found on disk or in memory\n",
      "22/12/02 11:06:14 WARN BlockManager: Putting block rdd_2_24 failed\n",
      "22/12/02 11:06:14 WARN BlockManager: Block rdd_2_25 could not be removed as it was not found on disk or in memory\n",
      "22/12/02 11:06:14 WARN BlockManager: Putting block rdd_2_25 failed\n",
      "22/12/02 11:06:14 WARN MemoryStore: Failed to reserve initial memory threshold of 1024.0 KiB for computing block rdd_2_27 in memory.\n",
      "22/12/02 11:06:14 WARN MemoryStore: Not enough space to cache rdd_2_26 in memory! (computed 1583.5 KiB so far)\n",
      "22/12/02 11:06:14 WARN BlockManager: Block rdd_2_26 could not be removed as it was not found on disk or in memory\n",
      "22/12/02 11:06:14 WARN BlockManager: Putting block rdd_2_26 failed\n"
     ]
    },
    {
     "name": "stderr",
     "output_type": "stream",
     "text": [
      "[Stage 2:==============>                                         (25 + 4) / 100]\r"
     ]
    },
    {
     "name": "stdout",
     "output_type": "stream",
     "text": [
      "22/12/02 11:06:15 WARN MemoryStore: Not enough space to cache rdd_2_27 in memory! (computed 0.0 B so far)\n",
      "22/12/02 11:06:15 WARN BlockManager: Block rdd_2_27 could not be removed as it was not found on disk or in memory\n",
      "22/12/02 11:06:15 WARN BlockManager: Putting block rdd_2_27 failed\n"
     ]
    },
    {
     "name": "stderr",
     "output_type": "stream",
     "text": [
      "[Stage 2:==============>                                         (26 + 4) / 100]\r"
     ]
    },
    {
     "name": "stdout",
     "output_type": "stream",
     "text": [
      "22/12/02 11:06:16 WARN MemoryStore: Not enough space to cache rdd_2_28 in memory! (computed 6.8 MiB so far)\n",
      "22/12/02 11:06:16 WARN BlockManager: Block rdd_2_28 could not be removed as it was not found on disk or in memory\n",
      "22/12/02 11:06:16 WARN BlockManager: Putting block rdd_2_28 failed\n"
     ]
    },
    {
     "name": "stderr",
     "output_type": "stream",
     "text": [
      "[Stage 2:================>                                       (29 + 4) / 100]\r"
     ]
    },
    {
     "name": "stdout",
     "output_type": "stream",
     "text": [
      "22/12/02 11:06:16 WARN MemoryStore: Not enough space to cache rdd_2_29 in memory! (computed 4.1 MiB so far)\n",
      "22/12/02 11:06:16 WARN BlockManager: Block rdd_2_29 could not be removed as it was not found on disk or in memory\n",
      "22/12/02 11:06:16 WARN BlockManager: Putting block rdd_2_29 failed\n",
      "22/12/02 11:06:16 WARN MemoryStore: Not enough space to cache rdd_2_30 in memory! (computed 4.2 MiB so far)\n",
      "22/12/02 11:06:16 WARN BlockManager: Block rdd_2_30 could not be removed as it was not found on disk or in memory\n",
      "22/12/02 11:06:16 WARN BlockManager: Putting block rdd_2_30 failed\n",
      "22/12/02 11:06:16 WARN MemoryStore: Not enough space to cache rdd_2_31 in memory! (computed 2.4 MiB so far)\n",
      "22/12/02 11:06:16 WARN BlockManager: Block rdd_2_31 could not be removed as it was not found on disk or in memory\n",
      "22/12/02 11:06:16 WARN BlockManager: Putting block rdd_2_31 failed\n"
     ]
    },
    {
     "name": "stderr",
     "output_type": "stream",
     "text": [
      "[Stage 2:=================>                                      (31 + 4) / 100]\r"
     ]
    },
    {
     "name": "stdout",
     "output_type": "stream",
     "text": [
      "22/12/02 11:06:17 WARN MemoryStore: Not enough space to cache rdd_2_32 in memory! (computed 7.0 MiB so far)\n",
      "22/12/02 11:06:17 WARN BlockManager: Block rdd_2_32 could not be removed as it was not found on disk or in memory\n",
      "22/12/02 11:06:17 WARN BlockManager: Putting block rdd_2_32 failed\n",
      "22/12/02 11:06:17 WARN MemoryStore: Not enough space to cache rdd_2_33 in memory! (computed 2.5 MiB so far)\n",
      "22/12/02 11:06:17 WARN BlockManager: Block rdd_2_33 could not be removed as it was not found on disk or in memory\n",
      "22/12/02 11:06:17 WARN BlockManager: Putting block rdd_2_33 failed\n"
     ]
    },
    {
     "name": "stderr",
     "output_type": "stream",
     "text": [
      "[Stage 2:==================>                                     (33 + 4) / 100]\r"
     ]
    },
    {
     "name": "stdout",
     "output_type": "stream",
     "text": [
      "22/12/02 11:06:18 WARN MemoryStore: Not enough space to cache rdd_2_35 in memory! (computed 2.4 MiB so far)\n",
      "22/12/02 11:06:18 WARN MemoryStore: Not enough space to cache rdd_2_34 in memory! (computed 7.0 MiB so far)\n",
      "22/12/02 11:06:18 WARN BlockManager: Block rdd_2_34 could not be removed as it was not found on disk or in memory\n",
      "22/12/02 11:06:18 WARN BlockManager: Putting block rdd_2_34 failed\n",
      "22/12/02 11:06:18 WARN BlockManager: Block rdd_2_35 could not be removed as it was not found on disk or in memory\n",
      "22/12/02 11:06:18 WARN BlockManager: Putting block rdd_2_35 failed\n"
     ]
    },
    {
     "name": "stderr",
     "output_type": "stream",
     "text": [
      "[Stage 2:===================>                                    (35 + 4) / 100]\r"
     ]
    },
    {
     "name": "stdout",
     "output_type": "stream",
     "text": [
      "22/12/02 11:06:18 WARN MemoryStore: Not enough space to cache rdd_2_36 in memory! (computed 2.5 MiB so far)\n",
      "22/12/02 11:06:18 WARN BlockManager: Block rdd_2_36 could not be removed as it was not found on disk or in memory\n",
      "22/12/02 11:06:18 WARN BlockManager: Putting block rdd_2_36 failed\n",
      "22/12/02 11:06:19 WARN MemoryStore: Not enough space to cache rdd_2_37 in memory! (computed 7.1 MiB so far)\n",
      "22/12/02 11:06:19 WARN BlockManager: Block rdd_2_37 could not be removed as it was not found on disk or in memory\n",
      "22/12/02 11:06:19 WARN BlockManager: Putting block rdd_2_37 failed\n",
      "22/12/02 11:06:19 WARN MemoryStore: Not enough space to cache rdd_2_38 in memory! (computed 1570.1 KiB so far)\n",
      "22/12/02 11:06:19 WARN BlockManager: Block rdd_2_38 could not be removed as it was not found on disk or in memory\n",
      "22/12/02 11:06:19 WARN BlockManager: Putting block rdd_2_38 failed\n"
     ]
    },
    {
     "name": "stderr",
     "output_type": "stream",
     "text": [
      "[Stage 2:====================>                                   (37 + 4) / 100]\r"
     ]
    },
    {
     "name": "stdout",
     "output_type": "stream",
     "text": [
      "22/12/02 11:06:19 WARN MemoryStore: Not enough space to cache rdd_2_39 in memory! (computed 7.1 MiB so far)\n",
      "22/12/02 11:06:19 WARN BlockManager: Block rdd_2_39 could not be removed as it was not found on disk or in memory\n",
      "22/12/02 11:06:19 WARN BlockManager: Putting block rdd_2_39 failed\n"
     ]
    },
    {
     "name": "stderr",
     "output_type": "stream",
     "text": [
      "[Stage 2:=====================>                                  (39 + 4) / 100]\r"
     ]
    },
    {
     "name": "stdout",
     "output_type": "stream",
     "text": [
      "22/12/02 11:06:20 WARN MemoryStore: Not enough space to cache rdd_2_40 in memory! (computed 7.0 MiB so far)\n",
      "22/12/02 11:06:20 WARN BlockManager: Block rdd_2_40 could not be removed as it was not found on disk or in memory\n",
      "22/12/02 11:06:20 WARN BlockManager: Putting block rdd_2_40 failed\n",
      "22/12/02 11:06:20 WARN MemoryStore: Not enough space to cache rdd_2_41 in memory! (computed 2.5 MiB so far)\n",
      "22/12/02 11:06:20 WARN BlockManager: Block rdd_2_41 could not be removed as it was not found on disk or in memory\n",
      "22/12/02 11:06:20 WARN BlockManager: Putting block rdd_2_41 failed\n",
      "22/12/02 11:06:20 WARN MemoryStore: Failed to reserve initial memory threshold of 1024.0 KiB for computing block rdd_2_42 in memory.\n",
      "22/12/02 11:06:20 WARN MemoryStore: Not enough space to cache rdd_2_42 in memory! (computed 0.0 B so far)\n",
      "22/12/02 11:06:20 WARN BlockManager: Block rdd_2_42 could not be removed as it was not found on disk or in memory\n",
      "22/12/02 11:06:20 WARN BlockManager: Putting block rdd_2_42 failed\n"
     ]
    },
    {
     "name": "stderr",
     "output_type": "stream",
     "text": [
      "[Stage 2:======================>                                 (41 + 4) / 100]\r"
     ]
    },
    {
     "name": "stdout",
     "output_type": "stream",
     "text": [
      "22/12/02 11:06:21 WARN MemoryStore: Not enough space to cache rdd_2_43 in memory! (computed 7.1 MiB so far)\n",
      "22/12/02 11:06:21 WARN BlockManager: Block rdd_2_43 could not be removed as it was not found on disk or in memory\n",
      "22/12/02 11:06:21 WARN BlockManager: Putting block rdd_2_43 failed\n"
     ]
    },
    {
     "name": "stderr",
     "output_type": "stream",
     "text": [
      "[Stage 2:=======================>                                (42 + 4) / 100]\r"
     ]
    },
    {
     "name": "stdout",
     "output_type": "stream",
     "text": [
      "22/12/02 11:06:21 WARN MemoryStore: Failed to reserve initial memory threshold of 1024.0 KiB for computing block rdd_2_45 in memory.\n",
      "22/12/02 11:06:21 WARN MemoryStore: Not enough space to cache rdd_2_45 in memory! (computed 0.0 B so far)\n",
      "22/12/02 11:06:21 WARN BlockManager: Block rdd_2_45 could not be removed as it was not found on disk or in memory\n",
      "22/12/02 11:06:21 WARN BlockManager: Putting block rdd_2_45 failed\n"
     ]
    },
    {
     "name": "stderr",
     "output_type": "stream",
     "text": [
      "[Stage 2:========================>                               (44 + 4) / 100]\r"
     ]
    },
    {
     "name": "stdout",
     "output_type": "stream",
     "text": [
      "22/12/02 11:06:21 WARN MemoryStore: Not enough space to cache rdd_2_44 in memory! (computed 7.2 MiB so far)\n",
      "22/12/02 11:06:21 WARN BlockManager: Block rdd_2_44 could not be removed as it was not found on disk or in memory\n",
      "22/12/02 11:06:21 WARN BlockManager: Putting block rdd_2_44 failed\n"
     ]
    },
    {
     "name": "stderr",
     "output_type": "stream",
     "text": [
      "[Stage 2:=========================>                              (45 + 4) / 100]\r"
     ]
    },
    {
     "name": "stdout",
     "output_type": "stream",
     "text": [
      "22/12/02 11:06:22 WARN MemoryStore: Not enough space to cache rdd_2_47 in memory! (computed 1642.4 KiB so far)\n",
      "22/12/02 11:06:22 WARN BlockManager: Block rdd_2_47 could not be removed as it was not found on disk or in memory\n",
      "22/12/02 11:06:22 WARN BlockManager: Putting block rdd_2_47 failed\n",
      "22/12/02 11:06:22 WARN MemoryStore: Not enough space to cache rdd_2_46 in memory! (computed 7.1 MiB so far)\n",
      "22/12/02 11:06:22 WARN BlockManager: Block rdd_2_46 could not be removed as it was not found on disk or in memory\n",
      "22/12/02 11:06:22 WARN BlockManager: Putting block rdd_2_46 failed\n"
     ]
    },
    {
     "name": "stderr",
     "output_type": "stream",
     "text": [
      "[Stage 2:=========================>                              (46 + 4) / 100]\r"
     ]
    },
    {
     "name": "stdout",
     "output_type": "stream",
     "text": [
      "22/12/02 11:06:22 WARN MemoryStore: Not enough space to cache rdd_2_48 in memory! (computed 2.5 MiB so far)\n",
      "22/12/02 11:06:22 WARN BlockManager: Block rdd_2_48 could not be removed as it was not found on disk or in memory\n",
      "22/12/02 11:06:22 WARN BlockManager: Putting block rdd_2_48 failed\n"
     ]
    },
    {
     "name": "stderr",
     "output_type": "stream",
     "text": [
      "[Stage 2:==========================>                             (48 + 4) / 100]\r"
     ]
    },
    {
     "name": "stdout",
     "output_type": "stream",
     "text": [
      "22/12/02 11:06:23 WARN MemoryStore: Not enough space to cache rdd_2_49 in memory! (computed 4.4 MiB so far)\n",
      "22/12/02 11:06:23 WARN MemoryStore: Not enough space to cache rdd_2_50 in memory! (computed 4.4 MiB so far)\n",
      "22/12/02 11:06:23 WARN BlockManager: Block rdd_2_49 could not be removed as it was not found on disk or in memory\n",
      "22/12/02 11:06:23 WARN BlockManager: Putting block rdd_2_49 failed\n",
      "22/12/02 11:06:23 WARN BlockManager: Block rdd_2_50 could not be removed as it was not found on disk or in memory\n",
      "22/12/02 11:06:23 WARN BlockManager: Putting block rdd_2_50 failed\n"
     ]
    },
    {
     "name": "stderr",
     "output_type": "stream",
     "text": [
      "[Stage 2:============================>                           (50 + 4) / 100]\r"
     ]
    },
    {
     "name": "stdout",
     "output_type": "stream",
     "text": [
      "22/12/02 11:06:24 WARN MemoryStore: Not enough space to cache rdd_2_51 in memory! (computed 7.2 MiB so far)\n",
      "22/12/02 11:06:24 WARN BlockManager: Block rdd_2_51 could not be removed as it was not found on disk or in memory\n",
      "22/12/02 11:06:24 WARN BlockManager: Putting block rdd_2_51 failed\n",
      "22/12/02 11:06:24 WARN MemoryStore: Not enough space to cache rdd_2_52 in memory! (computed 2.6 MiB so far)\n",
      "22/12/02 11:06:24 WARN BlockManager: Block rdd_2_52 could not be removed as it was not found on disk or in memory\n",
      "22/12/02 11:06:24 WARN BlockManager: Putting block rdd_2_52 failed\n",
      "22/12/02 11:06:24 WARN MemoryStore: Failed to reserve initial memory threshold of 1024.0 KiB for computing block rdd_2_54 in memory.\n",
      "22/12/02 11:06:24 WARN MemoryStore: Not enough space to cache rdd_2_54 in memory! (computed 0.0 B so far)\n",
      "22/12/02 11:06:24 WARN BlockManager: Block rdd_2_54 could not be removed as it was not found on disk or in memory\n",
      "22/12/02 11:06:24 WARN BlockManager: Putting block rdd_2_54 failed\n"
     ]
    },
    {
     "name": "stderr",
     "output_type": "stream",
     "text": [
      "[Stage 2:=============================>                          (52 + 4) / 100]\r"
     ]
    },
    {
     "name": "stdout",
     "output_type": "stream",
     "text": [
      "22/12/02 11:06:24 WARN MemoryStore: Not enough space to cache rdd_2_53 in memory! (computed 7.3 MiB so far)\n",
      "22/12/02 11:06:25 WARN BlockManager: Block rdd_2_53 could not be removed as it was not found on disk or in memory\n",
      "22/12/02 11:06:25 WARN BlockManager: Putting block rdd_2_53 failed\n"
     ]
    },
    {
     "name": "stderr",
     "output_type": "stream",
     "text": [
      "[Stage 2:==============================>                         (54 + 4) / 100]\r"
     ]
    },
    {
     "name": "stdout",
     "output_type": "stream",
     "text": [
      "22/12/02 11:06:25 WARN MemoryStore: Not enough space to cache rdd_2_56 in memory! (computed 2.6 MiB so far)\n",
      "22/12/02 11:06:25 WARN BlockManager: Block rdd_2_56 could not be removed as it was not found on disk or in memory\n",
      "22/12/02 11:06:25 WARN BlockManager: Putting block rdd_2_56 failed\n",
      "22/12/02 11:06:25 WARN MemoryStore: Failed to reserve initial memory threshold of 1024.0 KiB for computing block rdd_2_57 in memory.\n",
      "22/12/02 11:06:25 WARN MemoryStore: Not enough space to cache rdd_2_57 in memory! (computed 0.0 B so far)\n",
      "22/12/02 11:06:25 WARN BlockManager: Block rdd_2_57 could not be removed as it was not found on disk or in memory\n",
      "22/12/02 11:06:25 WARN BlockManager: Putting block rdd_2_57 failed\n"
     ]
    },
    {
     "name": "stderr",
     "output_type": "stream",
     "text": [
      "[Stage 2:===============================>                        (56 + 4) / 100]\r"
     ]
    },
    {
     "name": "stdout",
     "output_type": "stream",
     "text": [
      "22/12/02 11:06:26 WARN MemoryStore: Not enough space to cache rdd_2_59 in memory! (computed 4.5 MiB so far)\n",
      "22/12/02 11:06:26 WARN BlockManager: Block rdd_2_59 could not be removed as it was not found on disk or in memory\n",
      "22/12/02 11:06:26 WARN BlockManager: Putting block rdd_2_59 failed\n"
     ]
    },
    {
     "name": "stderr",
     "output_type": "stream",
     "text": [
      "[Stage 2:================================>                       (58 + 4) / 100]\r"
     ]
    },
    {
     "name": "stdout",
     "output_type": "stream",
     "text": [
      "22/12/02 11:06:26 WARN MemoryStore: Not enough space to cache rdd_2_58 in memory! (computed 4.5 MiB so far)\n",
      "22/12/02 11:06:26 WARN BlockManager: Block rdd_2_58 could not be removed as it was not found on disk or in memory\n",
      "22/12/02 11:06:26 WARN BlockManager: Putting block rdd_2_58 failed\n",
      "22/12/02 11:06:26 WARN MemoryStore: Not enough space to cache rdd_2_60 in memory! (computed 1686.3 KiB so far)\n",
      "22/12/02 11:06:26 WARN BlockManager: Block rdd_2_60 could not be removed as it was not found on disk or in memory\n",
      "22/12/02 11:06:26 WARN BlockManager: Putting block rdd_2_60 failed\n",
      "22/12/02 11:06:26 WARN MemoryStore: Not enough space to cache rdd_2_61 in memory! (computed 7.3 MiB so far)\n",
      "22/12/02 11:06:26 WARN BlockManager: Block rdd_2_61 could not be removed as it was not found on disk or in memory\n",
      "22/12/02 11:06:26 WARN BlockManager: Putting block rdd_2_61 failed\n"
     ]
    },
    {
     "name": "stderr",
     "output_type": "stream",
     "text": [
      "[Stage 2:=================================>                      (60 + 4) / 100]\r"
     ]
    },
    {
     "name": "stdout",
     "output_type": "stream",
     "text": [
      "22/12/02 11:06:27 WARN MemoryStore: Not enough space to cache rdd_2_62 in memory! (computed 7.4 MiB so far)\n",
      "22/12/02 11:06:27 WARN BlockManager: Block rdd_2_62 could not be removed as it was not found on disk or in memory\n",
      "22/12/02 11:06:27 WARN BlockManager: Putting block rdd_2_62 failed\n",
      "22/12/02 11:06:27 WARN MemoryStore: Not enough space to cache rdd_2_63 in memory! (computed 2.6 MiB so far)\n",
      "22/12/02 11:06:27 WARN BlockManager: Block rdd_2_63 could not be removed as it was not found on disk or in memory\n",
      "22/12/02 11:06:27 WARN BlockManager: Putting block rdd_2_63 failed\n",
      "22/12/02 11:06:27 WARN MemoryStore: Failed to reserve initial memory threshold of 1024.0 KiB for computing block rdd_2_64 in memory.\n",
      "22/12/02 11:06:27 WARN MemoryStore: Not enough space to cache rdd_2_64 in memory! (computed 0.0 B so far)\n",
      "22/12/02 11:06:27 WARN BlockManager: Block rdd_2_64 could not be removed as it was not found on disk or in memory\n",
      "22/12/02 11:06:27 WARN BlockManager: Putting block rdd_2_64 failed\n"
     ]
    },
    {
     "name": "stderr",
     "output_type": "stream",
     "text": [
      "[Stage 2:===================================>                    (64 + 4) / 100]\r"
     ]
    },
    {
     "name": "stdout",
     "output_type": "stream",
     "text": [
      "22/12/02 11:06:28 WARN MemoryStore: Not enough space to cache rdd_2_65 in memory! (computed 7.4 MiB so far)\n",
      "22/12/02 11:06:28 WARN BlockManager: Block rdd_2_65 could not be removed as it was not found on disk or in memory\n",
      "22/12/02 11:06:28 WARN BlockManager: Putting block rdd_2_65 failed\n",
      "22/12/02 11:06:28 WARN MemoryStore: Failed to reserve initial memory threshold of 1024.0 KiB for computing block rdd_2_67 in memory.\n",
      "22/12/02 11:06:28 WARN MemoryStore: Not enough space to cache rdd_2_66 in memory! (computed 2.7 MiB so far)\n",
      "22/12/02 11:06:28 WARN BlockManager: Block rdd_2_66 could not be removed as it was not found on disk or in memory\n",
      "22/12/02 11:06:28 WARN BlockManager: Putting block rdd_2_66 failed\n",
      "22/12/02 11:06:28 WARN MemoryStore: Not enough space to cache rdd_2_67 in memory! (computed 0.0 B so far)\n",
      "22/12/02 11:06:28 WARN BlockManager: Block rdd_2_67 could not be removed as it was not found on disk or in memory\n",
      "22/12/02 11:06:28 WARN BlockManager: Putting block rdd_2_67 failed\n"
     ]
    },
    {
     "name": "stderr",
     "output_type": "stream",
     "text": [
      "[Stage 2:====================================>                   (66 + 4) / 100]\r"
     ]
    },
    {
     "name": "stdout",
     "output_type": "stream",
     "text": [
      "22/12/02 11:06:29 WARN MemoryStore: Not enough space to cache rdd_2_68 in memory! (computed 7.6 MiB so far)\n",
      "22/12/02 11:06:29 WARN BlockManager: Block rdd_2_68 could not be removed as it was not found on disk or in memory\n",
      "22/12/02 11:06:29 WARN BlockManager: Putting block rdd_2_68 failed\n",
      "22/12/02 11:06:29 WARN MemoryStore: Not enough space to cache rdd_2_69 in memory! (computed 1683.8 KiB so far)\n",
      "22/12/02 11:06:29 WARN MemoryStore: Failed to reserve initial memory threshold of 1024.0 KiB for computing block rdd_2_71 in memory.\n",
      "22/12/02 11:06:29 WARN BlockManager: Block rdd_2_69 could not be removed as it was not found on disk or in memory\n",
      "22/12/02 11:06:29 WARN BlockManager: Putting block rdd_2_69 failed\n",
      "22/12/02 11:06:29 WARN MemoryStore: Not enough space to cache rdd_2_71 in memory! (computed 0.0 B so far)\n",
      "22/12/02 11:06:29 WARN BlockManager: Block rdd_2_71 could not be removed as it was not found on disk or in memory\n",
      "22/12/02 11:06:29 WARN BlockManager: Putting block rdd_2_71 failed\n"
     ]
    },
    {
     "name": "stderr",
     "output_type": "stream",
     "text": [
      "[Stage 2:======================================>                 (68 + 4) / 100]\r"
     ]
    },
    {
     "name": "stdout",
     "output_type": "stream",
     "text": [
      "22/12/02 11:06:30 WARN MemoryStore: Not enough space to cache rdd_2_70 in memory! (computed 7.6 MiB so far)\n",
      "22/12/02 11:06:30 WARN BlockManager: Block rdd_2_70 could not be removed as it was not found on disk or in memory\n",
      "22/12/02 11:06:30 WARN BlockManager: Putting block rdd_2_70 failed\n"
     ]
    },
    {
     "name": "stderr",
     "output_type": "stream",
     "text": [
      "[Stage 2:=======================================>                (71 + 4) / 100]\r"
     ]
    },
    {
     "name": "stdout",
     "output_type": "stream",
     "text": [
      "22/12/02 11:06:30 WARN MemoryStore: Not enough space to cache rdd_2_73 in memory! (computed 1723.8 KiB so far)\n",
      "22/12/02 11:06:30 WARN BlockManager: Block rdd_2_73 could not be removed as it was not found on disk or in memory\n",
      "22/12/02 11:06:30 WARN BlockManager: Putting block rdd_2_73 failed\n",
      "22/12/02 11:06:30 WARN MemoryStore: Not enough space to cache rdd_2_74 in memory! (computed 2.6 MiB so far)\n",
      "22/12/02 11:06:30 WARN BlockManager: Block rdd_2_74 could not be removed as it was not found on disk or in memory\n",
      "22/12/02 11:06:30 WARN BlockManager: Putting block rdd_2_74 failed\n",
      "22/12/02 11:06:31 WARN MemoryStore: Not enough space to cache rdd_2_72 in memory! (computed 7.5 MiB so far)\n",
      "22/12/02 11:06:31 WARN BlockManager: Block rdd_2_72 could not be removed as it was not found on disk or in memory\n",
      "22/12/02 11:06:31 WARN BlockManager: Putting block rdd_2_72 failed\n"
     ]
    },
    {
     "name": "stderr",
     "output_type": "stream",
     "text": [
      "[Stage 2:========================================>               (72 + 4) / 100]\r"
     ]
    },
    {
     "name": "stdout",
     "output_type": "stream",
     "text": [
      "22/12/02 11:06:31 WARN MemoryStore: Not enough space to cache rdd_2_75 in memory! (computed 7.5 MiB so far)\n",
      "22/12/02 11:06:31 WARN BlockManager: Block rdd_2_75 could not be removed as it was not found on disk or in memory\n",
      "22/12/02 11:06:31 WARN BlockManager: Putting block rdd_2_75 failed\n"
     ]
    },
    {
     "name": "stderr",
     "output_type": "stream",
     "text": [
      "[Stage 2:=========================================>              (74 + 4) / 100]\r"
     ]
    },
    {
     "name": "stdout",
     "output_type": "stream",
     "text": [
      "22/12/02 11:06:31 WARN MemoryStore: Not enough space to cache rdd_2_76 in memory! (computed 1715.4 KiB so far)\n",
      "22/12/02 11:06:31 WARN BlockManager: Block rdd_2_76 could not be removed as it was not found on disk or in memory\n",
      "22/12/02 11:06:31 WARN BlockManager: Putting block rdd_2_76 failed\n"
     ]
    },
    {
     "name": "stderr",
     "output_type": "stream",
     "text": [
      "[Stage 2:==========================================>             (75 + 4) / 100]\r"
     ]
    },
    {
     "name": "stdout",
     "output_type": "stream",
     "text": [
      "22/12/02 11:06:32 WARN MemoryStore: Not enough space to cache rdd_2_77 in memory! (computed 4.6 MiB so far)\n",
      "22/12/02 11:06:32 WARN MemoryStore: Not enough space to cache rdd_2_78 in memory! (computed 4.6 MiB so far)\n",
      "22/12/02 11:06:32 WARN BlockManager: Block rdd_2_77 could not be removed as it was not found on disk or in memory\n",
      "22/12/02 11:06:32 WARN BlockManager: Block rdd_2_78 could not be removed as it was not found on disk or in memory\n",
      "22/12/02 11:06:32 WARN BlockManager: Putting block rdd_2_77 failed\n",
      "22/12/02 11:06:32 WARN BlockManager: Putting block rdd_2_78 failed\n",
      "22/12/02 11:06:32 WARN MemoryStore: Failed to reserve initial memory threshold of 1024.0 KiB for computing block rdd_2_80 in memory.\n"
     ]
    },
    {
     "name": "stderr",
     "output_type": "stream",
     "text": [
      "[Stage 2:===========================================>            (77 + 4) / 100]\r"
     ]
    },
    {
     "name": "stdout",
     "output_type": "stream",
     "text": [
      "22/12/02 11:06:32 WARN MemoryStore: Not enough space to cache rdd_2_80 in memory! (computed 0.0 B so far)\n",
      "22/12/02 11:06:32 WARN BlockManager: Block rdd_2_80 could not be removed as it was not found on disk or in memory\n",
      "22/12/02 11:06:32 WARN BlockManager: Putting block rdd_2_80 failed\n",
      "22/12/02 11:06:33 WARN MemoryStore: Not enough space to cache rdd_2_79 in memory! (computed 7.5 MiB so far)\n",
      "22/12/02 11:06:33 WARN BlockManager: Block rdd_2_79 could not be removed as it was not found on disk or in memory\n",
      "22/12/02 11:06:33 WARN BlockManager: Putting block rdd_2_79 failed\n"
     ]
    },
    {
     "name": "stderr",
     "output_type": "stream",
     "text": [
      "[Stage 2:=============================================>          (81 + 4) / 100]\r"
     ]
    },
    {
     "name": "stdout",
     "output_type": "stream",
     "text": [
      "22/12/02 11:06:33 WARN MemoryStore: Failed to reserve initial memory threshold of 1024.0 KiB for computing block rdd_2_83 in memory.\n",
      "22/12/02 11:06:33 WARN MemoryStore: Not enough space to cache rdd_2_82 in memory! (computed 2.6 MiB so far)\n",
      "22/12/02 11:06:33 WARN BlockManager: Block rdd_2_82 could not be removed as it was not found on disk or in memory\n",
      "22/12/02 11:06:33 WARN BlockManager: Putting block rdd_2_82 failed\n",
      "22/12/02 11:06:33 WARN MemoryStore: Not enough space to cache rdd_2_81 in memory! (computed 7.4 MiB so far)\n",
      "22/12/02 11:06:33 WARN BlockManager: Block rdd_2_81 could not be removed as it was not found on disk or in memory\n",
      "22/12/02 11:06:33 WARN BlockManager: Putting block rdd_2_81 failed\n",
      "22/12/02 11:06:33 WARN MemoryStore: Not enough space to cache rdd_2_83 in memory! (computed 0.0 B so far)\n",
      "22/12/02 11:06:34 WARN MemoryStore: Failed to reserve initial memory threshold of 1024.0 KiB for computing block rdd_2_84 in memory.\n",
      "22/12/02 11:06:34 WARN MemoryStore: Not enough space to cache rdd_2_84 in memory! (computed 0.0 B so far)\n",
      "22/12/02 11:06:34 WARN BlockManager: Block rdd_2_83 could not be removed as it was not found on disk or in memory\n",
      "22/12/02 11:06:34 WARN BlockManager: Putting block rdd_2_83 failed\n",
      "22/12/02 11:06:34 WARN BlockManager: Block rdd_2_84 could not be removed as it was not found on disk or in memory\n",
      "22/12/02 11:06:34 WARN BlockManager: Putting block rdd_2_84 failed\n"
     ]
    },
    {
     "name": "stderr",
     "output_type": "stream",
     "text": [
      "[Stage 2:==============================================>         (83 + 4) / 100]\r"
     ]
    },
    {
     "name": "stdout",
     "output_type": "stream",
     "text": [
      "22/12/02 11:06:35 WARN MemoryStore: Not enough space to cache rdd_2_85 in memory! (computed 8.1 MiB so far)\n",
      "22/12/02 11:06:35 WARN BlockManager: Block rdd_2_85 could not be removed as it was not found on disk or in memory\n",
      "22/12/02 11:06:35 WARN BlockManager: Putting block rdd_2_85 failed\n",
      "22/12/02 11:06:35 WARN MemoryStore: Not enough space to cache rdd_2_86 in memory! (computed 1695.9 KiB so far)\n",
      "22/12/02 11:06:35 WARN BlockManager: Block rdd_2_86 could not be removed as it was not found on disk or in memory\n",
      "22/12/02 11:06:35 WARN BlockManager: Putting block rdd_2_86 failed\n",
      "22/12/02 11:06:35 WARN MemoryStore: Not enough space to cache rdd_2_88 in memory! (computed 1320.1 KiB so far)\n"
     ]
    },
    {
     "name": "stderr",
     "output_type": "stream",
     "text": [
      "[Stage 2:===============================================>        (85 + 4) / 100]\r"
     ]
    },
    {
     "name": "stdout",
     "output_type": "stream",
     "text": [
      "22/12/02 11:06:35 WARN BlockManager: Block rdd_2_88 could not be removed as it was not found on disk or in memory\n",
      "22/12/02 11:06:35 WARN BlockManager: Putting block rdd_2_88 failed\n",
      "22/12/02 11:06:35 WARN MemoryStore: Not enough space to cache rdd_2_87 in memory! (computed 1277.3 KiB so far)\n",
      "22/12/02 11:06:35 WARN BlockManager: Block rdd_2_87 could not be removed as it was not found on disk or in memory\n",
      "22/12/02 11:06:35 WARN BlockManager: Putting block rdd_2_87 failed\n"
     ]
    },
    {
     "name": "stderr",
     "output_type": "stream",
     "text": [
      "[Stage 2:=================================================>      (88 + 4) / 100]\r"
     ]
    },
    {
     "name": "stdout",
     "output_type": "stream",
     "text": [
      "22/12/02 11:06:36 WARN MemoryStore: Not enough space to cache rdd_2_91 in memory! (computed 1182.4 KiB so far)\n",
      "22/12/02 11:06:36 WARN BlockManager: Block rdd_2_91 could not be removed as it was not found on disk or in memory\n",
      "22/12/02 11:06:36 WARN BlockManager: Putting block rdd_2_91 failed\n",
      "22/12/02 11:06:36 WARN MemoryStore: Failed to reserve initial memory threshold of 1024.0 KiB for computing block rdd_2_92 in memory.\n",
      "22/12/02 11:06:36 WARN MemoryStore: Not enough space to cache rdd_2_89 in memory! (computed 5.9 MiB so far)\n",
      "22/12/02 11:06:36 WARN BlockManager: Block rdd_2_89 could not be removed as it was not found on disk or in memory\n",
      "22/12/02 11:06:36 WARN BlockManager: Putting block rdd_2_89 failed\n",
      "22/12/02 11:06:36 WARN MemoryStore: Not enough space to cache rdd_2_90 in memory! (computed 3.3 MiB so far)\n",
      "22/12/02 11:06:36 WARN MemoryStore: Not enough space to cache rdd_2_92 in memory! (computed 0.0 B so far)\n",
      "22/12/02 11:06:36 WARN BlockManager: Block rdd_2_92 could not be removed as it was not found on disk or in memory\n",
      "22/12/02 11:06:36 WARN BlockManager: Putting block rdd_2_92 failed\n"
     ]
    },
    {
     "name": "stderr",
     "output_type": "stream",
     "text": [
      "[Stage 2:=================================================>      (89 + 4) / 100]\r"
     ]
    },
    {
     "name": "stdout",
     "output_type": "stream",
     "text": [
      "22/12/02 11:06:36 WARN BlockManager: Block rdd_2_90 could not be removed as it was not found on disk or in memory\n",
      "22/12/02 11:06:36 WARN BlockManager: Putting block rdd_2_90 failed\n"
     ]
    },
    {
     "name": "stderr",
     "output_type": "stream",
     "text": [
      "[Stage 2:===================================================>    (92 + 4) / 100]\r"
     ]
    },
    {
     "name": "stdout",
     "output_type": "stream",
     "text": [
      "22/12/02 11:06:37 WARN MemoryStore: Not enough space to cache rdd_2_94 in memory! (computed 1164.0 KiB so far)\n",
      "22/12/02 11:06:37 WARN BlockManager: Block rdd_2_94 could not be removed as it was not found on disk or in memory\n",
      "22/12/02 11:06:37 WARN BlockManager: Putting block rdd_2_94 failed\n",
      "22/12/02 11:06:37 WARN MemoryStore: Not enough space to cache rdd_2_95 in memory! (computed 1061.0 KiB so far)\n",
      "22/12/02 11:06:37 WARN BlockManager: Block rdd_2_95 could not be removed as it was not found on disk or in memory\n",
      "22/12/02 11:06:37 WARN BlockManager: Putting block rdd_2_95 failed\n",
      "22/12/02 11:06:38 WARN MemoryStore: Not enough space to cache rdd_2_93 in memory! (computed 7.6 MiB so far)\n",
      "22/12/02 11:06:38 WARN BlockManager: Block rdd_2_93 could not be removed as it was not found on disk or in memory\n",
      "22/12/02 11:06:38 WARN BlockManager: Putting block rdd_2_93 failed\n"
     ]
    },
    {
     "name": "stderr",
     "output_type": "stream",
     "text": [
      "[Stage 2:=====================================================>  (95 + 4) / 100]\r"
     ]
    },
    {
     "name": "stdout",
     "output_type": "stream",
     "text": [
      "22/12/02 11:06:39 WARN MemoryStore: Not enough space to cache rdd_2_96 in memory! (computed 8.0 MiB so far)\n",
      "22/12/02 11:06:39 WARN BlockManager: Block rdd_2_96 could not be removed as it was not found on disk or in memory\n",
      "22/12/02 11:06:39 WARN BlockManager: Putting block rdd_2_96 failed\n",
      "22/12/02 11:06:39 WARN MemoryStore: Not enough space to cache rdd_2_97 in memory! (computed 2.1 MiB so far)\n",
      "22/12/02 11:06:39 WARN BlockManager: Block rdd_2_97 could not be removed as it was not found on disk or in memory\n",
      "22/12/02 11:06:39 WARN BlockManager: Putting block rdd_2_97 failed\n",
      "22/12/02 11:06:39 WARN MemoryStore: Not enough space to cache rdd_2_98 in memory! (computed 1952.2 KiB so far)\n",
      "22/12/02 11:06:39 WARN BlockManager: Block rdd_2_98 could not be removed as it was not found on disk or in memory\n",
      "22/12/02 11:06:39 WARN BlockManager: Putting block rdd_2_98 failed\n"
     ]
    },
    {
     "name": "stderr",
     "output_type": "stream",
     "text": [
      "[Stage 2:=====================================================>  (96 + 4) / 100]\r"
     ]
    },
    {
     "name": "stdout",
     "output_type": "stream",
     "text": [
      "22/12/02 11:06:40 WARN MemoryStore: Not enough space to cache rdd_2_99 in memory! (computed 9.8 MiB so far)\n",
      "22/12/02 11:06:40 WARN BlockManager: Block rdd_2_99 could not be removed as it was not found on disk or in memory\n",
      "22/12/02 11:06:40 WARN BlockManager: Putting block rdd_2_99 failed\n"
     ]
    },
    {
     "name": "stderr",
     "output_type": "stream",
     "text": [
      "                                                                                \r"
     ]
    },
    {
     "data": {
      "text/plain": [
       "['authors',\n",
       " 'comments',\n",
       " 'title',\n",
       " 'id',\n",
       " 'journal-ref',\n",
       " 'versions',\n",
       " 'submitter',\n",
       " 'categories',\n",
       " 'update_date',\n",
       " 'authors_parsed',\n",
       " 'report-no',\n",
       " 'license',\n",
       " 'abstract',\n",
       " 'doi']"
      ]
     },
     "execution_count": 9,
     "metadata": {},
     "output_type": "execute_result"
    }
   ],
   "source": [
    "rdd.flatMap(lambda x:x.keys()).distinct().collect()"
   ]
  },
  {
   "cell_type": "markdown",
   "metadata": {
    "id": "iGaQWri681Uy"
   },
   "source": [
    "## Question 4: Get the name of the licenses"
   ]
  },
  {
   "cell_type": "code",
   "execution_count": 10,
   "metadata": {
    "id": "JjUWgHMs81Uy"
   },
   "outputs": [
    {
     "name": "stderr",
     "output_type": "stream",
     "text": [
      "[Stage 4:=============>                                          (24 + 4) / 100]\r"
     ]
    },
    {
     "name": "stdout",
     "output_type": "stream",
     "text": [
      "22/12/02 11:06:46 WARN MemoryStore: Not enough space to cache rdd_2_26 in memory! (computed 2.5 MiB so far)\n",
      "22/12/02 11:06:46 WARN BlockManager: Block rdd_2_26 could not be removed as it was not found on disk or in memory\n",
      "22/12/02 11:06:46 WARN BlockManager: Putting block rdd_2_26 failed\n",
      "22/12/02 11:06:46 WARN MemoryStore: Not enough space to cache rdd_2_24 in memory! (computed 4.1 MiB so far)\n",
      "22/12/02 11:06:46 WARN MemoryStore: Failed to reserve initial memory threshold of 1024.0 KiB for computing block rdd_2_27 in memory.\n",
      "22/12/02 11:06:46 WARN BlockManager: Block rdd_2_24 could not be removed as it was not found on disk or in memory\n",
      "22/12/02 11:06:46 WARN BlockManager: Putting block rdd_2_24 failed\n"
     ]
    },
    {
     "name": "stderr",
     "output_type": "stream",
     "text": [
      "[Stage 4:==============>                                         (25 + 4) / 100]\r"
     ]
    },
    {
     "name": "stdout",
     "output_type": "stream",
     "text": [
      "22/12/02 11:06:46 WARN MemoryStore: Not enough space to cache rdd_2_25 in memory! (computed 4.2 MiB so far)\n",
      "22/12/02 11:06:46 WARN BlockManager: Block rdd_2_25 could not be removed as it was not found on disk or in memory\n",
      "22/12/02 11:06:46 WARN BlockManager: Putting block rdd_2_25 failed\n",
      "22/12/02 11:06:46 WARN MemoryStore: Not enough space to cache rdd_2_27 in memory! (computed 0.0 B so far)\n",
      "22/12/02 11:06:46 WARN BlockManager: Block rdd_2_27 could not be removed as it was not found on disk or in memory\n",
      "22/12/02 11:06:46 WARN BlockManager: Putting block rdd_2_27 failed\n"
     ]
    },
    {
     "name": "stderr",
     "output_type": "stream",
     "text": [
      "[Stage 4:================>                                       (29 + 4) / 100]\r"
     ]
    },
    {
     "name": "stdout",
     "output_type": "stream",
     "text": [
      "22/12/02 11:06:47 WARN MemoryStore: Not enough space to cache rdd_2_28 in memory! (computed 4.2 MiB so far)\n",
      "22/12/02 11:06:47 WARN BlockManager: Block rdd_2_28 could not be removed as it was not found on disk or in memory\n",
      "22/12/02 11:06:47 WARN BlockManager: Putting block rdd_2_28 failed\n",
      "22/12/02 11:06:47 WARN MemoryStore: Not enough space to cache rdd_2_29 in memory! (computed 4.1 MiB so far)\n",
      "22/12/02 11:06:47 WARN BlockManager: Block rdd_2_29 could not be removed as it was not found on disk or in memory\n",
      "22/12/02 11:06:47 WARN BlockManager: Putting block rdd_2_29 failed\n",
      "22/12/02 11:06:47 WARN MemoryStore: Not enough space to cache rdd_2_30 in memory! (computed 1562.2 KiB so far)\n",
      "22/12/02 11:06:47 WARN BlockManager: Block rdd_2_30 could not be removed as it was not found on disk or in memory\n",
      "22/12/02 11:06:47 WARN BlockManager: Putting block rdd_2_30 failed\n",
      "22/12/02 11:06:47 WARN MemoryStore: Not enough space to cache rdd_2_31 in memory! (computed 1565.4 KiB so far)\n",
      "22/12/02 11:06:47 WARN BlockManager: Block rdd_2_31 could not be removed as it was not found on disk or in memory\n",
      "22/12/02 11:06:47 WARN BlockManager: Putting block rdd_2_31 failed\n"
     ]
    },
    {
     "name": "stderr",
     "output_type": "stream",
     "text": [
      "[Stage 4:==================>                                     (33 + 4) / 100]\r"
     ]
    },
    {
     "name": "stdout",
     "output_type": "stream",
     "text": [
      "22/12/02 11:06:48 WARN MemoryStore: Not enough space to cache rdd_2_32 in memory! (computed 4.4 MiB so far)\n",
      "22/12/02 11:06:48 WARN BlockManager: Block rdd_2_32 could not be removed as it was not found on disk or in memory\n",
      "22/12/02 11:06:48 WARN BlockManager: Putting block rdd_2_32 failed\n",
      "22/12/02 11:06:49 WARN MemoryStore: Not enough space to cache rdd_2_35 in memory! (computed 1585.0 KiB so far)\n",
      "22/12/02 11:06:49 WARN BlockManager: Block rdd_2_35 could not be removed as it was not found on disk or in memory\n",
      "22/12/02 11:06:49 WARN BlockManager: Putting block rdd_2_35 failed\n",
      "22/12/02 11:06:49 WARN MemoryStore: Not enough space to cache rdd_2_33 in memory! (computed 2.5 MiB so far)\n",
      "22/12/02 11:06:49 WARN BlockManager: Block rdd_2_33 could not be removed as it was not found on disk or in memory\n",
      "22/12/02 11:06:49 WARN BlockManager: Putting block rdd_2_33 failed\n",
      "22/12/02 11:06:49 WARN MemoryStore: Not enough space to cache rdd_2_34 in memory! (computed 7.0 MiB so far)\n",
      "22/12/02 11:06:49 WARN BlockManager: Block rdd_2_34 could not be removed as it was not found on disk or in memory\n",
      "22/12/02 11:06:49 WARN BlockManager: Putting block rdd_2_34 failed\n"
     ]
    },
    {
     "name": "stderr",
     "output_type": "stream",
     "text": [
      "[Stage 4:====================>                                   (37 + 4) / 100]\r"
     ]
    },
    {
     "name": "stdout",
     "output_type": "stream",
     "text": [
      "22/12/02 11:06:50 WARN MemoryStore: Not enough space to cache rdd_2_38 in memory! (computed 2.4 MiB so far)\n",
      "22/12/02 11:06:50 WARN MemoryStore: Not enough space to cache rdd_2_37 in memory! (computed 1666.5 KiB so far)\n",
      "22/12/02 11:06:50 WARN BlockManager: Block rdd_2_37 could not be removed as it was not found on disk or in memory\n",
      "22/12/02 11:06:50 WARN BlockManager: Putting block rdd_2_37 failed\n",
      "22/12/02 11:06:50 WARN BlockManager: Block rdd_2_38 could not be removed as it was not found on disk or in memory\n",
      "22/12/02 11:06:50 WARN BlockManager: Putting block rdd_2_38 failed\n",
      "22/12/02 11:06:50 WARN MemoryStore: Not enough space to cache rdd_2_36 in memory! (computed 7.0 MiB so far)\n",
      "22/12/02 11:06:50 WARN BlockManager: Block rdd_2_36 could not be removed as it was not found on disk or in memory\n",
      "22/12/02 11:06:50 WARN BlockManager: Putting block rdd_2_36 failed\n"
     ]
    },
    {
     "name": "stderr",
     "output_type": "stream",
     "text": [
      "[Stage 4:====================>                                   (37 + 5) / 100]\r"
     ]
    },
    {
     "name": "stdout",
     "output_type": "stream",
     "text": [
      "22/12/02 11:06:50 WARN MemoryStore: Not enough space to cache rdd_2_39 in memory! (computed 7.1 MiB so far)\n",
      "22/12/02 11:06:50 WARN BlockManager: Block rdd_2_39 could not be removed as it was not found on disk or in memory\n",
      "22/12/02 11:06:50 WARN BlockManager: Putting block rdd_2_39 failed\n"
     ]
    },
    {
     "name": "stderr",
     "output_type": "stream",
     "text": [
      "[Stage 4:======================>                                 (40 + 4) / 100]\r"
     ]
    },
    {
     "name": "stdout",
     "output_type": "stream",
     "text": [
      "22/12/02 11:06:51 WARN MemoryStore: Not enough space to cache rdd_2_41 in memory! (computed 2.5 MiB so far)\n",
      "22/12/02 11:06:51 WARN BlockManager: Block rdd_2_41 could not be removed as it was not found on disk or in memory\n",
      "22/12/02 11:06:51 WARN BlockManager: Putting block rdd_2_41 failed\n",
      "22/12/02 11:06:51 WARN MemoryStore: Failed to reserve initial memory threshold of 1024.0 KiB for computing block rdd_2_43 in memory.\n",
      "22/12/02 11:06:51 WARN MemoryStore: Not enough space to cache rdd_2_40 in memory! (computed 4.3 MiB so far)\n",
      "22/12/02 11:06:51 WARN BlockManager: Block rdd_2_40 could not be removed as it was not found on disk or in memory\n",
      "22/12/02 11:06:51 WARN BlockManager: Putting block rdd_2_40 failed\n",
      "22/12/02 11:06:51 WARN MemoryStore: Not enough space to cache rdd_2_42 in memory! (computed 4.3 MiB so far)\n",
      "22/12/02 11:06:51 WARN BlockManager: Block rdd_2_42 could not be removed as it was not found on disk or in memory\n",
      "22/12/02 11:06:51 WARN BlockManager: Putting block rdd_2_42 failed\n"
     ]
    },
    {
     "name": "stderr",
     "output_type": "stream",
     "text": [
      "[Stage 4:======================>                                 (41 + 4) / 100]\r"
     ]
    },
    {
     "name": "stdout",
     "output_type": "stream",
     "text": [
      "22/12/02 11:06:51 WARN MemoryStore: Not enough space to cache rdd_2_43 in memory! (computed 0.0 B so far)\n",
      "22/12/02 11:06:51 WARN BlockManager: Block rdd_2_43 could not be removed as it was not found on disk or in memory\n",
      "22/12/02 11:06:51 WARN BlockManager: Putting block rdd_2_43 failed\n"
     ]
    },
    {
     "name": "stderr",
     "output_type": "stream",
     "text": [
      "[Stage 4:========================>                               (43 + 4) / 100]\r"
     ]
    },
    {
     "name": "stdout",
     "output_type": "stream",
     "text": [
      "22/12/02 11:06:52 WARN MemoryStore: Failed to reserve initial memory threshold of 1024.0 KiB for computing block rdd_2_46 in memory.\n",
      "22/12/02 11:06:52 WARN MemoryStore: Not enough space to cache rdd_2_45 in memory! (computed 2.6 MiB so far)\n",
      "22/12/02 11:06:52 WARN BlockManager: Block rdd_2_45 could not be removed as it was not found on disk or in memory\n",
      "22/12/02 11:06:52 WARN BlockManager: Putting block rdd_2_45 failed\n",
      "22/12/02 11:06:52 WARN MemoryStore: Not enough space to cache rdd_2_46 in memory! (computed 0.0 B so far)\n",
      "22/12/02 11:06:52 WARN BlockManager: Block rdd_2_46 could not be removed as it was not found on disk or in memory\n",
      "22/12/02 11:06:52 WARN BlockManager: Putting block rdd_2_46 failed\n"
     ]
    },
    {
     "name": "stderr",
     "output_type": "stream",
     "text": [
      "[Stage 4:========================>                               (44 + 4) / 100]\r"
     ]
    },
    {
     "name": "stdout",
     "output_type": "stream",
     "text": [
      "22/12/02 11:06:52 WARN MemoryStore: Not enough space to cache rdd_2_44 in memory! (computed 7.2 MiB so far)\n",
      "22/12/02 11:06:52 WARN BlockManager: Block rdd_2_44 could not be removed as it was not found on disk or in memory\n",
      "22/12/02 11:06:52 WARN BlockManager: Putting block rdd_2_44 failed\n"
     ]
    },
    {
     "name": "stderr",
     "output_type": "stream",
     "text": [
      "[Stage 4:=========================>                              (46 + 4) / 100]\r"
     ]
    },
    {
     "name": "stdout",
     "output_type": "stream",
     "text": [
      "22/12/02 11:06:53 WARN MemoryStore: Not enough space to cache rdd_2_47 in memory! (computed 4.4 MiB so far)\n",
      "22/12/02 11:06:53 WARN BlockManager: Block rdd_2_47 could not be removed as it was not found on disk or in memory\n",
      "22/12/02 11:06:53 WARN MemoryStore: Not enough space to cache rdd_2_48 in memory! (computed 4.4 MiB so far)\n",
      "22/12/02 11:06:53 WARN BlockManager: Block rdd_2_48 could not be removed as it was not found on disk or in memory\n",
      "22/12/02 11:06:53 WARN BlockManager: Putting block rdd_2_48 failed\n",
      "22/12/02 11:06:53 WARN BlockManager: Putting block rdd_2_47 failed\n"
     ]
    },
    {
     "name": "stderr",
     "output_type": "stream",
     "text": [
      "[Stage 4:==========================>                             (48 + 4) / 100]\r"
     ]
    },
    {
     "name": "stdout",
     "output_type": "stream",
     "text": [
      "22/12/02 11:06:54 WARN MemoryStore: Not enough space to cache rdd_2_50 in memory! (computed 4.4 MiB so far)\n",
      "22/12/02 11:06:54 WARN BlockManager: Block rdd_2_50 could not be removed as it was not found on disk or in memory\n",
      "22/12/02 11:06:54 WARN BlockManager: Putting block rdd_2_50 failed\n",
      "22/12/02 11:06:54 WARN MemoryStore: Not enough space to cache rdd_2_49 in memory! (computed 4.4 MiB so far)\n",
      "22/12/02 11:06:54 WARN BlockManager: Block rdd_2_49 could not be removed as it was not found on disk or in memory\n",
      "22/12/02 11:06:54 WARN BlockManager: Putting block rdd_2_49 failed\n"
     ]
    },
    {
     "name": "stderr",
     "output_type": "stream",
     "text": [
      "[Stage 4:============================>                           (50 + 4) / 100]\r"
     ]
    },
    {
     "name": "stdout",
     "output_type": "stream",
     "text": [
      "22/12/02 11:06:54 WARN MemoryStore: Not enough space to cache rdd_2_52 in memory! (computed 2.6 MiB so far)\n",
      "22/12/02 11:06:54 WARN BlockManager: Block rdd_2_52 could not be removed as it was not found on disk or in memory\n",
      "22/12/02 11:06:54 WARN BlockManager: Putting block rdd_2_52 failed\n",
      "22/12/02 11:06:54 WARN MemoryStore: Not enough space to cache rdd_2_51 in memory! (computed 7.2 MiB so far)\n",
      "22/12/02 11:06:54 WARN BlockManager: Block rdd_2_51 could not be removed as it was not found on disk or in memory\n",
      "22/12/02 11:06:54 WARN BlockManager: Putting block rdd_2_51 failed\n"
     ]
    },
    {
     "name": "stderr",
     "output_type": "stream",
     "text": [
      "[Stage 4:=============================>                          (53 + 4) / 100]\r"
     ]
    },
    {
     "name": "stdout",
     "output_type": "stream",
     "text": [
      "22/12/02 11:06:55 WARN MemoryStore: Not enough space to cache rdd_2_54 in memory! (computed 1685.0 KiB so far)\n",
      "22/12/02 11:06:55 WARN BlockManager: Block rdd_2_54 could not be removed as it was not found on disk or in memory\n",
      "22/12/02 11:06:55 WARN BlockManager: Putting block rdd_2_54 failed\n",
      "22/12/02 11:06:55 WARN MemoryStore: Not enough space to cache rdd_2_53 in memory! (computed 7.3 MiB so far)\n",
      "22/12/02 11:06:55 WARN BlockManager: Block rdd_2_53 could not be removed as it was not found on disk or in memory\n",
      "22/12/02 11:06:55 WARN BlockManager: Putting block rdd_2_53 failed\n"
     ]
    },
    {
     "name": "stderr",
     "output_type": "stream",
     "text": [
      "[Stage 4:==============================>                         (54 + 4) / 100]\r"
     ]
    },
    {
     "name": "stdout",
     "output_type": "stream",
     "text": [
      "22/12/02 11:06:55 WARN MemoryStore: Not enough space to cache rdd_2_57 in memory! (computed 2.6 MiB so far)\n",
      "22/12/02 11:06:55 WARN BlockManager: Block rdd_2_57 could not be removed as it was not found on disk or in memory\n",
      "22/12/02 11:06:55 WARN BlockManager: Putting block rdd_2_57 failed\n",
      "22/12/02 11:06:55 WARN MemoryStore: Not enough space to cache rdd_2_56 in memory! (computed 7.3 MiB so far)\n",
      "22/12/02 11:06:55 WARN BlockManager: Block rdd_2_56 could not be removed as it was not found on disk or in memory\n",
      "22/12/02 11:06:55 WARN BlockManager: Putting block rdd_2_56 failed\n"
     ]
    },
    {
     "name": "stderr",
     "output_type": "stream",
     "text": [
      "[Stage 4:===============================>                        (56 + 4) / 100]\r"
     ]
    },
    {
     "name": "stdout",
     "output_type": "stream",
     "text": [
      "22/12/02 11:06:56 WARN MemoryStore: Not enough space to cache rdd_2_59 in memory! (computed 2.6 MiB so far)\n",
      "22/12/02 11:06:56 WARN BlockManager: Block rdd_2_59 could not be removed as it was not found on disk or in memory\n",
      "22/12/02 11:06:56 WARN BlockManager: Putting block rdd_2_59 failed\n",
      "22/12/02 11:06:56 WARN MemoryStore: Not enough space to cache rdd_2_58 in memory! (computed 7.4 MiB so far)\n",
      "22/12/02 11:06:56 WARN BlockManager: Block rdd_2_58 could not be removed as it was not found on disk or in memory\n",
      "22/12/02 11:06:56 WARN BlockManager: Putting block rdd_2_58 failed\n"
     ]
    },
    {
     "name": "stderr",
     "output_type": "stream",
     "text": [
      "[Stage 4:================================>                       (58 + 4) / 100]\r"
     ]
    },
    {
     "name": "stdout",
     "output_type": "stream",
     "text": [
      "22/12/02 11:06:56 WARN MemoryStore: Not enough space to cache rdd_2_60 in memory! (computed 1686.3 KiB so far)\n",
      "22/12/02 11:06:56 WARN BlockManager: Block rdd_2_60 could not be removed as it was not found on disk or in memory\n",
      "22/12/02 11:06:56 WARN BlockManager: Putting block rdd_2_60 failed\n",
      "22/12/02 11:06:57 WARN MemoryStore: Not enough space to cache rdd_2_61 in memory! (computed 7.3 MiB so far)\n",
      "22/12/02 11:06:57 WARN BlockManager: Block rdd_2_61 could not be removed as it was not found on disk or in memory\n",
      "22/12/02 11:06:57 WARN BlockManager: Putting block rdd_2_61 failed\n"
     ]
    },
    {
     "name": "stderr",
     "output_type": "stream",
     "text": [
      "[Stage 4:=================================>                      (60 + 4) / 100]\r"
     ]
    },
    {
     "name": "stdout",
     "output_type": "stream",
     "text": [
      "22/12/02 11:06:57 WARN MemoryStore: Not enough space to cache rdd_2_62 in memory! (computed 1742.3 KiB so far)\n",
      "22/12/02 11:06:57 WARN MemoryStore: Not enough space to cache rdd_2_63 in memory! (computed 1667.1 KiB so far)\n",
      "22/12/02 11:06:57 WARN BlockManager: Block rdd_2_62 could not be removed as it was not found on disk or in memory\n",
      "22/12/02 11:06:57 WARN BlockManager: Putting block rdd_2_62 failed\n",
      "22/12/02 11:06:57 WARN BlockManager: Block rdd_2_63 could not be removed as it was not found on disk or in memory\n",
      "22/12/02 11:06:57 WARN BlockManager: Putting block rdd_2_63 failed\n"
     ]
    },
    {
     "name": "stderr",
     "output_type": "stream",
     "text": [
      "[Stage 4:==================================>                     (61 + 4) / 100]\r"
     ]
    },
    {
     "name": "stdout",
     "output_type": "stream",
     "text": [
      "22/12/02 11:06:57 WARN MemoryStore: Not enough space to cache rdd_2_64 in memory! (computed 7.4 MiB so far)\n",
      "22/12/02 11:06:57 WARN BlockManager: Block rdd_2_64 could not be removed as it was not found on disk or in memory\n",
      "22/12/02 11:06:57 WARN BlockManager: Putting block rdd_2_64 failed\n"
     ]
    },
    {
     "name": "stderr",
     "output_type": "stream",
     "text": [
      "[Stage 4:===================================>                    (63 + 4) / 100]\r"
     ]
    },
    {
     "name": "stdout",
     "output_type": "stream",
     "text": [
      "22/12/02 11:06:58 WARN MemoryStore: Not enough space to cache rdd_2_65 in memory! (computed 1711.1 KiB so far)\n",
      "22/12/02 11:06:58 WARN BlockManager: Block rdd_2_65 could not be removed as it was not found on disk or in memory\n",
      "22/12/02 11:06:58 WARN BlockManager: Putting block rdd_2_65 failed\n",
      "22/12/02 11:06:58 WARN MemoryStore: Not enough space to cache rdd_2_66 in memory! (computed 1746.1 KiB so far)\n",
      "22/12/02 11:06:58 WARN BlockManager: Block rdd_2_66 could not be removed as it was not found on disk or in memory\n",
      "22/12/02 11:06:58 WARN BlockManager: Putting block rdd_2_66 failed\n"
     ]
    },
    {
     "name": "stderr",
     "output_type": "stream",
     "text": [
      "[Stage 4:====================================>                   (66 + 4) / 100]\r"
     ]
    },
    {
     "name": "stdout",
     "output_type": "stream",
     "text": [
      "22/12/02 11:06:58 WARN MemoryStore: Not enough space to cache rdd_2_67 in memory! (computed 7.5 MiB so far)\n",
      "22/12/02 11:06:58 WARN BlockManager: Block rdd_2_67 could not be removed as it was not found on disk or in memory\n",
      "22/12/02 11:06:58 WARN BlockManager: Putting block rdd_2_67 failed\n",
      "22/12/02 11:06:58 WARN MemoryStore: Not enough space to cache rdd_2_68 in memory! (computed 1760.6 KiB so far)\n",
      "22/12/02 11:06:58 WARN BlockManager: Block rdd_2_68 could not be removed as it was not found on disk or in memory\n",
      "22/12/02 11:06:58 WARN BlockManager: Putting block rdd_2_68 failed\n"
     ]
    },
    {
     "name": "stderr",
     "output_type": "stream",
     "text": [
      "[Stage 4:=====================================>                  (67 + 4) / 100]\r"
     ]
    },
    {
     "name": "stdout",
     "output_type": "stream",
     "text": [
      "22/12/02 11:06:59 WARN MemoryStore: Not enough space to cache rdd_2_70 in memory! (computed 2.7 MiB so far)\n",
      "22/12/02 11:06:59 WARN BlockManager: Block rdd_2_70 could not be removed as it was not found on disk or in memory\n",
      "22/12/02 11:06:59 WARN BlockManager: Putting block rdd_2_70 failed\n",
      "22/12/02 11:06:59 WARN MemoryStore: Not enough space to cache rdd_2_69 in memory! (computed 7.4 MiB so far)\n",
      "22/12/02 11:06:59 WARN BlockManager: Block rdd_2_69 could not be removed as it was not found on disk or in memory\n",
      "22/12/02 11:06:59 WARN BlockManager: Putting block rdd_2_69 failed\n",
      "22/12/02 11:06:59 WARN MemoryStore: Failed to reserve initial memory threshold of 1024.0 KiB for computing block rdd_2_71 in memory.\n",
      "22/12/02 11:06:59 WARN MemoryStore: Failed to reserve initial memory threshold of 1024.0 KiB for computing block rdd_2_72 in memory.\n"
     ]
    },
    {
     "name": "stderr",
     "output_type": "stream",
     "text": [
      "[Stage 4:======================================>                 (68 + 4) / 100]\r"
     ]
    },
    {
     "name": "stdout",
     "output_type": "stream",
     "text": [
      "22/12/02 11:06:59 WARN MemoryStore: Not enough space to cache rdd_2_72 in memory! (computed 0.0 B so far)\n",
      "22/12/02 11:06:59 WARN MemoryStore: Not enough space to cache rdd_2_71 in memory! (computed 0.0 B so far)\n",
      "22/12/02 11:06:59 WARN BlockManager: Block rdd_2_71 could not be removed as it was not found on disk or in memory\n",
      "22/12/02 11:06:59 WARN BlockManager: Putting block rdd_2_71 failed\n",
      "22/12/02 11:06:59 WARN BlockManager: Block rdd_2_72 could not be removed as it was not found on disk or in memory\n",
      "22/12/02 11:06:59 WARN BlockManager: Putting block rdd_2_72 failed\n"
     ]
    },
    {
     "name": "stderr",
     "output_type": "stream",
     "text": [
      "[Stage 4:=======================================>                (71 + 4) / 100]\r"
     ]
    },
    {
     "name": "stdout",
     "output_type": "stream",
     "text": [
      "22/12/02 11:07:00 WARN MemoryStore: Not enough space to cache rdd_2_73 in memory! (computed 7.5 MiB so far)\n",
      "22/12/02 11:07:00 WARN BlockManager: Block rdd_2_73 could not be removed as it was not found on disk or in memory\n",
      "22/12/02 11:07:00 WARN BlockManager: Putting block rdd_2_73 failed\n",
      "22/12/02 11:07:00 WARN MemoryStore: Not enough space to cache rdd_2_74 in memory! (computed 2.6 MiB so far)\n",
      "22/12/02 11:07:00 WARN BlockManager: Block rdd_2_74 could not be removed as it was not found on disk or in memory\n",
      "22/12/02 11:07:00 WARN BlockManager: Putting block rdd_2_74 failed\n",
      "22/12/02 11:07:00 WARN MemoryStore: Failed to reserve initial memory threshold of 1024.0 KiB for computing block rdd_2_75 in memory.\n",
      "22/12/02 11:07:00 WARN MemoryStore: Not enough space to cache rdd_2_75 in memory! (computed 0.0 B so far)\n",
      "22/12/02 11:07:00 WARN MemoryStore: Failed to reserve initial memory threshold of 1024.0 KiB for computing block rdd_2_76 in memory.\n"
     ]
    },
    {
     "name": "stderr",
     "output_type": "stream",
     "text": [
      "[Stage 4:========================================>               (72 + 4) / 100]\r"
     ]
    },
    {
     "name": "stdout",
     "output_type": "stream",
     "text": [
      "22/12/02 11:07:00 WARN BlockManager: Block rdd_2_75 could not be removed as it was not found on disk or in memory\n",
      "22/12/02 11:07:00 WARN BlockManager: Putting block rdd_2_75 failed\n",
      "22/12/02 11:07:00 WARN MemoryStore: Not enough space to cache rdd_2_76 in memory! (computed 0.0 B so far)\n",
      "22/12/02 11:07:00 WARN BlockManager: Block rdd_2_76 could not be removed as it was not found on disk or in memory\n",
      "22/12/02 11:07:00 WARN BlockManager: Putting block rdd_2_76 failed\n"
     ]
    },
    {
     "name": "stderr",
     "output_type": "stream",
     "text": [
      "[Stage 4:==========================================>             (75 + 4) / 100]\r"
     ]
    },
    {
     "name": "stdout",
     "output_type": "stream",
     "text": [
      "22/12/02 11:07:01 WARN MemoryStore: Not enough space to cache rdd_2_77 in memory! (computed 7.5 MiB so far)\n",
      "22/12/02 11:07:01 WARN BlockManager: Block rdd_2_77 could not be removed as it was not found on disk or in memory\n",
      "22/12/02 11:07:01 WARN BlockManager: Putting block rdd_2_77 failed\n"
     ]
    },
    {
     "name": "stderr",
     "output_type": "stream",
     "text": [
      "[Stage 4:===========================================>            (77 + 4) / 100]\r"
     ]
    },
    {
     "name": "stdout",
     "output_type": "stream",
     "text": [
      "22/12/02 11:07:01 WARN MemoryStore: Not enough space to cache rdd_2_79 in memory! (computed 1761.8 KiB so far)\n",
      "22/12/02 11:07:01 WARN BlockManager: Block rdd_2_79 could not be removed as it was not found on disk or in memory\n",
      "22/12/02 11:07:01 WARN BlockManager: Putting block rdd_2_79 failed\n",
      "22/12/02 11:07:01 WARN MemoryStore: Not enough space to cache rdd_2_78 in memory! (computed 1718.9 KiB so far)\n",
      "22/12/02 11:07:01 WARN BlockManager: Block rdd_2_78 could not be removed as it was not found on disk or in memory\n",
      "22/12/02 11:07:01 WARN BlockManager: Putting block rdd_2_78 failed\n",
      "22/12/02 11:07:02 WARN MemoryStore: Not enough space to cache rdd_2_80 in memory! (computed 7.6 MiB so far)\n",
      "22/12/02 11:07:02 WARN BlockManager: Block rdd_2_80 could not be removed as it was not found on disk or in memory\n",
      "22/12/02 11:07:02 WARN BlockManager: Putting block rdd_2_80 failed\n"
     ]
    },
    {
     "name": "stderr",
     "output_type": "stream",
     "text": [
      "[Stage 4:============================================>           (79 + 4) / 100]\r"
     ]
    },
    {
     "name": "stdout",
     "output_type": "stream",
     "text": [
      "22/12/02 11:07:02 WARN MemoryStore: Not enough space to cache rdd_2_82 in memory! (computed 1678.3 KiB so far)\n",
      "22/12/02 11:07:02 WARN BlockManager: Block rdd_2_82 could not be removed as it was not found on disk or in memory\n",
      "22/12/02 11:07:02 WARN BlockManager: Putting block rdd_2_82 failed\n"
     ]
    },
    {
     "name": "stderr",
     "output_type": "stream",
     "text": [
      "[Stage 4:============================================>           (80 + 4) / 100]\r"
     ]
    },
    {
     "name": "stdout",
     "output_type": "stream",
     "text": [
      "22/12/02 11:07:03 WARN MemoryStore: Failed to reserve initial memory threshold of 1024.0 KiB for computing block rdd_2_84 in memory.\n",
      "22/12/02 11:07:03 WARN MemoryStore: Not enough space to cache rdd_2_84 in memory! (computed 0.0 B so far)\n",
      "22/12/02 11:07:03 WARN BlockManager: Block rdd_2_84 could not be removed as it was not found on disk or in memory\n",
      "22/12/02 11:07:03 WARN BlockManager: Putting block rdd_2_84 failed\n",
      "22/12/02 11:07:03 WARN MemoryStore: Not enough space to cache rdd_2_83 in memory! (computed 2.6 MiB so far)\n",
      "22/12/02 11:07:03 WARN BlockManager: Block rdd_2_83 could not be removed as it was not found on disk or in memory\n",
      "22/12/02 11:07:03 WARN BlockManager: Putting block rdd_2_83 failed\n",
      "22/12/02 11:07:03 WARN MemoryStore: Not enough space to cache rdd_2_81 in memory! (computed 7.4 MiB so far)\n",
      "22/12/02 11:07:03 WARN BlockManager: Block rdd_2_81 could not be removed as it was not found on disk or in memory\n",
      "22/12/02 11:07:03 WARN BlockManager: Putting block rdd_2_81 failed\n"
     ]
    },
    {
     "name": "stderr",
     "output_type": "stream",
     "text": [
      "[Stage 4:===============================================>        (85 + 4) / 100]\r"
     ]
    },
    {
     "name": "stdout",
     "output_type": "stream",
     "text": [
      "22/12/02 11:07:04 WARN MemoryStore: Failed to reserve initial memory threshold of 1024.0 KiB for computing block rdd_2_88 in memory.\n",
      "22/12/02 11:07:04 WARN MemoryStore: Not enough space to cache rdd_2_88 in memory! (computed 0.0 B so far)\n",
      "22/12/02 11:07:04 WARN BlockManager: Block rdd_2_88 could not be removed as it was not found on disk or in memory\n",
      "22/12/02 11:07:04 WARN BlockManager: Putting block rdd_2_88 failed\n",
      "22/12/02 11:07:04 WARN MemoryStore: Not enough space to cache rdd_2_86 in memory! (computed 1695.9 KiB so far)\n",
      "22/12/02 11:07:04 WARN BlockManager: Block rdd_2_86 could not be removed as it was not found on disk or in memory\n",
      "22/12/02 11:07:04 WARN BlockManager: Putting block rdd_2_86 failed\n",
      "22/12/02 11:07:04 WARN MemoryStore: Not enough space to cache rdd_2_85 in memory! (computed 8.1 MiB so far)\n",
      "22/12/02 11:07:04 WARN BlockManager: Block rdd_2_85 could not be removed as it was not found on disk or in memory\n",
      "22/12/02 11:07:04 WARN BlockManager: Putting block rdd_2_85 failed\n",
      "22/12/02 11:07:04 WARN MemoryStore: Not enough space to cache rdd_2_87 in memory! (computed 2011.8 KiB so far)\n",
      "22/12/02 11:07:04 WARN BlockManager: Block rdd_2_87 could not be removed as it was not found on disk or in memory\n",
      "22/12/02 11:07:04 WARN BlockManager: Putting block rdd_2_87 failed\n"
     ]
    },
    {
     "name": "stderr",
     "output_type": "stream",
     "text": [
      "[Stage 4:=================================================>      (89 + 4) / 100]\r"
     ]
    },
    {
     "name": "stdout",
     "output_type": "stream",
     "text": [
      "22/12/02 11:07:05 WARN MemoryStore: Not enough space to cache rdd_2_89 in memory! (computed 3.6 MiB so far)\n",
      "22/12/02 11:07:05 WARN BlockManager: Block rdd_2_89 could not be removed as it was not found on disk or in memory\n",
      "22/12/02 11:07:05 WARN BlockManager: Putting block rdd_2_89 failed\n",
      "22/12/02 11:07:05 WARN MemoryStore: Not enough space to cache rdd_2_90 in memory! (computed 3.3 MiB so far)\n",
      "22/12/02 11:07:05 WARN BlockManager: Block rdd_2_90 could not be removed as it was not found on disk or in memory\n",
      "22/12/02 11:07:05 WARN BlockManager: Putting block rdd_2_90 failed\n",
      "22/12/02 11:07:05 WARN MemoryStore: Not enough space to cache rdd_2_91 in memory! (computed 5.1 MiB so far)\n",
      "22/12/02 11:07:05 WARN BlockManager: Block rdd_2_91 could not be removed as it was not found on disk or in memory\n",
      "22/12/02 11:07:05 WARN BlockManager: Putting block rdd_2_91 failed\n",
      "22/12/02 11:07:05 WARN MemoryStore: Not enough space to cache rdd_2_92 in memory! (computed 8.0 MiB so far)\n",
      "22/12/02 11:07:05 WARN BlockManager: Block rdd_2_92 could not be removed as it was not found on disk or in memory\n",
      "22/12/02 11:07:05 WARN BlockManager: Putting block rdd_2_92 failed\n"
     ]
    },
    {
     "name": "stderr",
     "output_type": "stream",
     "text": [
      "[Stage 4:===================================================>    (92 + 4) / 100]\r"
     ]
    },
    {
     "name": "stdout",
     "output_type": "stream",
     "text": [
      "22/12/02 11:07:06 WARN MemoryStore: Not enough space to cache rdd_2_94 in memory! (computed 3.1 MiB so far)\n",
      "22/12/02 11:07:06 WARN BlockManager: Block rdd_2_94 could not be removed as it was not found on disk or in memory\n",
      "22/12/02 11:07:06 WARN BlockManager: Putting block rdd_2_94 failed\n",
      "22/12/02 11:07:06 WARN MemoryStore: Not enough space to cache rdd_2_95 in memory! (computed 2.9 MiB so far)\n",
      "22/12/02 11:07:06 WARN MemoryStore: Not enough space to cache rdd_2_93 in memory! (computed 4.9 MiB so far)\n",
      "22/12/02 11:07:06 WARN BlockManager: Block rdd_2_93 could not be removed as it was not found on disk or in memory\n",
      "22/12/02 11:07:06 WARN BlockManager: Putting block rdd_2_93 failed\n",
      "22/12/02 11:07:06 WARN BlockManager: Block rdd_2_95 could not be removed as it was not found on disk or in memory\n",
      "22/12/02 11:07:06 WARN BlockManager: Putting block rdd_2_95 failed\n"
     ]
    },
    {
     "name": "stderr",
     "output_type": "stream",
     "text": [
      "[Stage 4:====================================================>   (94 + 4) / 100]\r"
     ]
    },
    {
     "name": "stdout",
     "output_type": "stream",
     "text": [
      "22/12/02 11:07:07 WARN MemoryStore: Not enough space to cache rdd_2_96 in memory! (computed 8.0 MiB so far)\n",
      "22/12/02 11:07:07 WARN BlockManager: Block rdd_2_96 could not be removed as it was not found on disk or in memory\n",
      "22/12/02 11:07:07 WARN BlockManager: Putting block rdd_2_96 failed\n",
      "22/12/02 11:07:07 WARN MemoryStore: Not enough space to cache rdd_2_97 in memory! (computed 2.1 MiB so far)\n",
      "22/12/02 11:07:07 WARN BlockManager: Block rdd_2_97 could not be removed as it was not found on disk or in memory\n",
      "22/12/02 11:07:07 WARN BlockManager: Putting block rdd_2_97 failed\n"
     ]
    },
    {
     "name": "stderr",
     "output_type": "stream",
     "text": [
      "[Stage 4:=====================================================>  (96 + 4) / 100]\r"
     ]
    },
    {
     "name": "stdout",
     "output_type": "stream",
     "text": [
      "22/12/02 11:07:08 WARN MemoryStore: Not enough space to cache rdd_2_98 in memory! (computed 3.2 MiB so far)\n",
      "22/12/02 11:07:08 WARN BlockManager: Block rdd_2_98 could not be removed as it was not found on disk or in memory\n",
      "22/12/02 11:07:08 WARN BlockManager: Putting block rdd_2_98 failed\n",
      "22/12/02 11:07:08 WARN MemoryStore: Not enough space to cache rdd_2_99 in memory! (computed 5.9 MiB so far)\n",
      "22/12/02 11:07:08 WARN BlockManager: Block rdd_2_99 could not be removed as it was not found on disk or in memory\n",
      "22/12/02 11:07:08 WARN BlockManager: Putting block rdd_2_99 failed\n"
     ]
    },
    {
     "name": "stderr",
     "output_type": "stream",
     "text": [
      "                                                                                \r"
     ]
    },
    {
     "data": {
      "text/plain": [
       "[None,\n",
       " 'http://creativecommons.org/licenses/publicdomain/',\n",
       " 'http://creativecommons.org/licenses/by-nc-nd/4.0/',\n",
       " 'http://creativecommons.org/licenses/by-nc-sa/4.0/',\n",
       " 'http://creativecommons.org/licenses/by-nc-sa/3.0/',\n",
       " 'http://creativecommons.org/licenses/by/3.0/',\n",
       " 'http://creativecommons.org/licenses/by/4.0/',\n",
       " 'http://creativecommons.org/publicdomain/zero/1.0/',\n",
       " 'http://arxiv.org/licenses/nonexclusive-distrib/1.0/',\n",
       " 'http://creativecommons.org/licenses/by-sa/4.0/']"
      ]
     },
     "execution_count": 10,
     "metadata": {},
     "output_type": "execute_result"
    }
   ],
   "source": [
    "rdd.map(lambda x: x[\"license\"]).distinct().collect()"
   ]
  },
  {
   "cell_type": "markdown",
   "metadata": {
    "id": "_giGZDm981Uz"
   },
   "source": [
    "## Question 5: Get the shortest and the longest titles"
   ]
  },
  {
   "cell_type": "code",
   "execution_count": 11,
   "metadata": {
    "id": "0ujiDBLl81Uz"
   },
   "outputs": [
    {
     "name": "stderr",
     "output_type": "stream",
     "text": [
      "[Stage 6:==============>                                         (25 + 4) / 100]\r"
     ]
    },
    {
     "name": "stdout",
     "output_type": "stream",
     "text": [
      "22/12/02 11:07:13 WARN MemoryStore: Not enough space to cache rdd_2_24 in memory! (computed 6.8 MiB so far)\n",
      "22/12/02 11:07:13 WARN BlockManager: Block rdd_2_24 could not be removed as it was not found on disk or in memory\n",
      "22/12/02 11:07:13 WARN BlockManager: Putting block rdd_2_24 failed\n",
      "22/12/02 11:07:14 WARN MemoryStore: Not enough space to cache rdd_2_26 in memory! (computed 1583.5 KiB so far)\n",
      "22/12/02 11:07:14 WARN BlockManager: Block rdd_2_26 could not be removed as it was not found on disk or in memory\n",
      "22/12/02 11:07:14 WARN BlockManager: Putting block rdd_2_26 failed\n",
      "22/12/02 11:07:14 WARN MemoryStore: Failed to reserve initial memory threshold of 1024.0 KiB for computing block rdd_2_27 in memory.\n",
      "22/12/02 11:07:14 WARN MemoryStore: Not enough space to cache rdd_2_25 in memory! (computed 2.4 MiB so far)\n",
      "22/12/02 11:07:14 WARN BlockManager: Block rdd_2_25 could not be removed as it was not found on disk or in memory\n",
      "22/12/02 11:07:14 WARN BlockManager: Putting block rdd_2_25 failed\n",
      "22/12/02 11:07:14 WARN MemoryStore: Not enough space to cache rdd_2_27 in memory! (computed 0.0 B so far)\n",
      "22/12/02 11:07:14 WARN BlockManager: Block rdd_2_27 could not be removed as it was not found on disk or in memory\n",
      "22/12/02 11:07:14 WARN BlockManager: Putting block rdd_2_27 failed\n"
     ]
    },
    {
     "name": "stderr",
     "output_type": "stream",
     "text": [
      "[Stage 6:===============>                                        (28 + 4) / 100]\r"
     ]
    },
    {
     "name": "stdout",
     "output_type": "stream",
     "text": [
      "22/12/02 11:07:15 WARN MemoryStore: Not enough space to cache rdd_2_29 in memory! (computed 2.4 MiB so far)\n",
      "22/12/02 11:07:15 WARN BlockManager: Block rdd_2_29 could not be removed as it was not found on disk or in memory\n",
      "22/12/02 11:07:15 WARN BlockManager: Putting block rdd_2_29 failed\n",
      "22/12/02 11:07:15 WARN MemoryStore: Not enough space to cache rdd_2_30 in memory! (computed 1562.2 KiB so far)\n",
      "22/12/02 11:07:15 WARN BlockManager: Block rdd_2_30 could not be removed as it was not found on disk or in memory\n",
      "22/12/02 11:07:15 WARN BlockManager: Putting block rdd_2_30 failed\n",
      "22/12/02 11:07:15 WARN MemoryStore: Not enough space to cache rdd_2_28 in memory! (computed 6.8 MiB so far)\n",
      "22/12/02 11:07:15 WARN BlockManager: Block rdd_2_28 could not be removed as it was not found on disk or in memory\n",
      "22/12/02 11:07:15 WARN BlockManager: Putting block rdd_2_28 failed\n"
     ]
    },
    {
     "name": "stderr",
     "output_type": "stream",
     "text": [
      "[Stage 6:=================>                                      (31 + 4) / 100]\r"
     ]
    },
    {
     "name": "stdout",
     "output_type": "stream",
     "text": [
      "22/12/02 11:07:15 WARN MemoryStore: Not enough space to cache rdd_2_31 in memory! (computed 6.9 MiB so far)\n",
      "22/12/02 11:07:15 WARN BlockManager: Block rdd_2_31 could not be removed as it was not found on disk or in memory\n",
      "22/12/02 11:07:15 WARN BlockManager: Putting block rdd_2_31 failed\n",
      "22/12/02 11:07:16 WARN MemoryStore: Failed to reserve initial memory threshold of 1024.0 KiB for computing block rdd_2_34 in memory.\n",
      "22/12/02 11:07:16 WARN MemoryStore: Not enough space to cache rdd_2_33 in memory! (computed 1644.7 KiB so far)\n",
      "22/12/02 11:07:16 WARN BlockManager: Block rdd_2_33 could not be removed as it was not found on disk or in memory\n",
      "22/12/02 11:07:16 WARN BlockManager: Putting block rdd_2_33 failed\n"
     ]
    },
    {
     "name": "stderr",
     "output_type": "stream",
     "text": [
      "[Stage 6:=================>                                      (32 + 4) / 100]\r"
     ]
    },
    {
     "name": "stdout",
     "output_type": "stream",
     "text": [
      "22/12/02 11:07:16 WARN MemoryStore: Not enough space to cache rdd_2_34 in memory! (computed 0.0 B so far)\n",
      "22/12/02 11:07:16 WARN BlockManager: Block rdd_2_34 could not be removed as it was not found on disk or in memory\n",
      "22/12/02 11:07:16 WARN BlockManager: Putting block rdd_2_34 failed\n",
      "22/12/02 11:07:16 WARN MemoryStore: Not enough space to cache rdd_2_32 in memory! (computed 7.0 MiB so far)\n",
      "22/12/02 11:07:16 WARN BlockManager: Block rdd_2_32 could not be removed as it was not found on disk or in memory\n",
      "22/12/02 11:07:16 WARN BlockManager: Putting block rdd_2_32 failed\n"
     ]
    },
    {
     "name": "stderr",
     "output_type": "stream",
     "text": [
      "[Stage 6:===================>                                    (35 + 4) / 100]\r"
     ]
    },
    {
     "name": "stdout",
     "output_type": "stream",
     "text": [
      "22/12/02 11:07:17 WARN MemoryStore: Not enough space to cache rdd_2_35 in memory! (computed 7.0 MiB so far)\n",
      "22/12/02 11:07:17 WARN BlockManager: Block rdd_2_35 could not be removed as it was not found on disk or in memory\n",
      "22/12/02 11:07:17 WARN BlockManager: Putting block rdd_2_35 failed\n",
      "22/12/02 11:07:17 WARN MemoryStore: Not enough space to cache rdd_2_36 in memory! (computed 2.5 MiB so far)\n",
      "22/12/02 11:07:17 WARN BlockManager: Block rdd_2_36 could not be removed as it was not found on disk or in memory\n",
      "22/12/02 11:07:17 WARN BlockManager: Putting block rdd_2_36 failed\n",
      "22/12/02 11:07:17 WARN MemoryStore: Not enough space to cache rdd_2_37 in memory! (computed 1666.5 KiB so far)\n",
      "22/12/02 11:07:17 WARN MemoryStore: Failed to reserve initial memory threshold of 1024.0 KiB for computing block rdd_2_38 in memory.\n",
      "22/12/02 11:07:17 WARN BlockManager: Block rdd_2_37 could not be removed as it was not found on disk or in memory\n",
      "22/12/02 11:07:17 WARN BlockManager: Putting block rdd_2_37 failed\n",
      "22/12/02 11:07:17 WARN MemoryStore: Not enough space to cache rdd_2_38 in memory! (computed 0.0 B so far)\n",
      "22/12/02 11:07:17 WARN BlockManager: Block rdd_2_38 could not be removed as it was not found on disk or in memory\n",
      "22/12/02 11:07:17 WARN BlockManager: Putting block rdd_2_38 failed\n"
     ]
    },
    {
     "name": "stderr",
     "output_type": "stream",
     "text": [
      "[Stage 6:=====================>                                  (39 + 4) / 100]\r"
     ]
    },
    {
     "name": "stdout",
     "output_type": "stream",
     "text": [
      "22/12/02 11:07:18 WARN MemoryStore: Not enough space to cache rdd_2_40 in memory! (computed 1634.3 KiB so far)\n",
      "22/12/02 11:07:18 WARN MemoryStore: Not enough space to cache rdd_2_39 in memory! (computed 7.1 MiB so far)\n",
      "22/12/02 11:07:18 WARN BlockManager: Block rdd_2_39 could not be removed as it was not found on disk or in memory\n",
      "22/12/02 11:07:18 WARN BlockManager: Block rdd_2_40 could not be removed as it was not found on disk or in memory\n",
      "22/12/02 11:07:18 WARN BlockManager: Putting block rdd_2_40 failed\n",
      "22/12/02 11:07:18 WARN BlockManager: Putting block rdd_2_39 failed\n"
     ]
    },
    {
     "name": "stderr",
     "output_type": "stream",
     "text": [
      "[Stage 6:======================>                                 (40 + 4) / 100]\r"
     ]
    },
    {
     "name": "stdout",
     "output_type": "stream",
     "text": [
      "22/12/02 11:07:18 WARN MemoryStore: Not enough space to cache rdd_2_41 in memory! (computed 4.3 MiB so far)\n",
      "22/12/02 11:07:18 WARN BlockManager: Block rdd_2_41 could not be removed as it was not found on disk or in memory\n",
      "22/12/02 11:07:18 WARN BlockManager: Putting block rdd_2_41 failed\n",
      "22/12/02 11:07:18 WARN MemoryStore: Not enough space to cache rdd_2_42 in memory! (computed 4.3 MiB so far)\n",
      "22/12/02 11:07:18 WARN BlockManager: Block rdd_2_42 could not be removed as it was not found on disk or in memory\n",
      "22/12/02 11:07:18 WARN BlockManager: Putting block rdd_2_42 failed\n"
     ]
    },
    {
     "name": "stderr",
     "output_type": "stream",
     "text": [
      "[Stage 6:=======================>                                (42 + 4) / 100]\r"
     ]
    },
    {
     "name": "stdout",
     "output_type": "stream",
     "text": [
      "22/12/02 11:07:19 WARN MemoryStore: Not enough space to cache rdd_2_44 in memory! (computed 1662.7 KiB so far)\n",
      "22/12/02 11:07:19 WARN BlockManager: Block rdd_2_44 could not be removed as it was not found on disk or in memory\n",
      "22/12/02 11:07:19 WARN BlockManager: Putting block rdd_2_44 failed\n",
      "22/12/02 11:07:19 WARN MemoryStore: Not enough space to cache rdd_2_43 in memory! (computed 7.1 MiB so far)\n",
      "22/12/02 11:07:19 WARN BlockManager: Block rdd_2_43 could not be removed as it was not found on disk or in memory\n",
      "22/12/02 11:07:19 WARN BlockManager: Putting block rdd_2_43 failed\n"
     ]
    },
    {
     "name": "stderr",
     "output_type": "stream",
     "text": [
      "[Stage 6:========================>                               (44 + 4) / 100]\r"
     ]
    },
    {
     "name": "stdout",
     "output_type": "stream",
     "text": [
      "22/12/02 11:07:19 WARN MemoryStore: Not enough space to cache rdd_2_45 in memory! (computed 1683.4 KiB so far)\n",
      "22/12/02 11:07:19 WARN BlockManager: Block rdd_2_45 could not be removed as it was not found on disk or in memory\n",
      "22/12/02 11:07:19 WARN BlockManager: Putting block rdd_2_45 failed\n",
      "22/12/02 11:07:20 WARN MemoryStore: Not enough space to cache rdd_2_46 in memory! (computed 7.1 MiB so far)\n",
      "22/12/02 11:07:20 WARN BlockManager: Block rdd_2_46 could not be removed as it was not found on disk or in memory\n",
      "22/12/02 11:07:20 WARN BlockManager: Putting block rdd_2_46 failed\n"
     ]
    },
    {
     "name": "stderr",
     "output_type": "stream",
     "text": [
      "[Stage 6:==========================>                             (47 + 4) / 100]\r"
     ]
    },
    {
     "name": "stdout",
     "output_type": "stream",
     "text": [
      "22/12/02 11:07:20 WARN MemoryStore: Not enough space to cache rdd_2_48 in memory! (computed 1666.4 KiB so far)\n",
      "22/12/02 11:07:20 WARN BlockManager: Block rdd_2_48 could not be removed as it was not found on disk or in memory\n",
      "22/12/02 11:07:20 WARN BlockManager: Putting block rdd_2_48 failed\n",
      "22/12/02 11:07:20 WARN MemoryStore: Not enough space to cache rdd_2_49 in memory! (computed 1662.1 KiB so far)\n",
      "22/12/02 11:07:20 WARN BlockManager: Block rdd_2_49 could not be removed as it was not found on disk or in memory\n",
      "22/12/02 11:07:20 WARN BlockManager: Putting block rdd_2_49 failed\n",
      "22/12/02 11:07:20 WARN MemoryStore: Not enough space to cache rdd_2_47 in memory! (computed 7.2 MiB so far)\n",
      "22/12/02 11:07:20 WARN BlockManager: Block rdd_2_47 could not be removed as it was not found on disk or in memory\n",
      "22/12/02 11:07:20 WARN BlockManager: Putting block rdd_2_47 failed\n"
     ]
    },
    {
     "name": "stderr",
     "output_type": "stream",
     "text": [
      "[Stage 6:==========================>                             (48 + 4) / 100]\r"
     ]
    },
    {
     "name": "stdout",
     "output_type": "stream",
     "text": [
      "22/12/02 11:07:21 WARN MemoryStore: Not enough space to cache rdd_2_50 in memory! (computed 2.6 MiB so far)\n",
      "22/12/02 11:07:21 WARN BlockManager: Block rdd_2_50 could not be removed as it was not found on disk or in memory\n",
      "22/12/02 11:07:21 WARN BlockManager: Putting block rdd_2_50 failed\n"
     ]
    },
    {
     "name": "stderr",
     "output_type": "stream",
     "text": [
      "[Stage 6:=============================>                          (52 + 4) / 100]\r"
     ]
    },
    {
     "name": "stdout",
     "output_type": "stream",
     "text": [
      "22/12/02 11:07:21 WARN MemoryStore: Not enough space to cache rdd_2_51 in memory! (computed 4.4 MiB so far)\n",
      "22/12/02 11:07:21 WARN BlockManager: Block rdd_2_51 could not be removed as it was not found on disk or in memory\n",
      "22/12/02 11:07:21 WARN BlockManager: Putting block rdd_2_51 failed\n",
      "22/12/02 11:07:22 WARN MemoryStore: Not enough space to cache rdd_2_53 in memory! (computed 1651.6 KiB so far)\n",
      "22/12/02 11:07:22 WARN BlockManager: Block rdd_2_53 could not be removed as it was not found on disk or in memory\n",
      "22/12/02 11:07:22 WARN BlockManager: Putting block rdd_2_53 failed\n",
      "22/12/02 11:07:22 WARN MemoryStore: Not enough space to cache rdd_2_54 in memory! (computed 1685.0 KiB so far)\n",
      "22/12/02 11:07:22 WARN BlockManager: Block rdd_2_54 could not be removed as it was not found on disk or in memory\n",
      "22/12/02 11:07:22 WARN BlockManager: Putting block rdd_2_54 failed\n",
      "22/12/02 11:07:22 WARN MemoryStore: Not enough space to cache rdd_2_52 in memory! (computed 7.3 MiB so far)\n",
      "22/12/02 11:07:22 WARN BlockManager: Block rdd_2_52 could not be removed as it was not found on disk or in memory\n",
      "22/12/02 11:07:22 WARN BlockManager: Putting block rdd_2_52 failed\n"
     ]
    },
    {
     "name": "stderr",
     "output_type": "stream",
     "text": [
      "[Stage 6:==============================>                         (55 + 4) / 100]\r"
     ]
    },
    {
     "name": "stdout",
     "output_type": "stream",
     "text": [
      "22/12/02 11:07:23 WARN MemoryStore: Not enough space to cache rdd_2_57 in memory! (computed 1664.7 KiB so far)\n",
      "22/12/02 11:07:23 WARN BlockManager: Block rdd_2_57 could not be removed as it was not found on disk or in memory\n",
      "22/12/02 11:07:23 WARN BlockManager: Putting block rdd_2_57 failed\n",
      "22/12/02 11:07:23 WARN MemoryStore: Not enough space to cache rdd_2_56 in memory! (computed 7.3 MiB so far)\n",
      "22/12/02 11:07:23 WARN BlockManager: Block rdd_2_56 could not be removed as it was not found on disk or in memory\n",
      "22/12/02 11:07:23 WARN BlockManager: Putting block rdd_2_56 failed\n",
      "22/12/02 11:07:23 WARN MemoryStore: Not enough space to cache rdd_2_58 in memory! (computed 2.6 MiB so far)\n",
      "22/12/02 11:07:23 WARN BlockManager: Block rdd_2_58 could not be removed as it was not found on disk or in memory\n",
      "22/12/02 11:07:23 WARN BlockManager: Putting block rdd_2_58 failed\n",
      "22/12/02 11:07:23 WARN MemoryStore: Failed to reserve initial memory threshold of 1024.0 KiB for computing block rdd_2_59 in memory.\n",
      "22/12/02 11:07:23 WARN MemoryStore: Not enough space to cache rdd_2_59 in memory! (computed 0.0 B so far)\n",
      "22/12/02 11:07:23 WARN BlockManager: Block rdd_2_59 could not be removed as it was not found on disk or in memory\n",
      "22/12/02 11:07:23 WARN BlockManager: Putting block rdd_2_59 failed\n"
     ]
    },
    {
     "name": "stderr",
     "output_type": "stream",
     "text": [
      "[Stage 6:================================>                       (58 + 4) / 100]\r"
     ]
    },
    {
     "name": "stdout",
     "output_type": "stream",
     "text": [
      "22/12/02 11:07:24 WARN MemoryStore: Not enough space to cache rdd_2_60 in memory! (computed 4.5 MiB so far)\n",
      "22/12/02 11:07:24 WARN BlockManager: Block rdd_2_60 could not be removed as it was not found on disk or in memory\n",
      "22/12/02 11:07:24 WARN BlockManager: Putting block rdd_2_60 failed\n",
      "22/12/02 11:07:24 WARN MemoryStore: Not enough space to cache rdd_2_61 in memory! (computed 4.5 MiB so far)\n",
      "22/12/02 11:07:24 WARN BlockManager: Block rdd_2_61 could not be removed as it was not found on disk or in memory\n",
      "22/12/02 11:07:24 WARN BlockManager: Putting block rdd_2_61 failed\n"
     ]
    },
    {
     "name": "stderr",
     "output_type": "stream",
     "text": [
      "[Stage 6:=================================>                      (60 + 4) / 100]\r"
     ]
    },
    {
     "name": "stdout",
     "output_type": "stream",
     "text": [
      "22/12/02 11:07:24 WARN MemoryStore: Not enough space to cache rdd_2_63 in memory! (computed 2.6 MiB so far)\n",
      "22/12/02 11:07:24 WARN BlockManager: Block rdd_2_63 could not be removed as it was not found on disk or in memory\n",
      "22/12/02 11:07:24 WARN BlockManager: Putting block rdd_2_63 failed\n",
      "22/12/02 11:07:24 WARN MemoryStore: Not enough space to cache rdd_2_62 in memory! (computed 7.4 MiB so far)\n",
      "22/12/02 11:07:24 WARN BlockManager: Block rdd_2_62 could not be removed as it was not found on disk or in memory\n",
      "22/12/02 11:07:24 WARN BlockManager: Putting block rdd_2_62 failed\n"
     ]
    },
    {
     "name": "stderr",
     "output_type": "stream",
     "text": [
      "[Stage 6:==================================>                     (62 + 4) / 100]\r"
     ]
    },
    {
     "name": "stdout",
     "output_type": "stream",
     "text": [
      "22/12/02 11:07:25 WARN MemoryStore: Not enough space to cache rdd_2_65 in memory! (computed 2.6 MiB so far)\n",
      "22/12/02 11:07:25 WARN BlockManager: Block rdd_2_65 could not be removed as it was not found on disk or in memory\n",
      "22/12/02 11:07:25 WARN BlockManager: Putting block rdd_2_65 failed\n",
      "22/12/02 11:07:25 WARN MemoryStore: Not enough space to cache rdd_2_64 in memory! (computed 7.4 MiB so far)\n",
      "22/12/02 11:07:25 WARN BlockManager: Block rdd_2_64 could not be removed as it was not found on disk or in memory\n",
      "22/12/02 11:07:25 WARN BlockManager: Putting block rdd_2_64 failed\n"
     ]
    },
    {
     "name": "stderr",
     "output_type": "stream",
     "text": [
      "[Stage 6:===================================>                    (64 + 4) / 100]\r"
     ]
    },
    {
     "name": "stdout",
     "output_type": "stream",
     "text": [
      "22/12/02 11:07:25 WARN MemoryStore: Not enough space to cache rdd_2_66 in memory! (computed 1746.1 KiB so far)\n",
      "22/12/02 11:07:25 WARN BlockManager: Block rdd_2_66 could not be removed as it was not found on disk or in memory\n",
      "22/12/02 11:07:25 WARN BlockManager: Putting block rdd_2_66 failed\n"
     ]
    },
    {
     "name": "stderr",
     "output_type": "stream",
     "text": [
      "[Stage 6:====================================>                   (66 + 4) / 100]\r"
     ]
    },
    {
     "name": "stdout",
     "output_type": "stream",
     "text": [
      "22/12/02 11:07:26 WARN MemoryStore: Not enough space to cache rdd_2_67 in memory! (computed 4.6 MiB so far)\n",
      "22/12/02 11:07:26 WARN BlockManager: Block rdd_2_67 could not be removed as it was not found on disk or in memory\n",
      "22/12/02 11:07:26 WARN BlockManager: Putting block rdd_2_67 failed\n",
      "22/12/02 11:07:26 WARN MemoryStore: Not enough space to cache rdd_2_68 in memory! (computed 1760.6 KiB so far)\n",
      "22/12/02 11:07:26 WARN BlockManager: Block rdd_2_68 could not be removed as it was not found on disk or in memory\n",
      "22/12/02 11:07:26 WARN BlockManager: Putting block rdd_2_68 failed\n",
      "22/12/02 11:07:26 WARN MemoryStore: Not enough space to cache rdd_2_69 in memory! (computed 4.5 MiB so far)\n",
      "22/12/02 11:07:26 WARN BlockManager: Block rdd_2_69 could not be removed as it was not found on disk or in memory\n",
      "22/12/02 11:07:26 WARN BlockManager: Putting block rdd_2_69 failed\n"
     ]
    },
    {
     "name": "stderr",
     "output_type": "stream",
     "text": [
      "[Stage 6:======================================>                 (69 + 4) / 100]\r"
     ]
    },
    {
     "name": "stdout",
     "output_type": "stream",
     "text": [
      "22/12/02 11:07:26 WARN MemoryStore: Not enough space to cache rdd_2_70 in memory! (computed 4.7 MiB so far)\n",
      "22/12/02 11:07:26 WARN BlockManager: Block rdd_2_70 could not be removed as it was not found on disk or in memory\n",
      "22/12/02 11:07:26 WARN BlockManager: Putting block rdd_2_70 failed\n",
      "22/12/02 11:07:27 WARN MemoryStore: Failed to reserve initial memory threshold of 1024.0 KiB for computing block rdd_2_73 in memory.\n",
      "22/12/02 11:07:27 WARN MemoryStore: Not enough space to cache rdd_2_72 in memory! (computed 1752.7 KiB so far)\n",
      "22/12/02 11:07:27 WARN BlockManager: Block rdd_2_72 could not be removed as it was not found on disk or in memory\n",
      "22/12/02 11:07:27 WARN BlockManager: Putting block rdd_2_72 failed\n",
      "22/12/02 11:07:27 WARN MemoryStore: Not enough space to cache rdd_2_73 in memory! (computed 0.0 B so far)\n",
      "22/12/02 11:07:27 WARN BlockManager: Block rdd_2_73 could not be removed as it was not found on disk or in memory\n",
      "22/12/02 11:07:27 WARN BlockManager: Putting block rdd_2_73 failed\n",
      "22/12/02 11:07:27 WARN MemoryStore: Not enough space to cache rdd_2_71 in memory! (computed 7.8 MiB so far)\n",
      "22/12/02 11:07:27 WARN BlockManager: Block rdd_2_71 could not be removed as it was not found on disk or in memory\n",
      "22/12/02 11:07:27 WARN BlockManager: Putting block rdd_2_71 failed\n"
     ]
    },
    {
     "name": "stderr",
     "output_type": "stream",
     "text": [
      "[Stage 6:=========================================>              (74 + 4) / 100]\r"
     ]
    },
    {
     "name": "stdout",
     "output_type": "stream",
     "text": [
      "22/12/02 11:07:28 WARN MemoryStore: Not enough space to cache rdd_2_76 in memory! (computed 2.6 MiB so far)\n",
      "22/12/02 11:07:28 WARN BlockManager: Block rdd_2_76 could not be removed as it was not found on disk or in memory\n",
      "22/12/02 11:07:28 WARN BlockManager: Putting block rdd_2_76 failed\n",
      "22/12/02 11:07:28 WARN MemoryStore: Failed to reserve initial memory threshold of 1024.0 KiB for computing block rdd_2_77 in memory.\n",
      "22/12/02 11:07:28 WARN MemoryStore: Not enough space to cache rdd_2_74 in memory! (computed 4.6 MiB so far)\n",
      "22/12/02 11:07:28 WARN BlockManager: Block rdd_2_74 could not be removed as it was not found on disk or in memory\n",
      "22/12/02 11:07:28 WARN BlockManager: Putting block rdd_2_74 failed\n",
      "22/12/02 11:07:28 WARN MemoryStore: Not enough space to cache rdd_2_75 in memory! (computed 2.7 MiB so far)\n",
      "22/12/02 11:07:28 WARN BlockManager: Block rdd_2_75 could not be removed as it was not found on disk or in memory\n",
      "22/12/02 11:07:28 WARN BlockManager: Putting block rdd_2_75 failed\n",
      "22/12/02 11:07:28 WARN MemoryStore: Not enough space to cache rdd_2_77 in memory! (computed 0.0 B so far)\n",
      "22/12/02 11:07:28 WARN BlockManager: Block rdd_2_77 could not be removed as it was not found on disk or in memory\n",
      "22/12/02 11:07:28 WARN BlockManager: Putting block rdd_2_77 failed\n"
     ]
    },
    {
     "name": "stderr",
     "output_type": "stream",
     "text": [
      "[Stage 6:==========================================>             (76 + 4) / 100]\r"
     ]
    },
    {
     "name": "stdout",
     "output_type": "stream",
     "text": [
      "22/12/02 11:07:29 WARN MemoryStore: Not enough space to cache rdd_2_78 in memory! (computed 2.7 MiB so far)\n",
      "22/12/02 11:07:29 WARN BlockManager: Block rdd_2_78 could not be removed as it was not found on disk or in memory\n",
      "22/12/02 11:07:29 WARN BlockManager: Putting block rdd_2_78 failed\n",
      "22/12/02 11:07:29 WARN MemoryStore: Failed to reserve initial memory threshold of 1024.0 KiB for computing block rdd_2_80 in memory.\n",
      "22/12/02 11:07:29 WARN MemoryStore: Failed to reserve initial memory threshold of 1024.0 KiB for computing block rdd_2_81 in memory.\n",
      "22/12/02 11:07:29 WARN MemoryStore: Not enough space to cache rdd_2_81 in memory! (computed 0.0 B so far)\n",
      "22/12/02 11:07:29 WARN BlockManager: Block rdd_2_81 could not be removed as it was not found on disk or in memory\n",
      "22/12/02 11:07:29 WARN BlockManager: Putting block rdd_2_81 failed\n",
      "22/12/02 11:07:29 WARN MemoryStore: Not enough space to cache rdd_2_80 in memory! (computed 0.0 B so far)\n",
      "22/12/02 11:07:29 WARN BlockManager: Block rdd_2_80 could not be removed as it was not found on disk or in memory\n",
      "22/12/02 11:07:29 WARN BlockManager: Putting block rdd_2_80 failed\n",
      "22/12/02 11:07:29 WARN MemoryStore: Not enough space to cache rdd_2_79 in memory! (computed 7.5 MiB so far)\n",
      "22/12/02 11:07:29 WARN BlockManager: Block rdd_2_79 could not be removed as it was not found on disk or in memory\n",
      "22/12/02 11:07:29 WARN BlockManager: Putting block rdd_2_79 failed\n"
     ]
    },
    {
     "name": "stderr",
     "output_type": "stream",
     "text": [
      "[Stage 6:=============================================>          (82 + 4) / 100]\r"
     ]
    },
    {
     "name": "stdout",
     "output_type": "stream",
     "text": [
      "22/12/02 11:07:30 WARN MemoryStore: Not enough space to cache rdd_2_85 in memory! (computed 1885.7 KiB so far)\n",
      "22/12/02 11:07:30 WARN BlockManager: Block rdd_2_85 could not be removed as it was not found on disk or in memory\n",
      "22/12/02 11:07:30 WARN BlockManager: Putting block rdd_2_85 failed\n",
      "22/12/02 11:07:30 WARN MemoryStore: Not enough space to cache rdd_2_84 in memory! (computed 1778.8 KiB so far)\n",
      "22/12/02 11:07:30 WARN BlockManager: Block rdd_2_84 could not be removed as it was not found on disk or in memory\n",
      "22/12/02 11:07:30 WARN BlockManager: Putting block rdd_2_84 failed\n",
      "22/12/02 11:07:30 WARN MemoryStore: Not enough space to cache rdd_2_83 in memory! (computed 1698.6 KiB so far)\n",
      "22/12/02 11:07:30 WARN BlockManager: Block rdd_2_83 could not be removed as it was not found on disk or in memory\n",
      "22/12/02 11:07:30 WARN BlockManager: Putting block rdd_2_83 failed\n",
      "22/12/02 11:07:30 WARN MemoryStore: Not enough space to cache rdd_2_82 in memory! (computed 7.3 MiB so far)\n",
      "22/12/02 11:07:30 WARN BlockManager: Block rdd_2_82 could not be removed as it was not found on disk or in memory\n",
      "22/12/02 11:07:30 WARN BlockManager: Putting block rdd_2_82 failed\n"
     ]
    },
    {
     "name": "stderr",
     "output_type": "stream",
     "text": [
      "[Stage 6:================================================>       (86 + 4) / 100]\r"
     ]
    },
    {
     "name": "stdout",
     "output_type": "stream",
     "text": [
      "22/12/02 11:07:31 WARN MemoryStore: Not enough space to cache rdd_2_86 in memory! (computed 2.6 MiB so far)\n",
      "22/12/02 11:07:31 WARN BlockManager: Block rdd_2_86 could not be removed as it was not found on disk or in memory\n",
      "22/12/02 11:07:31 WARN BlockManager: Putting block rdd_2_86 failed\n",
      "22/12/02 11:07:31 WARN MemoryStore: Not enough space to cache rdd_2_88 in memory! (computed 1320.1 KiB so far)\n",
      "22/12/02 11:07:31 WARN BlockManager: Block rdd_2_88 could not be removed as it was not found on disk or in memory\n",
      "22/12/02 11:07:31 WARN BlockManager: Putting block rdd_2_88 failed\n",
      "22/12/02 11:07:31 WARN MemoryStore: Not enough space to cache rdd_2_89 in memory! (computed 3.6 MiB so far)\n",
      "22/12/02 11:07:31 WARN BlockManager: Block rdd_2_89 could not be removed as it was not found on disk or in memory\n",
      "22/12/02 11:07:31 WARN BlockManager: Putting block rdd_2_89 failed\n",
      "22/12/02 11:07:31 WARN MemoryStore: Not enough space to cache rdd_2_87 in memory! (computed 8.5 MiB so far)\n",
      "22/12/02 11:07:31 WARN BlockManager: Block rdd_2_87 could not be removed as it was not found on disk or in memory\n",
      "22/12/02 11:07:31 WARN BlockManager: Putting block rdd_2_87 failed\n"
     ]
    },
    {
     "name": "stderr",
     "output_type": "stream",
     "text": [
      "[Stage 6:==================================================>     (90 + 4) / 100]\r"
     ]
    },
    {
     "name": "stdout",
     "output_type": "stream",
     "text": [
      "22/12/02 11:07:32 WARN MemoryStore: Not enough space to cache rdd_2_90 in memory! (computed 5.6 MiB so far)\n",
      "22/12/02 11:07:32 WARN MemoryStore: Not enough space to cache rdd_2_92 in memory! (computed 1936.2 KiB so far)\n",
      "22/12/02 11:07:32 WARN BlockManager: Block rdd_2_92 could not be removed as it was not found on disk or in memory\n",
      "22/12/02 11:07:32 WARN BlockManager: Putting block rdd_2_92 failed\n",
      "22/12/02 11:07:32 WARN BlockManager: Block rdd_2_90 could not be removed as it was not found on disk or in memory\n",
      "22/12/02 11:07:32 WARN BlockManager: Putting block rdd_2_90 failed\n",
      "22/12/02 11:07:32 WARN MemoryStore: Not enough space to cache rdd_2_91 in memory! (computed 3.2 MiB so far)\n",
      "22/12/02 11:07:32 WARN BlockManager: Block rdd_2_91 could not be removed as it was not found on disk or in memory\n",
      "22/12/02 11:07:32 WARN BlockManager: Putting block rdd_2_91 failed\n",
      "22/12/02 11:07:33 WARN MemoryStore: Not enough space to cache rdd_2_93 in memory! (computed 4.9 MiB so far)\n",
      "22/12/02 11:07:33 WARN BlockManager: Block rdd_2_93 could not be removed as it was not found on disk or in memory\n",
      "22/12/02 11:07:33 WARN BlockManager: Putting block rdd_2_93 failed\n"
     ]
    },
    {
     "name": "stderr",
     "output_type": "stream",
     "text": [
      "[Stage 6:====================================================>   (93 + 4) / 100]\r"
     ]
    },
    {
     "name": "stdout",
     "output_type": "stream",
     "text": [
      "22/12/02 11:07:33 WARN MemoryStore: Not enough space to cache rdd_2_94 in memory! (computed 5.2 MiB so far)\n",
      "22/12/02 11:07:33 WARN BlockManager: Block rdd_2_94 could not be removed as it was not found on disk or in memory\n",
      "22/12/02 11:07:33 WARN BlockManager: Putting block rdd_2_94 failed\n",
      "22/12/02 11:07:33 WARN MemoryStore: Not enough space to cache rdd_2_95 in memory! (computed 2.9 MiB so far)\n",
      "22/12/02 11:07:33 WARN BlockManager: Block rdd_2_95 could not be removed as it was not found on disk or in memory\n",
      "22/12/02 11:07:33 WARN BlockManager: Putting block rdd_2_95 failed\n"
     ]
    },
    {
     "name": "stderr",
     "output_type": "stream",
     "text": [
      "[Stage 6:====================================================>   (94 + 4) / 100]\r"
     ]
    },
    {
     "name": "stdout",
     "output_type": "stream",
     "text": [
      "22/12/02 11:07:34 WARN MemoryStore: Not enough space to cache rdd_2_97 in memory! (computed 2.1 MiB so far)\n",
      "22/12/02 11:07:34 WARN BlockManager: Block rdd_2_97 could not be removed as it was not found on disk or in memory\n",
      "22/12/02 11:07:34 WARN BlockManager: Putting block rdd_2_97 failed\n",
      "22/12/02 11:07:34 WARN MemoryStore: Not enough space to cache rdd_2_96 in memory! (computed 8.0 MiB so far)\n",
      "22/12/02 11:07:34 WARN BlockManager: Block rdd_2_96 could not be removed as it was not found on disk or in memory\n",
      "22/12/02 11:07:34 WARN BlockManager: Putting block rdd_2_96 failed\n"
     ]
    },
    {
     "name": "stderr",
     "output_type": "stream",
     "text": [
      "[Stage 6:=====================================================>  (95 + 4) / 100]\r"
     ]
    },
    {
     "name": "stdout",
     "output_type": "stream",
     "text": [
      "22/12/02 11:07:35 WARN MemoryStore: Not enough space to cache rdd_2_99 in memory! (computed 3.4 MiB so far)\n",
      "22/12/02 11:07:35 WARN BlockManager: Block rdd_2_99 could not be removed as it was not found on disk or in memory\n",
      "22/12/02 11:07:35 WARN BlockManager: Putting block rdd_2_99 failed\n",
      "22/12/02 11:07:35 WARN MemoryStore: Not enough space to cache rdd_2_98 in memory! (computed 5.3 MiB so far)\n",
      "22/12/02 11:07:35 WARN BlockManager: Block rdd_2_98 could not be removed as it was not found on disk or in memory\n",
      "22/12/02 11:07:35 WARN BlockManager: Putting block rdd_2_98 failed\n"
     ]
    },
    {
     "name": "stderr",
     "output_type": "stream",
     "text": [
      "[Stage 7:==============>                                         (25 + 4) / 100]\r"
     ]
    },
    {
     "name": "stdout",
     "output_type": "stream",
     "text": [
      "22/12/02 11:07:37 WARN MemoryStore: Not enough space to cache rdd_2_25 in memory! (computed 4.2 MiB so far)\n",
      "22/12/02 11:07:37 WARN BlockManager: Block rdd_2_25 could not be removed as it was not found on disk or in memory\n",
      "22/12/02 11:07:37 WARN BlockManager: Putting block rdd_2_25 failed\n",
      "22/12/02 11:07:37 WARN MemoryStore: Not enough space to cache rdd_2_26 in memory! (computed 1583.5 KiB so far)\n",
      "22/12/02 11:07:37 WARN BlockManager: Block rdd_2_26 could not be removed as it was not found on disk or in memory\n",
      "22/12/02 11:07:37 WARN BlockManager: Putting block rdd_2_26 failed\n",
      "22/12/02 11:07:37 WARN MemoryStore: Not enough space to cache rdd_2_24 in memory! (computed 4.1 MiB so far)\n",
      "22/12/02 11:07:38 WARN BlockManager: Block rdd_2_24 could not be removed as it was not found on disk or in memory\n",
      "22/12/02 11:07:38 WARN BlockManager: Putting block rdd_2_24 failed\n",
      "22/12/02 11:07:38 WARN MemoryStore: Not enough space to cache rdd_2_27 in memory! (computed 6.8 MiB so far)\n",
      "22/12/02 11:07:38 WARN BlockManager: Block rdd_2_27 could not be removed as it was not found on disk or in memory\n",
      "22/12/02 11:07:38 WARN BlockManager: Putting block rdd_2_27 failed\n"
     ]
    },
    {
     "name": "stderr",
     "output_type": "stream",
     "text": [
      "[Stage 7:==============>                                         (26 + 4) / 100]\r"
     ]
    },
    {
     "name": "stdout",
     "output_type": "stream",
     "text": [
      "22/12/02 11:07:38 WARN MemoryStore: Not enough space to cache rdd_2_28 in memory! (computed 2.4 MiB so far)\n",
      "22/12/02 11:07:38 WARN BlockManager: Block rdd_2_28 could not be removed as it was not found on disk or in memory\n",
      "22/12/02 11:07:38 WARN BlockManager: Putting block rdd_2_28 failed\n"
     ]
    },
    {
     "name": "stderr",
     "output_type": "stream",
     "text": [
      "[Stage 7:===============>                                        (28 + 4) / 100]\r"
     ]
    },
    {
     "name": "stdout",
     "output_type": "stream",
     "text": [
      "22/12/02 11:07:39 WARN MemoryStore: Not enough space to cache rdd_2_29 in memory! (computed 6.8 MiB so far)\n",
      "22/12/02 11:07:39 WARN BlockManager: Block rdd_2_29 could not be removed as it was not found on disk or in memory\n",
      "22/12/02 11:07:39 WARN BlockManager: Putting block rdd_2_29 failed\n",
      "22/12/02 11:07:39 WARN MemoryStore: Not enough space to cache rdd_2_30 in memory! (computed 4.2 MiB so far)\n",
      "22/12/02 11:07:39 WARN BlockManager: Block rdd_2_30 could not be removed as it was not found on disk or in memory\n",
      "22/12/02 11:07:39 WARN BlockManager: Putting block rdd_2_30 failed\n",
      "22/12/02 11:07:39 WARN MemoryStore: Failed to reserve initial memory threshold of 1024.0 KiB for computing block rdd_2_31 in memory.\n",
      "22/12/02 11:07:39 WARN MemoryStore: Failed to reserve initial memory threshold of 1024.0 KiB for computing block rdd_2_32 in memory.\n"
     ]
    },
    {
     "name": "stderr",
     "output_type": "stream",
     "text": [
      "[Stage 7:================>                                       (29 + 4) / 100]\r"
     ]
    },
    {
     "name": "stdout",
     "output_type": "stream",
     "text": [
      "22/12/02 11:07:39 WARN MemoryStore: Not enough space to cache rdd_2_32 in memory! (computed 0.0 B so far)\n",
      "22/12/02 11:07:39 WARN BlockManager: Block rdd_2_32 could not be removed as it was not found on disk or in memory\n",
      "22/12/02 11:07:39 WARN BlockManager: Putting block rdd_2_32 failed\n",
      "22/12/02 11:07:39 WARN MemoryStore: Not enough space to cache rdd_2_31 in memory! (computed 0.0 B so far)\n",
      "22/12/02 11:07:39 WARN BlockManager: Block rdd_2_31 could not be removed as it was not found on disk or in memory\n",
      "22/12/02 11:07:39 WARN BlockManager: Putting block rdd_2_31 failed\n"
     ]
    },
    {
     "name": "stderr",
     "output_type": "stream",
     "text": [
      "[Stage 7:=================>                                      (32 + 4) / 100]\r"
     ]
    },
    {
     "name": "stdout",
     "output_type": "stream",
     "text": [
      "22/12/02 11:07:40 WARN MemoryStore: Not enough space to cache rdd_2_33 in memory! (computed 7.0 MiB so far)\n",
      "22/12/02 11:07:40 WARN BlockManager: Block rdd_2_33 could not be removed as it was not found on disk or in memory\n",
      "22/12/02 11:07:40 WARN BlockManager: Putting block rdd_2_33 failed\n"
     ]
    },
    {
     "name": "stderr",
     "output_type": "stream",
     "text": [
      "[Stage 7:===================>                                    (34 + 4) / 100]\r"
     ]
    },
    {
     "name": "stdout",
     "output_type": "stream",
     "text": [
      "22/12/02 11:07:40 WARN MemoryStore: Not enough space to cache rdd_2_34 in memory! (computed 4.2 MiB so far)\n",
      "22/12/02 11:07:40 WARN BlockManager: Block rdd_2_34 could not be removed as it was not found on disk or in memory\n",
      "22/12/02 11:07:40 WARN BlockManager: Putting block rdd_2_34 failed\n",
      "22/12/02 11:07:40 WARN MemoryStore: Not enough space to cache rdd_2_36 in memory! (computed 2.5 MiB so far)\n",
      "22/12/02 11:07:40 WARN BlockManager: Block rdd_2_36 could not be removed as it was not found on disk or in memory\n",
      "22/12/02 11:07:40 WARN BlockManager: Putting block rdd_2_36 failed\n",
      "22/12/02 11:07:40 WARN MemoryStore: Not enough space to cache rdd_2_35 in memory! (computed 4.3 MiB so far)\n",
      "22/12/02 11:07:40 WARN BlockManager: Block rdd_2_35 could not be removed as it was not found on disk or in memory\n",
      "22/12/02 11:07:40 WARN BlockManager: Putting block rdd_2_35 failed\n"
     ]
    },
    {
     "name": "stderr",
     "output_type": "stream",
     "text": [
      "[Stage 7:===================>                                    (35 + 4) / 100]\r"
     ]
    },
    {
     "name": "stdout",
     "output_type": "stream",
     "text": [
      "22/12/02 11:07:41 WARN MemoryStore: Not enough space to cache rdd_2_37 in memory! (computed 7.1 MiB so far)\n",
      "22/12/02 11:07:41 WARN BlockManager: Block rdd_2_37 could not be removed as it was not found on disk or in memory\n",
      "22/12/02 11:07:41 WARN BlockManager: Putting block rdd_2_37 failed\n",
      "22/12/02 11:07:41 WARN MemoryStore: Not enough space to cache rdd_2_39 in memory! (computed 1623.4 KiB so far)\n",
      "22/12/02 11:07:41 WARN BlockManager: Block rdd_2_39 could not be removed as it was not found on disk or in memory\n",
      "22/12/02 11:07:41 WARN BlockManager: Putting block rdd_2_39 failed\n"
     ]
    },
    {
     "name": "stderr",
     "output_type": "stream",
     "text": [
      "[Stage 7:=====================>                                  (38 + 4) / 100]\r"
     ]
    },
    {
     "name": "stdout",
     "output_type": "stream",
     "text": [
      "22/12/02 11:07:41 WARN MemoryStore: Not enough space to cache rdd_2_40 in memory! (computed 1634.3 KiB so far)\n",
      "22/12/02 11:07:41 WARN BlockManager: Block rdd_2_40 could not be removed as it was not found on disk or in memory\n",
      "22/12/02 11:07:41 WARN BlockManager: Putting block rdd_2_40 failed\n",
      "22/12/02 11:07:42 WARN MemoryStore: Not enough space to cache rdd_2_38 in memory! (computed 7.0 MiB so far)\n",
      "22/12/02 11:07:42 WARN BlockManager: Block rdd_2_38 could not be removed as it was not found on disk or in memory\n",
      "22/12/02 11:07:42 WARN BlockManager: Putting block rdd_2_38 failed\n"
     ]
    },
    {
     "name": "stderr",
     "output_type": "stream",
     "text": [
      "[Stage 7:======================>                                 (40 + 4) / 100]\r"
     ]
    },
    {
     "name": "stdout",
     "output_type": "stream",
     "text": [
      "22/12/02 11:07:42 WARN MemoryStore: Not enough space to cache rdd_2_42 in memory! (computed 2.5 MiB so far)\n",
      "22/12/02 11:07:42 WARN BlockManager: Block rdd_2_42 could not be removed as it was not found on disk or in memory\n",
      "22/12/02 11:07:42 WARN BlockManager: Putting block rdd_2_42 failed\n",
      "22/12/02 11:07:42 WARN MemoryStore: Not enough space to cache rdd_2_41 in memory! (computed 7.0 MiB so far)\n",
      "22/12/02 11:07:42 WARN BlockManager: Block rdd_2_41 could not be removed as it was not found on disk or in memory\n",
      "22/12/02 11:07:42 WARN BlockManager: Putting block rdd_2_41 failed\n"
     ]
    },
    {
     "name": "stderr",
     "output_type": "stream",
     "text": [
      "[Stage 7:======================>                                 (41 + 4) / 100]\r"
     ]
    },
    {
     "name": "stdout",
     "output_type": "stream",
     "text": [
      "22/12/02 11:07:42 WARN MemoryStore: Not enough space to cache rdd_2_43 in memory! (computed 2.5 MiB so far)\n",
      "22/12/02 11:07:42 WARN BlockManager: Block rdd_2_43 could not be removed as it was not found on disk or in memory\n",
      "22/12/02 11:07:42 WARN BlockManager: Putting block rdd_2_43 failed\n"
     ]
    },
    {
     "name": "stderr",
     "output_type": "stream",
     "text": [
      "[Stage 7:=======================>                                (42 + 4) / 100]\r"
     ]
    },
    {
     "name": "stdout",
     "output_type": "stream",
     "text": [
      "22/12/02 11:07:43 WARN MemoryStore: Not enough space to cache rdd_2_44 in memory! (computed 7.2 MiB so far)\n",
      "22/12/02 11:07:43 WARN BlockManager: Block rdd_2_44 could not be removed as it was not found on disk or in memory\n",
      "22/12/02 11:07:43 WARN BlockManager: Putting block rdd_2_44 failed\n"
     ]
    },
    {
     "name": "stderr",
     "output_type": "stream",
     "text": [
      "[Stage 7:========================>                               (44 + 4) / 100]\r"
     ]
    },
    {
     "name": "stdout",
     "output_type": "stream",
     "text": [
      "22/12/02 11:07:43 WARN MemoryStore: Not enough space to cache rdd_2_46 in memory! (computed 1656.6 KiB so far)\n",
      "22/12/02 11:07:43 WARN BlockManager: Block rdd_2_46 could not be removed as it was not found on disk or in memory\n",
      "22/12/02 11:07:43 WARN BlockManager: Putting block rdd_2_46 failed\n",
      "22/12/02 11:07:43 WARN MemoryStore: Not enough space to cache rdd_2_45 in memory! (computed 1683.4 KiB so far)\n",
      "22/12/02 11:07:43 WARN BlockManager: Block rdd_2_45 could not be removed as it was not found on disk or in memory\n",
      "22/12/02 11:07:43 WARN BlockManager: Putting block rdd_2_45 failed\n"
     ]
    },
    {
     "name": "stderr",
     "output_type": "stream",
     "text": [
      "[Stage 7:=========================>                              (46 + 4) / 100]\r"
     ]
    },
    {
     "name": "stdout",
     "output_type": "stream",
     "text": [
      "22/12/02 11:07:44 WARN MemoryStore: Not enough space to cache rdd_2_48 in memory! (computed 2.5 MiB so far)\n",
      "22/12/02 11:07:44 WARN BlockManager: Block rdd_2_48 could not be removed as it was not found on disk or in memory\n",
      "22/12/02 11:07:44 WARN BlockManager: Putting block rdd_2_48 failed\n",
      "22/12/02 11:07:44 WARN MemoryStore: Not enough space to cache rdd_2_47 in memory! (computed 7.2 MiB so far)\n",
      "22/12/02 11:07:44 WARN BlockManager: Block rdd_2_47 could not be removed as it was not found on disk or in memory\n",
      "22/12/02 11:07:44 WARN BlockManager: Putting block rdd_2_47 failed\n"
     ]
    },
    {
     "name": "stderr",
     "output_type": "stream",
     "text": [
      "[Stage 7:==========================>                             (48 + 4) / 100]\r"
     ]
    },
    {
     "name": "stdout",
     "output_type": "stream",
     "text": [
      "22/12/02 11:07:44 WARN MemoryStore: Not enough space to cache rdd_2_50 in memory! (computed 2.6 MiB so far)\n",
      "22/12/02 11:07:44 WARN BlockManager: Block rdd_2_50 could not be removed as it was not found on disk or in memory\n",
      "22/12/02 11:07:44 WARN BlockManager: Putting block rdd_2_50 failed\n",
      "22/12/02 11:07:44 WARN MemoryStore: Failed to reserve initial memory threshold of 1024.0 KiB for computing block rdd_2_51 in memory.\n",
      "22/12/02 11:07:44 WARN MemoryStore: Not enough space to cache rdd_2_51 in memory! (computed 0.0 B so far)\n",
      "22/12/02 11:07:44 WARN BlockManager: Block rdd_2_51 could not be removed as it was not found on disk or in memory\n",
      "22/12/02 11:07:44 WARN BlockManager: Putting block rdd_2_51 failed\n",
      "22/12/02 11:07:45 WARN MemoryStore: Not enough space to cache rdd_2_49 in memory! (computed 7.2 MiB so far)\n",
      "22/12/02 11:07:45 WARN BlockManager: Block rdd_2_49 could not be removed as it was not found on disk or in memory\n",
      "22/12/02 11:07:45 WARN BlockManager: Putting block rdd_2_49 failed\n"
     ]
    },
    {
     "name": "stderr",
     "output_type": "stream",
     "text": [
      "[Stage 7:============================>                           (51 + 4) / 100]\r"
     ]
    },
    {
     "name": "stdout",
     "output_type": "stream",
     "text": [
      "22/12/02 11:07:45 WARN MemoryStore: Not enough space to cache rdd_2_52 in memory! (computed 7.3 MiB so far)\n",
      "22/12/02 11:07:45 WARN BlockManager: Block rdd_2_52 could not be removed as it was not found on disk or in memory\n",
      "22/12/02 11:07:45 WARN BlockManager: Putting block rdd_2_52 failed\n",
      "22/12/02 11:07:45 WARN MemoryStore: Not enough space to cache rdd_2_53 in memory! (computed 1651.6 KiB so far)\n",
      "22/12/02 11:07:45 WARN BlockManager: Block rdd_2_53 could not be removed as it was not found on disk or in memory\n",
      "22/12/02 11:07:45 WARN BlockManager: Putting block rdd_2_53 failed\n",
      "22/12/02 11:07:46 WARN MemoryStore: Not enough space to cache rdd_2_54 in memory! (computed 1685.0 KiB so far)\n",
      "22/12/02 11:07:46 WARN BlockManager: Block rdd_2_54 could not be removed as it was not found on disk or in memory\n",
      "22/12/02 11:07:46 WARN BlockManager: Putting block rdd_2_54 failed\n"
     ]
    },
    {
     "name": "stderr",
     "output_type": "stream",
     "text": [
      "[Stage 7:==============================>                         (54 + 4) / 100]\r"
     ]
    },
    {
     "name": "stdout",
     "output_type": "stream",
     "text": [
      "22/12/02 11:07:46 WARN MemoryStore: Not enough space to cache rdd_2_56 in memory! (computed 4.5 MiB so far)\n",
      "22/12/02 11:07:46 WARN BlockManager: Block rdd_2_56 could not be removed as it was not found on disk or in memory\n",
      "22/12/02 11:07:46 WARN BlockManager: Putting block rdd_2_56 failed\n",
      "22/12/02 11:07:46 WARN MemoryStore: Not enough space to cache rdd_2_57 in memory! (computed 4.5 MiB so far)\n",
      "22/12/02 11:07:46 WARN BlockManager: Block rdd_2_57 could not be removed as it was not found on disk or in memory\n",
      "22/12/02 11:07:46 WARN BlockManager: Putting block rdd_2_57 failed\n"
     ]
    },
    {
     "name": "stderr",
     "output_type": "stream",
     "text": [
      "[Stage 7:===============================>                        (56 + 4) / 100]\r"
     ]
    },
    {
     "name": "stdout",
     "output_type": "stream",
     "text": [
      "22/12/02 11:07:47 WARN MemoryStore: Not enough space to cache rdd_2_58 in memory! (computed 4.5 MiB so far)\n",
      "22/12/02 11:07:47 WARN BlockManager: Block rdd_2_58 could not be removed as it was not found on disk or in memory\n",
      "22/12/02 11:07:47 WARN BlockManager: Putting block rdd_2_58 failed\n",
      "22/12/02 11:07:47 WARN MemoryStore: Not enough space to cache rdd_2_59 in memory! (computed 4.5 MiB so far)\n",
      "22/12/02 11:07:47 WARN BlockManager: Block rdd_2_59 could not be removed as it was not found on disk or in memory\n",
      "22/12/02 11:07:47 WARN BlockManager: Putting block rdd_2_59 failed\n"
     ]
    },
    {
     "name": "stderr",
     "output_type": "stream",
     "text": [
      "[Stage 7:===============================>                        (57 + 4) / 100]\r"
     ]
    },
    {
     "name": "stdout",
     "output_type": "stream",
     "text": [
      "22/12/02 11:07:47 WARN MemoryStore: Not enough space to cache rdd_2_60 in memory! (computed 1686.3 KiB so far)\n",
      "22/12/02 11:07:47 WARN BlockManager: Block rdd_2_60 could not be removed as it was not found on disk or in memory\n",
      "22/12/02 11:07:47 WARN BlockManager: Putting block rdd_2_60 failed\n"
     ]
    },
    {
     "name": "stderr",
     "output_type": "stream",
     "text": [
      "[Stage 7:================================>                       (58 + 4) / 100]\r"
     ]
    },
    {
     "name": "stdout",
     "output_type": "stream",
     "text": [
      "22/12/02 11:07:48 WARN MemoryStore: Not enough space to cache rdd_2_61 in memory! (computed 7.3 MiB so far)\n",
      "22/12/02 11:07:48 WARN BlockManager: Block rdd_2_61 could not be removed as it was not found on disk or in memory\n",
      "22/12/02 11:07:48 WARN BlockManager: Putting block rdd_2_61 failed\n"
     ]
    },
    {
     "name": "stderr",
     "output_type": "stream",
     "text": [
      "[Stage 7:=================================>                      (60 + 4) / 100]\r"
     ]
    },
    {
     "name": "stdout",
     "output_type": "stream",
     "text": [
      "22/12/02 11:07:48 WARN MemoryStore: Not enough space to cache rdd_2_62 in memory! (computed 4.6 MiB so far)\n",
      "22/12/02 11:07:48 WARN BlockManager: Block rdd_2_62 could not be removed as it was not found on disk or in memory\n",
      "22/12/02 11:07:48 WARN BlockManager: Putting block rdd_2_62 failed\n",
      "22/12/02 11:07:48 WARN MemoryStore: Not enough space to cache rdd_2_63 in memory! (computed 4.5 MiB so far)\n",
      "22/12/02 11:07:48 WARN BlockManager: Block rdd_2_63 could not be removed as it was not found on disk or in memory\n",
      "22/12/02 11:07:48 WARN BlockManager: Putting block rdd_2_63 failed\n"
     ]
    },
    {
     "name": "stderr",
     "output_type": "stream",
     "text": [
      "[Stage 7:==================================>                     (62 + 4) / 100]\r"
     ]
    },
    {
     "name": "stdout",
     "output_type": "stream",
     "text": [
      "22/12/02 11:07:49 WARN MemoryStore: Not enough space to cache rdd_2_65 in memory! (computed 2.6 MiB so far)\n",
      "22/12/02 11:07:49 WARN BlockManager: Block rdd_2_65 could not be removed as it was not found on disk or in memory\n",
      "22/12/02 11:07:49 WARN BlockManager: Putting block rdd_2_65 failed\n",
      "22/12/02 11:07:49 WARN MemoryStore: Not enough space to cache rdd_2_64 in memory! (computed 7.4 MiB so far)\n",
      "22/12/02 11:07:49 WARN BlockManager: Block rdd_2_64 could not be removed as it was not found on disk or in memory\n",
      "22/12/02 11:07:49 WARN BlockManager: Putting block rdd_2_64 failed\n"
     ]
    },
    {
     "name": "stderr",
     "output_type": "stream",
     "text": [
      "[Stage 7:====================================>                   (65 + 4) / 100]\r"
     ]
    },
    {
     "name": "stdout",
     "output_type": "stream",
     "text": [
      "22/12/02 11:07:49 WARN MemoryStore: Not enough space to cache rdd_2_66 in memory! (computed 4.6 MiB so far)\n",
      "22/12/02 11:07:49 WARN BlockManager: Block rdd_2_66 could not be removed as it was not found on disk or in memory\n",
      "22/12/02 11:07:49 WARN BlockManager: Putting block rdd_2_66 failed\n",
      "22/12/02 11:07:49 WARN MemoryStore: Not enough space to cache rdd_2_67 in memory! (computed 4.6 MiB so far)\n",
      "22/12/02 11:07:49 WARN BlockManager: Block rdd_2_67 could not be removed as it was not found on disk or in memory\n",
      "22/12/02 11:07:49 WARN BlockManager: Putting block rdd_2_67 failed\n",
      "22/12/02 11:07:49 WARN MemoryStore: Failed to reserve initial memory threshold of 1024.0 KiB for computing block rdd_2_69 in memory.\n"
     ]
    },
    {
     "name": "stderr",
     "output_type": "stream",
     "text": [
      "[Stage 7:====================================>                   (66 + 4) / 100]\r"
     ]
    },
    {
     "name": "stdout",
     "output_type": "stream",
     "text": [
      "22/12/02 11:07:50 WARN MemoryStore: Not enough space to cache rdd_2_69 in memory! (computed 0.0 B so far)\n",
      "22/12/02 11:07:50 WARN BlockManager: Block rdd_2_69 could not be removed as it was not found on disk or in memory\n",
      "22/12/02 11:07:50 WARN BlockManager: Putting block rdd_2_69 failed\n",
      "22/12/02 11:07:50 WARN MemoryStore: Not enough space to cache rdd_2_68 in memory! (computed 7.6 MiB so far)\n",
      "22/12/02 11:07:50 WARN BlockManager: Block rdd_2_68 could not be removed as it was not found on disk or in memory\n",
      "22/12/02 11:07:50 WARN BlockManager: Putting block rdd_2_68 failed\n"
     ]
    },
    {
     "name": "stderr",
     "output_type": "stream",
     "text": [
      "[Stage 7:=======================================>                (70 + 4) / 100]\r"
     ]
    },
    {
     "name": "stdout",
     "output_type": "stream",
     "text": [
      "22/12/02 11:07:50 WARN MemoryStore: Failed to reserve initial memory threshold of 1024.0 KiB for computing block rdd_2_73 in memory.\n",
      "22/12/02 11:07:50 WARN MemoryStore: Not enough space to cache rdd_2_72 in memory! (computed 1752.7 KiB so far)\n",
      "22/12/02 11:07:50 WARN BlockManager: Block rdd_2_72 could not be removed as it was not found on disk or in memory\n",
      "22/12/02 11:07:50 WARN MemoryStore: Not enough space to cache rdd_2_73 in memory! (computed 0.0 B so far)\n",
      "22/12/02 11:07:50 WARN BlockManager: Block rdd_2_73 could not be removed as it was not found on disk or in memory\n",
      "22/12/02 11:07:50 WARN BlockManager: Putting block rdd_2_73 failed\n",
      "22/12/02 11:07:50 WARN BlockManager: Putting block rdd_2_72 failed\n",
      "22/12/02 11:07:51 WARN MemoryStore: Not enough space to cache rdd_2_71 in memory! (computed 1783.2 KiB so far)\n",
      "22/12/02 11:07:51 WARN BlockManager: Block rdd_2_71 could not be removed as it was not found on disk or in memory\n",
      "22/12/02 11:07:51 WARN BlockManager: Putting block rdd_2_71 failed\n",
      "22/12/02 11:07:51 WARN MemoryStore: Not enough space to cache rdd_2_70 in memory! (computed 7.6 MiB so far)\n",
      "22/12/02 11:07:51 WARN BlockManager: Block rdd_2_70 could not be removed as it was not found on disk or in memory\n",
      "22/12/02 11:07:51 WARN BlockManager: Putting block rdd_2_70 failed\n"
     ]
    },
    {
     "name": "stderr",
     "output_type": "stream",
     "text": [
      "[Stage 7:========================================>               (73 + 4) / 100]\r"
     ]
    },
    {
     "name": "stdout",
     "output_type": "stream",
     "text": [
      "22/12/02 11:07:52 WARN MemoryStore: Not enough space to cache rdd_2_75 in memory! (computed 2.7 MiB so far)\n",
      "22/12/02 11:07:52 WARN BlockManager: Block rdd_2_75 could not be removed as it was not found on disk or in memory\n",
      "22/12/02 11:07:52 WARN BlockManager: Putting block rdd_2_75 failed\n",
      "22/12/02 11:07:52 WARN MemoryStore: Not enough space to cache rdd_2_76 in memory! (computed 1715.4 KiB so far)\n",
      "22/12/02 11:07:52 WARN BlockManager: Block rdd_2_76 could not be removed as it was not found on disk or in memory\n",
      "22/12/02 11:07:52 WARN BlockManager: Putting block rdd_2_76 failed\n"
     ]
    },
    {
     "name": "stderr",
     "output_type": "stream",
     "text": [
      "[Stage 7:=========================================>              (74 + 4) / 100]\r"
     ]
    },
    {
     "name": "stdout",
     "output_type": "stream",
     "text": [
      "22/12/02 11:07:52 WARN MemoryStore: Not enough space to cache rdd_2_77 in memory! (computed 4.6 MiB so far)\n",
      "22/12/02 11:07:52 WARN MemoryStore: Not enough space to cache rdd_2_74 in memory! (computed 4.6 MiB so far)\n",
      "22/12/02 11:07:52 WARN BlockManager: Block rdd_2_77 could not be removed as it was not found on disk or in memory\n",
      "22/12/02 11:07:52 WARN BlockManager: Putting block rdd_2_77 failed\n",
      "22/12/02 11:07:52 WARN BlockManager: Block rdd_2_74 could not be removed as it was not found on disk or in memory\n",
      "22/12/02 11:07:52 WARN BlockManager: Putting block rdd_2_74 failed\n"
     ]
    },
    {
     "name": "stderr",
     "output_type": "stream",
     "text": [
      "[Stage 7:===========================================>            (78 + 4) / 100]\r"
     ]
    },
    {
     "name": "stdout",
     "output_type": "stream",
     "text": [
      "22/12/02 11:07:53 WARN MemoryStore: Failed to reserve initial memory threshold of 1024.0 KiB for computing block rdd_2_81 in memory.\n",
      "22/12/02 11:07:53 WARN MemoryStore: Not enough space to cache rdd_2_78 in memory! (computed 7.6 MiB so far)\n",
      "22/12/02 11:07:53 WARN BlockManager: Block rdd_2_78 could not be removed as it was not found on disk or in memory\n",
      "22/12/02 11:07:53 WARN BlockManager: Putting block rdd_2_78 failed\n",
      "22/12/02 11:07:53 WARN MemoryStore: Not enough space to cache rdd_2_81 in memory! (computed 0.0 B so far)\n",
      "22/12/02 11:07:53 WARN BlockManager: Block rdd_2_81 could not be removed as it was not found on disk or in memory\n",
      "22/12/02 11:07:53 WARN BlockManager: Putting block rdd_2_81 failed\n",
      "22/12/02 11:07:53 WARN MemoryStore: Not enough space to cache rdd_2_79 in memory! (computed 1761.8 KiB so far)\n",
      "22/12/02 11:07:53 WARN BlockManager: Block rdd_2_79 could not be removed as it was not found on disk or in memory\n",
      "22/12/02 11:07:53 WARN BlockManager: Putting block rdd_2_79 failed\n",
      "22/12/02 11:07:53 WARN MemoryStore: Not enough space to cache rdd_2_80 in memory! (computed 1701.7 KiB so far)\n",
      "22/12/02 11:07:53 WARN BlockManager: Block rdd_2_80 could not be removed as it was not found on disk or in memory\n",
      "22/12/02 11:07:53 WARN BlockManager: Putting block rdd_2_80 failed\n"
     ]
    },
    {
     "name": "stderr",
     "output_type": "stream",
     "text": [
      "[Stage 7:============================================>           (80 + 4) / 100]\r"
     ]
    },
    {
     "name": "stdout",
     "output_type": "stream",
     "text": [
      "22/12/02 11:07:54 WARN MemoryStore: Not enough space to cache rdd_2_82 in memory! (computed 7.3 MiB so far)\n",
      "22/12/02 11:07:54 WARN BlockManager: Block rdd_2_82 could not be removed as it was not found on disk or in memory\n",
      "22/12/02 11:07:54 WARN BlockManager: Putting block rdd_2_82 failed\n",
      "22/12/02 11:07:54 WARN MemoryStore: Not enough space to cache rdd_2_84 in memory! (computed 1778.8 KiB so far)\n",
      "22/12/02 11:07:54 WARN MemoryStore: Not enough space to cache rdd_2_83 in memory! (computed 1698.6 KiB so far)\n",
      "22/12/02 11:07:54 WARN BlockManager: Block rdd_2_84 could not be removed as it was not found on disk or in memory\n",
      "22/12/02 11:07:54 WARN BlockManager: Putting block rdd_2_84 failed\n",
      "22/12/02 11:07:54 WARN BlockManager: Block rdd_2_83 could not be removed as it was not found on disk or in memory\n",
      "22/12/02 11:07:54 WARN BlockManager: Putting block rdd_2_83 failed\n",
      "22/12/02 11:07:54 WARN MemoryStore: Not enough space to cache rdd_2_85 in memory! (computed 1885.7 KiB so far)\n",
      "22/12/02 11:07:54 WARN BlockManager: Block rdd_2_85 could not be removed as it was not found on disk or in memory\n",
      "22/12/02 11:07:54 WARN BlockManager: Putting block rdd_2_85 failed\n"
     ]
    },
    {
     "name": "stderr",
     "output_type": "stream",
     "text": [
      "[Stage 7:==============================================>         (83 + 4) / 100]\r"
     ]
    },
    {
     "name": "stdout",
     "output_type": "stream",
     "text": [
      "22/12/02 11:07:55 WARN MemoryStore: Not enough space to cache rdd_2_87 in memory! (computed 2011.8 KiB so far)\n",
      "22/12/02 11:07:55 WARN BlockManager: Block rdd_2_87 could not be removed as it was not found on disk or in memory\n",
      "22/12/02 11:07:55 WARN BlockManager: Putting block rdd_2_87 failed\n",
      "22/12/02 11:07:55 WARN MemoryStore: Not enough space to cache rdd_2_86 in memory! (computed 4.5 MiB so far)\n",
      "22/12/02 11:07:55 WARN BlockManager: Block rdd_2_86 could not be removed as it was not found on disk or in memory\n",
      "22/12/02 11:07:55 WARN BlockManager: Putting block rdd_2_86 failed\n",
      "22/12/02 11:07:55 WARN MemoryStore: Not enough space to cache rdd_2_88 in memory! (computed 3.5 MiB so far)\n",
      "22/12/02 11:07:55 WARN BlockManager: Block rdd_2_88 could not be removed as it was not found on disk or in memory\n",
      "22/12/02 11:07:55 WARN BlockManager: Putting block rdd_2_88 failed\n"
     ]
    },
    {
     "name": "stderr",
     "output_type": "stream",
     "text": [
      "[Stage 7:================================================>       (86 + 4) / 100]\r"
     ]
    },
    {
     "name": "stdout",
     "output_type": "stream",
     "text": [
      "22/12/02 11:07:56 WARN MemoryStore: Not enough space to cache rdd_2_89 in memory! (computed 9.2 MiB so far)\n",
      "22/12/02 11:07:56 WARN BlockManager: Block rdd_2_89 could not be removed as it was not found on disk or in memory\n",
      "22/12/02 11:07:56 WARN BlockManager: Putting block rdd_2_89 failed\n"
     ]
    },
    {
     "name": "stderr",
     "output_type": "stream",
     "text": [
      "[Stage 7:=================================================>      (89 + 4) / 100]\r"
     ]
    },
    {
     "name": "stdout",
     "output_type": "stream",
     "text": [
      "22/12/02 11:07:56 WARN MemoryStore: Not enough space to cache rdd_2_90 in memory! (computed 1966.4 KiB so far)\n",
      "22/12/02 11:07:56 WARN BlockManager: Block rdd_2_90 could not be removed as it was not found on disk or in memory\n",
      "22/12/02 11:07:56 WARN BlockManager: Putting block rdd_2_90 failed\n",
      "22/12/02 11:07:56 WARN MemoryStore: Not enough space to cache rdd_2_92 in memory! (computed 5.3 MiB so far)\n",
      "22/12/02 11:07:56 WARN BlockManager: Block rdd_2_92 could not be removed as it was not found on disk or in memory\n",
      "22/12/02 11:07:56 WARN BlockManager: Putting block rdd_2_92 failed\n",
      "22/12/02 11:07:56 WARN MemoryStore: Failed to reserve initial memory threshold of 1024.0 KiB for computing block rdd_2_93 in memory.\n",
      "22/12/02 11:07:56 WARN MemoryStore: Not enough space to cache rdd_2_91 in memory! (computed 5.1 MiB so far)\n",
      "22/12/02 11:07:56 WARN BlockManager: Block rdd_2_91 could not be removed as it was not found on disk or in memory\n",
      "22/12/02 11:07:56 WARN BlockManager: Putting block rdd_2_91 failed\n",
      "22/12/02 11:07:56 WARN MemoryStore: Not enough space to cache rdd_2_93 in memory! (computed 0.0 B so far)\n",
      "22/12/02 11:07:56 WARN BlockManager: Block rdd_2_93 could not be removed as it was not found on disk or in memory\n",
      "22/12/02 11:07:56 WARN BlockManager: Putting block rdd_2_93 failed\n"
     ]
    },
    {
     "name": "stderr",
     "output_type": "stream",
     "text": [
      "[Stage 7:====================================================>   (94 + 4) / 100]\r"
     ]
    },
    {
     "name": "stdout",
     "output_type": "stream",
     "text": [
      "22/12/02 11:07:57 WARN MemoryStore: Not enough space to cache rdd_2_94 in memory! (computed 5.2 MiB so far)\n",
      "22/12/02 11:07:57 WARN BlockManager: Block rdd_2_94 could not be removed as it was not found on disk or in memory\n",
      "22/12/02 11:07:57 WARN BlockManager: Putting block rdd_2_94 failed\n",
      "22/12/02 11:07:58 WARN MemoryStore: Failed to reserve initial memory threshold of 1024.0 KiB for computing block rdd_2_97 in memory.\n",
      "22/12/02 11:07:58 WARN MemoryStore: Not enough space to cache rdd_2_95 in memory! (computed 2.9 MiB so far)\n",
      "22/12/02 11:07:58 WARN BlockManager: Block rdd_2_95 could not be removed as it was not found on disk or in memory\n",
      "22/12/02 11:07:58 WARN BlockManager: Putting block rdd_2_95 failed\n",
      "22/12/02 11:07:58 WARN MemoryStore: Not enough space to cache rdd_2_96 in memory! (computed 2.5 MiB so far)\n",
      "22/12/02 11:07:58 WARN MemoryStore: Not enough space to cache rdd_2_97 in memory! (computed 0.0 B so far)\n",
      "22/12/02 11:07:58 WARN BlockManager: Block rdd_2_97 could not be removed as it was not found on disk or in memory\n",
      "22/12/02 11:07:58 WARN BlockManager: Putting block rdd_2_97 failed\n",
      "22/12/02 11:07:58 WARN BlockManager: Block rdd_2_96 could not be removed as it was not found on disk or in memory\n",
      "22/12/02 11:07:58 WARN BlockManager: Putting block rdd_2_96 failed\n"
     ]
    },
    {
     "name": "stderr",
     "output_type": "stream",
     "text": [
      "[Stage 7:=====================================================>  (96 + 4) / 100]\r"
     ]
    },
    {
     "name": "stdout",
     "output_type": "stream",
     "text": [
      "22/12/02 11:07:59 WARN MemoryStore: Not enough space to cache rdd_2_99 in memory! (computed 2027.8 KiB so far)\n",
      "22/12/02 11:07:59 WARN BlockManager: Block rdd_2_99 could not be removed as it was not found on disk or in memory\n",
      "22/12/02 11:07:59 WARN BlockManager: Putting block rdd_2_99 failed\n",
      "22/12/02 11:07:59 WARN MemoryStore: Not enough space to cache rdd_2_98 in memory! (computed 8.1 MiB so far)\n",
      "22/12/02 11:07:59 WARN BlockManager: Block rdd_2_98 could not be removed as it was not found on disk or in memory\n",
      "22/12/02 11:07:59 WARN BlockManager: Putting block rdd_2_98 failed\n"
     ]
    },
    {
     "name": "stderr",
     "output_type": "stream",
     "text": [
      "[Stage 7:======================================================> (98 + 2) / 100]\r"
     ]
    },
    {
     "name": "stdout",
     "output_type": "stream",
     "text": [
      "!-Graphs with Trivial Overlap are Context-Free\n",
      "Weyl formula for the negative dissipative eigenvalues of Maxwell's\n",
      "  equations\n"
     ]
    },
    {
     "name": "stderr",
     "output_type": "stream",
     "text": [
      "                                                                                \r"
     ]
    }
   ],
   "source": [
    "sortest_title= rdd.map(lambda x:x[\"title\"]).reduce(lambda x,y : x if x<y else y)\n",
    "longest_title= rdd.map(lambda x:x[\"title\"]).reduce(lambda x,y : x if x>y else y)\n",
    "print(sortest_title)\n",
    "print(longest_title)\n"
   ]
  },
  {
   "cell_type": "markdown",
   "metadata": {
    "id": "c9iSZAe281Uz"
   },
   "source": [
    "## Question 6: Find abbreviations with 5 or more letters in the abstract"
   ]
  },
  {
   "cell_type": "code",
   "execution_count": 12,
   "metadata": {
    "id": "Z1Weltn281U0"
   },
   "outputs": [],
   "source": [
    "import re\n",
    "\n",
    "def get_abbreviation(line):\n",
    "    result = re.search(r\"\\(([A-Za-z][^_ /\\\\<>]{5,})\\)\", line)\n",
    "    if result:\n",
    "        return result.group(1)\n",
    "    \n"
   ]
  },
  {
   "cell_type": "code",
   "execution_count": 15,
   "metadata": {},
   "outputs": [
    {
     "name": "stderr",
     "output_type": "stream",
     "text": [
      "[Stage 9:==============>                                         (25 + 4) / 100]\r"
     ]
    },
    {
     "name": "stdout",
     "output_type": "stream",
     "text": [
      "22/12/02 11:10:07 WARN MemoryStore: Not enough space to cache rdd_2_25 in memory! (computed 2.4 MiB so far)\n",
      "22/12/02 11:10:07 WARN BlockManager: Block rdd_2_25 could not be removed as it was not found on disk or in memory\n",
      "22/12/02 11:10:07 WARN MemoryStore: Not enough space to cache rdd_2_24 in memory! (computed 4.1 MiB so far)\n",
      "22/12/02 11:10:07 WARN BlockManager: Putting block rdd_2_25 failed\n",
      "22/12/02 11:10:07 WARN MemoryStore: Not enough space to cache rdd_2_26 in memory! (computed 2.5 MiB so far)\n",
      "22/12/02 11:10:07 WARN BlockManager: Block rdd_2_24 could not be removed as it was not found on disk or in memory\n",
      "22/12/02 11:10:07 WARN BlockManager: Putting block rdd_2_24 failed\n",
      "22/12/02 11:10:07 WARN BlockManager: Block rdd_2_26 could not be removed as it was not found on disk or in memory\n",
      "22/12/02 11:10:07 WARN BlockManager: Putting block rdd_2_26 failed\n",
      "22/12/02 11:10:07 WARN MemoryStore: Not enough space to cache rdd_2_27 in memory! (computed 6.8 MiB so far)\n",
      "22/12/02 11:10:07 WARN BlockManager: Block rdd_2_27 could not be removed as it was not found on disk or in memory\n",
      "22/12/02 11:10:07 WARN BlockManager: Putting block rdd_2_27 failed\n"
     ]
    },
    {
     "name": "stderr",
     "output_type": "stream",
     "text": [
      "[Stage 9:================>                                       (29 + 4) / 100]\r"
     ]
    },
    {
     "name": "stdout",
     "output_type": "stream",
     "text": [
      "22/12/02 11:10:08 WARN MemoryStore: Not enough space to cache rdd_2_30 in memory! (computed 1562.2 KiB so far)\n",
      "22/12/02 11:10:08 WARN BlockManager: Block rdd_2_30 could not be removed as it was not found on disk or in memory\n",
      "22/12/02 11:10:08 WARN BlockManager: Putting block rdd_2_30 failed\n",
      "22/12/02 11:10:08 WARN MemoryStore: Not enough space to cache rdd_2_28 in memory! (computed 4.2 MiB so far)\n",
      "22/12/02 11:10:08 WARN BlockManager: Block rdd_2_28 could not be removed as it was not found on disk or in memory\n",
      "22/12/02 11:10:08 WARN BlockManager: Putting block rdd_2_28 failed\n",
      "22/12/02 11:10:08 WARN MemoryStore: Not enough space to cache rdd_2_29 in memory! (computed 4.1 MiB so far)\n",
      "22/12/02 11:10:08 WARN BlockManager: Block rdd_2_29 could not be removed as it was not found on disk or in memory\n",
      "22/12/02 11:10:08 WARN BlockManager: Putting block rdd_2_29 failed\n",
      "22/12/02 11:10:09 WARN MemoryStore: Not enough space to cache rdd_2_31 in memory! (computed 6.9 MiB so far)\n",
      "22/12/02 11:10:09 WARN BlockManager: Block rdd_2_31 could not be removed as it was not found on disk or in memory\n",
      "22/12/02 11:10:09 WARN BlockManager: Putting block rdd_2_31 failed\n"
     ]
    },
    {
     "name": "stderr",
     "output_type": "stream",
     "text": [
      "[Stage 9:=================>                                      (32 + 4) / 100]\r"
     ]
    },
    {
     "name": "stdout",
     "output_type": "stream",
     "text": [
      "22/12/02 11:10:09 WARN MemoryStore: Not enough space to cache rdd_2_32 in memory! (computed 4.4 MiB so far)\n",
      "22/12/02 11:10:09 WARN MemoryStore: Not enough space to cache rdd_2_33 in memory! (computed 2.5 MiB so far)\n",
      "22/12/02 11:10:09 WARN BlockManager: Block rdd_2_33 could not be removed as it was not found on disk or in memory\n",
      "22/12/02 11:10:09 WARN BlockManager: Block rdd_2_32 could not be removed as it was not found on disk or in memory\n",
      "22/12/02 11:10:09 WARN BlockManager: Putting block rdd_2_32 failed\n",
      "22/12/02 11:10:09 WARN BlockManager: Putting block rdd_2_33 failed\n",
      "22/12/02 11:10:09 WARN MemoryStore: Not enough space to cache rdd_2_34 in memory! (computed 4.2 MiB so far)\n",
      "22/12/02 11:10:09 WARN BlockManager: Block rdd_2_34 could not be removed as it was not found on disk or in memory\n",
      "22/12/02 11:10:09 WARN BlockManager: Putting block rdd_2_34 failed\n"
     ]
    },
    {
     "name": "stderr",
     "output_type": "stream",
     "text": [
      "[Stage 9:==================>                                     (33 + 4) / 100]\r"
     ]
    },
    {
     "name": "stdout",
     "output_type": "stream",
     "text": [
      "22/12/02 11:10:10 WARN MemoryStore: Not enough space to cache rdd_2_35 in memory! (computed 7.0 MiB so far)\n",
      "22/12/02 11:10:10 WARN BlockManager: Block rdd_2_35 could not be removed as it was not found on disk or in memory\n",
      "22/12/02 11:10:10 WARN BlockManager: Putting block rdd_2_35 failed\n"
     ]
    },
    {
     "name": "stderr",
     "output_type": "stream",
     "text": [
      "[Stage 9:====================>                                   (36 + 4) / 100]\r"
     ]
    },
    {
     "name": "stdout",
     "output_type": "stream",
     "text": [
      "22/12/02 11:10:11 WARN MemoryStore: Not enough space to cache rdd_2_38 in memory! (computed 2.4 MiB so far)\n",
      "22/12/02 11:10:11 WARN BlockManager: Block rdd_2_38 could not be removed as it was not found on disk or in memory\n",
      "22/12/02 11:10:11 WARN BlockManager: Putting block rdd_2_38 failed\n",
      "22/12/02 11:10:11 WARN MemoryStore: Not enough space to cache rdd_2_37 in memory! (computed 1666.5 KiB so far)\n",
      "22/12/02 11:10:11 WARN BlockManager: Block rdd_2_37 could not be removed as it was not found on disk or in memory\n",
      "22/12/02 11:10:11 WARN BlockManager: Putting block rdd_2_37 failed\n",
      "22/12/02 11:10:11 WARN MemoryStore: Not enough space to cache rdd_2_36 in memory! (computed 7.0 MiB so far)\n",
      "22/12/02 11:10:11 WARN BlockManager: Block rdd_2_36 could not be removed as it was not found on disk or in memory\n",
      "22/12/02 11:10:11 WARN BlockManager: Putting block rdd_2_36 failed\n"
     ]
    },
    {
     "name": "stderr",
     "output_type": "stream",
     "text": [
      "[Stage 9:====================>                                   (37 + 4) / 100]\r"
     ]
    },
    {
     "name": "stdout",
     "output_type": "stream",
     "text": [
      "22/12/02 11:10:11 WARN MemoryStore: Not enough space to cache rdd_2_39 in memory! (computed 2.5 MiB so far)\n",
      "22/12/02 11:10:11 WARN BlockManager: Block rdd_2_39 could not be removed as it was not found on disk or in memory\n",
      "22/12/02 11:10:11 WARN BlockManager: Putting block rdd_2_39 failed\n"
     ]
    },
    {
     "name": "stderr",
     "output_type": "stream",
     "text": [
      "[Stage 9:=====================>                                  (38 + 4) / 100]\r"
     ]
    },
    {
     "name": "stdout",
     "output_type": "stream",
     "text": [
      "22/12/02 11:10:12 WARN MemoryStore: Not enough space to cache rdd_2_40 in memory! (computed 7.0 MiB so far)\n",
      "22/12/02 11:10:12 WARN BlockManager: Block rdd_2_40 could not be removed as it was not found on disk or in memory\n",
      "22/12/02 11:10:12 WARN BlockManager: Putting block rdd_2_40 failed\n",
      "22/12/02 11:10:12 WARN MemoryStore: Not enough space to cache rdd_2_42 in memory! (computed 1622.7 KiB so far)\n",
      "22/12/02 11:10:12 WARN MemoryStore: Not enough space to cache rdd_2_41 in memory! (computed 1640.4 KiB so far)\n",
      "22/12/02 11:10:12 WARN BlockManager: Block rdd_2_42 could not be removed as it was not found on disk or in memory\n",
      "22/12/02 11:10:12 WARN BlockManager: Putting block rdd_2_42 failed\n",
      "22/12/02 11:10:12 WARN BlockManager: Block rdd_2_41 could not be removed as it was not found on disk or in memory\n",
      "22/12/02 11:10:12 WARN BlockManager: Putting block rdd_2_41 failed\n"
     ]
    },
    {
     "name": "stderr",
     "output_type": "stream",
     "text": [
      "[Stage 9:======================>                                 (41 + 4) / 100]\r"
     ]
    },
    {
     "name": "stdout",
     "output_type": "stream",
     "text": [
      "22/12/02 11:10:13 WARN MemoryStore: Not enough space to cache rdd_2_43 in memory! (computed 7.1 MiB so far)\n",
      "22/12/02 11:10:13 WARN BlockManager: Block rdd_2_43 could not be removed as it was not found on disk or in memory\n",
      "22/12/02 11:10:13 WARN BlockManager: Putting block rdd_2_43 failed\n",
      "22/12/02 11:10:13 WARN MemoryStore: Not enough space to cache rdd_2_44 in memory! (computed 1662.7 KiB so far)\n",
      "22/12/02 11:10:13 WARN BlockManager: Block rdd_2_44 could not be removed as it was not found on disk or in memory\n",
      "22/12/02 11:10:13 WARN BlockManager: Putting block rdd_2_44 failed\n"
     ]
    },
    {
     "name": "stderr",
     "output_type": "stream",
     "text": [
      "[Stage 9:========================>                               (44 + 4) / 100]\r"
     ]
    },
    {
     "name": "stdout",
     "output_type": "stream",
     "text": [
      "22/12/02 11:10:13 WARN MemoryStore: Not enough space to cache rdd_2_46 in memory! (computed 4.3 MiB so far)\n",
      "22/12/02 11:10:13 WARN BlockManager: Block rdd_2_46 could not be removed as it was not found on disk or in memory\n",
      "22/12/02 11:10:13 WARN BlockManager: Putting block rdd_2_46 failed\n",
      "22/12/02 11:10:13 WARN MemoryStore: Not enough space to cache rdd_2_45 in memory! (computed 4.3 MiB so far)\n",
      "22/12/02 11:10:13 WARN BlockManager: Block rdd_2_45 could not be removed as it was not found on disk or in memory\n",
      "22/12/02 11:10:13 WARN BlockManager: Putting block rdd_2_45 failed\n"
     ]
    },
    {
     "name": "stderr",
     "output_type": "stream",
     "text": [
      "[Stage 9:=========================>                              (45 + 4) / 100]\r"
     ]
    },
    {
     "name": "stdout",
     "output_type": "stream",
     "text": [
      "22/12/02 11:10:14 WARN MemoryStore: Not enough space to cache rdd_2_47 in memory! (computed 7.2 MiB so far)\n",
      "22/12/02 11:10:14 WARN BlockManager: Block rdd_2_47 could not be removed as it was not found on disk or in memory\n",
      "22/12/02 11:10:14 WARN BlockManager: Putting block rdd_2_47 failed\n"
     ]
    },
    {
     "name": "stderr",
     "output_type": "stream",
     "text": [
      "[Stage 9:==========================>                             (48 + 4) / 100]\r"
     ]
    },
    {
     "name": "stdout",
     "output_type": "stream",
     "text": [
      "22/12/02 11:10:14 WARN MemoryStore: Not enough space to cache rdd_2_49 in memory! (computed 2.5 MiB so far)\n",
      "22/12/02 11:10:14 WARN BlockManager: Block rdd_2_49 could not be removed as it was not found on disk or in memory\n",
      "22/12/02 11:10:14 WARN MemoryStore: Not enough space to cache rdd_2_50 in memory! (computed 2.6 MiB so far)\n",
      "22/12/02 11:10:14 WARN BlockManager: Putting block rdd_2_49 failed\n",
      "22/12/02 11:10:14 WARN BlockManager: Block rdd_2_50 could not be removed as it was not found on disk or in memory\n",
      "22/12/02 11:10:14 WARN BlockManager: Putting block rdd_2_50 failed\n",
      "22/12/02 11:10:14 WARN MemoryStore: Not enough space to cache rdd_2_48 in memory! (computed 4.4 MiB so far)\n",
      "22/12/02 11:10:14 WARN BlockManager: Block rdd_2_48 could not be removed as it was not found on disk or in memory\n",
      "22/12/02 11:10:14 WARN BlockManager: Putting block rdd_2_48 failed\n"
     ]
    },
    {
     "name": "stderr",
     "output_type": "stream",
     "text": [
      "[Stage 9:=============================>                          (52 + 4) / 100]\r"
     ]
    },
    {
     "name": "stdout",
     "output_type": "stream",
     "text": [
      "22/12/02 11:10:15 WARN MemoryStore: Not enough space to cache rdd_2_51 in memory! (computed 7.2 MiB so far)\n",
      "22/12/02 11:10:15 WARN BlockManager: Block rdd_2_51 could not be removed as it was not found on disk or in memory\n",
      "22/12/02 11:10:15 WARN BlockManager: Putting block rdd_2_51 failed\n",
      "22/12/02 11:10:16 WARN MemoryStore: Not enough space to cache rdd_2_53 in memory! (computed 1651.6 KiB so far)\n",
      "22/12/02 11:10:16 WARN BlockManager: Block rdd_2_53 could not be removed as it was not found on disk or in memory\n",
      "22/12/02 11:10:16 WARN BlockManager: Putting block rdd_2_53 failed\n",
      "22/12/02 11:10:16 WARN MemoryStore: Not enough space to cache rdd_2_54 in memory! (computed 1685.0 KiB so far)\n",
      "22/12/02 11:10:16 WARN BlockManager: Block rdd_2_54 could not be removed as it was not found on disk or in memory\n",
      "22/12/02 11:10:16 WARN BlockManager: Putting block rdd_2_54 failed\n",
      "22/12/02 11:10:16 WARN MemoryStore: Not enough space to cache rdd_2_52 in memory! (computed 1644.9 KiB so far)\n",
      "22/12/02 11:10:16 WARN BlockManager: Block rdd_2_52 could not be removed as it was not found on disk or in memory\n",
      "22/12/02 11:10:16 WARN BlockManager: Putting block rdd_2_52 failed\n"
     ]
    },
    {
     "name": "stderr",
     "output_type": "stream",
     "text": [
      "[Stage 9:==============================>                         (54 + 4) / 100]\r"
     ]
    },
    {
     "name": "stdout",
     "output_type": "stream",
     "text": [
      "22/12/02 11:10:17 WARN MemoryStore: Not enough space to cache rdd_2_56 in memory! (computed 7.3 MiB so far)\n",
      "22/12/02 11:10:17 WARN BlockManager: Block rdd_2_56 could not be removed as it was not found on disk or in memory\n",
      "22/12/02 11:10:17 WARN BlockManager: Putting block rdd_2_56 failed\n",
      "22/12/02 11:10:17 WARN MemoryStore: Not enough space to cache rdd_2_57 in memory! (computed 1664.7 KiB so far)\n",
      "22/12/02 11:10:17 WARN BlockManager: Block rdd_2_57 could not be removed as it was not found on disk or in memory\n",
      "22/12/02 11:10:17 WARN BlockManager: Putting block rdd_2_57 failed\n"
     ]
    },
    {
     "name": "stderr",
     "output_type": "stream",
     "text": [
      "[Stage 9:===============================>                        (56 + 4) / 100]\r"
     ]
    },
    {
     "name": "stdout",
     "output_type": "stream",
     "text": [
      "22/12/02 11:10:17 WARN MemoryStore: Not enough space to cache rdd_2_58 in memory! (computed 7.4 MiB so far)\n",
      "22/12/02 11:10:17 WARN BlockManager: Block rdd_2_58 could not be removed as it was not found on disk or in memory\n",
      "22/12/02 11:10:17 WARN BlockManager: Putting block rdd_2_58 failed\n",
      "22/12/02 11:10:17 WARN MemoryStore: Failed to reserve initial memory threshold of 1024.0 KiB for computing block rdd_2_60 in memory.\n",
      "22/12/02 11:10:18 WARN MemoryStore: Not enough space to cache rdd_2_59 in memory! (computed 2.6 MiB so far)\n",
      "22/12/02 11:10:18 WARN BlockManager: Block rdd_2_59 could not be removed as it was not found on disk or in memory\n",
      "22/12/02 11:10:18 WARN BlockManager: Putting block rdd_2_59 failed\n",
      "22/12/02 11:10:18 WARN MemoryStore: Not enough space to cache rdd_2_60 in memory! (computed 0.0 B so far)\n",
      "22/12/02 11:10:18 WARN BlockManager: Block rdd_2_60 could not be removed as it was not found on disk or in memory\n",
      "22/12/02 11:10:18 WARN BlockManager: Putting block rdd_2_60 failed\n"
     ]
    },
    {
     "name": "stderr",
     "output_type": "stream",
     "text": [
      "[Stage 9:=================================>                      (59 + 4) / 100]\r"
     ]
    },
    {
     "name": "stdout",
     "output_type": "stream",
     "text": [
      "22/12/02 11:10:19 WARN MemoryStore: Not enough space to cache rdd_2_62 in memory! (computed 2.6 MiB so far)\n",
      "22/12/02 11:10:19 WARN BlockManager: Block rdd_2_62 could not be removed as it was not found on disk or in memory\n",
      "22/12/02 11:10:19 WARN BlockManager: Putting block rdd_2_62 failed\n",
      "22/12/02 11:10:19 WARN MemoryStore: Not enough space to cache rdd_2_61 in memory! (computed 7.3 MiB so far)\n",
      "22/12/02 11:10:19 WARN BlockManager: Block rdd_2_61 could not be removed as it was not found on disk or in memory\n",
      "22/12/02 11:10:19 WARN BlockManager: Putting block rdd_2_61 failed\n",
      "22/12/02 11:10:19 WARN MemoryStore: Failed to reserve initial memory threshold of 1024.0 KiB for computing block rdd_2_63 in memory.\n"
     ]
    },
    {
     "name": "stderr",
     "output_type": "stream",
     "text": [
      "[Stage 9:==================================>                     (61 + 4) / 100]\r"
     ]
    },
    {
     "name": "stdout",
     "output_type": "stream",
     "text": [
      "22/12/02 11:10:19 WARN MemoryStore: Not enough space to cache rdd_2_63 in memory! (computed 0.0 B so far)\n",
      "22/12/02 11:10:19 WARN BlockManager: Block rdd_2_63 could not be removed as it was not found on disk or in memory\n",
      "22/12/02 11:10:19 WARN BlockManager: Putting block rdd_2_63 failed\n"
     ]
    },
    {
     "name": "stderr",
     "output_type": "stream",
     "text": [
      "[Stage 9:==================================>                     (62 + 4) / 100]\r"
     ]
    },
    {
     "name": "stdout",
     "output_type": "stream",
     "text": [
      "22/12/02 11:10:20 WARN MemoryStore: Not enough space to cache rdd_2_66 in memory! (computed 1746.1 KiB so far)\n",
      "22/12/02 11:10:20 WARN MemoryStore: Not enough space to cache rdd_2_65 in memory! (computed 1711.1 KiB so far)\n",
      "22/12/02 11:10:20 WARN BlockManager: Block rdd_2_65 could not be removed as it was not found on disk or in memory\n",
      "22/12/02 11:10:20 WARN BlockManager: Putting block rdd_2_65 failed\n",
      "22/12/02 11:10:20 WARN BlockManager: Block rdd_2_66 could not be removed as it was not found on disk or in memory\n",
      "22/12/02 11:10:20 WARN BlockManager: Putting block rdd_2_66 failed\n"
     ]
    },
    {
     "name": "stderr",
     "output_type": "stream",
     "text": [
      "[Stage 9:===================================>                    (64 + 4) / 100]\r"
     ]
    },
    {
     "name": "stdout",
     "output_type": "stream",
     "text": [
      "22/12/02 11:10:20 WARN MemoryStore: Not enough space to cache rdd_2_64 in memory! (computed 7.4 MiB so far)\n",
      "22/12/02 11:10:20 WARN BlockManager: Block rdd_2_64 could not be removed as it was not found on disk or in memory\n",
      "22/12/02 11:10:20 WARN BlockManager: Putting block rdd_2_64 failed\n",
      "22/12/02 11:10:20 WARN MemoryStore: Not enough space to cache rdd_2_67 in memory! (computed 2.7 MiB so far)\n",
      "22/12/02 11:10:20 WARN BlockManager: Block rdd_2_67 could not be removed as it was not found on disk or in memory\n",
      "22/12/02 11:10:20 WARN BlockManager: Putting block rdd_2_67 failed\n"
     ]
    },
    {
     "name": "stderr",
     "output_type": "stream",
     "text": [
      "[Stage 9:=====================================>                  (67 + 4) / 100]\r"
     ]
    },
    {
     "name": "stdout",
     "output_type": "stream",
     "text": [
      "22/12/02 11:10:21 WARN MemoryStore: Not enough space to cache rdd_2_68 in memory! (computed 4.6 MiB so far)\n",
      "22/12/02 11:10:21 WARN MemoryStore: Not enough space to cache rdd_2_70 in memory! (computed 2.7 MiB so far)\n",
      "22/12/02 11:10:21 WARN BlockManager: Block rdd_2_68 could not be removed as it was not found on disk or in memory\n",
      "22/12/02 11:10:21 WARN MemoryStore: Not enough space to cache rdd_2_69 in memory! (computed 2.6 MiB so far)\n",
      "22/12/02 11:10:21 WARN MemoryStore: Failed to reserve initial memory threshold of 1024.0 KiB for computing block rdd_2_71 in memory.\n",
      "22/12/02 11:10:21 WARN BlockManager: Putting block rdd_2_68 failed\n",
      "22/12/02 11:10:21 WARN BlockManager: Block rdd_2_69 could not be removed as it was not found on disk or in memory\n",
      "22/12/02 11:10:21 WARN BlockManager: Putting block rdd_2_69 failed\n",
      "22/12/02 11:10:21 WARN BlockManager: Block rdd_2_70 could not be removed as it was not found on disk or in memory\n",
      "22/12/02 11:10:21 WARN BlockManager: Putting block rdd_2_70 failed\n",
      "22/12/02 11:10:21 WARN MemoryStore: Not enough space to cache rdd_2_71 in memory! (computed 0.0 B so far)\n",
      "22/12/02 11:10:21 WARN BlockManager: Block rdd_2_71 could not be removed as it was not found on disk or in memory\n",
      "22/12/02 11:10:21 WARN BlockManager: Putting block rdd_2_71 failed\n"
     ]
    },
    {
     "name": "stderr",
     "output_type": "stream",
     "text": [
      "[Stage 9:=======================================>                (70 + 4) / 100]\r"
     ]
    },
    {
     "name": "stdout",
     "output_type": "stream",
     "text": [
      "22/12/02 11:10:22 WARN MemoryStore: Not enough space to cache rdd_2_73 in memory! (computed 4.6 MiB so far)\n",
      "22/12/02 11:10:22 WARN BlockManager: Block rdd_2_73 could not be removed as it was not found on disk or in memory\n",
      "22/12/02 11:10:22 WARN BlockManager: Putting block rdd_2_73 failed\n",
      "22/12/02 11:10:22 WARN MemoryStore: Not enough space to cache rdd_2_72 in memory! (computed 4.6 MiB so far)\n",
      "22/12/02 11:10:22 WARN MemoryStore: Failed to reserve initial memory threshold of 1024.0 KiB for computing block rdd_2_75 in memory.\n",
      "22/12/02 11:10:22 WARN MemoryStore: Not enough space to cache rdd_2_75 in memory! (computed 0.0 B so far)\n"
     ]
    },
    {
     "name": "stderr",
     "output_type": "stream",
     "text": [
      "[Stage 9:=======================================>                (71 + 4) / 100]\r"
     ]
    },
    {
     "name": "stdout",
     "output_type": "stream",
     "text": [
      "22/12/02 11:10:22 WARN BlockManager: Block rdd_2_75 could not be removed as it was not found on disk or in memory\n",
      "22/12/02 11:10:22 WARN BlockManager: Putting block rdd_2_75 failed\n",
      "22/12/02 11:10:22 WARN BlockManager: Block rdd_2_72 could not be removed as it was not found on disk or in memory\n",
      "22/12/02 11:10:22 WARN BlockManager: Putting block rdd_2_72 failed\n"
     ]
    },
    {
     "name": "stderr",
     "output_type": "stream",
     "text": [
      "[Stage 9:========================================>               (72 + 4) / 100]\r"
     ]
    },
    {
     "name": "stdout",
     "output_type": "stream",
     "text": [
      "22/12/02 11:10:23 WARN MemoryStore: Not enough space to cache rdd_2_74 in memory! (computed 7.5 MiB so far)\n",
      "22/12/02 11:10:23 WARN BlockManager: Block rdd_2_74 could not be removed as it was not found on disk or in memory\n",
      "22/12/02 11:10:23 WARN BlockManager: Putting block rdd_2_74 failed\n"
     ]
    },
    {
     "name": "stderr",
     "output_type": "stream",
     "text": [
      "[Stage 9:==========================================>             (75 + 4) / 100]\r"
     ]
    },
    {
     "name": "stdout",
     "output_type": "stream",
     "text": [
      "22/12/02 11:10:23 WARN MemoryStore: Not enough space to cache rdd_2_77 in memory! (computed 1703.6 KiB so far)\n",
      "22/12/02 11:10:23 WARN BlockManager: Block rdd_2_77 could not be removed as it was not found on disk or in memory\n",
      "22/12/02 11:10:23 WARN BlockManager: Putting block rdd_2_77 failed\n",
      "22/12/02 11:10:23 WARN MemoryStore: Not enough space to cache rdd_2_76 in memory! (computed 7.5 MiB so far)\n",
      "22/12/02 11:10:23 WARN BlockManager: Block rdd_2_76 could not be removed as it was not found on disk or in memory\n",
      "22/12/02 11:10:23 WARN BlockManager: Putting block rdd_2_76 failed\n"
     ]
    },
    {
     "name": "stderr",
     "output_type": "stream",
     "text": [
      "[Stage 9:==========================================>             (76 + 4) / 100]\r"
     ]
    },
    {
     "name": "stdout",
     "output_type": "stream",
     "text": [
      "22/12/02 11:10:23 WARN MemoryStore: Not enough space to cache rdd_2_78 in memory! (computed 1718.9 KiB so far)\n",
      "22/12/02 11:10:23 WARN BlockManager: Block rdd_2_78 could not be removed as it was not found on disk or in memory\n",
      "22/12/02 11:10:23 WARN BlockManager: Putting block rdd_2_78 failed\n",
      "22/12/02 11:10:24 WARN MemoryStore: Not enough space to cache rdd_2_79 in memory! (computed 1761.8 KiB so far)\n",
      "22/12/02 11:10:24 WARN BlockManager: Block rdd_2_79 could not be removed as it was not found on disk or in memory\n",
      "22/12/02 11:10:24 WARN BlockManager: Putting block rdd_2_79 failed\n"
     ]
    },
    {
     "name": "stderr",
     "output_type": "stream",
     "text": [
      "[Stage 9:===========================================>            (78 + 4) / 100]\r"
     ]
    },
    {
     "name": "stdout",
     "output_type": "stream",
     "text": [
      "22/12/02 11:10:24 WARN MemoryStore: Not enough space to cache rdd_2_81 in memory! (computed 4.5 MiB so far)\n",
      "22/12/02 11:10:24 WARN BlockManager: Block rdd_2_81 could not be removed as it was not found on disk or in memory\n",
      "22/12/02 11:10:24 WARN BlockManager: Putting block rdd_2_81 failed\n",
      "22/12/02 11:10:24 WARN MemoryStore: Not enough space to cache rdd_2_80 in memory! (computed 4.6 MiB so far)\n",
      "22/12/02 11:10:24 WARN BlockManager: Block rdd_2_80 could not be removed as it was not found on disk or in memory\n",
      "22/12/02 11:10:24 WARN BlockManager: Putting block rdd_2_80 failed\n",
      "22/12/02 11:10:24 WARN MemoryStore: Not enough space to cache rdd_2_82 in memory! (computed 1678.3 KiB so far)\n",
      "22/12/02 11:10:24 WARN BlockManager: Block rdd_2_82 could not be removed as it was not found on disk or in memory\n",
      "22/12/02 11:10:24 WARN BlockManager: Putting block rdd_2_82 failed\n"
     ]
    },
    {
     "name": "stderr",
     "output_type": "stream",
     "text": [
      "[Stage 9:============================================>           (80 + 4) / 100]\r"
     ]
    },
    {
     "name": "stdout",
     "output_type": "stream",
     "text": [
      "22/12/02 11:10:25 WARN MemoryStore: Not enough space to cache rdd_2_83 in memory! (computed 7.4 MiB so far)\n",
      "22/12/02 11:10:25 WARN BlockManager: Block rdd_2_83 could not be removed as it was not found on disk or in memory\n",
      "22/12/02 11:10:25 WARN BlockManager: Putting block rdd_2_83 failed\n"
     ]
    },
    {
     "name": "stderr",
     "output_type": "stream",
     "text": [
      "[Stage 9:===============================================>        (84 + 4) / 100]\r"
     ]
    },
    {
     "name": "stdout",
     "output_type": "stream",
     "text": [
      "22/12/02 11:10:26 WARN MemoryStore: Not enough space to cache rdd_2_85 in memory! (computed 2.9 MiB so far)\n",
      "22/12/02 11:10:26 WARN MemoryStore: Not enough space to cache rdd_2_84 in memory! (computed 2.7 MiB so far)\n",
      "22/12/02 11:10:26 WARN BlockManager: Block rdd_2_84 could not be removed as it was not found on disk or in memory\n",
      "22/12/02 11:10:26 WARN BlockManager: Putting block rdd_2_84 failed\n",
      "22/12/02 11:10:26 WARN BlockManager: Block rdd_2_85 could not be removed as it was not found on disk or in memory\n",
      "22/12/02 11:10:26 WARN BlockManager: Putting block rdd_2_85 failed\n",
      "22/12/02 11:10:26 WARN MemoryStore: Not enough space to cache rdd_2_86 in memory! (computed 2.6 MiB so far)\n",
      "22/12/02 11:10:26 WARN BlockManager: Block rdd_2_86 could not be removed as it was not found on disk or in memory\n",
      "22/12/02 11:10:26 WARN BlockManager: Putting block rdd_2_86 failed\n",
      "22/12/02 11:10:26 WARN MemoryStore: Not enough space to cache rdd_2_87 in memory! (computed 2011.8 KiB so far)\n",
      "22/12/02 11:10:26 WARN BlockManager: Block rdd_2_87 could not be removed as it was not found on disk or in memory\n",
      "22/12/02 11:10:26 WARN BlockManager: Putting block rdd_2_87 failed\n"
     ]
    },
    {
     "name": "stderr",
     "output_type": "stream",
     "text": [
      "[Stage 9:=================================================>      (88 + 4) / 100]\r"
     ]
    },
    {
     "name": "stdout",
     "output_type": "stream",
     "text": [
      "22/12/02 11:10:27 WARN MemoryStore: Not enough space to cache rdd_2_89 in memory! (computed 2.1 MiB so far)\n",
      "22/12/02 11:10:27 WARN BlockManager: Block rdd_2_89 could not be removed as it was not found on disk or in memory\n",
      "22/12/02 11:10:27 WARN BlockManager: Putting block rdd_2_89 failed\n",
      "22/12/02 11:10:27 WARN MemoryStore: Not enough space to cache rdd_2_90 in memory! (computed 1251.9 KiB so far)\n",
      "22/12/02 11:10:27 WARN BlockManager: Block rdd_2_90 could not be removed as it was not found on disk or in memory\n",
      "22/12/02 11:10:27 WARN BlockManager: Putting block rdd_2_90 failed\n",
      "22/12/02 11:10:27 WARN MemoryStore: Not enough space to cache rdd_2_88 in memory! (computed 5.7 MiB so far)\n",
      "22/12/02 11:10:27 WARN BlockManager: Block rdd_2_88 could not be removed as it was not found on disk or in memory\n",
      "22/12/02 11:10:27 WARN BlockManager: Putting block rdd_2_88 failed\n",
      "22/12/02 11:10:27 WARN MemoryStore: Not enough space to cache rdd_2_91 in memory! (computed 3.2 MiB so far)\n",
      "22/12/02 11:10:27 WARN BlockManager: Block rdd_2_91 could not be removed as it was not found on disk or in memory\n",
      "22/12/02 11:10:27 WARN BlockManager: Putting block rdd_2_91 failed\n"
     ]
    },
    {
     "name": "stderr",
     "output_type": "stream",
     "text": [
      "[Stage 9:==================================================>     (91 + 4) / 100]\r"
     ]
    },
    {
     "name": "stdout",
     "output_type": "stream",
     "text": [
      "22/12/02 11:10:28 WARN MemoryStore: Not enough space to cache rdd_2_92 in memory! (computed 3.3 MiB so far)\n",
      "22/12/02 11:10:28 WARN BlockManager: Block rdd_2_92 could not be removed as it was not found on disk or in memory\n",
      "22/12/02 11:10:28 WARN BlockManager: Putting block rdd_2_92 failed\n",
      "22/12/02 11:10:28 WARN MemoryStore: Not enough space to cache rdd_2_94 in memory! (computed 1164.0 KiB so far)\n",
      "22/12/02 11:10:28 WARN BlockManager: Block rdd_2_94 could not be removed as it was not found on disk or in memory\n",
      "22/12/02 11:10:28 WARN BlockManager: Putting block rdd_2_94 failed\n",
      "22/12/02 11:10:28 WARN MemoryStore: Not enough space to cache rdd_2_95 in memory! (computed 1702.4 KiB so far)\n",
      "22/12/02 11:10:28 WARN MemoryStore: Not enough space to cache rdd_2_93 in memory! (computed 7.6 MiB so far)\n",
      "22/12/02 11:10:28 WARN BlockManager: Block rdd_2_93 could not be removed as it was not found on disk or in memory\n",
      "22/12/02 11:10:28 WARN BlockManager: Putting block rdd_2_93 failed\n",
      "22/12/02 11:10:28 WARN BlockManager: Block rdd_2_95 could not be removed as it was not found on disk or in memory\n",
      "22/12/02 11:10:28 WARN BlockManager: Putting block rdd_2_95 failed\n"
     ]
    },
    {
     "name": "stderr",
     "output_type": "stream",
     "text": [
      "[Stage 9:====================================================>   (94 + 4) / 100]\r"
     ]
    },
    {
     "name": "stdout",
     "output_type": "stream",
     "text": [
      "22/12/02 11:10:29 WARN MemoryStore: Not enough space to cache rdd_2_97 in memory! (computed 5.2 MiB so far)\n",
      "22/12/02 11:10:29 WARN BlockManager: Block rdd_2_97 could not be removed as it was not found on disk or in memory\n",
      "22/12/02 11:10:29 WARN BlockManager: Putting block rdd_2_97 failed\n",
      "22/12/02 11:10:30 WARN MemoryStore: Not enough space to cache rdd_2_96 in memory! (computed 4.7 MiB so far)\n",
      "22/12/02 11:10:30 WARN BlockManager: Block rdd_2_96 could not be removed as it was not found on disk or in memory\n",
      "22/12/02 11:10:30 WARN BlockManager: Putting block rdd_2_96 failed\n"
     ]
    },
    {
     "name": "stderr",
     "output_type": "stream",
     "text": [
      "[Stage 9:=====================================================>  (96 + 4) / 100]\r"
     ]
    },
    {
     "name": "stdout",
     "output_type": "stream",
     "text": [
      "22/12/02 11:10:30 WARN MemoryStore: Not enough space to cache rdd_2_99 in memory! (computed 3.4 MiB so far)\n",
      "22/12/02 11:10:30 WARN BlockManager: Block rdd_2_99 could not be removed as it was not found on disk or in memory\n",
      "22/12/02 11:10:30 WARN BlockManager: Putting block rdd_2_99 failed\n"
     ]
    },
    {
     "name": "stderr",
     "output_type": "stream",
     "text": [
      "[Stage 9:======================================================> (97 + 3) / 100]\r"
     ]
    },
    {
     "name": "stdout",
     "output_type": "stream",
     "text": [
      "22/12/02 11:10:30 WARN MemoryStore: Not enough space to cache rdd_2_98 in memory! (computed 8.1 MiB so far)\n",
      "22/12/02 11:10:30 WARN BlockManager: Block rdd_2_98 could not be removed as it was not found on disk or in memory\n",
      "22/12/02 11:10:30 WARN BlockManager: Putting block rdd_2_98 failed\n"
     ]
    },
    {
     "name": "stderr",
     "output_type": "stream",
     "text": [
      "                                                                                \r"
     ]
    },
    {
     "data": {
      "text/plain": [
       "586"
      ]
     },
     "execution_count": 15,
     "metadata": {},
     "output_type": "execute_result"
    }
   ],
   "source": [
    "rdd.filter(lambda x: get_abbreviation(x[\"abstract\"])).count()"
   ]
  },
  {
   "cell_type": "markdown",
   "metadata": {
    "id": "CnPa1NYL81U0"
   },
   "source": [
    "## Question 7: Get the number of archive records per month ('update_date' attribute)"
   ]
  },
  {
   "cell_type": "code",
   "execution_count": 19,
   "metadata": {
    "id": "0Wsgod6K81U1"
   },
   "outputs": [],
   "source": [
    "import datetime\n",
    "\n",
    "def extract_months(DateIn):\n",
    "    d = datetime.datetime.strptime(DateIn, \"%Y-%m-%d\")\n",
    "    return d.month\n",
    "    "
   ]
  },
  {
   "cell_type": "code",
   "execution_count": 21,
   "metadata": {},
   "outputs": [
    {
     "name": "stderr",
     "output_type": "stream",
     "text": [
      "[Stage 19:============>                                          (23 + 4) / 100]\r"
     ]
    },
    {
     "name": "stdout",
     "output_type": "stream",
     "text": [
      "22/12/02 11:53:30 WARN MemoryStore: Not enough space to cache rdd_2_24 in memory! (computed 2.4 MiB so far)\n",
      "22/12/02 11:53:30 WARN BlockManager: Block rdd_2_24 could not be removed as it was not found on disk or in memory\n",
      "22/12/02 11:53:30 WARN BlockManager: Putting block rdd_2_24 failed\n",
      "22/12/02 11:53:30 WARN MemoryStore: Not enough space to cache rdd_2_25 in memory! (computed 6.9 MiB so far)\n",
      "22/12/02 11:53:30 WARN MemoryStore: Failed to reserve initial memory threshold of 1024.0 KiB for computing block rdd_2_27 in memory.\n",
      "22/12/02 11:53:30 WARN MemoryStore: Not enough space to cache rdd_2_27 in memory! (computed 0.0 B so far)\n",
      "22/12/02 11:53:30 WARN BlockManager: Block rdd_2_27 could not be removed as it was not found on disk or in memory\n",
      "22/12/02 11:53:30 WARN BlockManager: Putting block rdd_2_27 failed\n",
      "22/12/02 11:53:30 WARN BlockManager: Block rdd_2_25 could not be removed as it was not found on disk or in memory\n",
      "22/12/02 11:53:30 WARN BlockManager: Putting block rdd_2_25 failed\n"
     ]
    },
    {
     "name": "stderr",
     "output_type": "stream",
     "text": [
      "[Stage 19:=============>                                         (25 + 4) / 100]\r"
     ]
    },
    {
     "name": "stdout",
     "output_type": "stream",
     "text": [
      "22/12/02 11:53:30 WARN MemoryStore: Not enough space to cache rdd_2_26 in memory! (computed 7.0 MiB so far)\n",
      "22/12/02 11:53:30 WARN BlockManager: Block rdd_2_26 could not be removed as it was not found on disk or in memory\n",
      "22/12/02 11:53:30 WARN BlockManager: Putting block rdd_2_26 failed\n"
     ]
    },
    {
     "name": "stderr",
     "output_type": "stream",
     "text": [
      "[Stage 19:==============>                                        (27 + 4) / 100]\r"
     ]
    },
    {
     "name": "stdout",
     "output_type": "stream",
     "text": [
      "22/12/02 11:53:31 WARN MemoryStore: Failed to reserve initial memory threshold of 1024.0 KiB for computing block rdd_2_30 in memory.\n",
      "22/12/02 11:53:31 WARN MemoryStore: Not enough space to cache rdd_2_28 in memory! (computed 4.2 MiB so far)\n",
      "22/12/02 11:53:31 WARN BlockManager: Block rdd_2_28 could not be removed as it was not found on disk or in memory\n",
      "22/12/02 11:53:31 WARN BlockManager: Putting block rdd_2_28 failed\n",
      "22/12/02 11:53:31 WARN MemoryStore: Not enough space to cache rdd_2_30 in memory! (computed 0.0 B so far)\n",
      "22/12/02 11:53:31 WARN BlockManager: Block rdd_2_30 could not be removed as it was not found on disk or in memory\n",
      "22/12/02 11:53:31 WARN BlockManager: Putting block rdd_2_30 failed\n",
      "22/12/02 11:53:31 WARN MemoryStore: Not enough space to cache rdd_2_29 in memory! (computed 6.8 MiB so far)\n",
      "22/12/02 11:53:31 WARN BlockManager: Block rdd_2_29 could not be removed as it was not found on disk or in memory\n"
     ]
    },
    {
     "name": "stderr",
     "output_type": "stream",
     "text": [
      "[Stage 19:===============>                                       (28 + 4) / 100]\r"
     ]
    },
    {
     "name": "stdout",
     "output_type": "stream",
     "text": [
      "22/12/02 11:53:31 WARN BlockManager: Putting block rdd_2_29 failed\n"
     ]
    },
    {
     "name": "stderr",
     "output_type": "stream",
     "text": [
      "[Stage 19:===============>                                       (29 + 4) / 100]\r"
     ]
    },
    {
     "name": "stdout",
     "output_type": "stream",
     "text": [
      "22/12/02 11:53:32 WARN MemoryStore: Not enough space to cache rdd_2_31 in memory! (computed 6.9 MiB so far)\n",
      "22/12/02 11:53:32 WARN BlockManager: Block rdd_2_31 could not be removed as it was not found on disk or in memory\n",
      "22/12/02 11:53:32 WARN BlockManager: Putting block rdd_2_31 failed\n",
      "22/12/02 11:53:32 WARN MemoryStore: Not enough space to cache rdd_2_32 in memory! (computed 2.5 MiB so far)\n",
      "22/12/02 11:53:32 WARN BlockManager: Block rdd_2_32 could not be removed as it was not found on disk or in memory\n",
      "22/12/02 11:53:32 WARN BlockManager: Putting block rdd_2_32 failed\n"
     ]
    },
    {
     "name": "stderr",
     "output_type": "stream",
     "text": [
      "[Stage 19:=================>                                     (32 + 4) / 100]\r"
     ]
    },
    {
     "name": "stdout",
     "output_type": "stream",
     "text": [
      "22/12/02 11:53:32 WARN MemoryStore: Not enough space to cache rdd_2_34 in memory! (computed 4.2 MiB so far)\n",
      "22/12/02 11:53:32 WARN BlockManager: Block rdd_2_34 could not be removed as it was not found on disk or in memory\n",
      "22/12/02 11:53:32 WARN BlockManager: Putting block rdd_2_34 failed\n",
      "22/12/02 11:53:32 WARN MemoryStore: Not enough space to cache rdd_2_33 in memory! (computed 4.3 MiB so far)\n",
      "22/12/02 11:53:32 WARN BlockManager: Block rdd_2_33 could not be removed as it was not found on disk or in memory\n",
      "22/12/02 11:53:32 WARN BlockManager: Putting block rdd_2_33 failed\n"
     ]
    },
    {
     "name": "stderr",
     "output_type": "stream",
     "text": [
      "[Stage 19:==================>                                    (33 + 4) / 100]\r"
     ]
    },
    {
     "name": "stdout",
     "output_type": "stream",
     "text": [
      "22/12/02 11:53:33 WARN MemoryStore: Not enough space to cache rdd_2_35 in memory! (computed 4.3 MiB so far)\n",
      "22/12/02 11:53:33 WARN BlockManager: Block rdd_2_35 could not be removed as it was not found on disk or in memory\n",
      "22/12/02 11:53:33 WARN BlockManager: Putting block rdd_2_35 failed\n"
     ]
    },
    {
     "name": "stderr",
     "output_type": "stream",
     "text": [
      "[Stage 19:===================>                                   (35 + 4) / 100]\r"
     ]
    },
    {
     "name": "stdout",
     "output_type": "stream",
     "text": [
      "22/12/02 11:53:33 WARN MemoryStore: Not enough space to cache rdd_2_36 in memory! (computed 7.0 MiB so far)\n",
      "22/12/02 11:53:33 WARN BlockManager: Block rdd_2_36 could not be removed as it was not found on disk or in memory\n",
      "22/12/02 11:53:33 WARN BlockManager: Putting block rdd_2_36 failed\n",
      "22/12/02 11:53:33 WARN MemoryStore: Failed to reserve initial memory threshold of 1024.0 KiB for computing block rdd_2_38 in memory.\n",
      "22/12/02 11:53:33 WARN MemoryStore: Not enough space to cache rdd_2_38 in memory! (computed 0.0 B so far)\n",
      "22/12/02 11:53:33 WARN MemoryStore: Not enough space to cache rdd_2_37 in memory! (computed 2.5 MiB so far)\n",
      "22/12/02 11:53:33 WARN BlockManager: Block rdd_2_37 could not be removed as it was not found on disk or in memory\n",
      "22/12/02 11:53:33 WARN BlockManager: Putting block rdd_2_37 failed\n"
     ]
    },
    {
     "name": "stderr",
     "output_type": "stream",
     "text": [
      "[Stage 19:===================>                                   (36 + 4) / 100]\r"
     ]
    },
    {
     "name": "stdout",
     "output_type": "stream",
     "text": [
      "22/12/02 11:53:33 WARN BlockManager: Block rdd_2_38 could not be removed as it was not found on disk or in memory\n",
      "22/12/02 11:53:33 WARN BlockManager: Putting block rdd_2_38 failed\n"
     ]
    },
    {
     "name": "stderr",
     "output_type": "stream",
     "text": [
      "[Stage 19:====================>                                  (38 + 4) / 100]\r"
     ]
    },
    {
     "name": "stdout",
     "output_type": "stream",
     "text": [
      "22/12/02 11:53:34 WARN MemoryStore: Not enough space to cache rdd_2_39 in memory! (computed 7.1 MiB so far)\n",
      "22/12/02 11:53:34 WARN MemoryStore: Not enough space to cache rdd_2_40 in memory! (computed 2.5 MiB so far)\n",
      "22/12/02 11:53:34 WARN BlockManager: Block rdd_2_40 could not be removed as it was not found on disk or in memory\n",
      "22/12/02 11:53:34 WARN BlockManager: Putting block rdd_2_40 failed\n",
      "22/12/02 11:53:34 WARN BlockManager: Block rdd_2_39 could not be removed as it was not found on disk or in memory\n",
      "22/12/02 11:53:34 WARN BlockManager: Putting block rdd_2_39 failed\n",
      "22/12/02 11:53:34 WARN MemoryStore: Failed to reserve initial memory threshold of 1024.0 KiB for computing block rdd_2_41 in memory.\n"
     ]
    },
    {
     "name": "stderr",
     "output_type": "stream",
     "text": [
      "[Stage 19:======================>                                (40 + 4) / 100]\r"
     ]
    },
    {
     "name": "stdout",
     "output_type": "stream",
     "text": [
      "22/12/02 11:53:34 WARN MemoryStore: Not enough space to cache rdd_2_41 in memory! (computed 0.0 B so far)\n",
      "22/12/02 11:53:34 WARN BlockManager: Block rdd_2_41 could not be removed as it was not found on disk or in memory\n",
      "22/12/02 11:53:34 WARN BlockManager: Putting block rdd_2_41 failed\n"
     ]
    },
    {
     "name": "stderr",
     "output_type": "stream",
     "text": [
      "[Stage 19:=======================>                               (42 + 4) / 100]\r"
     ]
    },
    {
     "name": "stdout",
     "output_type": "stream",
     "text": [
      "22/12/02 11:53:35 WARN MemoryStore: Not enough space to cache rdd_2_42 in memory! (computed 4.3 MiB so far)\n",
      "22/12/02 11:53:35 WARN BlockManager: Block rdd_2_42 could not be removed as it was not found on disk or in memory\n",
      "22/12/02 11:53:35 WARN BlockManager: Putting block rdd_2_42 failed\n",
      "22/12/02 11:53:35 WARN MemoryStore: Not enough space to cache rdd_2_43 in memory! (computed 4.4 MiB so far)\n",
      "22/12/02 11:53:35 WARN BlockManager: Block rdd_2_43 could not be removed as it was not found on disk or in memory\n",
      "22/12/02 11:53:35 WARN BlockManager: Putting block rdd_2_43 failed\n",
      "22/12/02 11:53:35 WARN MemoryStore: Not enough space to cache rdd_2_44 in memory! (computed 1662.7 KiB so far)\n"
     ]
    },
    {
     "name": "stderr",
     "output_type": "stream",
     "text": [
      "[Stage 19:=======================>                               (43 + 4) / 100]\r"
     ]
    },
    {
     "name": "stdout",
     "output_type": "stream",
     "text": [
      "22/12/02 11:53:35 WARN BlockManager: Block rdd_2_44 could not be removed as it was not found on disk or in memory\n",
      "22/12/02 11:53:35 WARN BlockManager: Putting block rdd_2_44 failed\n",
      "22/12/02 11:53:36 WARN MemoryStore: Not enough space to cache rdd_2_45 in memory! (computed 7.2 MiB so far)\n",
      "22/12/02 11:53:36 WARN BlockManager: Block rdd_2_45 could not be removed as it was not found on disk or in memory\n",
      "22/12/02 11:53:36 WARN BlockManager: Putting block rdd_2_45 failed\n"
     ]
    },
    {
     "name": "stderr",
     "output_type": "stream",
     "text": [
      "[Stage 19:========================>                              (45 + 4) / 100]\r"
     ]
    },
    {
     "name": "stdout",
     "output_type": "stream",
     "text": [
      "22/12/02 11:53:36 WARN MemoryStore: Not enough space to cache rdd_2_46 in memory! (computed 4.3 MiB so far)\n",
      "22/12/02 11:53:36 WARN BlockManager: Block rdd_2_46 could not be removed as it was not found on disk or in memory\n",
      "22/12/02 11:53:36 WARN BlockManager: Putting block rdd_2_46 failed\n",
      "22/12/02 11:53:36 WARN MemoryStore: Not enough space to cache rdd_2_47 in memory! (computed 4.4 MiB so far)\n",
      "22/12/02 11:53:36 WARN BlockManager: Block rdd_2_47 could not be removed as it was not found on disk or in memory\n",
      "22/12/02 11:53:36 WARN BlockManager: Putting block rdd_2_47 failed\n"
     ]
    },
    {
     "name": "stderr",
     "output_type": "stream",
     "text": [
      "[Stage 19:=========================>                             (47 + 4) / 100]\r"
     ]
    },
    {
     "name": "stdout",
     "output_type": "stream",
     "text": [
      "22/12/02 11:53:37 WARN MemoryStore: Not enough space to cache rdd_2_48 in memory! (computed 7.2 MiB so far)\n",
      "22/12/02 11:53:37 WARN BlockManager: Block rdd_2_48 could not be removed as it was not found on disk or in memory\n",
      "22/12/02 11:53:37 WARN BlockManager: Putting block rdd_2_48 failed\n",
      "22/12/02 11:53:37 WARN MemoryStore: Not enough space to cache rdd_2_49 in memory! (computed 2.5 MiB so far)\n",
      "22/12/02 11:53:37 WARN BlockManager: Block rdd_2_49 could not be removed as it was not found on disk or in memory\n",
      "22/12/02 11:53:37 WARN BlockManager: Putting block rdd_2_49 failed\n"
     ]
    },
    {
     "name": "stderr",
     "output_type": "stream",
     "text": [
      "[Stage 19:==========================>                            (49 + 4) / 100]\r"
     ]
    },
    {
     "name": "stdout",
     "output_type": "stream",
     "text": [
      "22/12/02 11:53:38 WARN MemoryStore: Not enough space to cache rdd_2_50 in memory! (computed 4.4 MiB so far)\n",
      "22/12/02 11:53:38 WARN BlockManager: Block rdd_2_50 could not be removed as it was not found on disk or in memory\n",
      "22/12/02 11:53:38 WARN BlockManager: Putting block rdd_2_50 failed\n",
      "22/12/02 11:53:38 WARN MemoryStore: Not enough space to cache rdd_2_51 in memory! (computed 4.4 MiB so far)\n",
      "22/12/02 11:53:38 WARN BlockManager: Block rdd_2_51 could not be removed as it was not found on disk or in memory\n",
      "22/12/02 11:53:38 WARN BlockManager: Putting block rdd_2_51 failed\n"
     ]
    },
    {
     "name": "stderr",
     "output_type": "stream",
     "text": [
      "[Stage 19:============================>                          (51 + 4) / 100]\r"
     ]
    },
    {
     "name": "stdout",
     "output_type": "stream",
     "text": [
      "22/12/02 11:53:38 WARN MemoryStore: Not enough space to cache rdd_2_52 in memory! (computed 7.3 MiB so far)\n",
      "22/12/02 11:53:38 WARN BlockManager: Block rdd_2_52 could not be removed as it was not found on disk or in memory\n",
      "22/12/02 11:53:38 WARN BlockManager: Putting block rdd_2_52 failed\n",
      "22/12/02 11:53:38 WARN MemoryStore: Not enough space to cache rdd_2_53 in memory! (computed 2.5 MiB so far)\n",
      "22/12/02 11:53:38 WARN BlockManager: Block rdd_2_53 could not be removed as it was not found on disk or in memory\n",
      "22/12/02 11:53:38 WARN BlockManager: Putting block rdd_2_53 failed\n",
      "22/12/02 11:53:38 WARN MemoryStore: Failed to reserve initial memory threshold of 1024.0 KiB for computing block rdd_2_56 in memory.\n",
      "22/12/02 11:53:38 WARN MemoryStore: Failed to reserve initial memory threshold of 1024.0 KiB for computing block rdd_2_54 in memory.\n"
     ]
    },
    {
     "name": "stderr",
     "output_type": "stream",
     "text": [
      "[Stage 19:=============================>                         (53 + 4) / 100]\r"
     ]
    },
    {
     "name": "stdout",
     "output_type": "stream",
     "text": [
      "22/12/02 11:53:38 WARN MemoryStore: Not enough space to cache rdd_2_56 in memory! (computed 0.0 B so far)\n",
      "22/12/02 11:53:38 WARN BlockManager: Block rdd_2_56 could not be removed as it was not found on disk or in memory\n",
      "22/12/02 11:53:38 WARN BlockManager: Putting block rdd_2_56 failed\n",
      "22/12/02 11:53:38 WARN MemoryStore: Not enough space to cache rdd_2_54 in memory! (computed 0.0 B so far)\n",
      "22/12/02 11:53:38 WARN BlockManager: Block rdd_2_54 could not be removed as it was not found on disk or in memory\n",
      "22/12/02 11:53:38 WARN BlockManager: Putting block rdd_2_54 failed\n"
     ]
    },
    {
     "name": "stderr",
     "output_type": "stream",
     "text": [
      "[Stage 19:=============================>                         (54 + 4) / 100]\r"
     ]
    },
    {
     "name": "stdout",
     "output_type": "stream",
     "text": [
      "22/12/02 11:53:39 WARN MemoryStore: Not enough space to cache rdd_2_57 in memory! (computed 7.3 MiB so far)\n",
      "22/12/02 11:53:39 WARN BlockManager: Block rdd_2_57 could not be removed as it was not found on disk or in memory\n",
      "22/12/02 11:53:39 WARN BlockManager: Putting block rdd_2_57 failed\n",
      "22/12/02 11:53:39 WARN MemoryStore: Not enough space to cache rdd_2_58 in memory! (computed 2.6 MiB so far)\n",
      "22/12/02 11:53:39 WARN BlockManager: Block rdd_2_58 could not be removed as it was not found on disk or in memory\n",
      "22/12/02 11:53:39 WARN BlockManager: Putting block rdd_2_58 failed\n"
     ]
    },
    {
     "name": "stderr",
     "output_type": "stream",
     "text": [
      "[Stage 19:===============================>                       (57 + 4) / 100]\r"
     ]
    },
    {
     "name": "stdout",
     "output_type": "stream",
     "text": [
      "22/12/02 11:53:40 WARN MemoryStore: Not enough space to cache rdd_2_60 in memory! (computed 4.5 MiB so far)\n",
      "22/12/02 11:53:40 WARN BlockManager: Block rdd_2_60 could not be removed as it was not found on disk or in memory\n",
      "22/12/02 11:53:40 WARN BlockManager: Putting block rdd_2_60 failed\n",
      "22/12/02 11:53:40 WARN MemoryStore: Not enough space to cache rdd_2_61 in memory! (computed 1710.5 KiB so far)\n",
      "22/12/02 11:53:40 WARN BlockManager: Block rdd_2_61 could not be removed as it was not found on disk or in memory\n",
      "22/12/02 11:53:40 WARN BlockManager: Putting block rdd_2_61 failed\n",
      "22/12/02 11:53:40 WARN MemoryStore: Not enough space to cache rdd_2_59 in memory! (computed 4.5 MiB so far)\n",
      "22/12/02 11:53:40 WARN BlockManager: Block rdd_2_59 could not be removed as it was not found on disk or in memory\n",
      "22/12/02 11:53:40 WARN BlockManager: Putting block rdd_2_59 failed\n"
     ]
    },
    {
     "name": "stderr",
     "output_type": "stream",
     "text": [
      "[Stage 19:================================>                      (59 + 4) / 100]\r"
     ]
    },
    {
     "name": "stdout",
     "output_type": "stream",
     "text": [
      "22/12/02 11:53:41 WARN MemoryStore: Not enough space to cache rdd_2_62 in memory! (computed 7.4 MiB so far)\n",
      "22/12/02 11:53:41 WARN BlockManager: Block rdd_2_62 could not be removed as it was not found on disk or in memory\n",
      "22/12/02 11:53:41 WARN BlockManager: Putting block rdd_2_62 failed\n"
     ]
    },
    {
     "name": "stderr",
     "output_type": "stream",
     "text": [
      "[Stage 19:=================================>                     (61 + 4) / 100]\r"
     ]
    },
    {
     "name": "stdout",
     "output_type": "stream",
     "text": [
      "22/12/02 11:53:41 WARN MemoryStore: Not enough space to cache rdd_2_63 in memory! (computed 1667.1 KiB so far)\n",
      "22/12/02 11:53:41 WARN BlockManager: Block rdd_2_63 could not be removed as it was not found on disk or in memory\n",
      "22/12/02 11:53:41 WARN BlockManager: Putting block rdd_2_63 failed\n"
     ]
    },
    {
     "name": "stderr",
     "output_type": "stream",
     "text": [
      "[Stage 19:==================================>                    (62 + 4) / 100]\r"
     ]
    },
    {
     "name": "stdout",
     "output_type": "stream",
     "text": [
      "22/12/02 11:53:41 WARN MemoryStore: Not enough space to cache rdd_2_64 in memory! (computed 7.4 MiB so far)\n",
      "22/12/02 11:53:41 WARN BlockManager: Block rdd_2_64 could not be removed as it was not found on disk or in memory\n",
      "22/12/02 11:53:41 WARN BlockManager: Putting block rdd_2_64 failed\n",
      "22/12/02 11:53:41 WARN MemoryStore: Not enough space to cache rdd_2_65 in memory! (computed 2.6 MiB so far)\n",
      "22/12/02 11:53:41 WARN BlockManager: Block rdd_2_65 could not be removed as it was not found on disk or in memory\n",
      "22/12/02 11:53:41 WARN BlockManager: Putting block rdd_2_65 failed\n"
     ]
    },
    {
     "name": "stderr",
     "output_type": "stream",
     "text": [
      "[Stage 19:===================================>                   (65 + 4) / 100]\r"
     ]
    },
    {
     "name": "stdout",
     "output_type": "stream",
     "text": [
      "22/12/02 11:53:42 WARN MemoryStore: Not enough space to cache rdd_2_66 in memory! (computed 7.5 MiB so far)\n",
      "22/12/02 11:53:42 WARN BlockManager: Block rdd_2_66 could not be removed as it was not found on disk or in memory\n",
      "22/12/02 11:53:42 WARN BlockManager: Putting block rdd_2_66 failed\n",
      "22/12/02 11:53:42 WARN MemoryStore: Not enough space to cache rdd_2_67 in memory! (computed 1738.8 KiB so far)\n",
      "22/12/02 11:53:42 WARN MemoryStore: Not enough space to cache rdd_2_68 in memory! (computed 1760.6 KiB so far)\n",
      "22/12/02 11:53:42 WARN BlockManager: Block rdd_2_67 could not be removed as it was not found on disk or in memory\n",
      "22/12/02 11:53:42 WARN BlockManager: Putting block rdd_2_67 failed\n",
      "22/12/02 11:53:42 WARN BlockManager: Block rdd_2_68 could not be removed as it was not found on disk or in memory\n",
      "22/12/02 11:53:42 WARN BlockManager: Putting block rdd_2_68 failed\n"
     ]
    },
    {
     "name": "stderr",
     "output_type": "stream",
     "text": [
      "[Stage 19:====================================>                  (67 + 4) / 100]\r"
     ]
    },
    {
     "name": "stdout",
     "output_type": "stream",
     "text": [
      "22/12/02 11:53:43 WARN MemoryStore: Not enough space to cache rdd_2_70 in memory! (computed 1801.4 KiB so far)\n",
      "22/12/02 11:53:43 WARN BlockManager: Block rdd_2_70 could not be removed as it was not found on disk or in memory\n",
      "22/12/02 11:53:43 WARN BlockManager: Putting block rdd_2_70 failed\n",
      "22/12/02 11:53:43 WARN MemoryStore: Not enough space to cache rdd_2_69 in memory! (computed 7.4 MiB so far)\n",
      "22/12/02 11:53:43 WARN BlockManager: Block rdd_2_69 could not be removed as it was not found on disk or in memory\n",
      "22/12/02 11:53:43 WARN BlockManager: Putting block rdd_2_69 failed\n",
      "22/12/02 11:53:43 WARN MemoryStore: Not enough space to cache rdd_2_71 in memory! (computed 1783.2 KiB so far)\n",
      "22/12/02 11:53:43 WARN BlockManager: Block rdd_2_71 could not be removed as it was not found on disk or in memory\n",
      "22/12/02 11:53:43 WARN BlockManager: Putting block rdd_2_71 failed\n"
     ]
    },
    {
     "name": "stderr",
     "output_type": "stream",
     "text": [
      "[Stage 19:=====================================>                 (69 + 4) / 100]\r"
     ]
    },
    {
     "name": "stdout",
     "output_type": "stream",
     "text": [
      "22/12/02 11:53:43 WARN MemoryStore: Not enough space to cache rdd_2_72 in memory! (computed 7.5 MiB so far)\n",
      "22/12/02 11:53:43 WARN BlockManager: Block rdd_2_72 could not be removed as it was not found on disk or in memory\n",
      "22/12/02 11:53:43 WARN BlockManager: Putting block rdd_2_72 failed\n"
     ]
    },
    {
     "name": "stderr",
     "output_type": "stream",
     "text": [
      "[Stage 19:======================================>                (70 + 4) / 100]\r"
     ]
    },
    {
     "name": "stdout",
     "output_type": "stream",
     "text": [
      "22/12/02 11:53:44 WARN MemoryStore: Not enough space to cache rdd_2_73 in memory! (computed 7.5 MiB so far)\n",
      "22/12/02 11:53:44 WARN BlockManager: Block rdd_2_73 could not be removed as it was not found on disk or in memory\n",
      "22/12/02 11:53:44 WARN BlockManager: Putting block rdd_2_73 failed\n"
     ]
    },
    {
     "name": "stderr",
     "output_type": "stream",
     "text": [
      "[Stage 19:========================================>              (73 + 4) / 100]\r"
     ]
    },
    {
     "name": "stdout",
     "output_type": "stream",
     "text": [
      "22/12/02 11:53:44 WARN MemoryStore: Not enough space to cache rdd_2_74 in memory! (computed 4.6 MiB so far)\n",
      "22/12/02 11:53:44 WARN BlockManager: Block rdd_2_74 could not be removed as it was not found on disk or in memory\n",
      "22/12/02 11:53:44 WARN BlockManager: Putting block rdd_2_74 failed\n",
      "22/12/02 11:53:44 WARN MemoryStore: Not enough space to cache rdd_2_76 in memory! (computed 1715.4 KiB so far)\n",
      "22/12/02 11:53:44 WARN BlockManager: Block rdd_2_76 could not be removed as it was not found on disk or in memory\n",
      "22/12/02 11:53:44 WARN BlockManager: Putting block rdd_2_76 failed\n",
      "22/12/02 11:53:44 WARN MemoryStore: Not enough space to cache rdd_2_75 in memory! (computed 4.6 MiB so far)\n",
      "22/12/02 11:53:44 WARN BlockManager: Block rdd_2_75 could not be removed as it was not found on disk or in memory\n",
      "22/12/02 11:53:44 WARN BlockManager: Putting block rdd_2_75 failed\n"
     ]
    },
    {
     "name": "stderr",
     "output_type": "stream",
     "text": [
      "[Stage 19:=========================================>             (75 + 4) / 100]\r"
     ]
    },
    {
     "name": "stdout",
     "output_type": "stream",
     "text": [
      "22/12/02 11:53:45 WARN MemoryStore: Not enough space to cache rdd_2_78 in memory! (computed 4.6 MiB so far)\n",
      "22/12/02 11:53:45 WARN BlockManager: Block rdd_2_78 could not be removed as it was not found on disk or in memory\n",
      "22/12/02 11:53:45 WARN BlockManager: Putting block rdd_2_78 failed\n",
      "22/12/02 11:53:45 WARN MemoryStore: Not enough space to cache rdd_2_77 in memory! (computed 4.6 MiB so far)\n",
      "22/12/02 11:53:45 WARN BlockManager: Block rdd_2_77 could not be removed as it was not found on disk or in memory\n",
      "22/12/02 11:53:45 WARN BlockManager: Putting block rdd_2_77 failed\n"
     ]
    },
    {
     "name": "stderr",
     "output_type": "stream",
     "text": [
      "[Stage 19:==========================================>            (77 + 4) / 100]\r"
     ]
    },
    {
     "name": "stdout",
     "output_type": "stream",
     "text": [
      "22/12/02 11:53:46 WARN MemoryStore: Not enough space to cache rdd_2_80 in memory! (computed 2.6 MiB so far)\n",
      "22/12/02 11:53:46 WARN BlockManager: Block rdd_2_80 could not be removed as it was not found on disk or in memory\n",
      "22/12/02 11:53:46 WARN BlockManager: Putting block rdd_2_80 failed\n",
      "22/12/02 11:53:46 WARN MemoryStore: Not enough space to cache rdd_2_79 in memory! (computed 7.5 MiB so far)\n",
      "22/12/02 11:53:46 WARN BlockManager: Block rdd_2_79 could not be removed as it was not found on disk or in memory\n",
      "22/12/02 11:53:46 WARN BlockManager: Putting block rdd_2_79 failed\n",
      "22/12/02 11:53:46 WARN MemoryStore: Failed to reserve initial memory threshold of 1024.0 KiB for computing block rdd_2_82 in memory.\n",
      "22/12/02 11:53:46 WARN MemoryStore: Not enough space to cache rdd_2_82 in memory! (computed 0.0 B so far)\n",
      "22/12/02 11:53:46 WARN BlockManager: Block rdd_2_82 could not be removed as it was not found on disk or in memory\n",
      "22/12/02 11:53:46 WARN BlockManager: Putting block rdd_2_82 failed\n",
      "22/12/02 11:53:46 WARN MemoryStore: Failed to reserve initial memory threshold of 1024.0 KiB for computing block rdd_2_81 in memory.\n",
      "22/12/02 11:53:46 WARN MemoryStore: Not enough space to cache rdd_2_81 in memory! (computed 0.0 B so far)\n",
      "22/12/02 11:53:46 WARN BlockManager: Block rdd_2_81 could not be removed as it was not found on disk or in memory\n",
      "22/12/02 11:53:46 WARN BlockManager: Putting block rdd_2_81 failed\n"
     ]
    },
    {
     "name": "stderr",
     "output_type": "stream",
     "text": [
      "[Stage 19:=============================================>         (83 + 4) / 100]\r"
     ]
    },
    {
     "name": "stdout",
     "output_type": "stream",
     "text": [
      "22/12/02 11:53:47 WARN MemoryStore: Not enough space to cache rdd_2_84 in memory! (computed 1778.8 KiB so far)\n",
      "22/12/02 11:53:47 WARN BlockManager: Block rdd_2_84 could not be removed as it was not found on disk or in memory\n",
      "22/12/02 11:53:47 WARN BlockManager: Putting block rdd_2_84 failed\n",
      "22/12/02 11:53:47 WARN MemoryStore: Not enough space to cache rdd_2_83 in memory! (computed 7.4 MiB so far)\n",
      "22/12/02 11:53:47 WARN BlockManager: Block rdd_2_83 could not be removed as it was not found on disk or in memory\n",
      "22/12/02 11:53:47 WARN BlockManager: Putting block rdd_2_83 failed\n",
      "22/12/02 11:53:47 WARN MemoryStore: Not enough space to cache rdd_2_85 in memory! (computed 1885.7 KiB so far)\n",
      "22/12/02 11:53:47 WARN BlockManager: Block rdd_2_85 could not be removed as it was not found on disk or in memory\n",
      "22/12/02 11:53:47 WARN BlockManager: Putting block rdd_2_85 failed\n",
      "22/12/02 11:53:47 WARN MemoryStore: Not enough space to cache rdd_2_86 in memory! (computed 1695.9 KiB so far)\n",
      "22/12/02 11:53:47 WARN BlockManager: Block rdd_2_86 could not be removed as it was not found on disk or in memory\n",
      "22/12/02 11:53:47 WARN BlockManager: Putting block rdd_2_86 failed\n"
     ]
    },
    {
     "name": "stderr",
     "output_type": "stream",
     "text": [
      "[Stage 19:===============================================>       (87 + 4) / 100]\r"
     ]
    },
    {
     "name": "stdout",
     "output_type": "stream",
     "text": [
      "22/12/02 11:53:48 WARN MemoryStore: Not enough space to cache rdd_2_89 in memory! (computed 2.1 MiB so far)\n",
      "22/12/02 11:53:48 WARN BlockManager: Block rdd_2_89 could not be removed as it was not found on disk or in memory\n",
      "22/12/02 11:53:48 WARN BlockManager: Putting block rdd_2_89 failed\n",
      "22/12/02 11:53:48 WARN MemoryStore: Not enough space to cache rdd_2_87 in memory! (computed 5.6 MiB so far)\n",
      "22/12/02 11:53:48 WARN BlockManager: Block rdd_2_87 could not be removed as it was not found on disk or in memory\n",
      "22/12/02 11:53:48 WARN BlockManager: Putting block rdd_2_87 failed\n",
      "22/12/02 11:53:48 WARN MemoryStore: Not enough space to cache rdd_2_90 in memory! (computed 1966.4 KiB so far)\n",
      "22/12/02 11:53:48 WARN MemoryStore: Not enough space to cache rdd_2_88 in memory! (computed 2.0 MiB so far)\n",
      "22/12/02 11:53:48 WARN BlockManager: Block rdd_2_88 could not be removed as it was not found on disk or in memory\n",
      "22/12/02 11:53:48 WARN BlockManager: Putting block rdd_2_88 failed\n",
      "22/12/02 11:53:48 WARN BlockManager: Block rdd_2_90 could not be removed as it was not found on disk or in memory\n",
      "22/12/02 11:53:48 WARN BlockManager: Putting block rdd_2_90 failed\n"
     ]
    },
    {
     "name": "stderr",
     "output_type": "stream",
     "text": [
      "[Stage 19:================================================>      (89 + 4) / 100]\r"
     ]
    },
    {
     "name": "stdout",
     "output_type": "stream",
     "text": [
      "22/12/02 11:53:49 WARN MemoryStore: Not enough space to cache rdd_2_92 in memory! (computed 3.3 MiB so far)\n",
      "22/12/02 11:53:49 WARN BlockManager: Block rdd_2_92 could not be removed as it was not found on disk or in memory\n",
      "22/12/02 11:53:49 WARN BlockManager: Putting block rdd_2_92 failed\n",
      "22/12/02 11:53:49 WARN MemoryStore: Not enough space to cache rdd_2_91 in memory! (computed 5.1 MiB so far)\n",
      "22/12/02 11:53:49 WARN BlockManager: Block rdd_2_91 could not be removed as it was not found on disk or in memory\n",
      "22/12/02 11:53:49 WARN BlockManager: Putting block rdd_2_91 failed\n",
      "22/12/02 11:53:49 WARN MemoryStore: Not enough space to cache rdd_2_94 in memory! (computed 1164.0 KiB so far)\n",
      "22/12/02 11:53:49 WARN BlockManager: Block rdd_2_94 could not be removed as it was not found on disk or in memory\n",
      "22/12/02 11:53:49 WARN BlockManager: Putting block rdd_2_94 failed\n"
     ]
    },
    {
     "name": "stderr",
     "output_type": "stream",
     "text": [
      "[Stage 19:==================================================>    (91 + 4) / 100]\r"
     ]
    },
    {
     "name": "stdout",
     "output_type": "stream",
     "text": [
      "22/12/02 11:53:49 WARN MemoryStore: Not enough space to cache rdd_2_93 in memory! (computed 7.6 MiB so far)\n",
      "22/12/02 11:53:49 WARN BlockManager: Block rdd_2_93 could not be removed as it was not found on disk or in memory\n",
      "22/12/02 11:53:49 WARN BlockManager: Putting block rdd_2_93 failed\n"
     ]
    },
    {
     "name": "stderr",
     "output_type": "stream",
     "text": [
      "[Stage 19:===================================================>   (93 + 4) / 100]\r"
     ]
    },
    {
     "name": "stdout",
     "output_type": "stream",
     "text": [
      "22/12/02 11:53:50 WARN MemoryStore: Not enough space to cache rdd_2_96 in memory! (computed 4.7 MiB so far)\n",
      "22/12/02 11:53:50 WARN MemoryStore: Not enough space to cache rdd_2_95 in memory! (computed 4.8 MiB so far)\n",
      "22/12/02 11:53:50 WARN BlockManager: Block rdd_2_95 could not be removed as it was not found on disk or in memory\n",
      "22/12/02 11:53:50 WARN BlockManager: Putting block rdd_2_95 failed\n",
      "22/12/02 11:53:50 WARN BlockManager: Block rdd_2_96 could not be removed as it was not found on disk or in memory\n",
      "22/12/02 11:53:50 WARN BlockManager: Putting block rdd_2_96 failed\n"
     ]
    },
    {
     "name": "stderr",
     "output_type": "stream",
     "text": [
      "[Stage 19:====================================================>  (95 + 4) / 100]\r"
     ]
    },
    {
     "name": "stdout",
     "output_type": "stream",
     "text": [
      "22/12/02 11:53:51 WARN MemoryStore: Not enough space to cache rdd_2_98 in memory! (computed 1952.2 KiB so far)\n",
      "22/12/02 11:53:51 WARN MemoryStore: Not enough space to cache rdd_2_97 in memory! (computed 8.8 MiB so far)\n",
      "22/12/02 11:53:51 WARN BlockManager: Block rdd_2_97 could not be removed as it was not found on disk or in memory\n",
      "22/12/02 11:53:51 WARN BlockManager: Putting block rdd_2_97 failed\n",
      "22/12/02 11:53:51 WARN BlockManager: Block rdd_2_98 could not be removed as it was not found on disk or in memory\n",
      "22/12/02 11:53:51 WARN BlockManager: Putting block rdd_2_98 failed\n"
     ]
    },
    {
     "name": "stderr",
     "output_type": "stream",
     "text": [
      "[Stage 19:=====================================================> (97 + 3) / 100]\r"
     ]
    },
    {
     "name": "stdout",
     "output_type": "stream",
     "text": [
      "22/12/02 11:53:51 WARN MemoryStore: Not enough space to cache rdd_2_99 in memory! (computed 2027.8 KiB so far)\n",
      "22/12/02 11:53:51 WARN BlockManager: Block rdd_2_99 could not be removed as it was not found on disk or in memory\n",
      "22/12/02 11:53:51 WARN BlockManager: Putting block rdd_2_99 failed\n"
     ]
    },
    {
     "name": "stderr",
     "output_type": "stream",
     "text": [
      "                                                                                \r"
     ]
    },
    {
     "data": {
      "text/plain": [
       "[(2, 116948),\n",
       " (4, 117126),\n",
       " (7, 122649),\n",
       " (3, 126458),\n",
       " (12, 132305),\n",
       " (1, 134247),\n",
       " (8, 138469),\n",
       " (9, 138978),\n",
       " (6, 191746),\n",
       " (10, 197755),\n",
       " (5, 296587),\n",
       " (11, 297963)]"
      ]
     },
     "execution_count": 21,
     "metadata": {},
     "output_type": "execute_result"
    }
   ],
   "source": [
    "rdd.map(lambda x: (extract_months(x['update_date']),1)).reduceByKey(lambda x,y :x+y).sortBy(lambda l:l[1]).collect()"
   ]
  },
  {
   "cell_type": "markdown",
   "metadata": {
    "id": "hQu2A93481U1"
   },
   "source": [
    "## Question 8: Get the average number of pages"
   ]
  },
  {
   "cell_type": "code",
   "execution_count": 22,
   "metadata": {
    "id": "Wa1y3OKW81U1"
   },
   "outputs": [],
   "source": [
    "def get_Page(line):\n",
    "    search = re.findall('\\d+ pages',line)\n",
    "    if search:\n",
    "        return int(search[0].split(\" \")[0])\n",
    "    else:\n",
    "        return 0"
   ]
  },
  {
   "cell_type": "code",
   "execution_count": 23,
   "metadata": {},
   "outputs": [
    {
     "name": "stderr",
     "output_type": "stream",
     "text": [
      "[Stage 26:=============>                                         (25 + 4) / 100]\r"
     ]
    },
    {
     "name": "stdout",
     "output_type": "stream",
     "text": [
      "22/12/02 12:09:09 WARN MemoryStore: Not enough space to cache rdd_2_27 in memory! (computed 1602.6 KiB so far)\n",
      "22/12/02 12:09:09 WARN MemoryStore: Not enough space to cache rdd_2_26 in memory! (computed 1583.5 KiB so far)\n",
      "22/12/02 12:09:09 WARN MemoryStore: Not enough space to cache rdd_2_25 in memory! (computed 4.2 MiB so far)\n",
      "22/12/02 12:09:09 WARN BlockManager: Block rdd_2_25 could not be removed as it was not found on disk or in memory\n",
      "22/12/02 12:09:09 WARN BlockManager: Putting block rdd_2_25 failed\n",
      "22/12/02 12:09:09 WARN BlockManager: Block rdd_2_27 could not be removed as it was not found on disk or in memory\n",
      "22/12/02 12:09:09 WARN BlockManager: Putting block rdd_2_27 failed\n",
      "22/12/02 12:09:09 WARN MemoryStore: Not enough space to cache rdd_2_24 in memory! (computed 4.1 MiB so far)\n",
      "22/12/02 12:09:09 WARN BlockManager: Block rdd_2_24 could not be removed as it was not found on disk or in memory\n",
      "22/12/02 12:09:09 WARN BlockManager: Putting block rdd_2_24 failed\n",
      "22/12/02 12:09:09 WARN BlockManager: Block rdd_2_26 could not be removed as it was not found on disk or in memory\n",
      "22/12/02 12:09:09 WARN BlockManager: Putting block rdd_2_26 failed\n"
     ]
    },
    {
     "name": "stderr",
     "output_type": "stream",
     "text": [
      "[Stage 26:===============>                                       (29 + 4) / 100]\r"
     ]
    },
    {
     "name": "stdout",
     "output_type": "stream",
     "text": [
      "22/12/02 12:09:10 WARN MemoryStore: Not enough space to cache rdd_2_28 in memory! (computed 6.8 MiB so far)\n",
      "22/12/02 12:09:10 WARN BlockManager: Block rdd_2_28 could not be removed as it was not found on disk or in memory\n",
      "22/12/02 12:09:10 WARN BlockManager: Putting block rdd_2_28 failed\n",
      "22/12/02 12:09:11 WARN MemoryStore: Not enough space to cache rdd_2_29 in memory! (computed 1562.8 KiB so far)\n",
      "22/12/02 12:09:11 WARN BlockManager: Block rdd_2_29 could not be removed as it was not found on disk or in memory\n",
      "22/12/02 12:09:11 WARN BlockManager: Putting block rdd_2_29 failed\n",
      "22/12/02 12:09:11 WARN MemoryStore: Not enough space to cache rdd_2_31 in memory! (computed 1565.4 KiB so far)\n",
      "22/12/02 12:09:11 WARN BlockManager: Block rdd_2_31 could not be removed as it was not found on disk or in memory\n",
      "22/12/02 12:09:11 WARN BlockManager: Putting block rdd_2_31 failed\n",
      "22/12/02 12:09:11 WARN MemoryStore: Not enough space to cache rdd_2_30 in memory! (computed 6.9 MiB so far)\n",
      "22/12/02 12:09:11 WARN BlockManager: Block rdd_2_30 could not be removed as it was not found on disk or in memory\n",
      "22/12/02 12:09:11 WARN BlockManager: Putting block rdd_2_30 failed\n"
     ]
    },
    {
     "name": "stderr",
     "output_type": "stream",
     "text": [
      "[Stage 26:==================>                                    (33 + 4) / 100]\r"
     ]
    },
    {
     "name": "stdout",
     "output_type": "stream",
     "text": [
      "22/12/02 12:09:12 WARN MemoryStore: Not enough space to cache rdd_2_32 in memory! (computed 4.4 MiB so far)\n",
      "22/12/02 12:09:12 WARN BlockManager: Block rdd_2_32 could not be removed as it was not found on disk or in memory\n",
      "22/12/02 12:09:12 WARN BlockManager: Putting block rdd_2_32 failed\n",
      "22/12/02 12:09:12 WARN MemoryStore: Not enough space to cache rdd_2_34 in memory! (computed 1613.3 KiB so far)\n",
      "22/12/02 12:09:12 WARN BlockManager: Block rdd_2_34 could not be removed as it was not found on disk or in memory\n",
      "22/12/02 12:09:12 WARN BlockManager: Putting block rdd_2_34 failed\n",
      "22/12/02 12:09:12 WARN MemoryStore: Not enough space to cache rdd_2_35 in memory! (computed 1585.0 KiB so far)\n",
      "22/12/02 12:09:12 WARN MemoryStore: Not enough space to cache rdd_2_33 in memory! (computed 4.3 MiB so far)\n",
      "22/12/02 12:09:12 WARN BlockManager: Block rdd_2_33 could not be removed as it was not found on disk or in memory\n",
      "22/12/02 12:09:12 WARN BlockManager: Putting block rdd_2_33 failed\n",
      "22/12/02 12:09:12 WARN BlockManager: Block rdd_2_35 could not be removed as it was not found on disk or in memory\n",
      "22/12/02 12:09:12 WARN BlockManager: Putting block rdd_2_35 failed\n"
     ]
    },
    {
     "name": "stderr",
     "output_type": "stream",
     "text": [
      "[Stage 26:===================>                                   (35 + 4) / 100]\r"
     ]
    },
    {
     "name": "stdout",
     "output_type": "stream",
     "text": [
      "22/12/02 12:09:13 WARN MemoryStore: Not enough space to cache rdd_2_36 in memory! (computed 4.3 MiB so far)\n",
      "22/12/02 12:09:13 WARN BlockManager: Block rdd_2_36 could not be removed as it was not found on disk or in memory\n",
      "22/12/02 12:09:13 WARN BlockManager: Putting block rdd_2_36 failed\n",
      "22/12/02 12:09:13 WARN MemoryStore: Not enough space to cache rdd_2_37 in memory! (computed 4.4 MiB so far)\n",
      "22/12/02 12:09:13 WARN BlockManager: Block rdd_2_37 could not be removed as it was not found on disk or in memory\n",
      "22/12/02 12:09:13 WARN BlockManager: Putting block rdd_2_37 failed\n"
     ]
    },
    {
     "name": "stderr",
     "output_type": "stream",
     "text": [
      "[Stage 26:====================>                                  (37 + 4) / 100]\r"
     ]
    },
    {
     "name": "stdout",
     "output_type": "stream",
     "text": [
      "22/12/02 12:09:14 WARN MemoryStore: Not enough space to cache rdd_2_39 in memory! (computed 2.5 MiB so far)\n",
      "22/12/02 12:09:14 WARN BlockManager: Block rdd_2_39 could not be removed as it was not found on disk or in memory\n",
      "22/12/02 12:09:14 WARN BlockManager: Putting block rdd_2_39 failed\n",
      "22/12/02 12:09:14 WARN MemoryStore: Not enough space to cache rdd_2_38 in memory! (computed 7.0 MiB so far)\n",
      "22/12/02 12:09:14 WARN BlockManager: Block rdd_2_38 could not be removed as it was not found on disk or in memory\n",
      "22/12/02 12:09:14 WARN BlockManager: Putting block rdd_2_38 failed\n"
     ]
    },
    {
     "name": "stderr",
     "output_type": "stream",
     "text": [
      "[Stage 26:=====================>                                 (39 + 4) / 100]\r"
     ]
    },
    {
     "name": "stdout",
     "output_type": "stream",
     "text": [
      "22/12/02 12:09:14 WARN MemoryStore: Not enough space to cache rdd_2_40 in memory! (computed 4.3 MiB so far)\n",
      "22/12/02 12:09:14 WARN BlockManager: Block rdd_2_40 could not be removed as it was not found on disk or in memory\n",
      "22/12/02 12:09:14 WARN BlockManager: Putting block rdd_2_40 failed\n",
      "22/12/02 12:09:15 WARN MemoryStore: Not enough space to cache rdd_2_41 in memory! (computed 4.3 MiB so far)\n",
      "22/12/02 12:09:15 WARN BlockManager: Block rdd_2_41 could not be removed as it was not found on disk or in memory\n",
      "22/12/02 12:09:15 WARN BlockManager: Putting block rdd_2_41 failed\n"
     ]
    },
    {
     "name": "stderr",
     "output_type": "stream",
     "text": [
      "[Stage 26:======================>                                (41 + 4) / 100]\r"
     ]
    },
    {
     "name": "stdout",
     "output_type": "stream",
     "text": [
      "22/12/02 12:09:15 WARN MemoryStore: Not enough space to cache rdd_2_42 in memory! (computed 4.3 MiB so far)\n",
      "22/12/02 12:09:15 WARN BlockManager: Block rdd_2_42 could not be removed as it was not found on disk or in memory\n",
      "22/12/02 12:09:15 WARN BlockManager: Putting block rdd_2_42 failed\n",
      "22/12/02 12:09:15 WARN MemoryStore: Not enough space to cache rdd_2_43 in memory! (computed 4.4 MiB so far)\n",
      "22/12/02 12:09:15 WARN BlockManager: Block rdd_2_43 could not be removed as it was not found on disk or in memory\n",
      "22/12/02 12:09:15 WARN BlockManager: Putting block rdd_2_43 failed\n"
     ]
    },
    {
     "name": "stderr",
     "output_type": "stream",
     "text": [
      "[Stage 26:=======================>                               (42 + 4) / 100]\r"
     ]
    },
    {
     "name": "stdout",
     "output_type": "stream",
     "text": [
      "22/12/02 12:09:16 WARN MemoryStore: Not enough space to cache rdd_2_45 in memory! (computed 2.6 MiB so far)\n",
      "22/12/02 12:09:16 WARN BlockManager: Block rdd_2_45 could not be removed as it was not found on disk or in memory\n",
      "22/12/02 12:09:16 WARN BlockManager: Putting block rdd_2_45 failed\n",
      "22/12/02 12:09:16 WARN MemoryStore: Not enough space to cache rdd_2_44 in memory! (computed 7.2 MiB so far)\n",
      "22/12/02 12:09:16 WARN BlockManager: Block rdd_2_44 could not be removed as it was not found on disk or in memory\n",
      "22/12/02 12:09:16 WARN BlockManager: Putting block rdd_2_44 failed\n"
     ]
    },
    {
     "name": "stderr",
     "output_type": "stream",
     "text": [
      "[Stage 26:========================>                              (45 + 4) / 100]\r"
     ]
    },
    {
     "name": "stdout",
     "output_type": "stream",
     "text": [
      "22/12/02 12:09:16 WARN MemoryStore: Not enough space to cache rdd_2_46 in memory! (computed 4.3 MiB so far)\n",
      "22/12/02 12:09:16 WARN BlockManager: Block rdd_2_46 could not be removed as it was not found on disk or in memory\n",
      "22/12/02 12:09:16 WARN BlockManager: Putting block rdd_2_46 failed\n",
      "22/12/02 12:09:16 WARN MemoryStore: Not enough space to cache rdd_2_47 in memory! (computed 4.4 MiB so far)\n",
      "22/12/02 12:09:16 WARN BlockManager: Block rdd_2_47 could not be removed as it was not found on disk or in memory\n",
      "22/12/02 12:09:16 WARN BlockManager: Putting block rdd_2_47 failed\n"
     ]
    },
    {
     "name": "stderr",
     "output_type": "stream",
     "text": [
      "[Stage 26:=========================>                             (47 + 4) / 100]\r"
     ]
    },
    {
     "name": "stdout",
     "output_type": "stream",
     "text": [
      "22/12/02 12:09:17 WARN MemoryStore: Not enough space to cache rdd_2_49 in memory! (computed 4.4 MiB so far)\n",
      "22/12/02 12:09:17 WARN BlockManager: Block rdd_2_49 could not be removed as it was not found on disk or in memory\n",
      "22/12/02 12:09:17 WARN BlockManager: Putting block rdd_2_49 failed\n",
      "22/12/02 12:09:17 WARN MemoryStore: Not enough space to cache rdd_2_48 in memory! (computed 4.4 MiB so far)\n",
      "22/12/02 12:09:17 WARN BlockManager: Block rdd_2_48 could not be removed as it was not found on disk or in memory\n",
      "22/12/02 12:09:17 WARN BlockManager: Putting block rdd_2_48 failed\n",
      "22/12/02 12:09:17 WARN MemoryStore: Not enough space to cache rdd_2_50 in memory! (computed 1658.8 KiB so far)\n",
      "22/12/02 12:09:17 WARN BlockManager: Block rdd_2_50 could not be removed as it was not found on disk or in memory\n",
      "22/12/02 12:09:17 WARN BlockManager: Putting block rdd_2_50 failed\n"
     ]
    },
    {
     "name": "stderr",
     "output_type": "stream",
     "text": [
      "[Stage 26:===========================>                           (50 + 4) / 100]\r"
     ]
    },
    {
     "name": "stdout",
     "output_type": "stream",
     "text": [
      "22/12/02 12:09:18 WARN MemoryStore: Not enough space to cache rdd_2_51 in memory! (computed 7.2 MiB so far)\n",
      "22/12/02 12:09:18 WARN BlockManager: Block rdd_2_51 could not be removed as it was not found on disk or in memory\n",
      "22/12/02 12:09:18 WARN BlockManager: Putting block rdd_2_51 failed\n",
      "22/12/02 12:09:18 WARN MemoryStore: Not enough space to cache rdd_2_52 in memory! (computed 2.6 MiB so far)\n",
      "22/12/02 12:09:18 WARN BlockManager: Block rdd_2_52 could not be removed as it was not found on disk or in memory\n",
      "22/12/02 12:09:18 WARN BlockManager: Putting block rdd_2_52 failed\n",
      "22/12/02 12:09:18 WARN MemoryStore: Failed to reserve initial memory threshold of 1024.0 KiB for computing block rdd_2_54 in memory.\n",
      "22/12/02 12:09:18 WARN MemoryStore: Failed to reserve initial memory threshold of 1024.0 KiB for computing block rdd_2_53 in memory.\n",
      "22/12/02 12:09:18 WARN MemoryStore: Not enough space to cache rdd_2_53 in memory! (computed 0.0 B so far)\n",
      "22/12/02 12:09:18 WARN BlockManager: Block rdd_2_53 could not be removed as it was not found on disk or in memory\n",
      "22/12/02 12:09:18 WARN BlockManager: Putting block rdd_2_53 failed\n",
      "22/12/02 12:09:18 WARN MemoryStore: Not enough space to cache rdd_2_54 in memory! (computed 0.0 B so far)\n",
      "22/12/02 12:09:18 WARN BlockManager: Block rdd_2_54 could not be removed as it was not found on disk or in memory\n",
      "22/12/02 12:09:18 WARN BlockManager: Putting block rdd_2_54 failed\n"
     ]
    },
    {
     "name": "stderr",
     "output_type": "stream",
     "text": [
      "[Stage 26:=============================>                         (54 + 4) / 100]\r"
     ]
    },
    {
     "name": "stdout",
     "output_type": "stream",
     "text": [
      "22/12/02 12:09:19 WARN MemoryStore: Not enough space to cache rdd_2_56 in memory! (computed 7.3 MiB so far)\n",
      "22/12/02 12:09:19 WARN BlockManager: Block rdd_2_56 could not be removed as it was not found on disk or in memory\n",
      "22/12/02 12:09:19 WARN BlockManager: Putting block rdd_2_56 failed\n",
      "22/12/02 12:09:19 WARN MemoryStore: Not enough space to cache rdd_2_57 in memory! (computed 2.6 MiB so far)\n",
      "22/12/02 12:09:19 WARN BlockManager: Block rdd_2_57 could not be removed as it was not found on disk or in memory\n",
      "22/12/02 12:09:19 WARN BlockManager: Putting block rdd_2_57 failed\n"
     ]
    },
    {
     "name": "stderr",
     "output_type": "stream",
     "text": [
      "[Stage 26:==============================>                        (56 + 4) / 100]\r"
     ]
    },
    {
     "name": "stdout",
     "output_type": "stream",
     "text": [
      "22/12/02 12:09:20 WARN MemoryStore: Not enough space to cache rdd_2_58 in memory! (computed 4.5 MiB so far)\n",
      "22/12/02 12:09:20 WARN BlockManager: Block rdd_2_58 could not be removed as it was not found on disk or in memory\n",
      "22/12/02 12:09:20 WARN BlockManager: Putting block rdd_2_58 failed\n",
      "22/12/02 12:09:20 WARN MemoryStore: Not enough space to cache rdd_2_59 in memory! (computed 4.5 MiB so far)\n",
      "22/12/02 12:09:20 WARN BlockManager: Block rdd_2_59 could not be removed as it was not found on disk or in memory\n",
      "22/12/02 12:09:20 WARN BlockManager: Putting block rdd_2_59 failed\n"
     ]
    },
    {
     "name": "stderr",
     "output_type": "stream",
     "text": [
      "[Stage 26:===============================>                       (57 + 4) / 100]\r"
     ]
    },
    {
     "name": "stdout",
     "output_type": "stream",
     "text": [
      "22/12/02 12:09:20 WARN MemoryStore: Not enough space to cache rdd_2_60 in memory! (computed 1686.3 KiB so far)\n",
      "22/12/02 12:09:20 WARN BlockManager: Block rdd_2_60 could not be removed as it was not found on disk or in memory\n",
      "22/12/02 12:09:20 WARN BlockManager: Putting block rdd_2_60 failed\n"
     ]
    },
    {
     "name": "stderr",
     "output_type": "stream",
     "text": [
      "[Stage 26:===============================>                       (58 + 4) / 100]\r"
     ]
    },
    {
     "name": "stdout",
     "output_type": "stream",
     "text": [
      "22/12/02 12:09:21 WARN MemoryStore: Not enough space to cache rdd_2_61 in memory! (computed 7.3 MiB so far)\n",
      "22/12/02 12:09:21 WARN BlockManager: Block rdd_2_61 could not be removed as it was not found on disk or in memory\n",
      "22/12/02 12:09:21 WARN BlockManager: Putting block rdd_2_61 failed\n",
      "22/12/02 12:09:21 WARN MemoryStore: Failed to reserve initial memory threshold of 1024.0 KiB for computing block rdd_2_63 in memory.\n",
      "22/12/02 12:09:21 WARN MemoryStore: Not enough space to cache rdd_2_62 in memory! (computed 2.6 MiB so far)\n",
      "22/12/02 12:09:21 WARN BlockManager: Block rdd_2_62 could not be removed as it was not found on disk or in memory\n",
      "22/12/02 12:09:21 WARN BlockManager: Putting block rdd_2_62 failed\n"
     ]
    },
    {
     "name": "stderr",
     "output_type": "stream",
     "text": [
      "[Stage 26:=================================>                     (61 + 4) / 100]\r"
     ]
    },
    {
     "name": "stdout",
     "output_type": "stream",
     "text": [
      "22/12/02 12:09:21 WARN MemoryStore: Not enough space to cache rdd_2_63 in memory! (computed 0.0 B so far)\n",
      "22/12/02 12:09:21 WARN BlockManager: Block rdd_2_63 could not be removed as it was not found on disk or in memory\n",
      "22/12/02 12:09:21 WARN BlockManager: Putting block rdd_2_63 failed\n"
     ]
    },
    {
     "name": "stderr",
     "output_type": "stream",
     "text": [
      "[Stage 26:==================================>                    (62 + 4) / 100]\r"
     ]
    },
    {
     "name": "stdout",
     "output_type": "stream",
     "text": [
      "22/12/02 12:09:22 WARN MemoryStore: Not enough space to cache rdd_2_64 in memory! (computed 7.4 MiB so far)\n",
      "22/12/02 12:09:22 WARN BlockManager: Block rdd_2_64 could not be removed as it was not found on disk or in memory\n",
      "22/12/02 12:09:22 WARN BlockManager: Putting block rdd_2_64 failed\n",
      "22/12/02 12:09:22 WARN MemoryStore: Not enough space to cache rdd_2_65 in memory! (computed 2.6 MiB so far)\n",
      "22/12/02 12:09:22 WARN BlockManager: Block rdd_2_65 could not be removed as it was not found on disk or in memory\n",
      "22/12/02 12:09:22 WARN BlockManager: Putting block rdd_2_65 failed\n"
     ]
    },
    {
     "name": "stderr",
     "output_type": "stream",
     "text": [
      "[Stage 26:===================================>                   (65 + 4) / 100]\r"
     ]
    },
    {
     "name": "stdout",
     "output_type": "stream",
     "text": [
      "22/12/02 12:09:23 WARN MemoryStore: Not enough space to cache rdd_2_66 in memory! (computed 4.6 MiB so far)\n",
      "22/12/02 12:09:23 WARN MemoryStore: Not enough space to cache rdd_2_68 in memory! (computed 1760.6 KiB so far)\n",
      "22/12/02 12:09:23 WARN BlockManager: Block rdd_2_66 could not be removed as it was not found on disk or in memory\n",
      "22/12/02 12:09:23 WARN BlockManager: Putting block rdd_2_66 failed\n",
      "22/12/02 12:09:23 WARN MemoryStore: Not enough space to cache rdd_2_67 in memory! (computed 4.6 MiB so far)\n",
      "22/12/02 12:09:23 WARN BlockManager: Block rdd_2_68 could not be removed as it was not found on disk or in memory\n",
      "22/12/02 12:09:23 WARN BlockManager: Putting block rdd_2_68 failed\n",
      "22/12/02 12:09:23 WARN BlockManager: Block rdd_2_67 could not be removed as it was not found on disk or in memory\n",
      "22/12/02 12:09:23 WARN BlockManager: Putting block rdd_2_67 failed\n"
     ]
    },
    {
     "name": "stderr",
     "output_type": "stream",
     "text": [
      "[Stage 26:====================================>                  (66 + 4) / 100]\r"
     ]
    },
    {
     "name": "stdout",
     "output_type": "stream",
     "text": [
      "22/12/02 12:09:23 WARN MemoryStore: Not enough space to cache rdd_2_69 in memory! (computed 7.4 MiB so far)\n",
      "22/12/02 12:09:23 WARN BlockManager: Block rdd_2_69 could not be removed as it was not found on disk or in memory\n",
      "22/12/02 12:09:23 WARN BlockManager: Putting block rdd_2_69 failed\n"
     ]
    },
    {
     "name": "stderr",
     "output_type": "stream",
     "text": [
      "[Stage 26:====================================>                  (67 + 6) / 100]\r"
     ]
    },
    {
     "name": "stdout",
     "output_type": "stream",
     "text": [
      "22/12/02 12:09:24 WARN MemoryStore: Not enough space to cache rdd_2_70 in memory! (computed 4.7 MiB so far)\n",
      "22/12/02 12:09:24 WARN BlockManager: Block rdd_2_70 could not be removed as it was not found on disk or in memory\n",
      "22/12/02 12:09:24 WARN BlockManager: Putting block rdd_2_70 failed\n",
      "22/12/02 12:09:24 WARN MemoryStore: Failed to reserve initial memory threshold of 1024.0 KiB for computing block rdd_2_73 in memory.\n",
      "22/12/02 12:09:24 WARN MemoryStore: Not enough space to cache rdd_2_72 in memory! (computed 4.6 MiB so far)\n",
      "22/12/02 12:09:24 WARN BlockManager: Block rdd_2_72 could not be removed as it was not found on disk or in memory\n"
     ]
    },
    {
     "name": "stderr",
     "output_type": "stream",
     "text": [
      "[Stage 26:======================================>                (70 + 4) / 100]\r"
     ]
    },
    {
     "name": "stdout",
     "output_type": "stream",
     "text": [
      "22/12/02 12:09:24 WARN MemoryStore: Not enough space to cache rdd_2_71 in memory! (computed 1783.2 KiB so far)\n",
      "22/12/02 12:09:24 WARN BlockManager: Block rdd_2_71 could not be removed as it was not found on disk or in memory\n",
      "22/12/02 12:09:24 WARN BlockManager: Putting block rdd_2_71 failed\n",
      "22/12/02 12:09:24 WARN MemoryStore: Not enough space to cache rdd_2_73 in memory! (computed 0.0 B so far)\n",
      "22/12/02 12:09:24 WARN BlockManager: Block rdd_2_73 could not be removed as it was not found on disk or in memory\n",
      "22/12/02 12:09:24 WARN BlockManager: Putting block rdd_2_73 failed\n",
      "22/12/02 12:09:24 WARN BlockManager: Putting block rdd_2_72 failed\n"
     ]
    },
    {
     "name": "stderr",
     "output_type": "stream",
     "text": [
      "[Stage 26:========================================>              (74 + 4) / 100]\r"
     ]
    },
    {
     "name": "stdout",
     "output_type": "stream",
     "text": [
      "22/12/02 12:09:25 WARN MemoryStore: Not enough space to cache rdd_2_75 in memory! (computed 2.7 MiB so far)\n",
      "22/12/02 12:09:25 WARN BlockManager: Block rdd_2_75 could not be removed as it was not found on disk or in memory\n",
      "22/12/02 12:09:25 WARN BlockManager: Putting block rdd_2_75 failed\n",
      "22/12/02 12:09:25 WARN MemoryStore: Not enough space to cache rdd_2_76 in memory! (computed 1715.4 KiB so far)\n",
      "22/12/02 12:09:25 WARN BlockManager: Block rdd_2_76 could not be removed as it was not found on disk or in memory\n",
      "22/12/02 12:09:25 WARN BlockManager: Putting block rdd_2_76 failed\n",
      "22/12/02 12:09:25 WARN MemoryStore: Not enough space to cache rdd_2_77 in memory! (computed 1703.6 KiB so far)\n",
      "22/12/02 12:09:25 WARN BlockManager: Block rdd_2_77 could not be removed as it was not found on disk or in memory\n",
      "22/12/02 12:09:25 WARN BlockManager: Putting block rdd_2_77 failed\n",
      "22/12/02 12:09:25 WARN MemoryStore: Not enough space to cache rdd_2_74 in memory! (computed 4.6 MiB so far)\n",
      "22/12/02 12:09:25 WARN BlockManager: Block rdd_2_74 could not be removed as it was not found on disk or in memory\n",
      "22/12/02 12:09:25 WARN BlockManager: Putting block rdd_2_74 failed\n"
     ]
    },
    {
     "name": "stderr",
     "output_type": "stream",
     "text": [
      "[Stage 26:==========================================>            (78 + 4) / 100]\r"
     ]
    },
    {
     "name": "stdout",
     "output_type": "stream",
     "text": [
      "22/12/02 12:09:26 WARN MemoryStore: Not enough space to cache rdd_2_81 in memory! (computed 1697.5 KiB so far)\n",
      "22/12/02 12:09:26 WARN BlockManager: Block rdd_2_81 could not be removed as it was not found on disk or in memory\n",
      "22/12/02 12:09:26 WARN BlockManager: Putting block rdd_2_81 failed\n",
      "22/12/02 12:09:26 WARN MemoryStore: Not enough space to cache rdd_2_80 in memory! (computed 1701.7 KiB so far)\n",
      "22/12/02 12:09:26 WARN BlockManager: Block rdd_2_80 could not be removed as it was not found on disk or in memory\n",
      "22/12/02 12:09:26 WARN BlockManager: Putting block rdd_2_80 failed\n",
      "22/12/02 12:09:26 WARN MemoryStore: Not enough space to cache rdd_2_79 in memory! (computed 2.7 MiB so far)\n",
      "22/12/02 12:09:26 WARN BlockManager: Block rdd_2_79 could not be removed as it was not found on disk or in memory\n",
      "22/12/02 12:09:26 WARN BlockManager: Putting block rdd_2_79 failed\n",
      "22/12/02 12:09:26 WARN MemoryStore: Not enough space to cache rdd_2_78 in memory! (computed 4.6 MiB so far)\n",
      "22/12/02 12:09:26 WARN BlockManager: Block rdd_2_78 could not be removed as it was not found on disk or in memory\n",
      "22/12/02 12:09:26 WARN BlockManager: Putting block rdd_2_78 failed\n"
     ]
    },
    {
     "name": "stderr",
     "output_type": "stream",
     "text": [
      "[Stage 26:=============================================>         (82 + 4) / 100]\r"
     ]
    },
    {
     "name": "stdout",
     "output_type": "stream",
     "text": [
      "22/12/02 12:09:27 WARN MemoryStore: Not enough space to cache rdd_2_84 in memory! (computed 1778.8 KiB so far)\n",
      "22/12/02 12:09:27 WARN BlockManager: Block rdd_2_84 could not be removed as it was not found on disk or in memory\n",
      "22/12/02 12:09:27 WARN BlockManager: Putting block rdd_2_84 failed\n",
      "22/12/02 12:09:27 WARN MemoryStore: Not enough space to cache rdd_2_85 in memory! (computed 1885.7 KiB so far)\n",
      "22/12/02 12:09:27 WARN BlockManager: Block rdd_2_85 could not be removed as it was not found on disk or in memory\n",
      "22/12/02 12:09:27 WARN BlockManager: Putting block rdd_2_85 failed\n",
      "22/12/02 12:09:27 WARN MemoryStore: Not enough space to cache rdd_2_83 in memory! (computed 1698.6 KiB so far)\n",
      "22/12/02 12:09:27 WARN BlockManager: Block rdd_2_83 could not be removed as it was not found on disk or in memory\n",
      "22/12/02 12:09:27 WARN BlockManager: Putting block rdd_2_83 failed\n",
      "22/12/02 12:09:27 WARN MemoryStore: Not enough space to cache rdd_2_82 in memory! (computed 7.3 MiB so far)\n",
      "22/12/02 12:09:27 WARN BlockManager: Block rdd_2_82 could not be removed as it was not found on disk or in memory\n",
      "22/12/02 12:09:27 WARN BlockManager: Putting block rdd_2_82 failed\n"
     ]
    },
    {
     "name": "stderr",
     "output_type": "stream",
     "text": [
      "[Stage 26:==============================================>        (85 + 4) / 100]\r"
     ]
    },
    {
     "name": "stdout",
     "output_type": "stream",
     "text": [
      "22/12/02 12:09:28 WARN MemoryStore: Not enough space to cache rdd_2_87 in memory! (computed 2011.8 KiB so far)\n",
      "22/12/02 12:09:28 WARN MemoryStore: Not enough space to cache rdd_2_88 in memory! (computed 3.5 MiB so far)\n",
      "22/12/02 12:09:28 WARN BlockManager: Block rdd_2_88 could not be removed as it was not found on disk or in memory\n",
      "22/12/02 12:09:28 WARN BlockManager: Putting block rdd_2_88 failed\n",
      "22/12/02 12:09:28 WARN BlockManager: Block rdd_2_87 could not be removed as it was not found on disk or in memory\n",
      "22/12/02 12:09:28 WARN BlockManager: Putting block rdd_2_87 failed\n",
      "22/12/02 12:09:28 WARN MemoryStore: Not enough space to cache rdd_2_89 in memory! (computed 1338.3 KiB so far)\n",
      "22/12/02 12:09:28 WARN BlockManager: Block rdd_2_89 could not be removed as it was not found on disk or in memory\n",
      "22/12/02 12:09:28 WARN BlockManager: Putting block rdd_2_89 failed\n",
      "22/12/02 12:09:28 WARN MemoryStore: Not enough space to cache rdd_2_86 in memory! (computed 4.5 MiB so far)\n",
      "22/12/02 12:09:28 WARN BlockManager: Block rdd_2_86 could not be removed as it was not found on disk or in memory\n",
      "22/12/02 12:09:28 WARN BlockManager: Putting block rdd_2_86 failed\n"
     ]
    },
    {
     "name": "stderr",
     "output_type": "stream",
     "text": [
      "[Stage 26:================================================>      (89 + 4) / 100]\r"
     ]
    },
    {
     "name": "stdout",
     "output_type": "stream",
     "text": [
      "22/12/02 12:09:30 WARN MemoryStore: Not enough space to cache rdd_2_90 in memory! (computed 5.6 MiB so far)\n",
      "22/12/02 12:09:30 WARN BlockManager: Block rdd_2_90 could not be removed as it was not found on disk or in memory\n",
      "22/12/02 12:09:30 WARN BlockManager: Putting block rdd_2_90 failed\n",
      "22/12/02 12:09:30 WARN MemoryStore: Not enough space to cache rdd_2_91 in memory! (computed 3.2 MiB so far)\n",
      "22/12/02 12:09:30 WARN BlockManager: Block rdd_2_91 could not be removed as it was not found on disk or in memory\n",
      "22/12/02 12:09:30 WARN BlockManager: Putting block rdd_2_91 failed\n"
     ]
    },
    {
     "name": "stderr",
     "output_type": "stream",
     "text": [
      "[Stage 26:=================================================>     (90 + 4) / 100]\r"
     ]
    },
    {
     "name": "stdout",
     "output_type": "stream",
     "text": [
      "22/12/02 12:09:30 WARN MemoryStore: Not enough space to cache rdd_2_93 in memory! (computed 1747.1 KiB so far)\n",
      "22/12/02 12:09:30 WARN BlockManager: Block rdd_2_93 could not be removed as it was not found on disk or in memory\n",
      "22/12/02 12:09:30 WARN BlockManager: Putting block rdd_2_93 failed\n",
      "22/12/02 12:09:30 WARN MemoryStore: Not enough space to cache rdd_2_92 in memory! (computed 8.0 MiB so far)\n",
      "22/12/02 12:09:30 WARN BlockManager: Block rdd_2_92 could not be removed as it was not found on disk or in memory\n",
      "22/12/02 12:09:30 WARN BlockManager: Putting block rdd_2_92 failed\n"
     ]
    },
    {
     "name": "stderr",
     "output_type": "stream",
     "text": [
      "[Stage 26:==================================================>    (92 + 4) / 100]\r"
     ]
    },
    {
     "name": "stdout",
     "output_type": "stream",
     "text": [
      "22/12/02 12:09:31 WARN MemoryStore: Not enough space to cache rdd_2_94 in memory! (computed 5.2 MiB so far)\n",
      "22/12/02 12:09:31 WARN BlockManager: Block rdd_2_94 could not be removed as it was not found on disk or in memory\n",
      "22/12/02 12:09:31 WARN BlockManager: Putting block rdd_2_94 failed\n",
      "22/12/02 12:09:31 WARN MemoryStore: Not enough space to cache rdd_2_96 in memory! (computed 1506.4 KiB so far)\n",
      "22/12/02 12:09:31 WARN BlockManager: Block rdd_2_96 could not be removed as it was not found on disk or in memory\n",
      "22/12/02 12:09:31 WARN BlockManager: Putting block rdd_2_96 failed\n"
     ]
    },
    {
     "name": "stderr",
     "output_type": "stream",
     "text": [
      "[Stage 26:===================================================>   (94 + 4) / 100]\r"
     ]
    },
    {
     "name": "stdout",
     "output_type": "stream",
     "text": [
      "22/12/02 12:09:31 WARN MemoryStore: Not enough space to cache rdd_2_95 in memory! (computed 2.9 MiB so far)\n",
      "22/12/02 12:09:31 WARN BlockManager: Block rdd_2_95 could not be removed as it was not found on disk or in memory\n",
      "22/12/02 12:09:31 WARN BlockManager: Putting block rdd_2_95 failed\n",
      "22/12/02 12:09:32 WARN MemoryStore: Not enough space to cache rdd_2_97 in memory! (computed 8.8 MiB so far)\n",
      "22/12/02 12:09:32 WARN BlockManager: Block rdd_2_97 could not be removed as it was not found on disk or in memory\n",
      "22/12/02 12:09:32 WARN BlockManager: Putting block rdd_2_97 failed\n",
      "22/12/02 12:09:32 WARN MemoryStore: Failed to reserve initial memory threshold of 1024.0 KiB for computing block rdd_2_99 in memory.\n"
     ]
    },
    {
     "name": "stderr",
     "output_type": "stream",
     "text": [
      "[Stage 26:====================================================>  (96 + 4) / 100]\r"
     ]
    },
    {
     "name": "stdout",
     "output_type": "stream",
     "text": [
      "22/12/02 12:09:32 WARN MemoryStore: Not enough space to cache rdd_2_99 in memory! (computed 0.0 B so far)\n",
      "22/12/02 12:09:32 WARN BlockManager: Block rdd_2_99 could not be removed as it was not found on disk or in memory\n",
      "22/12/02 12:09:32 WARN BlockManager: Putting block rdd_2_99 failed\n"
     ]
    },
    {
     "name": "stderr",
     "output_type": "stream",
     "text": [
      "[Stage 26:=====================================================> (98 + 2) / 100]\r"
     ]
    },
    {
     "name": "stdout",
     "output_type": "stream",
     "text": [
      "22/12/02 12:09:33 WARN MemoryStore: Not enough space to cache rdd_2_98 in memory! (computed 8.1 MiB so far)\n",
      "22/12/02 12:09:33 WARN BlockManager: Block rdd_2_98 could not be removed as it was not found on disk or in memory\n",
      "22/12/02 12:09:33 WARN BlockManager: Putting block rdd_2_98 failed\n"
     ]
    },
    {
     "name": "stderr",
     "output_type": "stream",
     "text": [
      "[Stage 27:=============>                                         (24 + 4) / 100]\r"
     ]
    },
    {
     "name": "stdout",
     "output_type": "stream",
     "text": [
      "22/12/02 12:09:36 WARN MemoryStore: Not enough space to cache rdd_2_25 in memory! (computed 1608.9 KiB so far)\n",
      "22/12/02 12:09:36 WARN BlockManager: Block rdd_2_25 could not be removed as it was not found on disk or in memory\n",
      "22/12/02 12:09:36 WARN BlockManager: Putting block rdd_2_25 failed\n",
      "22/12/02 12:09:36 WARN MemoryStore: Not enough space to cache rdd_2_26 in memory! (computed 1583.5 KiB so far)\n",
      "22/12/02 12:09:36 WARN BlockManager: Block rdd_2_26 could not be removed as it was not found on disk or in memory\n",
      "22/12/02 12:09:36 WARN BlockManager: Putting block rdd_2_26 failed\n",
      "22/12/02 12:09:36 WARN MemoryStore: Not enough space to cache rdd_2_24 in memory! (computed 6.8 MiB so far)\n",
      "22/12/02 12:09:36 WARN BlockManager: Block rdd_2_24 could not be removed as it was not found on disk or in memory\n",
      "22/12/02 12:09:36 WARN BlockManager: Putting block rdd_2_24 failed\n"
     ]
    },
    {
     "name": "stderr",
     "output_type": "stream",
     "text": [
      "[Stage 27:=============>                                         (25 + 4) / 100]\r"
     ]
    },
    {
     "name": "stdout",
     "output_type": "stream",
     "text": [
      "22/12/02 12:09:36 WARN MemoryStore: Not enough space to cache rdd_2_27 in memory! (computed 2.4 MiB so far)\n",
      "22/12/02 12:09:36 WARN BlockManager: Block rdd_2_27 could not be removed as it was not found on disk or in memory\n",
      "22/12/02 12:09:36 WARN BlockManager: Putting block rdd_2_27 failed\n"
     ]
    },
    {
     "name": "stderr",
     "output_type": "stream",
     "text": [
      "[Stage 27:===============>                                       (28 + 5) / 100]\r"
     ]
    },
    {
     "name": "stdout",
     "output_type": "stream",
     "text": [
      "22/12/02 12:09:37 WARN MemoryStore: Not enough space to cache rdd_2_28 in memory! (computed 4.2 MiB so far)\n",
      "22/12/02 12:09:37 WARN MemoryStore: Not enough space to cache rdd_2_29 in memory! (computed 4.1 MiB so far)\n"
     ]
    },
    {
     "name": "stderr",
     "output_type": "stream",
     "text": [
      "[Stage 27:===============>                                       (29 + 4) / 100]\r"
     ]
    },
    {
     "name": "stdout",
     "output_type": "stream",
     "text": [
      "22/12/02 12:09:37 WARN BlockManager: Block rdd_2_28 could not be removed as it was not found on disk or in memory\n",
      "22/12/02 12:09:37 WARN BlockManager: Putting block rdd_2_28 failed\n",
      "22/12/02 12:09:37 WARN BlockManager: Block rdd_2_29 could not be removed as it was not found on disk or in memory\n",
      "22/12/02 12:09:37 WARN BlockManager: Putting block rdd_2_29 failed\n",
      "22/12/02 12:09:37 WARN MemoryStore: Failed to reserve initial memory threshold of 1024.0 KiB for computing block rdd_2_31 in memory.\n",
      "22/12/02 12:09:37 WARN MemoryStore: Not enough space to cache rdd_2_31 in memory! (computed 0.0 B so far)\n",
      "22/12/02 12:09:37 WARN BlockManager: Block rdd_2_31 could not be removed as it was not found on disk or in memory\n",
      "22/12/02 12:09:37 WARN BlockManager: Putting block rdd_2_31 failed\n",
      "22/12/02 12:09:37 WARN MemoryStore: Not enough space to cache rdd_2_30 in memory! (computed 2.4 MiB so far)\n",
      "22/12/02 12:09:37 WARN BlockManager: Block rdd_2_30 could not be removed as it was not found on disk or in memory\n",
      "22/12/02 12:09:37 WARN BlockManager: Putting block rdd_2_30 failed\n"
     ]
    },
    {
     "name": "stderr",
     "output_type": "stream",
     "text": [
      "[Stage 27:=================>                                     (31 + 4) / 100]\r"
     ]
    },
    {
     "name": "stdout",
     "output_type": "stream",
     "text": [
      "22/12/02 12:09:38 WARN MemoryStore: Not enough space to cache rdd_2_32 in memory! (computed 4.4 MiB so far)\n",
      "22/12/02 12:09:38 WARN MemoryStore: Not enough space to cache rdd_2_34 in memory! (computed 1613.3 KiB so far)\n",
      "22/12/02 12:09:38 WARN MemoryStore: Not enough space to cache rdd_2_33 in memory! (computed 4.3 MiB so far)\n",
      "22/12/02 12:09:38 WARN BlockManager: Block rdd_2_34 could not be removed as it was not found on disk or in memory\n",
      "22/12/02 12:09:38 WARN BlockManager: Putting block rdd_2_34 failed\n",
      "22/12/02 12:09:38 WARN BlockManager: Block rdd_2_32 could not be removed as it was not found on disk or in memory\n",
      "22/12/02 12:09:38 WARN BlockManager: Putting block rdd_2_32 failed\n",
      "22/12/02 12:09:38 WARN BlockManager: Block rdd_2_33 could not be removed as it was not found on disk or in memory\n",
      "22/12/02 12:09:38 WARN BlockManager: Putting block rdd_2_33 failed\n"
     ]
    },
    {
     "name": "stderr",
     "output_type": "stream",
     "text": [
      "[Stage 27:==================>                                    (33 + 4) / 100]\r"
     ]
    },
    {
     "name": "stdout",
     "output_type": "stream",
     "text": [
      "22/12/02 12:09:39 WARN MemoryStore: Not enough space to cache rdd_2_35 in memory! (computed 7.0 MiB so far)\n",
      "22/12/02 12:09:39 WARN BlockManager: Block rdd_2_35 could not be removed as it was not found on disk or in memory\n",
      "22/12/02 12:09:39 WARN BlockManager: Putting block rdd_2_35 failed\n"
     ]
    },
    {
     "name": "stderr",
     "output_type": "stream",
     "text": [
      "[Stage 27:===================>                                   (36 + 4) / 100]\r"
     ]
    },
    {
     "name": "stdout",
     "output_type": "stream",
     "text": [
      "22/12/02 12:09:39 WARN MemoryStore: Not enough space to cache rdd_2_37 in memory! (computed 4.4 MiB so far)\n",
      "22/12/02 12:09:39 WARN BlockManager: Block rdd_2_37 could not be removed as it was not found on disk or in memory\n",
      "22/12/02 12:09:39 WARN BlockManager: Putting block rdd_2_37 failed\n"
     ]
    },
    {
     "name": "stderr",
     "output_type": "stream",
     "text": [
      "[Stage 27:====================>                                  (37 + 4) / 100]\r"
     ]
    },
    {
     "name": "stdout",
     "output_type": "stream",
     "text": [
      "22/12/02 12:09:40 WARN MemoryStore: Not enough space to cache rdd_2_36 in memory! (computed 4.3 MiB so far)\n",
      "22/12/02 12:09:40 WARN BlockManager: Block rdd_2_36 could not be removed as it was not found on disk or in memory\n",
      "22/12/02 12:09:40 WARN BlockManager: Putting block rdd_2_36 failed\n",
      "22/12/02 12:09:40 WARN MemoryStore: Not enough space to cache rdd_2_39 in memory! (computed 2.5 MiB so far)\n",
      "22/12/02 12:09:40 WARN BlockManager: Block rdd_2_39 could not be removed as it was not found on disk or in memory\n",
      "22/12/02 12:09:40 WARN BlockManager: Putting block rdd_2_39 failed\n",
      "22/12/02 12:09:40 WARN MemoryStore: Not enough space to cache rdd_2_38 in memory! (computed 4.3 MiB so far)\n",
      "22/12/02 12:09:40 WARN BlockManager: Block rdd_2_38 could not be removed as it was not found on disk or in memory\n",
      "22/12/02 12:09:40 WARN BlockManager: Putting block rdd_2_38 failed\n"
     ]
    },
    {
     "name": "stderr",
     "output_type": "stream",
     "text": [
      "[Stage 27:======================>                                (40 + 4) / 100]\r"
     ]
    },
    {
     "name": "stdout",
     "output_type": "stream",
     "text": [
      "22/12/02 12:09:40 WARN MemoryStore: Not enough space to cache rdd_2_41 in memory! (computed 1640.4 KiB so far)\n",
      "22/12/02 12:09:40 WARN BlockManager: Block rdd_2_41 could not be removed as it was not found on disk or in memory\n",
      "22/12/02 12:09:40 WARN BlockManager: Putting block rdd_2_41 failed\n",
      "22/12/02 12:09:41 WARN MemoryStore: Not enough space to cache rdd_2_43 in memory! (computed 1645.1 KiB so far)\n",
      "22/12/02 12:09:41 WARN MemoryStore: Not enough space to cache rdd_2_40 in memory! (computed 7.0 MiB so far)\n",
      "22/12/02 12:09:41 WARN BlockManager: Block rdd_2_43 could not be removed as it was not found on disk or in memory\n",
      "22/12/02 12:09:41 WARN BlockManager: Putting block rdd_2_43 failed\n",
      "22/12/02 12:09:41 WARN BlockManager: Block rdd_2_40 could not be removed as it was not found on disk or in memory\n",
      "22/12/02 12:09:41 WARN BlockManager: Putting block rdd_2_40 failed\n"
     ]
    },
    {
     "name": "stderr",
     "output_type": "stream",
     "text": [
      "[Stage 27:======================>                                (41 + 4) / 100]\r"
     ]
    },
    {
     "name": "stdout",
     "output_type": "stream",
     "text": [
      "22/12/02 12:09:41 WARN MemoryStore: Not enough space to cache rdd_2_42 in memory! (computed 2.5 MiB so far)\n",
      "22/12/02 12:09:41 WARN BlockManager: Block rdd_2_42 could not be removed as it was not found on disk or in memory\n",
      "22/12/02 12:09:41 WARN BlockManager: Putting block rdd_2_42 failed\n"
     ]
    },
    {
     "name": "stderr",
     "output_type": "stream",
     "text": [
      "[Stage 27:========================>                              (44 + 4) / 100]\r"
     ]
    },
    {
     "name": "stdout",
     "output_type": "stream",
     "text": [
      "22/12/02 12:09:42 WARN MemoryStore: Not enough space to cache rdd_2_46 in memory! (computed 2.5 MiB so far)\n",
      "22/12/02 12:09:42 WARN BlockManager: Block rdd_2_46 could not be removed as it was not found on disk or in memory\n",
      "22/12/02 12:09:42 WARN BlockManager: Putting block rdd_2_46 failed\n",
      "22/12/02 12:09:42 WARN MemoryStore: Not enough space to cache rdd_2_45 in memory! (computed 2.6 MiB so far)\n",
      "22/12/02 12:09:42 WARN BlockManager: Block rdd_2_45 could not be removed as it was not found on disk or in memory\n",
      "22/12/02 12:09:42 WARN BlockManager: Putting block rdd_2_45 failed\n"
     ]
    },
    {
     "name": "stderr",
     "output_type": "stream",
     "text": [
      "[Stage 27:========================>                              (45 + 4) / 100]\r"
     ]
    },
    {
     "name": "stdout",
     "output_type": "stream",
     "text": [
      "22/12/02 12:09:42 WARN MemoryStore: Not enough space to cache rdd_2_44 in memory! (computed 7.2 MiB so far)\n",
      "22/12/02 12:09:42 WARN BlockManager: Block rdd_2_44 could not be removed as it was not found on disk or in memory\n",
      "22/12/02 12:09:42 WARN BlockManager: Putting block rdd_2_44 failed\n",
      "22/12/02 12:09:42 WARN MemoryStore: Not enough space to cache rdd_2_47 in memory! (computed 2.5 MiB so far)\n",
      "22/12/02 12:09:42 WARN BlockManager: Block rdd_2_47 could not be removed as it was not found on disk or in memory\n",
      "22/12/02 12:09:42 WARN BlockManager: Putting block rdd_2_47 failed\n"
     ]
    },
    {
     "name": "stderr",
     "output_type": "stream",
     "text": [
      "[Stage 27:=========================>                             (46 + 4) / 100]\r"
     ]
    },
    {
     "name": "stdout",
     "output_type": "stream",
     "text": [
      "22/12/02 12:09:43 WARN MemoryStore: Not enough space to cache rdd_2_48 in memory! (computed 7.2 MiB so far)\n",
      "22/12/02 12:09:43 WARN BlockManager: Block rdd_2_48 could not be removed as it was not found on disk or in memory\n",
      "22/12/02 12:09:43 WARN BlockManager: Putting block rdd_2_48 failed\n"
     ]
    },
    {
     "name": "stderr",
     "output_type": "stream",
     "text": [
      "[Stage 27:==========================>                            (48 + 4) / 100]\r"
     ]
    },
    {
     "name": "stdout",
     "output_type": "stream",
     "text": [
      "22/12/02 12:09:43 WARN MemoryStore: Not enough space to cache rdd_2_49 in memory! (computed 2.5 MiB so far)\n",
      "22/12/02 12:09:43 WARN MemoryStore: Not enough space to cache rdd_2_50 in memory! (computed 4.4 MiB so far)\n",
      "22/12/02 12:09:43 WARN BlockManager: Block rdd_2_49 could not be removed as it was not found on disk or in memory\n",
      "22/12/02 12:09:43 WARN BlockManager: Putting block rdd_2_49 failed\n",
      "22/12/02 12:09:43 WARN BlockManager: Block rdd_2_50 could not be removed as it was not found on disk or in memory\n",
      "22/12/02 12:09:43 WARN BlockManager: Putting block rdd_2_50 failed\n"
     ]
    },
    {
     "name": "stderr",
     "output_type": "stream",
     "text": [
      "[Stage 27:============================>                          (51 + 4) / 100]\r"
     ]
    },
    {
     "name": "stdout",
     "output_type": "stream",
     "text": [
      "22/12/02 12:09:44 WARN MemoryStore: Not enough space to cache rdd_2_52 in memory! (computed 2.6 MiB so far)\n",
      "22/12/02 12:09:44 WARN BlockManager: Block rdd_2_52 could not be removed as it was not found on disk or in memory\n",
      "22/12/02 12:09:44 WARN BlockManager: Putting block rdd_2_52 failed\n",
      "22/12/02 12:09:44 WARN MemoryStore: Not enough space to cache rdd_2_51 in memory! (computed 7.2 MiB so far)\n",
      "22/12/02 12:09:44 WARN BlockManager: Block rdd_2_51 could not be removed as it was not found on disk or in memory\n",
      "22/12/02 12:09:44 WARN BlockManager: Putting block rdd_2_51 failed\n",
      "22/12/02 12:09:44 WARN MemoryStore: Failed to reserve initial memory threshold of 1024.0 KiB for computing block rdd_2_53 in memory.\n",
      "22/12/02 12:09:44 WARN MemoryStore: Not enough space to cache rdd_2_53 in memory! (computed 0.0 B so far)\n",
      "22/12/02 12:09:44 WARN BlockManager: Block rdd_2_53 could not be removed as it was not found on disk or in memory\n",
      "22/12/02 12:09:44 WARN BlockManager: Putting block rdd_2_53 failed\n"
     ]
    },
    {
     "name": "stderr",
     "output_type": "stream",
     "text": [
      "[Stage 27:=============================>                         (53 + 4) / 100]\r"
     ]
    },
    {
     "name": "stdout",
     "output_type": "stream",
     "text": [
      "22/12/02 12:09:45 WARN MemoryStore: Not enough space to cache rdd_2_54 in memory! (computed 7.3 MiB so far)\n",
      "22/12/02 12:09:45 WARN BlockManager: Block rdd_2_54 could not be removed as it was not found on disk or in memory\n",
      "22/12/02 12:09:45 WARN BlockManager: Putting block rdd_2_54 failed\n",
      "22/12/02 12:09:45 WARN MemoryStore: Not enough space to cache rdd_2_56 in memory! (computed 2.6 MiB so far)\n",
      "22/12/02 12:09:45 WARN BlockManager: Block rdd_2_56 could not be removed as it was not found on disk or in memory\n",
      "22/12/02 12:09:45 WARN BlockManager: Putting block rdd_2_56 failed\n"
     ]
    },
    {
     "name": "stderr",
     "output_type": "stream",
     "text": [
      "[Stage 27:===============================>                       (57 + 4) / 100]\r"
     ]
    },
    {
     "name": "stdout",
     "output_type": "stream",
     "text": [
      "22/12/02 12:09:45 WARN MemoryStore: Not enough space to cache rdd_2_57 in memory! (computed 7.3 MiB so far)\n",
      "22/12/02 12:09:45 WARN BlockManager: Block rdd_2_57 could not be removed as it was not found on disk or in memory\n",
      "22/12/02 12:09:45 WARN BlockManager: Putting block rdd_2_57 failed\n",
      "22/12/02 12:09:45 WARN MemoryStore: Not enough space to cache rdd_2_58 in memory! (computed 1713.0 KiB so far)\n",
      "22/12/02 12:09:45 WARN BlockManager: Block rdd_2_58 could not be removed as it was not found on disk or in memory\n",
      "22/12/02 12:09:45 WARN BlockManager: Putting block rdd_2_58 failed\n",
      "22/12/02 12:09:45 WARN MemoryStore: Not enough space to cache rdd_2_59 in memory! (computed 1646.9 KiB so far)\n",
      "22/12/02 12:09:45 WARN BlockManager: Block rdd_2_59 could not be removed as it was not found on disk or in memory\n",
      "22/12/02 12:09:45 WARN BlockManager: Putting block rdd_2_59 failed\n",
      "22/12/02 12:09:46 WARN MemoryStore: Not enough space to cache rdd_2_60 in memory! (computed 7.3 MiB so far)\n",
      "22/12/02 12:09:46 WARN BlockManager: Block rdd_2_60 could not be removed as it was not found on disk or in memory\n",
      "22/12/02 12:09:46 WARN BlockManager: Putting block rdd_2_60 failed\n"
     ]
    },
    {
     "name": "stderr",
     "output_type": "stream",
     "text": [
      "[Stage 27:=================================>                     (60 + 4) / 100]\r"
     ]
    },
    {
     "name": "stdout",
     "output_type": "stream",
     "text": [
      "22/12/02 12:09:46 WARN MemoryStore: Not enough space to cache rdd_2_61 in memory! (computed 4.5 MiB so far)\n",
      "22/12/02 12:09:46 WARN BlockManager: Block rdd_2_61 could not be removed as it was not found on disk or in memory\n",
      "22/12/02 12:09:46 WARN BlockManager: Putting block rdd_2_61 failed\n",
      "22/12/02 12:09:47 WARN MemoryStore: Not enough space to cache rdd_2_63 in memory! (computed 2.6 MiB so far)\n",
      "22/12/02 12:09:47 WARN BlockManager: Block rdd_2_63 could not be removed as it was not found on disk or in memory\n",
      "22/12/02 12:09:47 WARN BlockManager: Putting block rdd_2_63 failed\n",
      "22/12/02 12:09:47 WARN MemoryStore: Not enough space to cache rdd_2_62 in memory! (computed 4.6 MiB so far)\n",
      "22/12/02 12:09:47 WARN BlockManager: Block rdd_2_62 could not be removed as it was not found on disk or in memory\n",
      "22/12/02 12:09:47 WARN BlockManager: Putting block rdd_2_62 failed\n"
     ]
    },
    {
     "name": "stderr",
     "output_type": "stream",
     "text": [
      "[Stage 27:==================================>                    (62 + 4) / 100]\r"
     ]
    },
    {
     "name": "stdout",
     "output_type": "stream",
     "text": [
      "22/12/02 12:09:47 WARN MemoryStore: Not enough space to cache rdd_2_64 in memory! (computed 7.4 MiB so far)\n",
      "22/12/02 12:09:47 WARN BlockManager: Block rdd_2_64 could not be removed as it was not found on disk or in memory\n",
      "22/12/02 12:09:47 WARN BlockManager: Putting block rdd_2_64 failed\n"
     ]
    },
    {
     "name": "stderr",
     "output_type": "stream",
     "text": [
      "[Stage 27:===================================>                   (64 + 4) / 100]\r"
     ]
    },
    {
     "name": "stdout",
     "output_type": "stream",
     "text": [
      "22/12/02 12:09:48 WARN MemoryStore: Not enough space to cache rdd_2_65 in memory! (computed 7.4 MiB so far)\n",
      "22/12/02 12:09:48 WARN BlockManager: Block rdd_2_65 could not be removed as it was not found on disk or in memory\n",
      "22/12/02 12:09:48 WARN BlockManager: Putting block rdd_2_65 failed\n",
      "22/12/02 12:09:48 WARN MemoryStore: Not enough space to cache rdd_2_66 in memory! (computed 1746.1 KiB so far)\n",
      "22/12/02 12:09:48 WARN BlockManager: Block rdd_2_66 could not be removed as it was not found on disk or in memory\n",
      "22/12/02 12:09:48 WARN BlockManager: Putting block rdd_2_66 failed\n"
     ]
    },
    {
     "name": "stderr",
     "output_type": "stream",
     "text": [
      "[Stage 27:===================================>                   (65 + 4) / 100]\r"
     ]
    },
    {
     "name": "stdout",
     "output_type": "stream",
     "text": [
      "22/12/02 12:09:48 WARN MemoryStore: Not enough space to cache rdd_2_67 in memory! (computed 7.5 MiB so far)\n",
      "22/12/02 12:09:48 WARN BlockManager: Block rdd_2_67 could not be removed as it was not found on disk or in memory\n",
      "22/12/02 12:09:48 WARN BlockManager: Putting block rdd_2_67 failed\n",
      "22/12/02 12:09:48 WARN MemoryStore: Not enough space to cache rdd_2_68 in memory! (computed 2.7 MiB so far)\n",
      "22/12/02 12:09:48 WARN BlockManager: Block rdd_2_68 could not be removed as it was not found on disk or in memory\n",
      "22/12/02 12:09:48 WARN BlockManager: Putting block rdd_2_68 failed\n"
     ]
    },
    {
     "name": "stderr",
     "output_type": "stream",
     "text": [
      "[Stage 27:=====================================>                 (68 + 4) / 100]\r"
     ]
    },
    {
     "name": "stdout",
     "output_type": "stream",
     "text": [
      "22/12/02 12:09:49 WARN MemoryStore: Not enough space to cache rdd_2_69 in memory! (computed 7.4 MiB so far)\n",
      "22/12/02 12:09:49 WARN MemoryStore: Failed to reserve initial memory threshold of 1024.0 KiB for computing block rdd_2_71 in memory.\n",
      "22/12/02 12:09:49 WARN BlockManager: Block rdd_2_69 could not be removed as it was not found on disk or in memory\n",
      "22/12/02 12:09:49 WARN BlockManager: Putting block rdd_2_69 failed\n",
      "22/12/02 12:09:49 WARN MemoryStore: Not enough space to cache rdd_2_70 in memory! (computed 2.7 MiB so far)\n",
      "22/12/02 12:09:49 WARN BlockManager: Block rdd_2_70 could not be removed as it was not found on disk or in memory\n",
      "22/12/02 12:09:49 WARN BlockManager: Putting block rdd_2_70 failed\n",
      "22/12/02 12:09:49 WARN MemoryStore: Not enough space to cache rdd_2_71 in memory! (computed 0.0 B so far)\n",
      "22/12/02 12:09:49 WARN BlockManager: Block rdd_2_71 could not be removed as it was not found on disk or in memory\n",
      "22/12/02 12:09:49 WARN BlockManager: Putting block rdd_2_71 failed\n"
     ]
    },
    {
     "name": "stderr",
     "output_type": "stream",
     "text": [
      "[Stage 27:======================================>                (70 + 4) / 100]\r"
     ]
    },
    {
     "name": "stdout",
     "output_type": "stream",
     "text": [
      "22/12/02 12:09:49 WARN MemoryStore: Not enough space to cache rdd_2_73 in memory! (computed 4.6 MiB so far)\n",
      "22/12/02 12:09:49 WARN BlockManager: Block rdd_2_73 could not be removed as it was not found on disk or in memory\n",
      "22/12/02 12:09:49 WARN BlockManager: Putting block rdd_2_73 failed\n",
      "22/12/02 12:09:50 WARN MemoryStore: Not enough space to cache rdd_2_72 in memory! (computed 7.5 MiB so far)\n",
      "22/12/02 12:09:50 WARN BlockManager: Block rdd_2_72 could not be removed as it was not found on disk or in memory\n",
      "22/12/02 12:09:50 WARN BlockManager: Putting block rdd_2_72 failed\n",
      "22/12/02 12:09:50 WARN MemoryStore: Not enough space to cache rdd_2_74 in memory! (computed 1723.0 KiB so far)\n",
      "22/12/02 12:09:50 WARN BlockManager: Block rdd_2_74 could not be removed as it was not found on disk or in memory\n",
      "22/12/02 12:09:50 WARN BlockManager: Putting block rdd_2_74 failed\n"
     ]
    },
    {
     "name": "stderr",
     "output_type": "stream",
     "text": [
      "[Stage 27:========================================>              (74 + 4) / 100]\r"
     ]
    },
    {
     "name": "stdout",
     "output_type": "stream",
     "text": [
      "22/12/02 12:09:50 WARN MemoryStore: Not enough space to cache rdd_2_76 in memory! (computed 1715.4 KiB so far)\n",
      "22/12/02 12:09:50 WARN BlockManager: Block rdd_2_76 could not be removed as it was not found on disk or in memory\n",
      "22/12/02 12:09:50 WARN BlockManager: Putting block rdd_2_76 failed\n",
      "22/12/02 12:09:50 WARN MemoryStore: Not enough space to cache rdd_2_75 in memory! (computed 7.5 MiB so far)\n",
      "22/12/02 12:09:50 WARN BlockManager: Block rdd_2_75 could not be removed as it was not found on disk or in memory\n",
      "22/12/02 12:09:50 WARN BlockManager: Putting block rdd_2_75 failed\n",
      "22/12/02 12:09:51 WARN MemoryStore: Failed to reserve initial memory threshold of 1024.0 KiB for computing block rdd_2_78 in memory.\n"
     ]
    },
    {
     "name": "stderr",
     "output_type": "stream",
     "text": [
      "[Stage 27:=========================================>             (75 + 4) / 100]\r"
     ]
    },
    {
     "name": "stdout",
     "output_type": "stream",
     "text": [
      "22/12/02 12:09:51 WARN MemoryStore: Not enough space to cache rdd_2_77 in memory! (computed 2.6 MiB so far)\n",
      "22/12/02 12:09:51 WARN BlockManager: Block rdd_2_77 could not be removed as it was not found on disk or in memory\n",
      "22/12/02 12:09:51 WARN BlockManager: Putting block rdd_2_77 failed\n",
      "22/12/02 12:09:51 WARN MemoryStore: Not enough space to cache rdd_2_78 in memory! (computed 0.0 B so far)\n",
      "22/12/02 12:09:51 WARN BlockManager: Block rdd_2_78 could not be removed as it was not found on disk or in memory\n",
      "22/12/02 12:09:51 WARN BlockManager: Putting block rdd_2_78 failed\n"
     ]
    },
    {
     "name": "stderr",
     "output_type": "stream",
     "text": [
      "[Stage 27:==========================================>            (78 + 4) / 100]\r"
     ]
    },
    {
     "name": "stdout",
     "output_type": "stream",
     "text": [
      "22/12/02 12:09:51 WARN MemoryStore: Not enough space to cache rdd_2_79 in memory! (computed 4.6 MiB so far)\n",
      "22/12/02 12:09:51 WARN BlockManager: Block rdd_2_79 could not be removed as it was not found on disk or in memory\n",
      "22/12/02 12:09:51 WARN BlockManager: Putting block rdd_2_79 failed\n",
      "22/12/02 12:09:51 WARN MemoryStore: Not enough space to cache rdd_2_80 in memory! (computed 2.6 MiB so far)\n",
      "22/12/02 12:09:51 WARN BlockManager: Block rdd_2_80 could not be removed as it was not found on disk or in memory\n",
      "22/12/02 12:09:51 WARN BlockManager: Putting block rdd_2_80 failed\n",
      "22/12/02 12:09:51 WARN MemoryStore: Failed to reserve initial memory threshold of 1024.0 KiB for computing block rdd_2_82 in memory.\n",
      "22/12/02 12:09:51 WARN MemoryStore: Not enough space to cache rdd_2_82 in memory! (computed 0.0 B so far)\n",
      "22/12/02 12:09:51 WARN BlockManager: Block rdd_2_82 could not be removed as it was not found on disk or in memory\n",
      "22/12/02 12:09:51 WARN BlockManager: Putting block rdd_2_82 failed\n",
      "22/12/02 12:09:51 WARN MemoryStore: Not enough space to cache rdd_2_81 in memory! (computed 2.6 MiB so far)\n",
      "22/12/02 12:09:51 WARN BlockManager: Block rdd_2_81 could not be removed as it was not found on disk or in memory\n",
      "22/12/02 12:09:51 WARN BlockManager: Putting block rdd_2_81 failed\n"
     ]
    },
    {
     "name": "stderr",
     "output_type": "stream",
     "text": [
      "[Stage 27:=============================================>         (82 + 4) / 100]\r"
     ]
    },
    {
     "name": "stdout",
     "output_type": "stream",
     "text": [
      "22/12/02 12:09:52 WARN MemoryStore: Not enough space to cache rdd_2_83 in memory! (computed 4.5 MiB so far)\n",
      "22/12/02 12:09:52 WARN BlockManager: Block rdd_2_83 could not be removed as it was not found on disk or in memory\n",
      "22/12/02 12:09:52 WARN BlockManager: Putting block rdd_2_83 failed\n",
      "22/12/02 12:09:52 WARN MemoryStore: Not enough space to cache rdd_2_84 in memory! (computed 2.7 MiB so far)\n",
      "22/12/02 12:09:52 WARN BlockManager: Block rdd_2_84 could not be removed as it was not found on disk or in memory\n",
      "22/12/02 12:09:52 WARN BlockManager: Putting block rdd_2_84 failed\n",
      "22/12/02 12:09:53 WARN MemoryStore: Not enough space to cache rdd_2_85 in memory! (computed 1885.7 KiB so far)\n",
      "22/12/02 12:09:53 WARN BlockManager: Block rdd_2_85 could not be removed as it was not found on disk or in memory\n",
      "22/12/02 12:09:53 WARN BlockManager: Putting block rdd_2_85 failed\n"
     ]
    },
    {
     "name": "stderr",
     "output_type": "stream",
     "text": [
      "[Stage 27:=============================================>         (83 + 4) / 100]\r"
     ]
    },
    {
     "name": "stdout",
     "output_type": "stream",
     "text": [
      "22/12/02 12:09:53 WARN MemoryStore: Not enough space to cache rdd_2_86 in memory! (computed 7.3 MiB so far)\n",
      "22/12/02 12:09:53 WARN BlockManager: Block rdd_2_86 could not be removed as it was not found on disk or in memory\n",
      "22/12/02 12:09:53 WARN BlockManager: Putting block rdd_2_86 failed\n"
     ]
    },
    {
     "name": "stderr",
     "output_type": "stream",
     "text": [
      "[Stage 27:===============================================>       (86 + 4) / 100]\r"
     ]
    },
    {
     "name": "stdout",
     "output_type": "stream",
     "text": [
      "22/12/02 12:09:53 WARN MemoryStore: Not enough space to cache rdd_2_87 in memory! (computed 3.4 MiB so far)\n",
      "22/12/02 12:09:53 WARN BlockManager: Block rdd_2_87 could not be removed as it was not found on disk or in memory\n",
      "22/12/02 12:09:53 WARN BlockManager: Putting block rdd_2_87 failed\n",
      "22/12/02 12:09:53 WARN MemoryStore: Failed to reserve initial memory threshold of 1024.0 KiB for computing block rdd_2_90 in memory.\n",
      "22/12/02 12:09:54 WARN MemoryStore: Not enough space to cache rdd_2_88 in memory! (computed 5.7 MiB so far)\n",
      "22/12/02 12:09:54 WARN BlockManager: Block rdd_2_88 could not be removed as it was not found on disk or in memory\n",
      "22/12/02 12:09:54 WARN BlockManager: Putting block rdd_2_88 failed\n",
      "22/12/02 12:09:54 WARN MemoryStore: Not enough space to cache rdd_2_90 in memory! (computed 0.0 B so far)\n",
      "22/12/02 12:09:54 WARN BlockManager: Block rdd_2_90 could not be removed as it was not found on disk or in memory\n",
      "22/12/02 12:09:54 WARN BlockManager: Putting block rdd_2_90 failed\n",
      "22/12/02 12:09:54 WARN MemoryStore: Not enough space to cache rdd_2_89 in memory! (computed 1338.3 KiB so far)\n",
      "22/12/02 12:09:54 WARN BlockManager: Block rdd_2_89 could not be removed as it was not found on disk or in memory\n",
      "22/12/02 12:09:54 WARN BlockManager: Putting block rdd_2_89 failed\n"
     ]
    },
    {
     "name": "stderr",
     "output_type": "stream",
     "text": [
      "[Stage 27:=================================================>     (90 + 4) / 100]\r"
     ]
    },
    {
     "name": "stdout",
     "output_type": "stream",
     "text": [
      "22/12/02 12:09:55 WARN MemoryStore: Not enough space to cache rdd_2_91 in memory! (computed 7.6 MiB so far)\n",
      "22/12/02 12:09:55 WARN MemoryStore: Not enough space to cache rdd_2_93 in memory! (computed 1098.6 KiB so far)\n",
      "22/12/02 12:09:55 WARN MemoryStore: Not enough space to cache rdd_2_92 in memory! (computed 1231.7 KiB so far)\n",
      "22/12/02 12:09:55 WARN BlockManager: Block rdd_2_93 could not be removed as it was not found on disk or in memory\n",
      "22/12/02 12:09:55 WARN BlockManager: Putting block rdd_2_93 failed\n",
      "22/12/02 12:09:55 WARN BlockManager: Block rdd_2_92 could not be removed as it was not found on disk or in memory\n",
      "22/12/02 12:09:55 WARN BlockManager: Putting block rdd_2_92 failed\n",
      "22/12/02 12:09:55 WARN BlockManager: Block rdd_2_91 could not be removed as it was not found on disk or in memory\n",
      "22/12/02 12:09:55 WARN BlockManager: Putting block rdd_2_91 failed\n",
      "22/12/02 12:09:55 WARN MemoryStore: Failed to reserve initial memory threshold of 1024.0 KiB for computing block rdd_2_94 in memory.\n"
     ]
    },
    {
     "name": "stderr",
     "output_type": "stream",
     "text": [
      "[Stage 27:==================================================>    (91 + 4) / 100]\r"
     ]
    },
    {
     "name": "stdout",
     "output_type": "stream",
     "text": [
      "22/12/02 12:09:55 WARN MemoryStore: Not enough space to cache rdd_2_94 in memory! (computed 0.0 B so far)\n",
      "22/12/02 12:09:55 WARN BlockManager: Block rdd_2_94 could not be removed as it was not found on disk or in memory\n",
      "22/12/02 12:09:55 WARN BlockManager: Putting block rdd_2_94 failed\n"
     ]
    },
    {
     "name": "stderr",
     "output_type": "stream",
     "text": [
      "[Stage 27:===================================================>   (94 + 4) / 100]\r"
     ]
    },
    {
     "name": "stdout",
     "output_type": "stream",
     "text": [
      "22/12/02 12:09:56 WARN MemoryStore: Not enough space to cache rdd_2_96 in memory! (computed 1506.4 KiB so far)\n",
      "22/12/02 12:09:56 WARN BlockManager: Block rdd_2_96 could not be removed as it was not found on disk or in memory\n",
      "22/12/02 12:09:56 WARN BlockManager: Putting block rdd_2_96 failed\n",
      "22/12/02 12:09:56 WARN MemoryStore: Not enough space to cache rdd_2_95 in memory! (computed 7.3 MiB so far)\n",
      "22/12/02 12:09:56 WARN BlockManager: Block rdd_2_95 could not be removed as it was not found on disk or in memory\n",
      "22/12/02 12:09:56 WARN BlockManager: Putting block rdd_2_95 failed\n",
      "22/12/02 12:09:56 WARN MemoryStore: Not enough space to cache rdd_2_97 in memory! (computed 2.1 MiB so far)\n"
     ]
    },
    {
     "name": "stderr",
     "output_type": "stream",
     "text": [
      "[Stage 27:====================================================>  (95 + 4) / 100]\r"
     ]
    },
    {
     "name": "stdout",
     "output_type": "stream",
     "text": [
      "22/12/02 12:09:56 WARN BlockManager: Block rdd_2_97 could not be removed as it was not found on disk or in memory\n",
      "22/12/02 12:09:56 WARN BlockManager: Putting block rdd_2_97 failed\n"
     ]
    },
    {
     "name": "stderr",
     "output_type": "stream",
     "text": [
      "[Stage 27:=====================================================> (97 + 3) / 100]\r"
     ]
    },
    {
     "name": "stdout",
     "output_type": "stream",
     "text": [
      "22/12/02 12:09:56 WARN MemoryStore: Not enough space to cache rdd_2_98 in memory! (computed 8.1 MiB so far)\n",
      "22/12/02 12:09:56 WARN BlockManager: Block rdd_2_98 could not be removed as it was not found on disk or in memory\n",
      "22/12/02 12:09:56 WARN BlockManager: Putting block rdd_2_98 failed\n"
     ]
    },
    {
     "name": "stderr",
     "output_type": "stream",
     "text": [
      "[Stage 27:======================================================>(99 + 1) / 100]\r"
     ]
    },
    {
     "name": "stdout",
     "output_type": "stream",
     "text": [
      "22/12/02 12:09:57 WARN MemoryStore: Not enough space to cache rdd_2_99 in memory! (computed 9.8 MiB so far)\n",
      "22/12/02 12:09:57 WARN BlockManager: Block rdd_2_99 could not be removed as it was not found on disk or in memory\n",
      "22/12/02 12:09:57 WARN BlockManager: Putting block rdd_2_99 failed\n",
      "1184075\n",
      "21139516\n",
      "The Average of Pages is 17.85319004286046\n"
     ]
    },
    {
     "name": "stderr",
     "output_type": "stream",
     "text": [
      "                                                                                \r"
     ]
    }
   ],
   "source": [
    "rdd_Average = rdd.map(lambda x:get_Page(x['comments'] if x['comments'] !=None else \"None\"))\n",
    "\n",
    "# remove 0\n",
    "rdd_Average = rdd_Average.filter(lambda x: x !=0 )\n",
    "\n",
    "average_counter = rdd_Average.count()\n",
    "average_sum = rdd_Average.reduce(lambda x,y :x+y)\n",
    "\n",
    "print(average_counter)\n",
    "print(average_sum)\n",
    "print(\"The Average of Pages is\", (average_sum/average_counter))"
   ]
  },
  {
   "cell_type": "code",
   "execution_count": null,
   "metadata": {},
   "outputs": [],
   "source": []
  }
 ],
 "metadata": {
  "colab": {
   "collapsed_sections": [],
   "name": "arxiv-metadata_Analysis (JSON_RDD).ipynb",
   "provenance": []
  },
  "kernelspec": {
   "display_name": "Python 3 (ipykernel)",
   "language": "python",
   "name": "python3"
  },
  "language_info": {
   "codemirror_mode": {
    "name": "ipython",
    "version": 3
   },
   "file_extension": ".py",
   "mimetype": "text/x-python",
   "name": "python",
   "nbconvert_exporter": "python",
   "pygments_lexer": "ipython3",
   "version": "3.10.6"
  }
 },
 "nbformat": 4,
 "nbformat_minor": 1
}
