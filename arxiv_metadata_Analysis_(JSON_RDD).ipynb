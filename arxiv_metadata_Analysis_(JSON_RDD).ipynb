{
 "cells": [
  {
   "cell_type": "markdown",
   "metadata": {
    "id": "9nrTNalW81Uo"
   },
   "source": [
    "# **Arxiv metadata Analytics with PySpark RDD: JSON case study**\n",
    "\n",
    "### Udemy Course: Best Hands-on Big Data Practices and Use Cases using PySpark\n",
    "\n",
    "### Author: Amin Karami (PhD, FHEA)\n",
    "#### email: amin.karami@ymail.com"
   ]
  },
  {
   "cell_type": "code",
   "execution_count": 1,
   "metadata": {
    "id": "ghTJybh281Ur"
   },
   "outputs": [
    {
     "name": "stdout",
     "output_type": "stream",
     "text": [
      "Collecting pyspark\n",
      "  Downloading pyspark-3.3.1.tar.gz (281.4 MB)\n",
      "\u001b[K     |█████�\u001b[K     |██████████████████�██▌          | 189.3 MB 327 kB/s eta 0:04:427 0:00:07��███████████▏                  | 115.7 MB 26.7 MB/s eta 0:00:07█████████▎                  | 116.5 MB 26.7 MB/s eta 0:00:07     |█████████████▎                  | 117.1 MB 26.7 MB/s eta 0:00:07��██▍                  | 117.5 MB 9.7 MB/s eta 0:00:17        | 118.3 MB 9.7 MB/s eta 0:00:17█████████▌                  | 118.7 MB 9.7 MB/s eta 0:00:17         | 119.5 MB 9.7 MB/s eta 0:00:17�█████████▋                  | 119.9 MB 9.7 MB/s eta 0:00:17.7 MB/s eta 0:00:17�██▊                  | 120.7 MB 9.7 MB/s eta 0:00:17[K     |█████████████▊                  | 121.1 MB 9.7 MB/s eta 0:00:17         | 121.9 MB 245 kB/s eta 0:10:50�██████████                  | 122.3 MB 245 kB/s eta 0:10:4845 kB/s eta 0:10:47�███                  | 123.1 MB 245 kB/s eta 0:10:45[K     |██████████████                  | 123.5 MB 245 kB/s eta 0:10:43       | 123.9 MB 245 kB/s eta 0:10:42 kB/s eta 0:10:39   | 124.9 MB 245 kB/s eta 0:10:38▎                 | 125.3 MB 245 kB/s eta 0:10:36��█████▎                 | 125.7 MB 245 kB/s eta 0:10:34�███████████▍                 | 126.1 MB 245 kB/s eta 0:10:33��███████████▌                 | 127.1 MB 15.5 MB/s eta 0:00:10B/s eta 0:00:10�██████▋                 | 128.1 MB 15.5 MB/s eta 0:00:10�█▋                 | 128.5 MB 15.5 MB/s eta 0:00:10 0:00:10████▊                 | 129.3 MB 15.5 MB/s eta 0:00:10MB/s eta 0:00:10�█████████▉                 | 130.0 MB 15.5 MB/s eta 0:00:10�█▉                 | 130.2 MB 15.5 MB/s eta 0:00:10 0:00:10████████████▉                 | 130.8 MB 15.5 MB/s eta 0:00:10        | 131.2 MB 15.5 MB/s eta 0:00:10 |███████████████                 | 131.6 MB 15.5 MB/s eta 0:00:108 kB/s eta 0:07:35██████████                 | 132.2 MB 328 kB/s eta 0:07:35 |███████████████                 | 132.6 MB 328 kB/s eta 0:07:33          | 133.0 MB 328 kB/s eta 0:07:32| 133.4 MB 328 kB/s eta 0:07:31 328 kB/s eta 0:07:30    |███████████████▎                | 134.2 MB 328 kB/s eta 0:07:29�█████████████▎                | 134.6 MB 328 kB/s eta 0:07:28██████████▍                | 134.9 MB 328 kB/s eta 0:07:26��██████▍                | 135.3 MB 328 kB/s eta 0:07:25�███▍                | 135.7 MB 328 kB/s eta 0:07:24███████████████▌                | 136.4 MB 328 kB/s eta 0:07:22��███████████▌                | 136.8 MB 328 kB/s eta 0:07:21��██████▋                | 137.4 MB 328 kB/s eta 0:07:19�███▋                | 137.8 MB 328 kB/s eta 0:07:18��████▊                | 138.0 MB 24.7 MB/s eta 0:00:06/s eta 0:00:06          | 138.6 MB 24.7 MB/s eta 0:00:06███████████▉                | 139.2 MB 24.7 MB/s eta 0:00:064.7 MB/s eta 0:00:06/s eta 0:00:06          | 140.5 MB 24.7 MB/s eta 0:00:06�███████                | 140.9 MB 24.7 MB/s eta 0:00:06 |████████████████                | 141.3 MB 24.7 MB/s eta 0:00:064.7 MB/s eta 0:00:06██████▏               | 142.1 MB 308 kB/s eta 0:07:32.5 MB 308 kB/s eta 0:07:31�██████████████▎               | 142.9 MB 308 kB/s eta 0:07:29��▎               | 143.3 MB 308 kB/s eta 0:07:28��█████▍               | 144.0 MB 308 kB/s eta 0:07:263 MB 308 kB/s eta 0:07:25██████████████▌               | 144.7 MB 308 kB/s eta 0:07:23�▌               | 145.1 MB 308 kB/s eta 0:07:22a 0:07:21 |████████████████▋               | 146.4 MB 308 kB/s eta 0:07:18███▊               | 146.7 MB 308 kB/s eta 0:07:17 kB/s eta 0:07:16�███████████▊               | 147.5 MB 308 kB/s eta 0:07:14           | 147.9 MB 308 kB/s eta 0:07:13��▉               | 148.2 MB 18.0 MB/s eta 0:00:08     |████████████████▉               | 148.4 MB 18.0 MB/s eta 0:00:08 |█████████████████               | 148.8 MB 18.0 MB/s eta 0:00:08            | 149.0 MB 18.0 MB/s eta 0:00:08        | 149.3 MB 18.0 MB/s eta 0:00:08    | 149.7 MB 18.0 MB/s eta 0:00:08| 150.1 MB 18.0 MB/s eta 0:00:08��███▏              | 150.8 MB 18.0 MB/s eta 0:00:088.0 MB/s eta 0:00:08��█████████████▎              | 151.5 MB 18.0 MB/s eta 0:00:08███████▎              | 151.7 MB 18.0 MB/s eta 0:00:08152.1 MB 18.0 MB/s eta 0:00:08█████████████████▍              | 152.5 MB 18.0 MB/s eta 0:00:08   | 153.2 MB 305 kB/s eta 0:07:01�██████▌              | 153.5 MB 305 kB/s eta 0:06:59|█████████████████▌              | 153.9 MB 305 kB/s eta 0:06:58 MB 305 kB/s eta 0:06:57███▋              | 154.7 MB 305 kB/s eta 0:06:5605 kB/s eta 0:06:55��███████▊              | 155.4 MB 305 kB/s eta 0:06:54  | 155.5 MB 305 kB/s eta 0:06:5356.1 MB 305 kB/s eta 0:06:51�████▉              | 156.5 MB 305 kB/s eta 0:06:50�███████████████▉              | 156.9 MB 305 kB/s eta 0:06:49  | 157.6 MB 305 kB/s eta 0:06:46███████              | 157.9 MB 305 kB/s eta 0:06:45██████████████████              | 158.3 MB 305 kB/s eta 0:06:44  | 158.7 MB 18.7 MB/s eta 0:00:07   |██████████████████              | 159.1 MB 18.7 MB/s eta 0:00:0707  | 159.7 MB 18.7 MB/s eta 0:00:07██████▏             | 160.1 MB 18.7 MB/s eta 0:00:07��████████████████▎             | 160.5 MB 18.7 MB/s eta 0:00:07  | 161.0 MB 18.7 MB/s eta 0:00:07██████▍             | 161.4 MB 18.7 MB/s eta 0:00:07��████████████████▍             | 161.8 MB 18.7 MB/s eta 0:00:07  | 162.3 MB 18.7 MB/s eta 0:00:07██████▌             | 162.7 MB 18.7 MB/s eta 0:00:07K     |██████████████████▋             | 163.4 MB 345 kB/s eta 0:05:42  |██████████████████▋             | 163.7 MB 345 kB/s eta 0:05:41��█████████████████▋             | 164.1 MB 345 kB/s eta 0:05:40�████████████████▊             | 164.5 MB 345 kB/s eta 0:05:39███████████████▊             | 164.8 MB 345 kB/s eta 0:05:38[K     |██████████████████▉             | 165.2 MB 345 kB/s eta 0:05:37   |██████████████████▉             | 165.6 MB 345 kB/s eta 0:05:36██████████████████▉             | 165.9 MB 345 kB/s eta 0:05:35�██████████████████             | 166.1 MB 345 kB/s eta 0:05:34█████████████████             | 166.5 MB 345 kB/s eta 0:05:33     |███████████████████             | 167.2 MB 345 kB/s eta 0:05:31 |███████████████████             | 167.5 MB 345 kB/s eta 0:05:30�██████████████████             | 167.9 MB 345 kB/s eta 0:05:2968.3 MB 345 kB/s eta 0:05:28   | 168.8 MB 281 kB/s eta 0:06:41��██████████████████▎            | 169.2 MB 281 kB/s eta 0:06:40��███▎            | 169.5 MB 281 kB/s eta 0:06:38▍            | 170.1 MB 281 kB/s eta 0:06:37��██████████████████▍            | 171.0 MB 281 kB/s eta 0:06:33��███▌            | 171.3 MB 281 kB/s eta 0:06:32 eta 0:06:31�███████████▋            | 172.0 MB 281 kB/s eta 0:06:29    | 172.4 MB 281 kB/s eta 0:06:28�███████▊            | 172.9 MB 281 kB/s eta 0:06:26MB 281 kB/s eta 0:06:25███████████████▊            | 173.7 MB 281 kB/s eta 0:06:24▉            | 174.0 MB 281 kB/s eta 0:06:225████████████████████            | 174.9 MB 302 kB/s eta 0:05:53█████            | 175.3 MB 302 kB/s eta 0:05:52s eta 0:05:50��████████████            | 176.0 MB 302 kB/s eta 0:05:49�████████            | 176.5 MB 302 kB/s eta 0:05:47    | 176.9 MB 302 kB/s eta 0:05:46█████▏           | 177.3 MB 302 kB/s eta 0:05:45�█████████████▏           | 177.6 MB 302 kB/s eta 0:05:442 MB 302 kB/s eta 0:05:42��█▎           | 178.5 MB 302 kB/s eta 0:05:41██████████▍           | 178.9 MB 302 kB/s eta 0:05:40�██████████████████▍           | 179.3 MB 302 kB/s eta 0:05:38ta 0:05:37�████████▌           | 179.8 MB 245 kB/s eta 0:06:54��████████████████▌           | 180.2 MB 245 kB/s eta 0:06:5206:51 180.9 MB 245 kB/s eta 0:06:49�███▋           | 181.2 MB 245 kB/s eta 0:06:486 MB 245 kB/s eta 0:06:46��█▊           | 182.0 MB 245 kB/s eta 0:06:45██████████▊           | 182.3 MB 245 kB/s eta 0:06:43�███▉           | 182.9 MB 245 kB/s eta 0:06:41ta 0:06:41    | 183.4 MB 245 kB/s eta 0:06:39B/s eta 0:06:37         | 184.3 MB 245 kB/s eta 0:06:35��███████           | 184.6 MB 245 kB/s eta 0:06:34████████████████           | 185.0 MB 327 kB/s eta 0:04:55        | 185.7 MB 327 kB/s eta 0:04:52 kB/s eta 0:04:51    |█████████████████████▏          | 186.4 MB 327 kB/s eta 0:04:50�█████████████▎          | 187.2 MB 327 kB/s eta 0:04:48��█████████▎          | 187.3 MB 327 kB/s eta 0:04:47�██▍          | 187.7 MB 327 kB/s eta 0:04:46188.0 MB 327 kB/s eta 0:04:45█████████████████▌          | 188.6 MB 327 kB/s eta 0:04:44��█████████▌          | 188.9 MB 327 kB/s eta 0:04:43\u001b[K     |██████�██████████████████████▉  | 262.0 MB 283 kB/s eta 0:01:09█████████████████▋          | 190.2 MB 251 kB/s eta 0:06:03██████▊          | 190.7 MB 251 kB/s eta 0:06:01         | 191.0 MB 251 kB/s eta 0:05:591 kB/s eta 0:05:58��████████████████████▉          | 191.6 MB 251 kB/s eta 0:05:57�█████████████▉          | 191.9 MB 251 kB/s eta 0:05:56██████▉          | 192.3 MB 251 kB/s eta 0:05:54         | 192.6 MB 251 kB/s eta 0:05:531 kB/s eta 0:05:52��█████████████████████          | 193.2 MB 251 kB/s eta 0:05:51�██████████████          | 193.5 MB 251 kB/s eta 0:05:49███████          | 193.9 MB 251 kB/s eta 0:05:48         | 194.2 MB 251 kB/s eta 0:05:47�██▏         | 194.6 MB 251 kB/s eta 0:05:45█▏         | 195.2 MB 273 kB/s eta 0:05:15�████████████████▎         | 195.5 MB 273 kB/s eta 0:05:1473 kB/s eta 0:05:13███████████████▎         | 196.4 MB 273 kB/s eta 0:05:11█▍         | 197.0 MB 273 kB/s eta 0:05:09�████████████████▍         | 197.3 MB 273 kB/s eta 0:05:0873 kB/s eta 0:05:06�███████▌         | 198.0 MB 273 kB/s eta 0:05:05 |██████████████████████▋         | 198.3 MB 273 kB/s eta 0:05:04MB 273 kB/s eta 0:05:03��████████▋         | 198.9 MB 273 kB/s eta 0:05:02     |██████████████████████▋         | 199.3 MB 273 kB/s eta 0:05:00��         | 199.6 MB 273 kB/s eta 0:04:59███████████████▊         | 200.0 MB 273 kB/s eta 0:04:58█▉         | 200.6 MB 238 kB/s eta 0:05:40     |██████████████████████▉         | 201.1 MB 238 kB/s eta 0:05:38��         | 201.4 MB 238 kB/s eta 0:05:36████████████████         | 201.8 MB 238 kB/s eta 0:05:35B/s eta 0:05:33██         | 202.9 MB 238 kB/s eta 0:05:30�█████████████████         | 203.2 MB 238 kB/s eta 0:05:29��█████████████▏        | 203.6 MB 238 kB/s eta 0:05:27�███████████▏        | 203.9 MB 238 kB/s eta 0:05:2605:24█████▎        | 204.7 MB 238 kB/s eta 0:05:23��██▎        | 205.0 MB 238 kB/s eta 0:05:21�▍        | 205.3 MB 238 kB/s eta 0:05:20     | 205.7 MB 238 kB/s eta 0:05:18��██▌        | 206.8 MB 320 kB/s eta 0:03:53�▌        | 207.1 MB 320 kB/s eta 0:03:52     | 207.4 MB 320 kB/s eta 0:03:51█████▊        | 208.2 MB 320 kB/s eta 0:03:49��██▊        | 208.5 MB 320 kB/s eta 0:03:48�▊        | 208.9 MB 320 kB/s eta 0:03:47     | 209.2 MB 320 kB/s eta 0:03:45209.5 MB 320 kB/s eta 0:03:44  |████████████████████████        | 210.1 MB 320 kB/s eta 0:03:43��██████████████████████        | 210.5 MB 320 kB/s eta 0:03:42�████████████████████        | 210.8 MB 320 kB/s eta 0:03:41██████████████████        | 211.1 MB 320 kB/s eta 0:03:39��███████████████        | 211.5 MB 320 kB/s eta 0:03:38██████        | 211.7 MB 249 kB/s eta 0:04:39�████▏       | 212.0 MB 249 kB/s eta 0:04:38�█████████████▏       | 212.5 MB 249 kB/s eta 0:04:36 kB/s eta 0:04:35��███████████▎       | 213.2 MB 249 kB/s eta 0:04:33 eta 0:04:32�       | 214.0 MB 249 kB/s eta 0:04:30███████████████████▍       | 214.4 MB 249 kB/s eta 0:04:29   | 214.7 MB 249 kB/s eta 0:04:27██████▌       | 215.6 MB 249 kB/s eta 0:04:245.8 MB 249 kB/s eta 0:04:23███████████████▋       | 216.1 MB 249 kB/s eta 0:04:22�████▋       | 216.3 MB 249 kB/s eta 0:04:21████████████████████████▋       | 216.6 MB 249 kB/s eta 0:04:20��██▊       | 217.0 MB 249 kB/s eta 0:04:18�██████████████████████▊       | 217.3 MB 249 kB/s eta 0:04:17��████████████████▊       | 217.6 MB 252 kB/s eta 0:04:137.9 MB 252 kB/s eta 0:04:12    |████████████████████████▉       | 218.1 MB 252 kB/s eta 0:04:11�████▉       | 218.4 MB 252 kB/s eta 0:04:10B 252 kB/s eta 0:04:09�██████████████       | 218.9 MB 252 kB/s eta 0:04:08 kB/s eta 0:04:06███████       | 219.6 MB 252 kB/s eta 0:04:05    |█████████████████████████       | 220.0 MB 252 kB/s eta 0:04:03�█████       | 220.3 MB 252 kB/s eta 0:04:02B 252 kB/s eta 0:04:01�██████████████       | 220.8 MB 252 kB/s eta 0:04:00B 247 kB/s eta 0:03:30|██████████████████████████▏     | 230.2 MB 247 kB/s eta 0:03:28�█████▏     | 230.5 MB 247 kB/s eta 0:03:26 MB 247 kB/s eta 0:03:24  |██████████████████████████▎     | 231.5 MB 247 kB/s eta 0:03:22 | 231.8 MB 247 kB/s eta 0:03:21�████████▍     | 232.0 MB 247 kB/s eta 0:03:209��████████▌     | 232.6 MB 247 kB/s eta 0:03:1817   | 233.1 MB 247 kB/s eta 0:03:16��███████████████████▌     | 233.4 MB 247 kB/s eta 0:03:15 | 233.7 MB 228 kB/s eta 0:03:297��████████▊     | 234.5 MB 228 kB/s eta 0:03:2624█████████▊     | 235.2 MB 228 kB/s eta 0:03:23�████████▉     | 235.8 MB 228 kB/s eta 0:03:209��█████████     | 236.5 MB 228 kB/s eta 0:03:1716██████████     | 237.1 MB 228 kB/s eta 0:03:14:13�██████████     | 237.8 MB 228 kB/s eta 0:03:123:10��██████████     | 238.4 MB 228 kB/s eta 0:03:09     |███████████████████████████▏    | 238.8 MB 228 kB/s eta 0:03:07    |███████████████████████████▏    | 239.1 MB 289 kB/s eta 0:02:27��██████▎    | 239.6 MB 289 kB/s eta 0:02:25�██████▎    | 239.9 MB 289 kB/s eta 0:02:24██████▎    | 240.2 MB 289 kB/s eta 0:02:23███████████████████████████▍    | 240.7 MB 289 kB/s eta 0:02:21��██████████████████████████▍    | 241.0 MB 289 kB/s eta 0:02:20�██████████████████████████▌    | 241.3 MB 289 kB/s eta 0:02:19██████████████████████████▌    | 241.7 MB 289 kB/s eta 0:02:18��█████████████████████████▌    | 242.0 MB 289 kB/s eta 0:02:17�█████████████████████████▌    | 242.3 MB 289 kB/s eta 0:02:16█████████████████████████▋    | 242.6 MB 289 kB/s eta 0:02:15��████████████████████████▋    | 242.9 MB 289 kB/s eta 0:02:13�████████████████████████▋    | 243.2 MB 289 kB/s eta 0:02:12████████████████████████▊    | 243.6 MB 289 kB/s eta 0:02:11��███████████████████████▊    | 243.9 MB 278 kB/s eta 0:02:15�███████████████████████▊    | 244.2 MB 278 kB/s eta 0:02:14███████████████████████▉    | 244.5 MB 278 kB/s eta 0:02:13��██████████████████████▉    | 244.8 MB 278 kB/s eta 0:02:12�███████▉    | 245.1 MB 278 kB/s eta 0:02:11████████    | 245.4 MB 278 kB/s eta 0:02:09��███████    | 245.7 MB 278 kB/s eta 0:02:08�███████    | 246.1 MB 278 kB/s eta 0:02:07███████    | 246.4 MB 278 kB/s eta 0:02:06��██████    | 246.7 MB 278 kB/s eta 0:02:05�██████    | 247.0 MB 278 kB/s eta 0:02:04��██████████████▏   | 247.3 MB 278 kB/s eta 0:02:03████████▏   | 248.1 MB 303 kB/s eta 0:01:50|████████████████████████████▎   | 248.4 MB 303 kB/s eta 0:01:49█████▎   | 248.7 MB 303 kB/s eta 0:01:48�█████████████████████████▎   | 249.0 MB 303 kB/s eta 0:01:47 0:01:46��██████████▍   | 249.8 MB 303 kB/s eta 0:01:45████████▌   | 250.6 MB 303 kB/s eta 0:01:42|████████████████████████████▌   | 250.9 MB 303 kB/s eta 0:01:41█████▋   | 251.2 MB 303 kB/s eta 0:01:40�█████████████████████████▋   | 251.5 MB 303 kB/s eta 0:01:39 0:01:34   | 252.4 MB 313 kB/s eta 0:01:33��███████████████████▊   | 252.9 MB 313 kB/s eta 0:01:31.2 MB 313 kB/s eta 0:01:30��████████████████▉   | 253.6 MB 313 kB/s eta 0:01:29 kB/s eta 0:01:28��██████████████   | 254.2 MB 313 kB/s eta 0:01:27███   | 254.3 MB 313 kB/s eta 0:01:27�███████████████████████   | 254.7 MB 313 kB/s eta 0:01:26   | 255.0 MB 313 kB/s eta 0:01:25�████████████████████   | 255.3 MB 313 kB/s eta 0:01:24��████████████████████   | 255.6 MB 284 kB/s eta 0:01:31eta 0:01:29     |█████████████████████████████▏  | 256.6 MB 284 kB/s eta 0:01:28��███████████████████████████▏  | 256.9 MB 284 kB/s eta 0:01:27    |█████████████████████████████▎  | 257.1 MB 284 kB/s eta 0:01:26█████████████████████████████▎  | 257.2 MB 284 kB/s eta 0:01:25��█████████████████████████▎  | 257.5 MB 284 kB/s eta 0:01:24████████████████████████▎  | 257.7 MB 284 kB/s eta 0:01:24��████████████████████▍  | 258.0 MB 284 kB/s eta 0:01:23█████████████████████████████▍  | 258.5 MB 284 kB/s eta 0:01:21��█████████████████████████▍  | 258.8 MB 284 kB/s eta 0:01:20████████████████████████▌  | 258.9 MB 284 kB/s eta 0:01:19��████████████████████▌  | 259.2 MB 284 kB/s eta 0:01:18�█████████████████▌  | 259.5 MB 284 kB/s eta 0:01:17    |█████████████████████████████▌  | 259.8 MB 283 kB/s eta 0:01:17�███████████████████████████▋  | 260.1 MB 283 kB/s eta 0:01:16████████████████████████▋  | 260.4 MB 283 kB/s eta 0:01:15��████████████████████▋  | 260.7 MB 283 kB/s eta 0:01:13███████████████████▋  | 260.9 MB 283 kB/s eta 0:01:13�███████████████████████████▊  | 261.5 MB 283 kB/s eta 0:01:11��█████████████████████████▊  | 261.7 MB 283 kB/s eta 0:01:10\u001b[K     |████████████████████████████████| 281.4 MB 16 kB/s  eta 0:00:01    |█████████████████████████████▉  | 262.5 MB 283 kB/s eta 0:01:07█████████████████████████████▉  | 262.6 MB 283 kB/s eta 0:01:07��██████████████████████████  | 262.9 MB 283 kB/s eta 0:01:06�███████████████████████  | 263.2 MB 283 kB/s eta 0:01:04████████████████████  | 263.5 MB 283 kB/s eta 0:01:03██████████████████████████████  | 263.9 MB 286 kB/s eta 0:01:02��██████████████████████████  | 264.2 MB 286 kB/s eta 0:01:01�███████████████████████  | 264.5 MB 286 kB/s eta 0:01:00��████████████████████▏ | 264.8 MB 286 kB/s eta 0:00:58█████▏ | 265.1 MB 286 kB/s eta 0:00:57��█████████████████████▏ | 265.4 MB 286 kB/s eta 0:00:56██████████████████████████████▏ | 265.6 MB 286 kB/s eta 0:00:56��█▎ | 265.9 MB 286 kB/s eta 0:00:55█████▎ | 266.4 MB 286 kB/s eta 0:00:53��█████████████████████▎ | 266.7 MB 286 kB/s eta 0:00:52B/s eta 0:00:51██████████▍ | 267.3 MB 286 kB/s eta 0:00:506 MB 255 kB/s eta 0:00:54�█████████████▌ | 268.0 MB 255 kB/s eta 0:00:53██████████████████████████████▌ | 268.3 MB 255 kB/s eta 0:00:52��█▌ | 268.6 MB 255 kB/s eta 0:00:51�██████████████████▋ | 268.9 MB 255 kB/s eta 0:00:50��██████████████████████████▋ | 269.0 MB 255 kB/s eta 0:00:49 269.3 MB 255 kB/s eta 0:00:48███████████████▋ | 269.6 MB 255 kB/s eta 0:00:47    |██████████████████████████████▊ | 269.9 MB 255 kB/s eta 0:00:45�███▊ | 270.2 MB 255 kB/s eta 0:00:44█████▊ | 270.6 MB 255 kB/s eta 0:00:43��█████████████████████▉ | 270.9 MB 255 kB/s eta 0:00:42B/s eta 0:00:41��█▉ | 271.3 MB 255 kB/s eta 0:00:40██████ | 271.8 MB 233 kB/s eta 0:00:41�██████████████ | 272.0 MB 233 kB/s eta 0:00:41███████████████████████████████ | 272.3 MB 233 kB/s eta 0:00:39��██ | 272.6 MB 233 kB/s eta 0:00:38     |███████████████████████████████ | 272.8 MB 233 kB/s eta 0:00:37 233 kB/s eta 0:00:37█████████████ | 273.2 MB 233 kB/s eta 0:00:35��█████████████████████████████ | 273.5 MB 233 kB/s eta 0:00:34██████████████████▏| 273.8 MB 233 kB/s eta 0:00:33█████████▏| 274.1 MB 233 kB/s eta 0:00:32███████▏| 274.3 MB 233 kB/s eta 0:00:3174.6 MB 233 kB/s eta 0:00:298��█████████████████████████▎| 275.2 MB 233 kB/s eta 0:00:27��████████████████▍| 275.5 MB 233 kB/s eta 0:00:26███████▍| 275.9 MB 308 kB/s eta 0:00:1876.2 MB 308 kB/s eta 0:00:176��█████████████████████████▌| 276.8 MB 308 kB/s eta 0:00:15��████████████████▌| 277.1 MB 308 kB/s eta 0:00:14�█████████████████████████▌| 277.5 MB 308 kB/s eta 0:00:1377.6 MB 308 kB/s eta 0:00:13�████████████████▋| 277.8 MB 308 kB/s eta 0:00:12�███████▋| 278.1 MB 308 kB/s eta 0:00:11278.4 MB 308 kB/s eta 0:00:1078.9 MB 308 kB/s eta 0:00:09�████████████████▊| 279.0 MB 308 kB/s eta 0:00:08�███████▊| 279.3 MB 308 kB/s eta 0:00:07279.6 MB 308 kB/s eta 0:00:06��███████▉| 280.1 MB 314 kB/s eta 0:00:05 280.4 MB 314 kB/s eta 0:00:04:03█████████| 280.8 MB 314 kB/s eta 0:00:02████████| 281.2 MB 314 kB/s eta 0:00:01\n",
      "\u001b[?25hCollecting py4j==0.10.9.5\n",
      "  Downloading py4j-0.10.9.5-py2.py3-none-any.whl (199 kB)\n",
      "\u001b[K     |████████████████████████████████| 199 kB 10.8 MB/s eta 0:00:01\n",
      "\u001b[?25hBuilding wheels for collected packages: pyspark\n",
      "  Building wheel for pyspark (setup.py) ... \u001b[?25ldone\n",
      "\u001b[?25h  Created wheel for pyspark: filename=pyspark-3.3.1-py2.py3-none-any.whl size=281845515 sha256=c9e434096825a3236d51741a3df9c894df6b2f7db1e2ae3280331f317a52a874\n",
      "  Stored in directory: /home/bigdata/.cache/pip/wheels/43/dc/11/ec201cd671da62fa9c5cc77078235e40722170ceba231d7598\n",
      "Successfully built pyspark\n",
      "Installing collected packages: py4j, pyspark\n",
      "Successfully installed py4j-0.10.9.5 pyspark-3.3.1\n"
     ]
    }
   ],
   "source": [
    "########## ONLY in Colab ##########\n",
    "!pip3 install pyspark\n",
    "########## ONLY in Colab ##########"
   ]
  },
  {
   "cell_type": "code",
   "execution_count": 2,
   "metadata": {
    "id": "Lv29DcwT81Ut"
   },
   "outputs": [],
   "source": [
    "########## ONLY in Ubuntu Machine ##########\n",
    "# Load Spark engine\n",
    "!pip3 install -q findspark\n",
    "import findspark\n",
    "findspark.init()\n",
    "########## ONLY in Ubuntu Machine ##########"
   ]
  },
  {
   "cell_type": "code",
   "execution_count": 3,
   "metadata": {
    "id": "06d5GLeN81Ut"
   },
   "outputs": [],
   "source": [
    "# Initializing Spark\n",
    "from pyspark import SparkConf, SparkContext\n",
    "conf = SparkConf().setAppName(\"Archive_PySpark\").setMaster(\"local[*]\")\n"
   ]
  },
  {
   "cell_type": "code",
   "execution_count": 5,
   "metadata": {},
   "outputs": [
    {
     "name": "stdout",
     "output_type": "stream",
     "text": [
      "<SparkContext master=local[*] appName=Archive_PySpark>\n"
     ]
    }
   ],
   "source": [
    "sc = SparkContext(conf =conf)\n",
    "print(sc)"
   ]
  },
  {
   "cell_type": "code",
   "execution_count": 6,
   "metadata": {
    "id": "UGorHKN581Uu"
   },
   "outputs": [
    {
     "data": {
      "text/plain": [
       "PythonRDD[2] at RDD at PythonRDD.scala:53"
      ]
     },
     "execution_count": 6,
     "metadata": {},
     "output_type": "execute_result"
    }
   ],
   "source": [
    "# Read and Load Data to Spark\n",
    "# Data source: https://www.kaggle.com/Cornell-University/arxiv/version/62\n",
    "import json\n",
    "\n",
    "rdd_json = sc.textFile(\"archive/arxiv-metadata-oai-snapshot.json\",100)\n",
    "rdd = rdd_json.map(lambda x: json.loads(x))\n",
    "rdd.persist()\n"
   ]
  },
  {
   "cell_type": "code",
   "execution_count": 7,
   "metadata": {
    "id": "6O_dV30S81Uu"
   },
   "outputs": [
    {
     "name": "stdout",
     "output_type": "stream",
     "text": [
      "4\n",
      "100\n"
     ]
    }
   ],
   "source": [
    "# Check the number of parallelism and partitions:\n",
    "print(sc.defaultParallelism)\n",
    "print(rdd.getNumPartitions())"
   ]
  },
  {
   "cell_type": "markdown",
   "metadata": {
    "id": "uBgW8XMl81Uv"
   },
   "source": [
    "## Question 1: Count elements"
   ]
  },
  {
   "cell_type": "code",
   "execution_count": 8,
   "metadata": {
    "id": "NzJeaegJ81Uw"
   },
   "outputs": [
    {
     "data": {
      "text/plain": [
       "2011231"
      ]
     },
     "execution_count": 8,
     "metadata": {},
     "output_type": "execute_result"
    }
   ],
   "source": [
    "rdd.count()"
   ]
  },
  {
   "cell_type": "markdown",
   "metadata": {
    "id": "zl7nmy6S81Uw"
   },
   "source": [
    "## Question 2: Get the first two records\n"
   ]
  },
  {
   "cell_type": "code",
   "execution_count": 9,
   "metadata": {
    "id": "HG1ypizS81Ux"
   },
   "outputs": [
    {
     "data": {
      "text/plain": [
       "[{'id': '0704.0001',\n",
       "  'submitter': 'Pavel Nadolsky',\n",
       "  'authors': \"C. Bal\\\\'azs, E. L. Berger, P. M. Nadolsky, C.-P. Yuan\",\n",
       "  'title': 'Calculation of prompt diphoton production cross sections at Tevatron and\\n  LHC energies',\n",
       "  'comments': '37 pages, 15 figures; published version',\n",
       "  'journal-ref': 'Phys.Rev.D76:013009,2007',\n",
       "  'doi': '10.1103/PhysRevD.76.013009',\n",
       "  'report-no': 'ANL-HEP-PR-07-12',\n",
       "  'categories': 'hep-ph',\n",
       "  'license': None,\n",
       "  'abstract': '  A fully differential calculation in perturbative quantum chromodynamics is\\npresented for the production of massive photon pairs at hadron colliders. All\\nnext-to-leading order perturbative contributions from quark-antiquark,\\ngluon-(anti)quark, and gluon-gluon subprocesses are included, as well as\\nall-orders resummation of initial-state gluon radiation valid at\\nnext-to-next-to-leading logarithmic accuracy. The region of phase space is\\nspecified in which the calculation is most reliable. Good agreement is\\ndemonstrated with data from the Fermilab Tevatron, and predictions are made for\\nmore detailed tests with CDF and DO data. Predictions are shown for\\ndistributions of diphoton pairs produced at the energy of the Large Hadron\\nCollider (LHC). Distributions of the diphoton pairs from the decay of a Higgs\\nboson are contrasted with those produced from QCD processes at the LHC, showing\\nthat enhanced sensitivity to the signal can be obtained with judicious\\nselection of events.\\n',\n",
       "  'versions': [{'version': 'v1', 'created': 'Mon, 2 Apr 2007 19:18:42 GMT'},\n",
       "   {'version': 'v2', 'created': 'Tue, 24 Jul 2007 20:10:27 GMT'}],\n",
       "  'update_date': '2008-11-26',\n",
       "  'authors_parsed': [['Balázs', 'C.', ''],\n",
       "   ['Berger', 'E. L.', ''],\n",
       "   ['Nadolsky', 'P. M.', ''],\n",
       "   ['Yuan', 'C. -P.', '']]},\n",
       " {'id': '0704.0002',\n",
       "  'submitter': 'Louis Theran',\n",
       "  'authors': 'Ileana Streinu and Louis Theran',\n",
       "  'title': 'Sparsity-certifying Graph Decompositions',\n",
       "  'comments': 'To appear in Graphs and Combinatorics',\n",
       "  'journal-ref': None,\n",
       "  'doi': None,\n",
       "  'report-no': None,\n",
       "  'categories': 'math.CO cs.CG',\n",
       "  'license': 'http://arxiv.org/licenses/nonexclusive-distrib/1.0/',\n",
       "  'abstract': '  We describe a new algorithm, the $(k,\\\\ell)$-pebble game with colors, and use\\nit obtain a characterization of the family of $(k,\\\\ell)$-sparse graphs and\\nalgorithmic solutions to a family of problems concerning tree decompositions of\\ngraphs. Special instances of sparse graphs appear in rigidity theory and have\\nreceived increased attention in recent years. In particular, our colored\\npebbles generalize and strengthen the previous results of Lee and Streinu and\\ngive a new proof of the Tutte-Nash-Williams characterization of arboricity. We\\nalso present a new decomposition that certifies sparsity based on the\\n$(k,\\\\ell)$-pebble game with colors. Our work also exposes connections between\\npebble game algorithms and previous sparse graph algorithms by Gabow, Gabow and\\nWestermann and Hendrickson.\\n',\n",
       "  'versions': [{'version': 'v1', 'created': 'Sat, 31 Mar 2007 02:26:18 GMT'},\n",
       "   {'version': 'v2', 'created': 'Sat, 13 Dec 2008 17:26:00 GMT'}],\n",
       "  'update_date': '2008-12-13',\n",
       "  'authors_parsed': [['Streinu', 'Ileana', ''], ['Theran', 'Louis', '']]}]"
      ]
     },
     "execution_count": 9,
     "metadata": {},
     "output_type": "execute_result"
    }
   ],
   "source": [
    "rdd.take(2)"
   ]
  },
  {
   "cell_type": "markdown",
   "metadata": {
    "id": "GgSYUgiQ81Ux"
   },
   "source": [
    "## Question 3: Get all attributes\n"
   ]
  },
  {
   "cell_type": "code",
   "execution_count": 12,
   "metadata": {
    "id": "4_hnOy9V81Uy"
   },
   "outputs": [
    {
     "data": {
      "text/plain": [
       "['authors',\n",
       " 'comments',\n",
       " 'title',\n",
       " 'id',\n",
       " 'journal-ref',\n",
       " 'versions',\n",
       " 'submitter',\n",
       " 'categories',\n",
       " 'update_date',\n",
       " 'authors_parsed',\n",
       " 'report-no',\n",
       " 'license',\n",
       " 'abstract',\n",
       " 'doi']"
      ]
     },
     "execution_count": 12,
     "metadata": {},
     "output_type": "execute_result"
    }
   ],
   "source": [
    "#rdd.flatMap(lambda x:x.keys()).distinct().count()\n",
    "rdd.flatMap(lambda x:x.keys()).distinct().collect()"
   ]
  },
  {
   "cell_type": "markdown",
   "metadata": {
    "id": "iGaQWri681Uy"
   },
   "source": [
    "## Question 4: Get the name of the licenses"
   ]
  },
  {
   "cell_type": "code",
   "execution_count": 13,
   "metadata": {
    "id": "JjUWgHMs81Uy"
   },
   "outputs": [
    {
     "data": {
      "text/plain": [
       "[None,\n",
       " 'http://creativecommons.org/licenses/publicdomain/',\n",
       " 'http://creativecommons.org/licenses/by-nc-nd/4.0/',\n",
       " 'http://creativecommons.org/licenses/by-nc-sa/4.0/',\n",
       " 'http://creativecommons.org/licenses/by-nc-sa/3.0/',\n",
       " 'http://creativecommons.org/licenses/by/3.0/',\n",
       " 'http://creativecommons.org/licenses/by/4.0/',\n",
       " 'http://creativecommons.org/publicdomain/zero/1.0/',\n",
       " 'http://arxiv.org/licenses/nonexclusive-distrib/1.0/',\n",
       " 'http://creativecommons.org/licenses/by-sa/4.0/']"
      ]
     },
     "execution_count": 13,
     "metadata": {},
     "output_type": "execute_result"
    }
   ],
   "source": [
    "rdd.map(lambda x:x[\"license\"]).distinct().collect()"
   ]
  },
  {
   "cell_type": "markdown",
   "metadata": {
    "id": "_giGZDm981Uz"
   },
   "source": [
    "## Question 5: Get the shortest and the longest titles"
   ]
  },
  {
   "cell_type": "code",
   "execution_count": 15,
   "metadata": {
    "id": "0ujiDBLl81Uz"
   },
   "outputs": [
    {
     "name": "stdout",
     "output_type": "stream",
     "text": [
      "!-Graphs with Trivial Overlap are Context-Free\n",
      "Weyl formula for the negative dissipative eigenvalues of Maxwell's\n",
      "  equations\n"
     ]
    }
   ],
   "source": [
    "sortest_title= rdd.map(lambda x:x[\"title\"]).reduce(lambda x,y : x if x<y else y)\n",
    "longest_title= rdd.map(lambda x:x[\"title\"]).reduce(lambda x,y : x if x>y else y)\n",
    "print(sortest_title)\n",
    "print(longest_title)"
   ]
  },
  {
   "cell_type": "markdown",
   "metadata": {
    "id": "c9iSZAe281Uz"
   },
   "source": [
    "## Question 6: Find abbreviations with 5 or more letters in the abstract"
   ]
  },
  {
   "cell_type": "code",
   "execution_count": null,
   "metadata": {
    "id": "Z1Weltn281U0"
   },
   "outputs": [],
   "source": []
  },
  {
   "cell_type": "markdown",
   "metadata": {
    "id": "CnPa1NYL81U0"
   },
   "source": [
    "## Question 7: Get the number of archive records per month ('update_date' attribute)"
   ]
  },
  {
   "cell_type": "code",
   "execution_count": null,
   "metadata": {
    "id": "0Wsgod6K81U1"
   },
   "outputs": [],
   "source": []
  },
  {
   "cell_type": "markdown",
   "metadata": {
    "id": "hQu2A93481U1"
   },
   "source": [
    "## Question 8: Get the average number of pages"
   ]
  },
  {
   "cell_type": "code",
   "execution_count": null,
   "metadata": {
    "id": "Wa1y3OKW81U1"
   },
   "outputs": [],
   "source": []
  }
 ],
 "metadata": {
  "colab": {
   "collapsed_sections": [],
   "name": "arxiv-metadata_Analysis (JSON_RDD).ipynb",
   "provenance": []
  },
  "kernelspec": {
   "display_name": "Python 3",
   "language": "python",
   "name": "python3"
  },
  "language_info": {
   "codemirror_mode": {
    "name": "ipython",
    "version": 3
   },
   "file_extension": ".py",
   "mimetype": "text/x-python",
   "name": "python",
   "nbconvert_exporter": "python",
   "pygments_lexer": "ipython3",
   "version": "3.8.3"
  }
 },
 "nbformat": 4,
 "nbformat_minor": 1
}
